{
 "cells": [
  {
   "cell_type": "markdown",
   "metadata": {},
   "source": [
    "# <font color='darkblue'>Capstone Project : Quora Duplicate Question Pair Identification</font>"
   ]
  },
  {
   "cell_type": "markdown",
   "metadata": {},
   "source": [
    "<hr style=\"border: 2px solid red\" />"
   ]
  },
  {
   "cell_type": "markdown",
   "metadata": {},
   "source": [
    "## Introduction\n",
    "<p>Quora is an American Q&A website with a continually growing user generated collection of questions and answers. All the questions and answers are created, edited, and organized by the people who use it.</p>\n",
    "\n",
    "<p>As per Kornél Csernai, a Machine Learning Platform Engineer at Quora : </p>\n",
    "\n",
    "<p><i>“An important product principle for Quora is that there should be a single question page for each logically distinct question. As a simple example, the queries “What is the most populous state in the USA?” and “Which state in the United States has the most people?” should not exist separately on Quora because the intent behind both is identical. Having a canonical page for each logically distinct query makes knowledge-sharing more efficient in many ways: for example, knowledge seekers can access all the answers to a question in a single location, and writers can reach a larger readership than if that audience was divided amongst several pages.”</i><p>\n",
    "    \n",
    "<p>Duplicate questions are very common on Quora. Duplicate questions may prevent a user from seeing a high quality response that already exists and responders are unlikely to answer the same question twice. Identifying duplicate questions addresses these issues. It reduces the answering burden for responders and makes it possible to direct users to the best responses, improving the overall user experience.</p>\n",
    "\n",
    "<p>Here are the 3 major advantages of solving this problem:<p>\n",
    "Cheaper data storage.\n",
    "Improved Customer Experience \n",
    "Re-use content."
   ]
  },
  {
   "cell_type": "markdown",
   "metadata": {},
   "source": [
    "## Dataset\n",
    "The dataset that I plan to use is based on actual data from Quora and is available on Kaggle. There are over 400,000 lines of potential question duplicate pairs. Each line contains IDs for each question in the pair, the full text for each question, and a binary value that indicates whether the line truly contains a duplicate pair.\n",
    "Here’s the complete list and description of the columns:\n",
    "<table>\n",
    "    <tr><td>Id          </td><td>the id for each question pair    </td></tr>\n",
    "    <tr><td>Qid1        </td><td>the id for question 1 in the pair</td></tr>\n",
    "    <tr><td>Qid2        </td><td>the id for question 2 in the pair</td></tr>\n",
    "    <tr><td>Question1   </td><td>the full text for question1      </td></tr>\n",
    "    <tr><td>Question2   </td><td>the full text for question2      </td></tr>\n",
    "    <tr><td>Is_duplicate</td><td>yes(1) ; no(0)                   </td></tr>\n",
    "</table>"
   ]
  },
  {
   "cell_type": "markdown",
   "metadata": {},
   "source": [
    "## Goal\n",
    "The goal is to use this dataset to train and test models of semantic equivalence. The machine learning model should be able to look at a set of two questions and determine if they have the same meaning."
   ]
  },
  {
   "cell_type": "markdown",
   "metadata": {},
   "source": [
    "<hr style=\"border: 2px solid red\" />"
   ]
  },
  {
   "cell_type": "markdown",
   "metadata": {
    "colab_type": "text",
    "id": "mpply_LygY9e"
   },
   "source": [
    "# Exploratory Data Analysis"
   ]
  },
  {
   "cell_type": "code",
   "execution_count": 5,
   "metadata": {
    "colab": {},
    "colab_type": "code",
    "id": "1jY6XBFpEcpR"
   },
   "outputs": [],
   "source": [
    "# Importing basic libraries\n",
    "import numpy as np\n",
    "import pandas as pd\n",
    "import matplotlib.pyplot as plt\n",
    "import matplotlib\n",
    "%matplotlib inline"
   ]
  },
  {
   "cell_type": "code",
   "execution_count": 37,
   "metadata": {
    "colab": {
     "base_uri": "https://localhost:8080/",
     "height": 34
    },
    "colab_type": "code",
    "id": "b8-GySt8E694",
    "outputId": "1c3d8024-5d8a-4d2c-dbb7-b20d360208b1"
   },
   "outputs": [
    {
     "name": "stdout",
     "output_type": "stream",
     "text": [
      "Drive already mounted at /content/drive; to attempt to forcibly remount, call drive.mount(\"/content/drive\", force_remount=True).\n"
     ]
    }
   ],
   "source": [
    "# Mounting the drive\n",
    "from google.colab import drive\n",
    "drive.mount('/content/drive')"
   ]
  },
  {
   "cell_type": "code",
   "execution_count": 0,
   "metadata": {
    "colab": {},
    "colab_type": "code",
    "id": "cnPJvtjfEcpV"
   },
   "outputs": [],
   "source": [
    "# Loading the dataset\n",
    "df = pd.read_csv(\"drive/My Drive/Colab Notebooks/CapstoneProject/train.csv\")"
   ]
  },
  {
   "cell_type": "code",
   "execution_count": 39,
   "metadata": {
    "colab": {
     "base_uri": "https://localhost:8080/",
     "height": 34
    },
    "colab_type": "code",
    "id": "8oLJRmJqbC5C",
    "outputId": "bdd41f4c-518c-4647-c53d-4938b8b108d5"
   },
   "outputs": [
    {
     "name": "stdout",
     "output_type": "stream",
     "text": [
      "Number of data points: 404290\n"
     ]
    }
   ],
   "source": [
    "print(\"Number of data points:\",df.shape[0])"
   ]
  },
  {
   "cell_type": "code",
   "execution_count": 40,
   "metadata": {
    "colab": {
     "base_uri": "https://localhost:8080/",
     "height": 198
    },
    "colab_type": "code",
    "id": "in5AFaxngbkk",
    "outputId": "2e8c612c-3022-48f6-b976-fe45dee73899"
   },
   "outputs": [
    {
     "data": {
      "text/html": [
       "<div>\n",
       "<style scoped>\n",
       "    .dataframe tbody tr th:only-of-type {\n",
       "        vertical-align: middle;\n",
       "    }\n",
       "\n",
       "    .dataframe tbody tr th {\n",
       "        vertical-align: top;\n",
       "    }\n",
       "\n",
       "    .dataframe thead th {\n",
       "        text-align: right;\n",
       "    }\n",
       "</style>\n",
       "<table border=\"1\" class=\"dataframe\">\n",
       "  <thead>\n",
       "    <tr style=\"text-align: right;\">\n",
       "      <th></th>\n",
       "      <th>id</th>\n",
       "      <th>qid1</th>\n",
       "      <th>qid2</th>\n",
       "      <th>question1</th>\n",
       "      <th>question2</th>\n",
       "      <th>is_duplicate</th>\n",
       "    </tr>\n",
       "  </thead>\n",
       "  <tbody>\n",
       "    <tr>\n",
       "      <th>0</th>\n",
       "      <td>0</td>\n",
       "      <td>1</td>\n",
       "      <td>2</td>\n",
       "      <td>What is the step by step guide to invest in sh...</td>\n",
       "      <td>What is the step by step guide to invest in sh...</td>\n",
       "      <td>0</td>\n",
       "    </tr>\n",
       "    <tr>\n",
       "      <th>1</th>\n",
       "      <td>1</td>\n",
       "      <td>3</td>\n",
       "      <td>4</td>\n",
       "      <td>What is the story of Kohinoor (Koh-i-Noor) Dia...</td>\n",
       "      <td>What would happen if the Indian government sto...</td>\n",
       "      <td>0</td>\n",
       "    </tr>\n",
       "    <tr>\n",
       "      <th>2</th>\n",
       "      <td>2</td>\n",
       "      <td>5</td>\n",
       "      <td>6</td>\n",
       "      <td>How can I increase the speed of my internet co...</td>\n",
       "      <td>How can Internet speed be increased by hacking...</td>\n",
       "      <td>0</td>\n",
       "    </tr>\n",
       "    <tr>\n",
       "      <th>3</th>\n",
       "      <td>3</td>\n",
       "      <td>7</td>\n",
       "      <td>8</td>\n",
       "      <td>Why am I mentally very lonely? How can I solve...</td>\n",
       "      <td>Find the remainder when [math]23^{24}[/math] i...</td>\n",
       "      <td>0</td>\n",
       "    </tr>\n",
       "    <tr>\n",
       "      <th>4</th>\n",
       "      <td>4</td>\n",
       "      <td>9</td>\n",
       "      <td>10</td>\n",
       "      <td>Which one dissolve in water quikly sugar, salt...</td>\n",
       "      <td>Which fish would survive in salt water?</td>\n",
       "      <td>0</td>\n",
       "    </tr>\n",
       "  </tbody>\n",
       "</table>\n",
       "</div>"
      ],
      "text/plain": [
       "   id  qid1  ...                                          question2 is_duplicate\n",
       "0   0     1  ...  What is the step by step guide to invest in sh...            0\n",
       "1   1     3  ...  What would happen if the Indian government sto...            0\n",
       "2   2     5  ...  How can Internet speed be increased by hacking...            0\n",
       "3   3     7  ...  Find the remainder when [math]23^{24}[/math] i...            0\n",
       "4   4     9  ...            Which fish would survive in salt water?            0\n",
       "\n",
       "[5 rows x 6 columns]"
      ]
     },
     "execution_count": 40,
     "metadata": {
      "tags": []
     },
     "output_type": "execute_result"
    }
   ],
   "source": [
    "df.head()"
   ]
  },
  {
   "cell_type": "code",
   "execution_count": 41,
   "metadata": {
    "colab": {
     "base_uri": "https://localhost:8080/",
     "height": 242
    },
    "colab_type": "code",
    "id": "MYglTHF0EcqL",
    "outputId": "6091c38f-1466-4359-b5b2-826bf6c033d3"
   },
   "outputs": [
    {
     "name": "stdout",
     "output_type": "stream",
     "text": [
      "<class 'pandas.core.frame.DataFrame'>\n",
      "RangeIndex: 404290 entries, 0 to 404289\n",
      "Data columns (total 6 columns):\n",
      " #   Column        Non-Null Count   Dtype \n",
      "---  ------        --------------   ----- \n",
      " 0   id            404290 non-null  int64 \n",
      " 1   qid1          404290 non-null  int64 \n",
      " 2   qid2          404290 non-null  int64 \n",
      " 3   question1     404289 non-null  object\n",
      " 4   question2     404288 non-null  object\n",
      " 5   is_duplicate  404290 non-null  int64 \n",
      "dtypes: int64(4), object(2)\n",
      "memory usage: 18.5+ MB\n"
     ]
    }
   ],
   "source": [
    "df.info()"
   ]
  },
  {
   "cell_type": "code",
   "execution_count": 42,
   "metadata": {
    "colab": {
     "base_uri": "https://localhost:8080/",
     "height": 78
    },
    "colab_type": "code",
    "id": "4UXvgagchXcE",
    "outputId": "b3dec776-9d99-423f-f846-572cdeeacdf3"
   },
   "outputs": [
    {
     "data": {
      "text/html": [
       "<div>\n",
       "<style scoped>\n",
       "    .dataframe tbody tr th:only-of-type {\n",
       "        vertical-align: middle;\n",
       "    }\n",
       "\n",
       "    .dataframe tbody tr th {\n",
       "        vertical-align: top;\n",
       "    }\n",
       "\n",
       "    .dataframe thead th {\n",
       "        text-align: right;\n",
       "    }\n",
       "</style>\n",
       "<table border=\"1\" class=\"dataframe\">\n",
       "  <thead>\n",
       "    <tr style=\"text-align: right;\">\n",
       "      <th></th>\n",
       "      <th>id</th>\n",
       "      <th>qid1</th>\n",
       "      <th>qid2</th>\n",
       "      <th>question1</th>\n",
       "      <th>question2</th>\n",
       "      <th>is_duplicate</th>\n",
       "    </tr>\n",
       "  </thead>\n",
       "  <tbody>\n",
       "    <tr>\n",
       "      <th>363362</th>\n",
       "      <td>363362</td>\n",
       "      <td>493340</td>\n",
       "      <td>493341</td>\n",
       "      <td>NaN</td>\n",
       "      <td>My Chinese name is Haichao Yu. What English na...</td>\n",
       "      <td>0</td>\n",
       "    </tr>\n",
       "  </tbody>\n",
       "</table>\n",
       "</div>"
      ],
      "text/plain": [
       "            id  ...  is_duplicate\n",
       "363362  363362  ...             0\n",
       "\n",
       "[1 rows x 6 columns]"
      ]
     },
     "execution_count": 42,
     "metadata": {
      "tags": []
     },
     "output_type": "execute_result"
    }
   ],
   "source": [
    "#question1 has 1 null value \n",
    "#question2 has 2 null values\n",
    "#Let's locate which question1 has a null value\n",
    "df[df.question1.isnull()]"
   ]
  },
  {
   "cell_type": "code",
   "execution_count": 43,
   "metadata": {
    "colab": {
     "base_uri": "https://localhost:8080/",
     "height": 78
    },
    "colab_type": "code",
    "id": "yvj7L6nRhjJL",
    "outputId": "641b00da-bdfb-4687-8d13-e3a6f11d20bc"
   },
   "outputs": [
    {
     "data": {
      "text/html": [
       "<div>\n",
       "<style scoped>\n",
       "    .dataframe tbody tr th:only-of-type {\n",
       "        vertical-align: middle;\n",
       "    }\n",
       "\n",
       "    .dataframe tbody tr th {\n",
       "        vertical-align: top;\n",
       "    }\n",
       "\n",
       "    .dataframe thead th {\n",
       "        text-align: right;\n",
       "    }\n",
       "</style>\n",
       "<table border=\"1\" class=\"dataframe\">\n",
       "  <thead>\n",
       "    <tr style=\"text-align: right;\">\n",
       "      <th></th>\n",
       "      <th>id</th>\n",
       "      <th>qid1</th>\n",
       "      <th>qid2</th>\n",
       "      <th>question1</th>\n",
       "      <th>question2</th>\n",
       "      <th>is_duplicate</th>\n",
       "    </tr>\n",
       "  </thead>\n",
       "  <tbody>\n",
       "    <tr>\n",
       "      <th>363362</th>\n",
       "      <td>363362</td>\n",
       "      <td>493340</td>\n",
       "      <td>493341</td>\n",
       "      <td>NaN</td>\n",
       "      <td>My Chinese name is Haichao Yu. What English na...</td>\n",
       "      <td>0</td>\n",
       "    </tr>\n",
       "  </tbody>\n",
       "</table>\n",
       "</div>"
      ],
      "text/plain": [
       "            id  ...  is_duplicate\n",
       "363362  363362  ...             0\n",
       "\n",
       "[1 rows x 6 columns]"
      ]
     },
     "execution_count": 43,
     "metadata": {
      "tags": []
     },
     "output_type": "execute_result"
    }
   ],
   "source": [
    "#The Null question1 has an qid1 = 493340. \n",
    "#Let's check if there is an instance of qid = 493340 is present anywhere in the dataset with a valid question attached to it.\n",
    "df[(df.qid1 == 493340) | (df.qid2 == 493340)]"
   ]
  },
  {
   "cell_type": "code",
   "execution_count": 0,
   "metadata": {
    "colab": {},
    "colab_type": "code",
    "id": "Bj8PvwVthwos"
   },
   "outputs": [],
   "source": [
    "#We cannot fill this null question1 with the correct question. It is better to delete the record."
   ]
  },
  {
   "cell_type": "code",
   "execution_count": 45,
   "metadata": {
    "colab": {
     "base_uri": "https://localhost:8080/",
     "height": 108
    },
    "colab_type": "code",
    "id": "4ovma0pSiAnP",
    "outputId": "da88b387-862f-439f-d007-13ea9b0d21a5"
   },
   "outputs": [
    {
     "data": {
      "text/html": [
       "<div>\n",
       "<style scoped>\n",
       "    .dataframe tbody tr th:only-of-type {\n",
       "        vertical-align: middle;\n",
       "    }\n",
       "\n",
       "    .dataframe tbody tr th {\n",
       "        vertical-align: top;\n",
       "    }\n",
       "\n",
       "    .dataframe thead th {\n",
       "        text-align: right;\n",
       "    }\n",
       "</style>\n",
       "<table border=\"1\" class=\"dataframe\">\n",
       "  <thead>\n",
       "    <tr style=\"text-align: right;\">\n",
       "      <th></th>\n",
       "      <th>id</th>\n",
       "      <th>qid1</th>\n",
       "      <th>qid2</th>\n",
       "      <th>question1</th>\n",
       "      <th>question2</th>\n",
       "      <th>is_duplicate</th>\n",
       "    </tr>\n",
       "  </thead>\n",
       "  <tbody>\n",
       "    <tr>\n",
       "      <th>105780</th>\n",
       "      <td>105780</td>\n",
       "      <td>174363</td>\n",
       "      <td>174364</td>\n",
       "      <td>How can I develop android app?</td>\n",
       "      <td>NaN</td>\n",
       "      <td>0</td>\n",
       "    </tr>\n",
       "    <tr>\n",
       "      <th>201841</th>\n",
       "      <td>201841</td>\n",
       "      <td>303951</td>\n",
       "      <td>174364</td>\n",
       "      <td>How can I create an Android app?</td>\n",
       "      <td>NaN</td>\n",
       "      <td>0</td>\n",
       "    </tr>\n",
       "  </tbody>\n",
       "</table>\n",
       "</div>"
      ],
      "text/plain": [
       "            id    qid1  ...  question2 is_duplicate\n",
       "105780  105780  174363  ...        NaN            0\n",
       "201841  201841  303951  ...        NaN            0\n",
       "\n",
       "[2 rows x 6 columns]"
      ]
     },
     "execution_count": 45,
     "metadata": {
      "tags": []
     },
     "output_type": "execute_result"
    }
   ],
   "source": [
    "#Let's check how many records are there where question2 is null\n",
    "df[df.question2.isnull()]"
   ]
  },
  {
   "cell_type": "code",
   "execution_count": 46,
   "metadata": {
    "colab": {
     "base_uri": "https://localhost:8080/",
     "height": 108
    },
    "colab_type": "code",
    "id": "tDDO1P8OiPHH",
    "outputId": "bfdd1351-aa84-4e38-e861-5e44281fd7ee"
   },
   "outputs": [
    {
     "data": {
      "text/html": [
       "<div>\n",
       "<style scoped>\n",
       "    .dataframe tbody tr th:only-of-type {\n",
       "        vertical-align: middle;\n",
       "    }\n",
       "\n",
       "    .dataframe tbody tr th {\n",
       "        vertical-align: top;\n",
       "    }\n",
       "\n",
       "    .dataframe thead th {\n",
       "        text-align: right;\n",
       "    }\n",
       "</style>\n",
       "<table border=\"1\" class=\"dataframe\">\n",
       "  <thead>\n",
       "    <tr style=\"text-align: right;\">\n",
       "      <th></th>\n",
       "      <th>id</th>\n",
       "      <th>qid1</th>\n",
       "      <th>qid2</th>\n",
       "      <th>question1</th>\n",
       "      <th>question2</th>\n",
       "      <th>is_duplicate</th>\n",
       "    </tr>\n",
       "  </thead>\n",
       "  <tbody>\n",
       "    <tr>\n",
       "      <th>105780</th>\n",
       "      <td>105780</td>\n",
       "      <td>174363</td>\n",
       "      <td>174364</td>\n",
       "      <td>How can I develop android app?</td>\n",
       "      <td>NaN</td>\n",
       "      <td>0</td>\n",
       "    </tr>\n",
       "    <tr>\n",
       "      <th>201841</th>\n",
       "      <td>201841</td>\n",
       "      <td>303951</td>\n",
       "      <td>174364</td>\n",
       "      <td>How can I create an Android app?</td>\n",
       "      <td>NaN</td>\n",
       "      <td>0</td>\n",
       "    </tr>\n",
       "  </tbody>\n",
       "</table>\n",
       "</div>"
      ],
      "text/plain": [
       "            id    qid1  ...  question2 is_duplicate\n",
       "105780  105780  174363  ...        NaN            0\n",
       "201841  201841  303951  ...        NaN            0\n",
       "\n",
       "[2 rows x 6 columns]"
      ]
     },
     "execution_count": 46,
     "metadata": {
      "tags": []
     },
     "output_type": "execute_result"
    }
   ],
   "source": [
    "#The 2 instances of Null question2 have ids 174364. \n",
    "#Let's check if there is an instance of qid = 174364 is present anywhere in the dataset with a valid question attached to it.\n",
    "df[(df.qid1 == 174364) | (df.qid2 == 174364)]"
   ]
  },
  {
   "cell_type": "code",
   "execution_count": 0,
   "metadata": {
    "colab": {},
    "colab_type": "code",
    "id": "XR2zaDLziZok"
   },
   "outputs": [],
   "source": [
    "#We cannot fill this null question1 with the correct question. It is better to delete the record."
   ]
  },
  {
   "cell_type": "code",
   "execution_count": 0,
   "metadata": {
    "colab": {},
    "colab_type": "code",
    "id": "RpxcwmDoikec"
   },
   "outputs": [],
   "source": [
    "#Deleting records with null in qid1 or qid2\n",
    "df = df.dropna(subset=['question1','question2'])"
   ]
  },
  {
   "cell_type": "code",
   "execution_count": 49,
   "metadata": {
    "colab": {
     "base_uri": "https://localhost:8080/",
     "height": 48
    },
    "colab_type": "code",
    "id": "25QHvSaHipgd",
    "outputId": "54c7e3b5-b7d9-4849-e3ee-ba9063b27b7a"
   },
   "outputs": [
    {
     "data": {
      "text/html": [
       "<div>\n",
       "<style scoped>\n",
       "    .dataframe tbody tr th:only-of-type {\n",
       "        vertical-align: middle;\n",
       "    }\n",
       "\n",
       "    .dataframe tbody tr th {\n",
       "        vertical-align: top;\n",
       "    }\n",
       "\n",
       "    .dataframe thead th {\n",
       "        text-align: right;\n",
       "    }\n",
       "</style>\n",
       "<table border=\"1\" class=\"dataframe\">\n",
       "  <thead>\n",
       "    <tr style=\"text-align: right;\">\n",
       "      <th></th>\n",
       "      <th>id</th>\n",
       "      <th>qid1</th>\n",
       "      <th>qid2</th>\n",
       "      <th>question1</th>\n",
       "      <th>question2</th>\n",
       "      <th>is_duplicate</th>\n",
       "    </tr>\n",
       "  </thead>\n",
       "  <tbody>\n",
       "  </tbody>\n",
       "</table>\n",
       "</div>"
      ],
      "text/plain": [
       "Empty DataFrame\n",
       "Columns: [id, qid1, qid2, question1, question2, is_duplicate]\n",
       "Index: []"
      ]
     },
     "execution_count": 49,
     "metadata": {
      "tags": []
     },
     "output_type": "execute_result"
    }
   ],
   "source": [
    "#Verifying the deletes\n",
    "df[(df.question1.isnull()) | (df.question2.isnull())]"
   ]
  },
  {
   "cell_type": "code",
   "execution_count": 50,
   "metadata": {
    "colab": {
     "base_uri": "https://localhost:8080/",
     "height": 48
    },
    "colab_type": "code",
    "id": "JNGQq5gvi368",
    "outputId": "9de79036-3948-45f6-bdd9-c1c0b2f3ac95"
   },
   "outputs": [
    {
     "data": {
      "text/html": [
       "<div>\n",
       "<style scoped>\n",
       "    .dataframe tbody tr th:only-of-type {\n",
       "        vertical-align: middle;\n",
       "    }\n",
       "\n",
       "    .dataframe tbody tr th {\n",
       "        vertical-align: top;\n",
       "    }\n",
       "\n",
       "    .dataframe thead th {\n",
       "        text-align: right;\n",
       "    }\n",
       "</style>\n",
       "<table border=\"1\" class=\"dataframe\">\n",
       "  <thead>\n",
       "    <tr style=\"text-align: right;\">\n",
       "      <th></th>\n",
       "      <th>id</th>\n",
       "      <th>qid1</th>\n",
       "      <th>qid2</th>\n",
       "      <th>question1</th>\n",
       "      <th>question2</th>\n",
       "      <th>is_duplicate</th>\n",
       "    </tr>\n",
       "  </thead>\n",
       "  <tbody>\n",
       "  </tbody>\n",
       "</table>\n",
       "</div>"
      ],
      "text/plain": [
       "Empty DataFrame\n",
       "Columns: [id, qid1, qid2, question1, question2, is_duplicate]\n",
       "Index: []"
      ]
     },
     "execution_count": 50,
     "metadata": {
      "tags": []
     },
     "output_type": "execute_result"
    }
   ],
   "source": [
    "#Let's check if there are any records where question1 == question2\n",
    "df[df.question1 == df.question2]"
   ]
  },
  {
   "cell_type": "code",
   "execution_count": 51,
   "metadata": {
    "colab": {
     "base_uri": "https://localhost:8080/",
     "height": 34
    },
    "colab_type": "code",
    "id": "-Rq6Woz_jFGe",
    "outputId": "67658b9f-6fc1-4fe8-f1bb-79ddca1bedd4"
   },
   "outputs": [
    {
     "data": {
      "text/plain": [
       "Series([], dtype: int64)"
      ]
     },
     "execution_count": 51,
     "metadata": {
      "tags": []
     },
     "output_type": "execute_result"
    }
   ],
   "source": [
    "#Let's check if a qid1, qid2 pair is repeated more than once\n",
    "pair_count = df.groupby(['qid1','qid2']).size()\n",
    "pair_count[pair_count > 1]"
   ]
  },
  {
   "cell_type": "code",
   "execution_count": 52,
   "metadata": {
    "colab": {
     "base_uri": "https://localhost:8080/",
     "height": 34
    },
    "colab_type": "code",
    "id": "_oNXCJ0wjLVY",
    "outputId": "4e320d96-260a-49e6-cc4e-2c6ffbc64803"
   },
   "outputs": [
    {
     "data": {
      "text/plain": [
       "Series([], dtype: bool)"
      ]
     },
     "execution_count": 52,
     "metadata": {
      "tags": []
     },
     "output_type": "execute_result"
    }
   ],
   "source": [
    "#The above code will not capture the scenario if qid1 and qid2 are interchanged. \n",
    "#Let's see if there cases such as qid1=N1/qid2=N2 and qid1=N2/qid2=N1.\n",
    "list_of_qids_1_2 = (df['qid1'].astype(str) + '-' + df['qid2'].astype(str)).tolist() \n",
    "list_of_qids_2_1 = (df['qid2'].astype(str) + '-' + df['qid1'].astype(str)).tolist()\n",
    "combined_list = pd.Series(list_of_qids_1_2 + list_of_qids_2_1)\n",
    "result = combined_list.duplicated()\n",
    "result[result == True]"
   ]
  },
  {
   "cell_type": "code",
   "execution_count": 53,
   "metadata": {
    "colab": {
     "base_uri": "https://localhost:8080/",
     "height": 34
    },
    "colab_type": "code",
    "id": "Rw3k1BN_jT8C",
    "outputId": "574313f1-af0c-47f0-b9a4-dd5f3afd7faf"
   },
   "outputs": [
    {
     "data": {
      "text/plain": [
       "290652"
      ]
     },
     "execution_count": 53,
     "metadata": {
      "tags": []
     },
     "output_type": "execute_result"
    }
   ],
   "source": [
    "#Let's check how many unique instances of qid1 are there.\n",
    "len(df.qid1.unique())"
   ]
  },
  {
   "cell_type": "code",
   "execution_count": 54,
   "metadata": {
    "colab": {
     "base_uri": "https://localhost:8080/",
     "height": 34
    },
    "colab_type": "code",
    "id": "EHxW1_2mjZPj",
    "outputId": "7ab19bfb-869d-4fd4-f431-c4465a5e29cb"
   },
   "outputs": [
    {
     "data": {
      "text/plain": [
       "299362"
      ]
     },
     "execution_count": 54,
     "metadata": {
      "tags": []
     },
     "output_type": "execute_result"
    }
   ],
   "source": [
    "#Let's check how many unique instances of qid2 are there.\n",
    "len(df.qid2.unique())"
   ]
  },
  {
   "cell_type": "code",
   "execution_count": 0,
   "metadata": {
    "colab": {},
    "colab_type": "code",
    "id": "dPhyKvMWje0x"
   },
   "outputs": [],
   "source": [
    "#Based on the above queries, a question might be repeated in more than one pair."
   ]
  },
  {
   "cell_type": "code",
   "execution_count": 56,
   "metadata": {
    "colab": {
     "base_uri": "https://localhost:8080/",
     "height": 294
    },
    "colab_type": "code",
    "id": "iDJ4wyIMji9U",
    "outputId": "6168d8bd-e9dc-4124-a62d-cc0e0a7f9609"
   },
   "outputs": [
    {
     "data": {
      "text/plain": [
       "<matplotlib.axes._subplots.AxesSubplot at 0x7f77e4549dd8>"
      ]
     },
     "execution_count": 56,
     "metadata": {
      "tags": []
     },
     "output_type": "execute_result"
    },
    {
     "data": {
      "image/png": "[encoded data removed]",
      "text/plain": [
       "<Figure size 432x288 with 1 Axes>"
      ]
     },
     "metadata": {
      "needs_background": "light",
      "tags": []
     },
     "output_type": "display_data"
    }
   ],
   "source": [
    "#Graph of duplicates vs non-duplicates\n",
    "df.groupby(\"is_duplicate\")['id'].count().plot.bar()"
   ]
  },
  {
   "cell_type": "code",
   "execution_count": 57,
   "metadata": {
    "colab": {
     "base_uri": "https://localhost:8080/",
     "height": 86
    },
    "colab_type": "code",
    "id": "lzeXP2SXh_ax",
    "outputId": "7206e059-1a2b-40e7-ebf6-176840d8f041"
   },
   "outputs": [
    {
     "name": "stdout",
     "output_type": "stream",
     "text": [
      "Mean question1 :  10.942256367382576  words\n",
      "Median question1 :  10.0  words\n",
      "Mean question1 :  10.942256367382576  words\n",
      "Median question1 :  10.0  words\n"
     ]
    }
   ],
   "source": [
    "#Average number of words per question\n",
    "print('Mean question1 : ', df['question1'].str.split().apply(len).mean(), ' words')\n",
    "print('Median question1 : ', df['question1'].str.split().apply(len).median(), ' words')\n",
    "print('Mean question1 : ', df['question1'].str.split().apply(len).mean(), ' words')\n",
    "print('Median question1 : ', df['question1'].str.split().apply(len).median(), ' words')"
   ]
  },
  {
   "cell_type": "code",
   "execution_count": 58,
   "metadata": {
    "colab": {
     "base_uri": "https://localhost:8080/",
     "height": 104
    },
    "colab_type": "code",
    "id": "wxv-h6H5EcqG",
    "outputId": "6893485d-a484-4198-8085-0533b6264773"
   },
   "outputs": [
    {
     "name": "stdout",
     "output_type": "stream",
     "text": [
      "Not Duplicate Question Pairs (is_duplicate = 0):\n",
      "   63.08%\n",
      "\n",
      "Duplicate Question Pairs (is_duplicate = 1):\n",
      "   36.92%\n"
     ]
    }
   ],
   "source": [
    "print('Not Duplicate Question Pairs (is_duplicate = 0):\\n   {}%'.format(100 - round(df['is_duplicate'].mean()*100, 2)))\n",
    "print('\\nDuplicate Question Pairs (is_duplicate = 1):\\n   {}%'.format(round(df['is_duplicate'].mean()*100, 2)))"
   ]
  },
  {
   "cell_type": "code",
   "execution_count": 0,
   "metadata": {
    "colab": {},
    "colab_type": "code",
    "id": "Kqo_270IEcqK"
   },
   "outputs": [],
   "source": [
    "df_not_duplicate = df[df.is_duplicate == 0].sample(n = 5000)\n",
    "df_duplicate = df[df.is_duplicate == 1].sample(n = 5000)\n",
    "df = df_not_duplicate.append(df_duplicate)"
   ]
  },
  {
   "cell_type": "code",
   "execution_count": 60,
   "metadata": {
    "colab": {
     "base_uri": "https://localhost:8080/",
     "height": 104
    },
    "colab_type": "code",
    "id": "0oteZv8L163D",
    "outputId": "c043a054-2b5b-439f-d399-1f12e989df75"
   },
   "outputs": [
    {
     "name": "stdout",
     "output_type": "stream",
     "text": [
      "Not Duplicate Question Pairs (is_duplicate = 0):\n",
      "   50.0%\n",
      "\n",
      "Duplicate Question Pairs (is_duplicate = 1):\n",
      "   50.0%\n"
     ]
    }
   ],
   "source": [
    "print('Not Duplicate Question Pairs (is_duplicate = 0):\\n   {}%'.format(100 - round(df['is_duplicate'].mean()*100, 2)))\n",
    "print('\\nDuplicate Question Pairs (is_duplicate = 1):\\n   {}%'.format(round(df['is_duplicate'].mean()*100, 2)))"
   ]
  },
  {
   "cell_type": "markdown",
   "metadata": {
    "colab_type": "text",
    "id": "12Wk9qmUEcqJ"
   },
   "source": [
    "# Processing Text Data"
   ]
  },
  {
   "cell_type": "markdown",
   "metadata": {
    "colab_type": "text",
    "id": "4WJUu_ZpZkq8"
   },
   "source": [
    "  #### Dropping Null Values"
   ]
  },
  {
   "cell_type": "code",
   "execution_count": 0,
   "metadata": {
    "colab": {},
    "colab_type": "code",
    "id": "o_OB1SGTEcpv"
   },
   "outputs": [],
   "source": [
    "#Deleting records with null in qid1 or qid2\n",
    "df = df.dropna(subset=['question1','question2'])"
   ]
  },
  {
   "cell_type": "markdown",
   "metadata": {},
   "source": [
    "#### Convert question1 and question2 to lower case"
   ]
  },
  {
   "cell_type": "code",
   "execution_count": 62,
   "metadata": {
    "colab": {
     "base_uri": "https://localhost:8080/",
     "height": 198
    },
    "colab_type": "code",
    "id": "-O1iUyQMEcqO",
    "outputId": "2f1d6be4-b45e-4d59-8084-2f2cb8978c0c"
   },
   "outputs": [
    {
     "data": {
      "text/html": [
       "<div>\n",
       "<style scoped>\n",
       "    .dataframe tbody tr th:only-of-type {\n",
       "        vertical-align: middle;\n",
       "    }\n",
       "\n",
       "    .dataframe tbody tr th {\n",
       "        vertical-align: top;\n",
       "    }\n",
       "\n",
       "    .dataframe thead th {\n",
       "        text-align: right;\n",
       "    }\n",
       "</style>\n",
       "<table border=\"1\" class=\"dataframe\">\n",
       "  <thead>\n",
       "    <tr style=\"text-align: right;\">\n",
       "      <th></th>\n",
       "      <th>id</th>\n",
       "      <th>qid1</th>\n",
       "      <th>qid2</th>\n",
       "      <th>question1</th>\n",
       "      <th>question2</th>\n",
       "      <th>is_duplicate</th>\n",
       "    </tr>\n",
       "  </thead>\n",
       "  <tbody>\n",
       "    <tr>\n",
       "      <th>160643</th>\n",
       "      <td>160643</td>\n",
       "      <td>250488</td>\n",
       "      <td>250489</td>\n",
       "      <td>is it okay to have nocturnal emissions when sl...</td>\n",
       "      <td>why do i need to sleep 10 hours to be okay?</td>\n",
       "      <td>0</td>\n",
       "    </tr>\n",
       "    <tr>\n",
       "      <th>63247</th>\n",
       "      <td>63247</td>\n",
       "      <td>110101</td>\n",
       "      <td>110102</td>\n",
       "      <td>i'm 13 years old and just found out i'm pregna...</td>\n",
       "      <td>i just found out that my ex got engaged. i'm n...</td>\n",
       "      <td>0</td>\n",
       "    </tr>\n",
       "    <tr>\n",
       "      <th>217878</th>\n",
       "      <td>217878</td>\n",
       "      <td>324344</td>\n",
       "      <td>324345</td>\n",
       "      <td>can the average listener discern the differenc...</td>\n",
       "      <td>audiophiles: does listening to mp3 at 320kbps ...</td>\n",
       "      <td>0</td>\n",
       "    </tr>\n",
       "    <tr>\n",
       "      <th>152351</th>\n",
       "      <td>152351</td>\n",
       "      <td>239371</td>\n",
       "      <td>239372</td>\n",
       "      <td>who is pawan tiwari?</td>\n",
       "      <td>who is pawan?</td>\n",
       "      <td>0</td>\n",
       "    </tr>\n",
       "    <tr>\n",
       "      <th>43267</th>\n",
       "      <td>43267</td>\n",
       "      <td>77849</td>\n",
       "      <td>77850</td>\n",
       "      <td>how do dermatologist remove skin tags?</td>\n",
       "      <td>can a wart remover remove skin tags?</td>\n",
       "      <td>0</td>\n",
       "    </tr>\n",
       "  </tbody>\n",
       "</table>\n",
       "</div>"
      ],
      "text/plain": [
       "            id  ...  is_duplicate\n",
       "160643  160643  ...             0\n",
       "63247    63247  ...             0\n",
       "217878  217878  ...             0\n",
       "152351  152351  ...             0\n",
       "43267    43267  ...             0\n",
       "\n",
       "[5 rows x 6 columns]"
      ]
     },
     "execution_count": 62,
     "metadata": {
      "tags": []
     },
     "output_type": "execute_result"
    }
   ],
   "source": [
    "df['question1'] = df['question1'].str.lower()\n",
    "df['question2'] = df['question2'].str.lower()\n",
    "df.head()"
   ]
  },
  {
   "cell_type": "markdown",
   "metadata": {},
   "source": [
    "#### Removing STOP Words\n",
    "However, for my dataset I noticed that removing stop words removing critical context words without the which the questions had no meaning. Moreover, many questions were just left with 2-3 words and the machine algorithm accuracies were reduced. Hence, this region is commented out."
   ]
  },
  {
   "cell_type": "code",
   "execution_count": 0,
   "metadata": {
    "colab": {},
    "colab_type": "code",
    "id": "8HhMDfX-4Cu9"
   },
   "outputs": [],
   "source": [
    "# # Remove STOP words\n",
    "# import nltk\n",
    "# from nltk.tokenize import word_tokenize\n",
    "# nltk.download('punkt')\n",
    "# nltk.download('stopwords')\n",
    "# from nltk.corpus import stopwords\n",
    "# stop_words = set(stopwords.words('english')) \n",
    "\n",
    "# def remove_stopwords(x):\n",
    "#   word_tokens = word_tokenize(x)   \n",
    "#   filtered_sentence = [w for w in word_tokens if not w in stop_words] \n",
    "#   return ' '.join(word for word in filtered_sentence)\n",
    "\n",
    "# df['question1'] = df['question1'].apply(remove_stopwords)\n",
    "# df['question2'] = df['question2'].apply(remove_stopwords)"
   ]
  },
  {
   "cell_type": "code",
   "execution_count": 64,
   "metadata": {
    "colab": {
     "base_uri": "https://localhost:8080/",
     "height": 224
    },
    "colab_type": "code",
    "id": "P59296bEaHMH",
    "outputId": "13acbfc7-eccb-4781-a703-e8ba52457551"
   },
   "outputs": [
    {
     "data": {
      "text/plain": [
       "160643          why do i need to sleep 10 hours to be okay?\n",
       "63247     i just found out that my ex got engaged. i'm n...\n",
       "217878    audiophiles: does listening to mp3 at 320kbps ...\n",
       "152351                                        who is pawan?\n",
       "43267                  can a wart remover remove skin tags?\n",
       "                                ...                        \n",
       "118202                            how do i motivate myself?\n",
       "22075                               how do learn telepathy?\n",
       "337839                       how can i improve my speaking?\n",
       "389092    which would be better for gaming: i3 5005u wit...\n",
       "51798                           which tv show is best ever?\n",
       "Name: question2, Length: 10000, dtype: object"
      ]
     },
     "execution_count": 64,
     "metadata": {
      "tags": []
     },
     "output_type": "execute_result"
    }
   ],
   "source": [
    "df['question2']"
   ]
  },
  {
   "cell_type": "markdown",
   "metadata": {},
   "source": [
    "#### Word Replacements"
   ]
  },
  {
   "cell_type": "code",
   "execution_count": 0,
   "metadata": {
    "colab": {},
    "colab_type": "code",
    "id": "k1Qiern_5nIT"
   },
   "outputs": [],
   "source": [
    "def word_replace(x):\n",
    "  x = x.replace(\",000,000\", \"m\").replace(\",000\", \"k\").replace(\"′\", \"'\").replace(\"’\", \"'\")\\\n",
    "                            .replace(\"won't\", \"will not\").replace(\"cannot\", \"can not\").replace(\"can't\", \"can not\")\\\n",
    "                            .replace(\"n't\", \" not\").replace(\"what's\", \"what is\").replace(\"it's\", \"it is\")\\\n",
    "                            .replace(\"'ve\", \" have\").replace(\"i'm\", \"i am\").replace(\"'re\", \" are\")\\\n",
    "                            .replace(\"he's\", \"he is\").replace(\"she's\", \"she is\").replace(\"'s\", \" own\")\\\n",
    "                            .replace(\"%\", \" percent \").replace(\"₹\", \" rupee \").replace(\"$\", \" dollar \")\\\n",
    "                            .replace(\"€\", \" euro \").replace(\"'ll\", \" will\")\n",
    "  return x\n",
    "\n",
    "df[\"question1\"] = df[\"question1\"].fillna(\"\").apply(word_replace)\n",
    "df[\"question2\"] = df[\"question2\"].fillna(\"\").apply(word_replace)"
   ]
  },
  {
   "cell_type": "markdown",
   "metadata": {},
   "source": [
    "#### Remove punctuation"
   ]
  },
  {
   "cell_type": "code",
   "execution_count": 66,
   "metadata": {
    "colab": {
     "base_uri": "https://localhost:8080/",
     "height": 198
    },
    "colab_type": "code",
    "id": "hvFWe9eZEcqR",
    "outputId": "ba76d17b-aed2-4fff-aa9f-043f142aae8b"
   },
   "outputs": [
    {
     "data": {
      "text/html": [
       "<div>\n",
       "<style scoped>\n",
       "    .dataframe tbody tr th:only-of-type {\n",
       "        vertical-align: middle;\n",
       "    }\n",
       "\n",
       "    .dataframe tbody tr th {\n",
       "        vertical-align: top;\n",
       "    }\n",
       "\n",
       "    .dataframe thead th {\n",
       "        text-align: right;\n",
       "    }\n",
       "</style>\n",
       "<table border=\"1\" class=\"dataframe\">\n",
       "  <thead>\n",
       "    <tr style=\"text-align: right;\">\n",
       "      <th></th>\n",
       "      <th>id</th>\n",
       "      <th>qid1</th>\n",
       "      <th>qid2</th>\n",
       "      <th>question1</th>\n",
       "      <th>question2</th>\n",
       "      <th>is_duplicate</th>\n",
       "    </tr>\n",
       "  </thead>\n",
       "  <tbody>\n",
       "    <tr>\n",
       "      <th>160643</th>\n",
       "      <td>160643</td>\n",
       "      <td>250488</td>\n",
       "      <td>250489</td>\n",
       "      <td>is it okay to have nocturnal emissions when sl...</td>\n",
       "      <td>why do i need to sleep 10 hours to be okay</td>\n",
       "      <td>0</td>\n",
       "    </tr>\n",
       "    <tr>\n",
       "      <th>63247</th>\n",
       "      <td>63247</td>\n",
       "      <td>110101</td>\n",
       "      <td>110102</td>\n",
       "      <td>i am 13 years old and just found out i am preg...</td>\n",
       "      <td>i just found out that my ex got engaged i am n...</td>\n",
       "      <td>0</td>\n",
       "    </tr>\n",
       "    <tr>\n",
       "      <th>217878</th>\n",
       "      <td>217878</td>\n",
       "      <td>324344</td>\n",
       "      <td>324345</td>\n",
       "      <td>can the average listener discern the differenc...</td>\n",
       "      <td>audiophiles does listening to mp3 at 320kbps i...</td>\n",
       "      <td>0</td>\n",
       "    </tr>\n",
       "    <tr>\n",
       "      <th>152351</th>\n",
       "      <td>152351</td>\n",
       "      <td>239371</td>\n",
       "      <td>239372</td>\n",
       "      <td>who is pawan tiwari</td>\n",
       "      <td>who is pawan</td>\n",
       "      <td>0</td>\n",
       "    </tr>\n",
       "    <tr>\n",
       "      <th>43267</th>\n",
       "      <td>43267</td>\n",
       "      <td>77849</td>\n",
       "      <td>77850</td>\n",
       "      <td>how do dermatologist remove skin tags</td>\n",
       "      <td>can a wart remover remove skin tags</td>\n",
       "      <td>0</td>\n",
       "    </tr>\n",
       "  </tbody>\n",
       "</table>\n",
       "</div>"
      ],
      "text/plain": [
       "            id  ...  is_duplicate\n",
       "160643  160643  ...             0\n",
       "63247    63247  ...             0\n",
       "217878  217878  ...             0\n",
       "152351  152351  ...             0\n",
       "43267    43267  ...             0\n",
       "\n",
       "[5 rows x 6 columns]"
      ]
     },
     "execution_count": 66,
     "metadata": {
      "tags": []
     },
     "output_type": "execute_result"
    }
   ],
   "source": [
    "df['question1'] = df['question1'].str.replace(r'[^\\w\\s]+', '')\n",
    "df['question2'] = df['question2'].str.replace(r'[^\\w\\s]+', '')\n",
    "df.head()"
   ]
  },
  {
   "cell_type": "markdown",
   "metadata": {},
   "source": [
    "#### Lemmatization"
   ]
  },
  {
   "cell_type": "code",
   "execution_count": 67,
   "metadata": {
    "colab": {
     "base_uri": "https://localhost:8080/",
     "height": 233
    },
    "colab_type": "code",
    "id": "9K6boM8BYlRT",
    "outputId": "f39d4833-9c86-45c4-fecd-1459369d7b66"
   },
   "outputs": [
    {
     "name": "stdout",
     "output_type": "stream",
     "text": [
      "[nltk_data] Downloading package wordnet to /root/nltk_data...\n",
      "[nltk_data]   Package wordnet is already up-to-date!\n"
     ]
    },
    {
     "data": {
      "text/html": [
       "<div>\n",
       "<style scoped>\n",
       "    .dataframe tbody tr th:only-of-type {\n",
       "        vertical-align: middle;\n",
       "    }\n",
       "\n",
       "    .dataframe tbody tr th {\n",
       "        vertical-align: top;\n",
       "    }\n",
       "\n",
       "    .dataframe thead th {\n",
       "        text-align: right;\n",
       "    }\n",
       "</style>\n",
       "<table border=\"1\" class=\"dataframe\">\n",
       "  <thead>\n",
       "    <tr style=\"text-align: right;\">\n",
       "      <th></th>\n",
       "      <th>id</th>\n",
       "      <th>qid1</th>\n",
       "      <th>qid2</th>\n",
       "      <th>question1</th>\n",
       "      <th>question2</th>\n",
       "      <th>is_duplicate</th>\n",
       "    </tr>\n",
       "  </thead>\n",
       "  <tbody>\n",
       "    <tr>\n",
       "      <th>160643</th>\n",
       "      <td>160643</td>\n",
       "      <td>250488</td>\n",
       "      <td>250489</td>\n",
       "      <td>is it okay to have nocturnal emission when sle...</td>\n",
       "      <td>why do i need to sleep 10 hour to be okay</td>\n",
       "      <td>0</td>\n",
       "    </tr>\n",
       "    <tr>\n",
       "      <th>63247</th>\n",
       "      <td>63247</td>\n",
       "      <td>110101</td>\n",
       "      <td>110102</td>\n",
       "      <td>i am 13 year old and just found out i am pregn...</td>\n",
       "      <td>i just found out that my ex got engaged i am n...</td>\n",
       "      <td>0</td>\n",
       "    </tr>\n",
       "    <tr>\n",
       "      <th>217878</th>\n",
       "      <td>217878</td>\n",
       "      <td>324344</td>\n",
       "      <td>324345</td>\n",
       "      <td>can the average listener discern the differenc...</td>\n",
       "      <td>audiophiles doe listening to mp3 at 320kbps is...</td>\n",
       "      <td>0</td>\n",
       "    </tr>\n",
       "    <tr>\n",
       "      <th>152351</th>\n",
       "      <td>152351</td>\n",
       "      <td>239371</td>\n",
       "      <td>239372</td>\n",
       "      <td>who is pawan tiwari</td>\n",
       "      <td>who is pawan</td>\n",
       "      <td>0</td>\n",
       "    </tr>\n",
       "    <tr>\n",
       "      <th>43267</th>\n",
       "      <td>43267</td>\n",
       "      <td>77849</td>\n",
       "      <td>77850</td>\n",
       "      <td>how do dermatologist remove skin tag</td>\n",
       "      <td>can a wart remover remove skin tag</td>\n",
       "      <td>0</td>\n",
       "    </tr>\n",
       "  </tbody>\n",
       "</table>\n",
       "</div>"
      ],
      "text/plain": [
       "            id  ...  is_duplicate\n",
       "160643  160643  ...             0\n",
       "63247    63247  ...             0\n",
       "217878  217878  ...             0\n",
       "152351  152351  ...             0\n",
       "43267    43267  ...             0\n",
       "\n",
       "[5 rows x 6 columns]"
      ]
     },
     "execution_count": 67,
     "metadata": {
      "tags": []
     },
     "output_type": "execute_result"
    }
   ],
   "source": [
    "import nltk\n",
    "from nltk.stem import WordNetLemmatizer \n",
    "nltk.download('wordnet')\n",
    "\n",
    "lemmatizer = WordNetLemmatizer() \n",
    "  \n",
    "df['question1'] = df['question1'].apply(lambda x : \" \".join([lemmatizer.lemmatize(word) for word in x.split()]))\n",
    "df['question2'] = df['question2'].apply(lambda x : \" \".join([lemmatizer.lemmatize(word) for word in x.split()]))\n",
    "df.head()"
   ]
  },
  {
   "cell_type": "markdown",
   "metadata": {
    "colab_type": "text",
    "id": "IZX4TNmkEcqZ"
   },
   "source": [
    "# Feature Extraction"
   ]
  },
  {
   "cell_type": "markdown",
   "metadata": {},
   "source": [
    "#### Calculate words_diff_q1_q2  = difference of the word counts between question1 and question2"
   ]
  },
  {
   "cell_type": "code",
   "execution_count": 0,
   "metadata": {
    "colab": {},
    "colab_type": "code",
    "id": "sMFpQV11Ecqc"
   },
   "outputs": [],
   "source": [
    "df['words_diff_q1_q2'] = abs(df['question1'].apply(lambda row: len(row.split(\" \"))) - df['question2'].apply(lambda row: len(row.split(\" \"))))"
   ]
  },
  {
   "cell_type": "markdown",
   "metadata": {},
   "source": [
    "#### Calculate word_common = count of unique words in question1 and question2"
   ]
  },
  {
   "cell_type": "code",
   "execution_count": 0,
   "metadata": {
    "colab": {},
    "colab_type": "code",
    "id": "Wkzkue37Ecqe"
   },
   "outputs": [],
   "source": [
    "def normalized_word_common(row):\n",
    "    w1 = set(map(lambda word: word.lower().strip(), row['question1'].split(\" \")))\n",
    "    w2 = set(map(lambda word: word.lower().strip(), row['question2'].split(\" \")))    \n",
    "    return len(w1 & w2)\n",
    "    \n",
    "df['word_common'] = df.apply(normalized_word_common, axis=1)"
   ]
  },
  {
   "cell_type": "markdown",
   "metadata": {},
   "source": [
    "#### Calculate word_total = total number of words in Question 1 + total number of words in Question 2"
   ]
  },
  {
   "cell_type": "code",
   "execution_count": 0,
   "metadata": {
    "colab": {},
    "colab_type": "code",
    "id": "KVpjUJgWEcqg"
   },
   "outputs": [],
   "source": [
    "def normalized_word_total(row):\n",
    "        w1 = set(map(lambda word: word.lower().strip(), row['question1'].split(\" \")))\n",
    "        w2 = set(map(lambda word: word.lower().strip(), row['question2'].split(\" \")))    \n",
    "        return (len(w1) + len(w2))\n",
    "    \n",
    "df['word_total'] = df.apply(normalized_word_total, axis=1)    "
   ]
  },
  {
   "cell_type": "markdown",
   "metadata": {},
   "source": [
    "#### Calculate word_share = word_common / word_total"
   ]
  },
  {
   "cell_type": "code",
   "execution_count": 0,
   "metadata": {
    "colab": {},
    "colab_type": "code",
    "id": "qMMDIvSHEcqi"
   },
   "outputs": [],
   "source": [
    "def normalized_word_share(row):\n",
    "        w1 = set(map(lambda word: word.lower().strip(), row['question1'].split(\" \")))\n",
    "        w2 = set(map(lambda word: word.lower().strip(), row['question2'].split(\" \")))    \n",
    "        return len(w1 & w2)/(len(w1) + len(w2))\n",
    "df['word_share'] = df.apply(normalized_word_share, axis=1)"
   ]
  },
  {
   "cell_type": "markdown",
   "metadata": {},
   "source": [
    "#### Vectorizing question1 and question2 and doing distance matrix computations"
   ]
  },
  {
   "cell_type": "code",
   "execution_count": 72,
   "metadata": {
    "colab": {
     "base_uri": "https://localhost:8080/",
     "height": 69
    },
    "colab_type": "code",
    "id": "PujmIf9f_0dW",
    "outputId": "67c10563-728b-43f8-b7ad-fcfa23a6e201"
   },
   "outputs": [
    {
     "name": "stderr",
     "output_type": "stream",
     "text": [
      "Using TensorFlow backend.\n",
      "/usr/local/lib/python3.6/dist-packages/scipy/spatial/distance.py:720: RuntimeWarning: invalid value encountered in double_scalars\n",
      "  dist = 1.0 - uv / np.sqrt(uu * vv)\n"
     ]
    }
   ],
   "source": [
    "from scipy.spatial.distance import cosine, cityblock, jaccard, canberra, euclidean, minkowski, braycurtis\n",
    "\n",
    "def convert(lst): \n",
    "    return (lst[0].split())\n",
    "\n",
    "from keras.preprocessing.sequence import pad_sequences\n",
    "from keras.preprocessing.text import Tokenizer\n",
    "\n",
    "q1_q2_vectors = {}\n",
    "\n",
    "def get_q1_q2_vectors(row):\n",
    "\n",
    "      if row['id'] not in q1_q2_vectors:\n",
    "          \n",
    "          vocab = set()\n",
    "          \n",
    "          q1_list = []\n",
    "          # print(type(q1_list))\n",
    "          q1_list.append(row['question1'].replace(\"\\n\", \" \"))          \n",
    "          vocab = vocab.union(set(convert(q1_list)))\n",
    "\n",
    "          q2_list = []\n",
    "          q2_list.append(row['question2'].replace(\"\\n\", \" \"))\n",
    "          vocab = vocab.union(set(convert(q2_list)))          \n",
    "\n",
    "          # integer encode sequences of words\n",
    "          tokenizer = Tokenizer(filters=[])\n",
    "          tokenizer.fit_on_texts(vocab)\n",
    "\n",
    "          q1_seq = tokenizer.texts_to_sequences(q1_list)\n",
    "          q2_seq = tokenizer.texts_to_sequences(q2_list)\n",
    "\n",
    "          PAD_LENGTH = len(q1_seq[0]) + len(q2_seq[0])\n",
    "          q1_seq_padded = pad_sequences(q1_seq, maxlen=PAD_LENGTH)\n",
    "          q2_seq_padded = pad_sequences(q2_seq, maxlen=PAD_LENGTH)\n",
    "\n",
    "          q1_seq_sorted = np.sort(q1_seq_padded[0])\n",
    "          q2_seq_sorted = np.sort(q2_seq_padded[0])\n",
    "\n",
    "          q1_q2_list = []\n",
    "          q1_q2_list.append(q1_seq_sorted)\n",
    "          q1_q2_list.append(q2_seq_sorted)\n",
    "\n",
    "          q1_q2_vectors[row['id']] = q1_q2_list\n",
    "\n",
    "      return q1_q2_vectors[row['id']][0], q1_q2_vectors[row['id']][1]\n",
    "\n",
    "def get_cosine_distance(row):\n",
    "  q1_q2_vectors = get_q1_q2_vectors(row)\n",
    "  return cosine(q1_q2_vectors[0], q1_q2_vectors[1])\n",
    "\n",
    "def get_cityblock_distance(row):\n",
    "  q1_q2_vectors = get_q1_q2_vectors(row)\n",
    "  return cityblock(q1_q2_vectors[0], q1_q2_vectors[1])\n",
    "\n",
    "def get_jaccard_distance(row):\n",
    "  q1_q2_vectors = get_q1_q2_vectors(row)\n",
    "  return jaccard(q1_q2_vectors[0], q1_q2_vectors[1])\n",
    "\n",
    "def get_canberra_distance(row):\n",
    "  q1_q2_vectors = get_q1_q2_vectors(row)\n",
    "  return canberra(q1_q2_vectors[0], q1_q2_vectors[1])\n",
    "\n",
    "def get_euclidean_distance(row):\n",
    "  q1_q2_vectors = get_q1_q2_vectors(row)\n",
    "  return euclidean(q1_q2_vectors[0], q1_q2_vectors[1])\n",
    "\n",
    "def get_minkowski_distance(row):\n",
    "  q1_q2_vectors = get_q1_q2_vectors(row)\n",
    "  return minkowski(q1_q2_vectors[0], q1_q2_vectors[1])\n",
    "\n",
    "def get_braycurtis_distance(row):\n",
    "  q1_q2_vectors = get_q1_q2_vectors(row)\n",
    "  return braycurtis(q1_q2_vectors[0], q1_q2_vectors[1])  \n",
    "\n",
    "df['cosine_distance'] = df.apply(get_cosine_distance, axis=1)  \n",
    "df['cityblock_distance'] = df.apply(get_cityblock_distance, axis=1)\n",
    "df['jaccard_distance'] = df.apply(get_jaccard_distance, axis=1)\n",
    "df['canberra_distance'] = df.apply(get_canberra_distance, axis=1)\n",
    "df['euclidean_distance'] = df.apply(get_euclidean_distance, axis=1)\n",
    "df['minkowski_distance'] = df.apply(get_minkowski_distance, axis=1)\n",
    "df['braycurtis_distance'] = df.apply(get_braycurtis_distance, axis=1)\n",
    "\n",
    "# Vectorizing using TfidfVectorizer\n",
    "q1_q1_vectors = {}\n",
    "\n",
    "from sklearn.feature_extraction.text import TfidfVectorizer\n",
    "def get_q1_q1_vectors_old(row):\n",
    "\n",
    "      if row['id'] not in q1_q1_vectors:\n",
    "          \n",
    "          tfidf_matrix_list =[]\n",
    "\n",
    "          documents = []\n",
    "          documents.append(row['question1'].replace(\"\\n\", \" \"))\n",
    "          documents.append(row['question2'].replace(\"\\n\", \" \"))\n",
    "          tfidf_vectorizer = TfidfVectorizer(max_features = 200)\n",
    "          tfidf_vectorizer.fit(documents) \n",
    "\n",
    "          documents = []\n",
    "          documents.append(row['question1'].replace(\"\\n\", \" \"))\n",
    "          tfidf_matrix_q1 = tfidf_vectorizer.transform(documents)  \n",
    "          tfidf_matrix_list.append(tfidf_matrix_q1)\n",
    "\n",
    "          documents = []\n",
    "          documents.append(row['question2'].replace(\"\\n\", \" \"))\n",
    "          tfidf_matrix_q2 = tfidf_vectorizer.transform(documents) \n",
    "          tfidf_matrix_list.append(tfidf_matrix_q2)\n",
    "\n",
    "          q1_q1_vectors[row['id']] = tfidf_matrix_list\n",
    "\n",
    "      return q1_q1_vectors[row['id']][0], q1_q1_vectors[row['id']][1]\n"
   ]
  },
  {
   "cell_type": "code",
   "execution_count": 73,
   "metadata": {
    "colab": {
     "base_uri": "https://localhost:8080/",
     "height": 512
    },
    "colab_type": "code",
    "id": "dap4c-P2Ecql",
    "outputId": "fa4df2c3-bd76-4564-a963-17545897a5d1"
   },
   "outputs": [
    {
     "data": {
      "text/html": [
       "<div>\n",
       "<style scoped>\n",
       "    .dataframe tbody tr th:only-of-type {\n",
       "        vertical-align: middle;\n",
       "    }\n",
       "\n",
       "    .dataframe tbody tr th {\n",
       "        vertical-align: top;\n",
       "    }\n",
       "\n",
       "    .dataframe thead th {\n",
       "        text-align: right;\n",
       "    }\n",
       "</style>\n",
       "<table border=\"1\" class=\"dataframe\">\n",
       "  <thead>\n",
       "    <tr style=\"text-align: right;\">\n",
       "      <th></th>\n",
       "      <th>id</th>\n",
       "      <th>qid1</th>\n",
       "      <th>qid2</th>\n",
       "      <th>question1</th>\n",
       "      <th>question2</th>\n",
       "      <th>is_duplicate</th>\n",
       "      <th>words_diff_q1_q2</th>\n",
       "      <th>word_Common</th>\n",
       "      <th>word_Total</th>\n",
       "      <th>word_share</th>\n",
       "      <th>cosine_distance</th>\n",
       "      <th>cityblock_distance</th>\n",
       "      <th>jaccard_distance</th>\n",
       "      <th>canberra_distance</th>\n",
       "      <th>euclidean_distance</th>\n",
       "      <th>minkowski_distance</th>\n",
       "      <th>braycurtis_distance</th>\n",
       "    </tr>\n",
       "  </thead>\n",
       "  <tbody>\n",
       "    <tr>\n",
       "      <th>160643</th>\n",
       "      <td>160643</td>\n",
       "      <td>250488</td>\n",
       "      <td>250489</td>\n",
       "      <td>is it okay to have nocturnal emission when sle...</td>\n",
       "      <td>why do i need to sleep 10 hour to be okay</td>\n",
       "      <td>0</td>\n",
       "      <td>6</td>\n",
       "      <td>2</td>\n",
       "      <td>26</td>\n",
       "      <td>0.076923</td>\n",
       "      <td>0.091091</td>\n",
       "      <td>130</td>\n",
       "      <td>1.000000</td>\n",
       "      <td>10.417285</td>\n",
       "      <td>33.346664</td>\n",
       "      <td>33.346664</td>\n",
       "      <td>0.389222</td>\n",
       "    </tr>\n",
       "    <tr>\n",
       "      <th>63247</th>\n",
       "      <td>63247</td>\n",
       "      <td>110101</td>\n",
       "      <td>110102</td>\n",
       "      <td>i am 13 year old and just found out i am pregn...</td>\n",
       "      <td>i just found out that my ex got engaged i am n...</td>\n",
       "      <td>0</td>\n",
       "      <td>4</td>\n",
       "      <td>7</td>\n",
       "      <td>29</td>\n",
       "      <td>0.241379</td>\n",
       "      <td>0.009760</td>\n",
       "      <td>31</td>\n",
       "      <td>0.800000</td>\n",
       "      <td>5.206282</td>\n",
       "      <td>8.888194</td>\n",
       "      <td>8.888194</td>\n",
       "      <td>0.068433</td>\n",
       "    </tr>\n",
       "    <tr>\n",
       "      <th>217878</th>\n",
       "      <td>217878</td>\n",
       "      <td>324344</td>\n",
       "      <td>324345</td>\n",
       "      <td>can the average listener discern the differenc...</td>\n",
       "      <td>audiophiles doe listening to mp3 at 320kbps is...</td>\n",
       "      <td>0</td>\n",
       "      <td>3</td>\n",
       "      <td>2</td>\n",
       "      <td>26</td>\n",
       "      <td>0.076923</td>\n",
       "      <td>0.015462</td>\n",
       "      <td>31</td>\n",
       "      <td>0.866667</td>\n",
       "      <td>4.285619</td>\n",
       "      <td>9.539392</td>\n",
       "      <td>9.539392</td>\n",
       "      <td>0.088319</td>\n",
       "    </tr>\n",
       "    <tr>\n",
       "      <th>152351</th>\n",
       "      <td>152351</td>\n",
       "      <td>239371</td>\n",
       "      <td>239372</td>\n",
       "      <td>who is pawan tiwari</td>\n",
       "      <td>who is pawan</td>\n",
       "      <td>0</td>\n",
       "      <td>1</td>\n",
       "      <td>3</td>\n",
       "      <td>7</td>\n",
       "      <td>0.428571</td>\n",
       "      <td>0.033245</td>\n",
       "      <td>2</td>\n",
       "      <td>0.500000</td>\n",
       "      <td>1.333333</td>\n",
       "      <td>1.414214</td>\n",
       "      <td>1.414214</td>\n",
       "      <td>0.111111</td>\n",
       "    </tr>\n",
       "    <tr>\n",
       "      <th>43267</th>\n",
       "      <td>43267</td>\n",
       "      <td>77849</td>\n",
       "      <td>77850</td>\n",
       "      <td>how do dermatologist remove skin tag</td>\n",
       "      <td>can a wart remover remove skin tag</td>\n",
       "      <td>0</td>\n",
       "      <td>1</td>\n",
       "      <td>3</td>\n",
       "      <td>13</td>\n",
       "      <td>0.230769</td>\n",
       "      <td>0.021097</td>\n",
       "      <td>9</td>\n",
       "      <td>0.714286</td>\n",
       "      <td>1.933333</td>\n",
       "      <td>4.123106</td>\n",
       "      <td>4.123106</td>\n",
       "      <td>0.111111</td>\n",
       "    </tr>\n",
       "  </tbody>\n",
       "</table>\n",
       "</div>"
      ],
      "text/plain": [
       "            id    qid1  ...  minkowski_distance braycurtis_distance\n",
       "160643  160643  250488  ...           33.346664            0.389222\n",
       "63247    63247  110101  ...            8.888194            0.068433\n",
       "217878  217878  324344  ...            9.539392            0.088319\n",
       "152351  152351  239371  ...            1.414214            0.111111\n",
       "43267    43267   77849  ...            4.123106            0.111111\n",
       "\n",
       "[5 rows x 17 columns]"
      ]
     },
     "execution_count": 73,
     "metadata": {
      "tags": []
     },
     "output_type": "execute_result"
    }
   ],
   "source": [
    "df[df.is_duplicate == 0].head()"
   ]
  },
  {
   "cell_type": "markdown",
   "metadata": {},
   "source": [
    "#### FuzzyWuzzy \n",
    "FuzzyWuzzy is a library of Python which is used for string matching. \n",
    "Fuzzy string matching is the process of finding strings that match a given pattern. \n",
    "Basically it uses Levenshtein Distance to calculate the differences between sequences."
   ]
  },
  {
   "cell_type": "code",
   "execution_count": 74,
   "metadata": {
    "colab": {
     "base_uri": "https://localhost:8080/",
     "height": 296
    },
    "colab_type": "code",
    "id": "9zzsuWkRGEbq",
    "outputId": "c5d2d589-2afe-4558-ab77-f9a6cc9ffbef"
   },
   "outputs": [
    {
     "name": "stdout",
     "output_type": "stream",
     "text": [
      "Collecting fuzzywuzzy\n",
      "  Downloading https://files.pythonhosted.org/packages/43/ff/74f23998ad2f93b945c0309f825be92e04e0348e062026998b5eefef4c33/fuzzywuzzy-0.18.0-py2.py3-none-any.whl\n",
      "Installing collected packages: fuzzywuzzy\n",
      "Successfully installed fuzzywuzzy-0.18.0\n",
      "Collecting python-Levenshtein\n",
      "\u001b[?25l  Downloading https://files.pythonhosted.org/packages/42/a9/d1785c85ebf9b7dfacd08938dd028209c34a0ea3b1bcdb895208bd40a67d/python-Levenshtein-0.12.0.tar.gz (48kB)\n",
      "\u001b[K     |████████████████████████████████| 51kB 3.8MB/s \n",
      "\u001b[?25hRequirement already satisfied: setuptools in /usr/local/lib/python3.6/dist-packages (from python-Levenshtein) (46.1.3)\n",
      "Building wheels for collected packages: python-Levenshtein\n",
      "  Building wheel for python-Levenshtein (setup.py) ... \u001b[?25l\u001b[?25hdone\n",
      "  Created wheel for python-Levenshtein: filename=python_Levenshtein-0.12.0-cp36-cp36m-linux_x86_64.whl size=144790 sha256=d9edfcbda5b7188b3a92a43f2a8335e178cc8cad44a842208e69b5cafc9f0ef9\n",
      "  Stored in directory: /root/.cache/pip/wheels/de/c2/93/660fd5f7559049268ad2dc6d81c4e39e9e36518766eaf7e342\n",
      "Successfully built python-Levenshtein\n",
      "Installing collected packages: python-Levenshtein\n",
      "Successfully installed python-Levenshtein-0.12.0\n"
     ]
    }
   ],
   "source": [
    "!pip install fuzzywuzzy\n",
    "!pip install python-Levenshtein\n",
    "from fuzzywuzzy import fuzz\n",
    "\n",
    "df['fuzz_qratio'] = df.apply(lambda x: fuzz.QRatio(str(x['question1']), str(x['question2'])), axis=1)\n",
    "df['fuzz_WRatio'] = df.apply(lambda x: fuzz.WRatio(str(x['question1']), str(x['question2'])), axis=1)\n",
    "df['fuzz_partial_ratio'] = df.apply(lambda x: fuzz.partial_ratio(str(x['question1']), str(x['question2'])), axis=1)\n",
    "df['fuzz_partial_token_set_ratio'] = df.apply(lambda x: fuzz.partial_token_set_ratio(str(x['question1']), str(x['question2'])), axis=1)\n",
    "df['fuzz_partial_token_sort_ratio'] = df.apply(lambda x: fuzz.partial_token_sort_ratio(str(x['question1']), str(x['question2'])), axis=1)\n",
    "df['fuzz_token_set_ratio'] = df.apply(lambda x: fuzz.token_set_ratio(str(x['question1']), str(x['question2'])), axis=1)\n",
    "df['fuzz_token_sort_ratio'] = df.apply(lambda x: fuzz.token_sort_ratio(str(x['question1']), str(x['question2'])), axis=1)"
   ]
  },
  {
   "cell_type": "markdown",
   "metadata": {},
   "source": [
    "#### N-grams\n",
    "A combination of multiple words together are called N-Grams. N grams (N > 1) are generally more informative as compared to words, and can be used as features for language modelling.  N-grams can be easily accessed in TextBlob using the ngrams function, which returns a tuple of n successive words.\n",
    "\n",
    "Here I'm calculating the bigrams and trigrams for question1 and question2 and comparing how many bigrams/trigrams match. I am, thus, generating 2 new features common_bigrams and common_trigrams.\n"
   ]
  },
  {
   "cell_type": "code",
   "execution_count": 75,
   "metadata": {
    "colab": {
     "base_uri": "https://localhost:8080/",
     "height": 52
    },
    "colab_type": "code",
    "id": "TdmlhT6cSqoW",
    "outputId": "dda41317-48a9-4cb8-8edd-954ea6384beb"
   },
   "outputs": [
    {
     "name": "stdout",
     "output_type": "stream",
     "text": [
      "[nltk_data] Downloading package punkt to /root/nltk_data...\n",
      "[nltk_data]   Unzipping tokenizers/punkt.zip.\n"
     ]
    }
   ],
   "source": [
    "# Generating N-grams\n",
    "# Generate bigrams for every q1 and q2 and count the common bigrams.\n",
    "# Generate trigrams for every q1 and q2 and count the common trigrams.\n",
    "\n",
    "import nltk\n",
    "nltk.download('punkt')\n",
    "# nltk.download('wordnet')\n",
    "from textblob import TextBlob, Word\n",
    "\n",
    "def get_common_bigrams_count(row):\n",
    "  q1_bigrams = TextBlob(row['question1'].replace(\"\\n\", \" \")).ngrams(2)\n",
    "  q2_bigrams = TextBlob(row['question2'].replace(\"\\n\", \" \")).ngrams(2)\n",
    "\n",
    "  common=[]\n",
    "  for bigrams in q1_bigrams:\n",
    "      if bigrams in q2_bigrams:\n",
    "        common.append(bigrams)\n",
    "\n",
    "  return len(common)\n",
    "\n",
    "def get_common_trigrams_count(row):\n",
    "  q1_trigrams = TextBlob(row['question1'].replace(\"\\n\", \" \")).ngrams(3)\n",
    "  q2_trigrams = TextBlob(row['question2'].replace(\"\\n\", \" \")).ngrams(3)\n",
    "\n",
    "  common=[]\n",
    "  for trigrams in q1_trigrams:\n",
    "      if trigrams in q2_trigrams:\n",
    "        common.append(trigrams)\n",
    "\n",
    "  return len(common)\n",
    "\n",
    "df['common_bigrams'] = df.apply(get_common_bigrams_count, axis=1)\n",
    "df['common_trigrams'] = df.apply(get_common_trigrams_count, axis=1)"
   ]
  },
  {
   "cell_type": "markdown",
   "metadata": {},
   "source": [
    "#### Readability Score\n",
    "This library measures the readability of a given text using measures that are basically linear regressions based on the number of words, syllables, and sentences.\n",
    "\n",
    "Here I'm calculating the readability scores of question1 and question2 to generate 2 new features."
   ]
  },
  {
   "cell_type": "code",
   "execution_count": 76,
   "metadata": {
    "colab": {
     "base_uri": "https://localhost:8080/",
     "height": 210
    },
    "colab_type": "code",
    "id": "c3kjR3e6_ZFI",
    "outputId": "10e8328d-c33c-4460-e1f8-508d2987d380"
   },
   "outputs": [
    {
     "name": "stdout",
     "output_type": "stream",
     "text": [
      "Collecting https://github.com/andreasvc/readability/tarball/master\n",
      "\u001b[?25l  Downloading https://github.com/andreasvc/readability/tarball/master\n",
      "\u001b[K     - 51kB 605kB/s\n",
      "\u001b[?25hBuilding wheels for collected packages: readability\n",
      "  Building wheel for readability (setup.py) ... \u001b[?25l\u001b[?25hdone\n",
      "  Created wheel for readability: filename=readability-0.3.1-cp36-none-any.whl size=35616 sha256=66bdc58155a79876fadad86c02eca53e295e9ee7c53e9008c5ecd120c89407ee\n",
      "  Stored in directory: /tmp/pip-ephem-wheel-cache-wvza9ngo/wheels/fa/99/d3/0ba1fbb692dcb69d39d28d13456b559b2e6f4cbba1560814be\n",
      "Successfully built readability\n",
      "Installing collected packages: readability\n",
      "Successfully installed readability-0.3.1\n"
     ]
    }
   ],
   "source": [
    "!pip install https://github.com/andreasvc/readability/tarball/master\n",
    "import readability\n",
    "def get_q1_readability_score(row):\n",
    "  text = row['question1']\n",
    "  try:\n",
    "    results = readability.getmeasures(text, lang='en')\n",
    "  except:\n",
    "    return 0.00\n",
    "  return results['readability grades']['FleschReadingEase']\n",
    "\n",
    "def get_q2_readability_score(row):\n",
    "  text = row['question2']\n",
    "  try:\n",
    "    results = readability.getmeasures(text, lang='en')\n",
    "  except:\n",
    "    return 0.00\n",
    "  return results['readability grades']['FleschReadingEase']\n",
    "\n",
    "df['q1_readability_score'] = df.apply(get_q1_readability_score, axis=1)\n",
    "df['q2_readability_score'] = df.apply(get_q2_readability_score, axis=1)"
   ]
  },
  {
   "cell_type": "code",
   "execution_count": 77,
   "metadata": {
    "colab": {
     "base_uri": "https://localhost:8080/",
     "height": 529
    },
    "colab_type": "code",
    "id": "1dmAs2t7H786",
    "outputId": "d3d31d08-1bd8-4b0a-ffb2-db4c93eb3e7c"
   },
   "outputs": [
    {
     "data": {
      "text/html": [
       "<div>\n",
       "<style scoped>\n",
       "    .dataframe tbody tr th:only-of-type {\n",
       "        vertical-align: middle;\n",
       "    }\n",
       "\n",
       "    .dataframe tbody tr th {\n",
       "        vertical-align: top;\n",
       "    }\n",
       "\n",
       "    .dataframe thead th {\n",
       "        text-align: right;\n",
       "    }\n",
       "</style>\n",
       "<table border=\"1\" class=\"dataframe\">\n",
       "  <thead>\n",
       "    <tr style=\"text-align: right;\">\n",
       "      <th></th>\n",
       "      <th>id</th>\n",
       "      <th>qid1</th>\n",
       "      <th>qid2</th>\n",
       "      <th>question1</th>\n",
       "      <th>question2</th>\n",
       "      <th>is_duplicate</th>\n",
       "      <th>words_diff_q1_q2</th>\n",
       "      <th>word_Common</th>\n",
       "      <th>word_Total</th>\n",
       "      <th>word_share</th>\n",
       "      <th>cosine_distance</th>\n",
       "      <th>cityblock_distance</th>\n",
       "      <th>jaccard_distance</th>\n",
       "      <th>canberra_distance</th>\n",
       "      <th>euclidean_distance</th>\n",
       "      <th>minkowski_distance</th>\n",
       "      <th>braycurtis_distance</th>\n",
       "      <th>fuzz_qratio</th>\n",
       "      <th>fuzz_WRatio</th>\n",
       "      <th>fuzz_partial_ratio</th>\n",
       "      <th>fuzz_partial_token_set_ratio</th>\n",
       "      <th>fuzz_partial_token_sort_ratio</th>\n",
       "      <th>fuzz_token_set_ratio</th>\n",
       "      <th>fuzz_token_sort_ratio</th>\n",
       "      <th>common_bigrams</th>\n",
       "      <th>common_trigrams</th>\n",
       "      <th>q1_readability_score</th>\n",
       "      <th>q2_readability_score</th>\n",
       "    </tr>\n",
       "  </thead>\n",
       "  <tbody>\n",
       "    <tr>\n",
       "      <th>124487</th>\n",
       "      <td>124487</td>\n",
       "      <td>201014</td>\n",
       "      <td>201015</td>\n",
       "      <td>if we had another civil war and it wa north ve...</td>\n",
       "      <td>if there wa another u civil war north v south ...</td>\n",
       "      <td>1</td>\n",
       "      <td>0</td>\n",
       "      <td>10</td>\n",
       "      <td>32</td>\n",
       "      <td>0.312500</td>\n",
       "      <td>0.005388</td>\n",
       "      <td>18</td>\n",
       "      <td>0.750000</td>\n",
       "      <td>1.437717</td>\n",
       "      <td>5.477226</td>\n",
       "      <td>5.477226</td>\n",
       "      <td>0.048913</td>\n",
       "      <td>69</td>\n",
       "      <td>78</td>\n",
       "      <td>66</td>\n",
       "      <td>100</td>\n",
       "      <td>75</td>\n",
       "      <td>82</td>\n",
       "      <td>80</td>\n",
       "      <td>2</td>\n",
       "      <td>0</td>\n",
       "      <td>90.132500</td>\n",
       "      <td>95.420000</td>\n",
       "    </tr>\n",
       "    <tr>\n",
       "      <th>347493</th>\n",
       "      <td>347493</td>\n",
       "      <td>355621</td>\n",
       "      <td>153843</td>\n",
       "      <td>how do i catch a pathetic liar</td>\n",
       "      <td>how do you catch a liar</td>\n",
       "      <td>1</td>\n",
       "      <td>1</td>\n",
       "      <td>5</td>\n",
       "      <td>13</td>\n",
       "      <td>0.384615</td>\n",
       "      <td>0.004923</td>\n",
       "      <td>10</td>\n",
       "      <td>1.000000</td>\n",
       "      <td>2.185714</td>\n",
       "      <td>4.000000</td>\n",
       "      <td>4.000000</td>\n",
       "      <td>0.192308</td>\n",
       "      <td>75</td>\n",
       "      <td>86</td>\n",
       "      <td>74</td>\n",
       "      <td>100</td>\n",
       "      <td>87</td>\n",
       "      <td>90</td>\n",
       "      <td>75</td>\n",
       "      <td>2</td>\n",
       "      <td>0</td>\n",
       "      <td>78.872857</td>\n",
       "      <td>102.045000</td>\n",
       "    </tr>\n",
       "    <tr>\n",
       "      <th>262446</th>\n",
       "      <td>262446</td>\n",
       "      <td>14670</td>\n",
       "      <td>10473</td>\n",
       "      <td>how do we time travel</td>\n",
       "      <td>is it possible to time travel to past</td>\n",
       "      <td>1</td>\n",
       "      <td>3</td>\n",
       "      <td>2</td>\n",
       "      <td>12</td>\n",
       "      <td>0.166667</td>\n",
       "      <td>0.098298</td>\n",
       "      <td>32</td>\n",
       "      <td>1.000000</td>\n",
       "      <td>5.073593</td>\n",
       "      <td>12.247449</td>\n",
       "      <td>12.247449</td>\n",
       "      <td>0.457143</td>\n",
       "      <td>52</td>\n",
       "      <td>86</td>\n",
       "      <td>67</td>\n",
       "      <td>100</td>\n",
       "      <td>62</td>\n",
       "      <td>69</td>\n",
       "      <td>48</td>\n",
       "      <td>1</td>\n",
       "      <td>0</td>\n",
       "      <td>117.160000</td>\n",
       "      <td>82.390000</td>\n",
       "    </tr>\n",
       "    <tr>\n",
       "      <th>173096</th>\n",
       "      <td>173096</td>\n",
       "      <td>99958</td>\n",
       "      <td>141193</td>\n",
       "      <td>how do you reduce your sex drive</td>\n",
       "      <td>how do i reduce sex drive</td>\n",
       "      <td>1</td>\n",
       "      <td>1</td>\n",
       "      <td>5</td>\n",
       "      <td>13</td>\n",
       "      <td>0.384615</td>\n",
       "      <td>0.015419</td>\n",
       "      <td>6</td>\n",
       "      <td>0.857143</td>\n",
       "      <td>1.812277</td>\n",
       "      <td>2.449490</td>\n",
       "      <td>2.449490</td>\n",
       "      <td>0.103448</td>\n",
       "      <td>84</td>\n",
       "      <td>91</td>\n",
       "      <td>72</td>\n",
       "      <td>100</td>\n",
       "      <td>92</td>\n",
       "      <td>96</td>\n",
       "      <td>81</td>\n",
       "      <td>2</td>\n",
       "      <td>0</td>\n",
       "      <td>103.044286</td>\n",
       "      <td>102.045000</td>\n",
       "    </tr>\n",
       "    <tr>\n",
       "      <th>228003</th>\n",
       "      <td>228003</td>\n",
       "      <td>336966</td>\n",
       "      <td>336967</td>\n",
       "      <td>are there any game which teacher can play in f...</td>\n",
       "      <td>what are some amazing teacher day game</td>\n",
       "      <td>1</td>\n",
       "      <td>12</td>\n",
       "      <td>4</td>\n",
       "      <td>24</td>\n",
       "      <td>0.166667</td>\n",
       "      <td>0.150083</td>\n",
       "      <td>103</td>\n",
       "      <td>1.000000</td>\n",
       "      <td>13.558946</td>\n",
       "      <td>26.476405</td>\n",
       "      <td>26.476405</td>\n",
       "      <td>0.403922</td>\n",
       "      <td>44</td>\n",
       "      <td>86</td>\n",
       "      <td>55</td>\n",
       "      <td>100</td>\n",
       "      <td>55</td>\n",
       "      <td>69</td>\n",
       "      <td>45</td>\n",
       "      <td>1</td>\n",
       "      <td>0</td>\n",
       "      <td>85.139474</td>\n",
       "      <td>78.872857</td>\n",
       "    </tr>\n",
       "  </tbody>\n",
       "</table>\n",
       "</div>"
      ],
      "text/plain": [
       "            id    qid1  ...  q1_readability_score q2_readability_score\n",
       "124487  124487  201014  ...             90.132500            95.420000\n",
       "347493  347493  355621  ...             78.872857           102.045000\n",
       "262446  262446   14670  ...            117.160000            82.390000\n",
       "173096  173096   99958  ...            103.044286           102.045000\n",
       "228003  228003  336966  ...             85.139474            78.872857\n",
       "\n",
       "[5 rows x 28 columns]"
      ]
     },
     "execution_count": 77,
     "metadata": {
      "tags": []
     },
     "output_type": "execute_result"
    }
   ],
   "source": [
    "df[df.is_duplicate == 1].head()"
   ]
  },
  {
   "cell_type": "markdown",
   "metadata": {},
   "source": [
    "#### Word2Vec\n",
    "A word embedding is a class of approaches for representing words and documents using a dense vector representation. It is an improvement over more the traditional bag-of-words model encoding schemes where large sparse vectors were used to represent each word or to score each word within a vector to represent an entire vocabulary. These representations were sparse because the vocabularies were vast and a given word or document would be represented by a large vector comprised mostly of zero values.\n",
    "Two popular examples of methods of learning word embeddings from text are : Word2Vec and GloVe\n",
    "\n",
    "Here using Word2Vec, I'm calculating the similarity scores of q1 and q2 against and capturing the similarity score difference in the column word_2_vec_diff. The logic is that the more similar the questions, the closer the word_2_vec_diff value would be to 0."
   ]
  },
  {
   "cell_type": "code",
   "execution_count": 78,
   "metadata": {
    "colab": {
     "base_uri": "https://localhost:8080/",
     "height": 72
    },
    "colab_type": "code",
    "id": "PRBMo91r9jRL",
    "outputId": "11d28ed9-01f6-4396-aa59-f0222ce76d2b"
   },
   "outputs": [
    {
     "name": "stderr",
     "output_type": "stream",
     "text": [
      "/usr/local/lib/python3.6/dist-packages/smart_open/smart_open_lib.py:253: UserWarning: This function is deprecated, use smart_open.open instead. See the migration notes for details: https://github.com/RaRe-Technologies/smart_open/blob/master/README.rst#migrating-to-the-new-open-function\n",
      "  'See the migration notes for details: %s' % _MIGRATION_NOTES_URL\n"
     ]
    }
   ],
   "source": [
    "from gensim.models import KeyedVectors\n",
    "\n",
    "filename = 'drive/My Drive/Colab Notebooks/GoogleNews-vectors-negative300.bin'\n",
    "model = KeyedVectors.load_word2vec_format(filename, binary=True)"
   ]
  },
  {
   "cell_type": "code",
   "execution_count": 97,
   "metadata": {
    "colab": {
     "base_uri": "https://localhost:8080/",
     "height": 72
    },
    "colab_type": "code",
    "id": "qsh1AUauBK_L",
    "outputId": "cd8ceea8-4e2d-4b92-cada-7a76170ab587"
   },
   "outputs": [
    {
     "name": "stderr",
     "output_type": "stream",
     "text": [
      "/usr/local/lib/python3.6/dist-packages/gensim/matutils.py:737: FutureWarning: Conversion of the second argument of issubdtype from `int` to `np.signedinteger` is deprecated. In future, it will be treated as `np.int64 == np.dtype(int).type`.\n",
      "  if np.issubdtype(vec.dtype, np.int):\n"
     ]
    }
   ],
   "source": [
    "from keras.preprocessing.text import text_to_word_sequence\n",
    "\n",
    "\n",
    "def get_word2vec_similarity_score(row):    \n",
    "  \n",
    "  q1_tokens = text_to_word_sequence(row['question1'])\n",
    "  # q1_tokens = [w for w in q1_tokens if not w in stop_words] \n",
    "  q1_tokens = [w for w in q1_tokens if w in model.vocab] \n",
    "  \n",
    "  q2_tokens = text_to_word_sequence(row['question2'])\n",
    "  # q2_tokens = [w for w in q2_tokens if not w in stop_words] \n",
    "  q2_tokens = [w for w in q2_tokens if w in model.vocab] \n",
    "  \n",
    "\n",
    "  try:\n",
    "    q1_similarity_score = model.most_similar(positive=q1_tokens, topn=1)\n",
    "    q2_similarity_score = model.most_similar(positive=q2_tokens, topn=1)\n",
    "  except:\n",
    "    return 999\n",
    "\n",
    "  return abs(q1_similarity_score[0][1] - q2_similarity_score[0][1])\n",
    "\n",
    "\n",
    "df['word_2_vec_diff'] = df.apply(get_word2vec_similarity_score, axis=1)\n"
   ]
  },
  {
   "cell_type": "code",
   "execution_count": 0,
   "metadata": {
    "colab": {},
    "colab_type": "code",
    "id": "Nl-tbWniQhgp"
   },
   "outputs": [],
   "source": [
    "# Save the dataframe as a pickle file\n",
    "import pickle\n",
    "df.to_pickle(\"drive/My Drive/Colab Notebooks/CapstoneProject/df_quora_10000_feat.pkl\")"
   ]
  },
  {
   "cell_type": "markdown",
   "metadata": {
    "colab_type": "text",
    "id": "j9Fbr6lXfEuC"
   },
   "source": [
    "# Model Building and Predicting"
   ]
  },
  {
   "cell_type": "code",
   "execution_count": 0,
   "metadata": {
    "colab": {},
    "colab_type": "code",
    "id": "4eVY7oIeZIzO"
   },
   "outputs": [],
   "source": [
    "# Open the pickle file and save it as dataframe\n",
    "import pickle\n",
    "df = pd.read_pickle(\"drive/My Drive/Colab Notebooks/CapstoneProject/df_quora_10000_feat.pkl\")"
   ]
  },
  {
   "cell_type": "code",
   "execution_count": 100,
   "metadata": {
    "colab": {
     "base_uri": "https://localhost:8080/",
     "height": 218
    },
    "colab_type": "code",
    "id": "bVcWtsAkEcqp",
    "outputId": "994855ff-84c6-468a-a13c-fa67e7d98f2b"
   },
   "outputs": [
    {
     "data": {
      "text/html": [
       "<div>\n",
       "<style scoped>\n",
       "    .dataframe tbody tr th:only-of-type {\n",
       "        vertical-align: middle;\n",
       "    }\n",
       "\n",
       "    .dataframe tbody tr th {\n",
       "        vertical-align: top;\n",
       "    }\n",
       "\n",
       "    .dataframe thead th {\n",
       "        text-align: right;\n",
       "    }\n",
       "</style>\n",
       "<table border=\"1\" class=\"dataframe\">\n",
       "  <thead>\n",
       "    <tr style=\"text-align: right;\">\n",
       "      <th></th>\n",
       "      <th>word_2_vec_diff</th>\n",
       "      <th>words_diff_q1_q2</th>\n",
       "      <th>word_Common</th>\n",
       "      <th>word_Total</th>\n",
       "      <th>word_share</th>\n",
       "      <th>cosine_distance</th>\n",
       "      <th>cityblock_distance</th>\n",
       "      <th>jaccard_distance</th>\n",
       "      <th>canberra_distance</th>\n",
       "      <th>euclidean_distance</th>\n",
       "      <th>minkowski_distance</th>\n",
       "      <th>braycurtis_distance</th>\n",
       "      <th>fuzz_qratio</th>\n",
       "      <th>fuzz_WRatio</th>\n",
       "      <th>fuzz_partial_ratio</th>\n",
       "      <th>fuzz_partial_token_set_ratio</th>\n",
       "      <th>fuzz_partial_token_sort_ratio</th>\n",
       "      <th>fuzz_token_set_ratio</th>\n",
       "      <th>fuzz_token_sort_ratio</th>\n",
       "      <th>common_bigrams</th>\n",
       "      <th>common_trigrams</th>\n",
       "      <th>q1_readability_score</th>\n",
       "      <th>q2_readability_score</th>\n",
       "    </tr>\n",
       "  </thead>\n",
       "  <tbody>\n",
       "    <tr>\n",
       "      <th>160643</th>\n",
       "      <td>0.018439</td>\n",
       "      <td>6</td>\n",
       "      <td>2</td>\n",
       "      <td>26</td>\n",
       "      <td>0.076923</td>\n",
       "      <td>0.091091</td>\n",
       "      <td>130</td>\n",
       "      <td>1.000000</td>\n",
       "      <td>10.417285</td>\n",
       "      <td>33.346664</td>\n",
       "      <td>33.346664</td>\n",
       "      <td>0.389222</td>\n",
       "      <td>36</td>\n",
       "      <td>86</td>\n",
       "      <td>41</td>\n",
       "      <td>100</td>\n",
       "      <td>54</td>\n",
       "      <td>42</td>\n",
       "      <td>40</td>\n",
       "      <td>0</td>\n",
       "      <td>0</td>\n",
       "      <td>60.191765</td>\n",
       "      <td>118.760909</td>\n",
       "    </tr>\n",
       "    <tr>\n",
       "      <th>63247</th>\n",
       "      <td>0.019549</td>\n",
       "      <td>4</td>\n",
       "      <td>7</td>\n",
       "      <td>29</td>\n",
       "      <td>0.241379</td>\n",
       "      <td>0.009760</td>\n",
       "      <td>31</td>\n",
       "      <td>0.800000</td>\n",
       "      <td>5.206282</td>\n",
       "      <td>8.888194</td>\n",
       "      <td>8.888194</td>\n",
       "      <td>0.068433</td>\n",
       "      <td>55</td>\n",
       "      <td>65</td>\n",
       "      <td>52</td>\n",
       "      <td>100</td>\n",
       "      <td>63</td>\n",
       "      <td>68</td>\n",
       "      <td>61</td>\n",
       "      <td>7</td>\n",
       "      <td>3</td>\n",
       "      <td>105.995000</td>\n",
       "      <td>85.015000</td>\n",
       "    </tr>\n",
       "    <tr>\n",
       "      <th>217878</th>\n",
       "      <td>0.046880</td>\n",
       "      <td>3</td>\n",
       "      <td>2</td>\n",
       "      <td>26</td>\n",
       "      <td>0.076923</td>\n",
       "      <td>0.015462</td>\n",
       "      <td>31</td>\n",
       "      <td>0.866667</td>\n",
       "      <td>4.285619</td>\n",
       "      <td>9.539392</td>\n",
       "      <td>9.539392</td>\n",
       "      <td>0.088319</td>\n",
       "      <td>41</td>\n",
       "      <td>46</td>\n",
       "      <td>46</td>\n",
       "      <td>100</td>\n",
       "      <td>50</td>\n",
       "      <td>48</td>\n",
       "      <td>48</td>\n",
       "      <td>0</td>\n",
       "      <td>0</td>\n",
       "      <td>81.855000</td>\n",
       "      <td>44.970000</td>\n",
       "    </tr>\n",
       "    <tr>\n",
       "      <th>152351</th>\n",
       "      <td>0.014585</td>\n",
       "      <td>1</td>\n",
       "      <td>3</td>\n",
       "      <td>7</td>\n",
       "      <td>0.428571</td>\n",
       "      <td>0.033245</td>\n",
       "      <td>2</td>\n",
       "      <td>0.500000</td>\n",
       "      <td>1.333333</td>\n",
       "      <td>1.414214</td>\n",
       "      <td>1.414214</td>\n",
       "      <td>0.111111</td>\n",
       "      <td>77</td>\n",
       "      <td>90</td>\n",
       "      <td>100</td>\n",
       "      <td>100</td>\n",
       "      <td>83</td>\n",
       "      <td>100</td>\n",
       "      <td>77</td>\n",
       "      <td>2</td>\n",
       "      <td>1</td>\n",
       "      <td>54.725000</td>\n",
       "      <td>90.990000</td>\n",
       "    </tr>\n",
       "    <tr>\n",
       "      <th>43267</th>\n",
       "      <td>0.004398</td>\n",
       "      <td>1</td>\n",
       "      <td>3</td>\n",
       "      <td>13</td>\n",
       "      <td>0.230769</td>\n",
       "      <td>0.021097</td>\n",
       "      <td>9</td>\n",
       "      <td>0.714286</td>\n",
       "      <td>1.933333</td>\n",
       "      <td>4.123106</td>\n",
       "      <td>4.123106</td>\n",
       "      <td>0.111111</td>\n",
       "      <td>60</td>\n",
       "      <td>60</td>\n",
       "      <td>62</td>\n",
       "      <td>100</td>\n",
       "      <td>61</td>\n",
       "      <td>61</td>\n",
       "      <td>57</td>\n",
       "      <td>2</td>\n",
       "      <td>1</td>\n",
       "      <td>45.645000</td>\n",
       "      <td>78.872857</td>\n",
       "    </tr>\n",
       "  </tbody>\n",
       "</table>\n",
       "</div>"
      ],
      "text/plain": [
       "        word_2_vec_diff  ...  q2_readability_score\n",
       "160643         0.018439  ...            118.760909\n",
       "63247          0.019549  ...             85.015000\n",
       "217878         0.046880  ...             44.970000\n",
       "152351         0.014585  ...             90.990000\n",
       "43267          0.004398  ...             78.872857\n",
       "\n",
       "[5 rows x 23 columns]"
      ]
     },
     "execution_count": 100,
     "metadata": {
      "tags": []
     },
     "output_type": "execute_result"
    }
   ],
   "source": [
    "X = df[['word_2_vec_diff','words_diff_q1_q2', 'word_common',\t'word_Total', 'word_share', 'cosine_distance','cityblock_distance',\t'jaccard_distance','canberra_distance',\t'euclidean_distance','minkowski_distance','braycurtis_distance', 'fuzz_qratio',\t'fuzz_WRatio',\t'fuzz_partial_ratio',\t'fuzz_partial_token_set_ratio',\t'fuzz_partial_token_sort_ratio',\t'fuzz_token_set_ratio',\t'fuzz_token_sort_ratio', 'common_bigrams',\t'common_trigrams','q1_readability_score',\t'q2_readability_score']]\n",
    "y = df['is_duplicate']\n",
    "X.head()"
   ]
  },
  {
   "cell_type": "markdown",
   "metadata": {},
   "source": [
    "#### Splitting the dataset into the Training set and the Test set"
   ]
  },
  {
   "cell_type": "code",
   "execution_count": null,
   "metadata": {
    "colab": {},
    "colab_type": "code",
    "id": "Ad2SS5WlF93X"
   },
   "outputs": [],
   "source": [
    "from sklearn import model_selection, preprocessing, linear_model, naive_bayes, metrics, svm, tree, ensemble\n",
    "from sklearn.model_selection import train_test_split\n",
    "from sklearn.linear_model import LogisticRegressionCV\n",
    "\n",
    "X_train, X_test, y_train, y_test = train_test_split(X, y, test_size = 0.25, random_state = 99)\n",
    "\n",
    "from sklearn.preprocessing import StandardScaler\n",
    "sc = StandardScaler()"
   ]
  },
  {
   "cell_type": "markdown",
   "metadata": {},
   "source": [
    "#### Transforming the train and test data"
   ]
  },
  {
   "cell_type": "code",
   "execution_count": 0,
   "metadata": {
    "colab": {},
    "colab_type": "code",
    "id": "Ad2SS5WlF93X"
   },
   "outputs": [],
   "source": [
    "# Transform the training data\n",
    "X_train = sc.fit_transform(X_train)\n",
    "X_train = pd.DataFrame(X_train,columns=X_test.columns)\n",
    "\n",
    "# Transform the testing data\n",
    "X_test = sc.fit_transform(X_test)\n",
    "X_test = pd.DataFrame(X_test,columns=X_train.columns)\n",
    "\n",
    "X_train = np.nan_to_num(X_train)\n",
    "X_test = np.nan_to_num(X_test)"
   ]
  },
  {
   "cell_type": "markdown",
   "metadata": {},
   "source": [
    "#### Defining the generic training pipeline"
   ]
  },
  {
   "cell_type": "code",
   "execution_count": 0,
   "metadata": {
    "colab": {},
    "colab_type": "code",
    "id": "9MtQ0o-bM64G"
   },
   "outputs": [],
   "source": [
    "def train_model(classifier, X_train, y_train):\n",
    "\n",
    "  #fit the training dataset on the classifier\n",
    "  classifier.fit(X_train, y_train)  \n",
    "\n",
    "  #predict the labels on validation dataset\n",
    "  y_pred = classifier.predict(X_test)\n",
    "\n",
    "  # for input, prediction, label in zip(X_test, y_pred, y_test):\n",
    "  #   if prediction != label:\n",
    "  #     print(input, 'has been classified as ', prediction, 'and should be ', label) \n",
    "\n",
    "  #create a variable that is the result of the model's prediction on the test data\n",
    "  y_pred_prob = classifier.predict_proba(X_test)\n",
    "  \n",
    "  return y_pred, y_pred_prob"
   ]
  },
  {
   "cell_type": "markdown",
   "metadata": {},
   "source": [
    "#### Defining a function that returns the model evaluation metrics"
   ]
  },
  {
   "cell_type": "code",
   "execution_count": 0,
   "metadata": {
    "colab": {},
    "colab_type": "code",
    "id": "328zl7wROHd_"
   },
   "outputs": [],
   "source": [
    "def get_model_evaluation_metrics(y_test, y_pred, y_pred_prob):  \n",
    "  \n",
    "  print(f'Accuracy Score : {metrics.accuracy_score(y_test, y_pred)}')\n",
    "  print(f'\\nClassification Report : \\n{metrics.classification_report(y_test,y_pred)}')\n",
    "  print(f'\\nConfusion Matrix : \\n{metrics.confusion_matrix(y_test,y_pred)}')\n",
    "\n",
    "  # A Confusion Matrix is a way to summarize the classifier performance\n",
    "  cm = metrics.confusion_matrix(y_test,y_pred)\n",
    "\n",
    "  # True Negatives (TN), False Negatives (FN), False Positives (FP), True Positives (TP)\n",
    "  TN = cm[0,0]\n",
    "  FP = cm[0,1] # Also known as Type 1 error\n",
    "  FN = cm[1,0] # Also known as Type 2 error\n",
    "  TP = cm[1,1]\n",
    "\n",
    "  # Sensitivity : refers to how often the prediction is correct when the actual value is positive (positive ==> question is duplicate).\n",
    "  # We need our alogrithm to be less sensitive. That means, when in doubt, it is better for a question to be considered as non-duplicate,\n",
    "  # rather than duplicate. i.e, it is better to lean towards False Negative than False Positive.\n",
    "  sensitivity = TP / (TP + FN) # also called as recall\n",
    "\n",
    "  # Specificity : refers to how often the prediction is correct when the actual value is negative (negative ==> question is not-duplcate)\n",
    "  # Our algorithm needs to be more specific and less sensitive.\n",
    "  specificity = TN / (TN + FP)\n",
    "\n",
    "  # Precision : refers to how often we are correct when the value predicted is positive\n",
    "  precision = TP / (TP + FP)\n",
    "\n",
    "  # False Positive Rate (FPR) : refers to how often we are incorrect when the actual value is negative. FPR = 1 - specicicity\n",
    "  false_positive_rate = FP / (FP + TN)\n",
    "\n",
    "  print(f'\\nSensitivity (or recall) : {sensitivity:.2f}')\n",
    "  print(f'Specificity : {specificity:.2f}')\n",
    "  print(f'Precision : {precision:.2f}')\n",
    "  print(f'False Positive Rate (FPR) : {false_positive_rate:.2f}')\n",
    "\n",
    "  from sklearn.metrics import roc_curve\n",
    "\n",
    "  fpr, tpr, thresholds = roc_curve(y_test, y_pred_prob[:,1])\n",
    "\n",
    "  plt.plot(fpr, tpr)\n",
    "  plt.title(\"ROC Curve for Quora Question Duplicates\")\n",
    "  plt.xlabel(\"False Positive Rate (1 - Specificity)\")\n",
    "  plt.ylabel(\"True Positive Rate (Sensitivity)\")\n",
    "  plt.grid(True)\n",
    "  plt.show()\n",
    "\n",
    "  from sklearn.metrics import roc_auc_score\n",
    "\n",
    "  print(f'\\nAUC Score : {roc_auc_score(y_test, y_pred_prob[:,1])}')"
   ]
  },
  {
   "cell_type": "markdown",
   "metadata": {
    "colab_type": "text",
    "id": "kG6dv0aLol2d"
   },
   "source": [
    "## Logistic Regression\n",
    "Logistic regression is basically a supervised classification algorithm. In a classification problem, the target variable(or output), y, can take only discrete values for given set of features(or inputs), X.\n",
    "\n",
    "Contrary to popular belief, logistic regression IS a regression model. The model builds a regression model to predict the probability that a given data entry belongs to a specific category. Just like Linear regression assumes that the data follows a linear function, Logistic regression models the data using the sigmoid function.\n",
    "\n",
    "Logistic regression becomes a classification technique only when a decision threshold is brought into the picture. The setting of the threshold value is a very important aspect of Logistic regression and is dependent on the classification problem itself."
   ]
  },
  {
   "cell_type": "code",
   "execution_count": 105,
   "metadata": {
    "colab": {
     "base_uri": "https://localhost:8080/",
     "height": 692
    },
    "colab_type": "code",
    "id": "cmQ-qqoEoJnU",
    "outputId": "ebdbdb51-cd38-4612-84e8-08b358e41cfd"
   },
   "outputs": [
    {
     "name": "stdout",
     "output_type": "stream",
     "text": [
      "Accuracy Score : 0.7004\n",
      "\n",
      "Classification Report : \n",
      "              precision    recall  f1-score   support\n",
      "\n",
      "           0       0.73      0.63      0.68      1246\n",
      "           1       0.68      0.77      0.72      1254\n",
      "\n",
      "    accuracy                           0.70      2500\n",
      "   macro avg       0.70      0.70      0.70      2500\n",
      "weighted avg       0.70      0.70      0.70      2500\n",
      "\n",
      "\n",
      "Confusion Matrix : \n",
      "[[787 459]\n",
      " [290 964]]\n",
      "\n",
      "Sensitivity (or recall) : 0.77\n",
      "Specificity : 0.63\n",
      "Precision : 0.68\n",
      "False Positive Rate (FPR) : 0.37\n"
     ]
    },
    {
     "data": {
      "image/png": "[encoded data removed]",
      "text/plain": [
       "<Figure size 432x288 with 1 Axes>"
      ]
     },
     "metadata": {
      "needs_background": "light",
      "tags": []
     },
     "output_type": "display_data"
    },
    {
     "name": "stdout",
     "output_type": "stream",
     "text": [
      "\n",
      "AUC Score : 0.7652807964753559\n"
     ]
    }
   ],
   "source": [
    "y_pred, y_pred_prob = train_model(linear_model.LogisticRegression(random_state = 99, max_iter=200), X_train, y_train)\n",
    "\n",
    "get_model_evaluation_metrics(y_test, y_pred, y_pred_prob)"
   ]
  },
  {
   "cell_type": "markdown",
   "metadata": {
    "colab_type": "text",
    "id": "8VyVtw5i-eqv"
   },
   "source": [
    "## **Logistic Regression with L1 Regularization**"
   ]
  },
  {
   "cell_type": "code",
   "execution_count": 106,
   "metadata": {
    "colab": {
     "base_uri": "https://localhost:8080/",
     "height": 692
    },
    "colab_type": "code",
    "id": "SNpna8tD7y_Z",
    "outputId": "59ed3205-38cc-42f7-a16a-d2a06972601c"
   },
   "outputs": [
    {
     "name": "stdout",
     "output_type": "stream",
     "text": [
      "Accuracy Score : 0.702\n",
      "\n",
      "Classification Report : \n",
      "              precision    recall  f1-score   support\n",
      "\n",
      "           0       0.74      0.63      0.68      1246\n",
      "           1       0.68      0.78      0.72      1254\n",
      "\n",
      "    accuracy                           0.70      2500\n",
      "   macro avg       0.71      0.70      0.70      2500\n",
      "weighted avg       0.71      0.70      0.70      2500\n",
      "\n",
      "\n",
      "Confusion Matrix : \n",
      "[[783 463]\n",
      " [282 972]]\n",
      "\n",
      "Sensitivity (or recall) : 0.78\n",
      "Specificity : 0.63\n",
      "Precision : 0.68\n",
      "False Positive Rate (FPR) : 0.37\n"
     ]
    },
    {
     "data": {
      "image/png": "[encoded data removed]",
      "text/plain": [
       "<Figure size 432x288 with 1 Axes>"
      ]
     },
     "metadata": {
      "needs_background": "light",
      "tags": []
     },
     "output_type": "display_data"
    },
    {
     "name": "stdout",
     "output_type": "stream",
     "text": [
      "\n",
      "AUC Score : 0.7656174399225848\n"
     ]
    }
   ],
   "source": [
    "Cs = np.logspace(-2, 6, 9)\n",
    "y_pred, y_pred_prob = train_model(linear_model.LogisticRegressionCV(Cs=Cs, penalty='l1', cv=10, solver='liblinear', random_state=99, max_iter=10000), X_train, y_train)\n",
    "\n",
    "get_model_evaluation_metrics(y_test, y_pred, y_pred_prob)"
   ]
  },
  {
   "cell_type": "markdown",
   "metadata": {
    "colab_type": "text",
    "id": "Jz2BQdkO-pIt"
   },
   "source": [
    "## **Logistic Regression with L2 Regularization**"
   ]
  },
  {
   "cell_type": "code",
   "execution_count": 107,
   "metadata": {
    "colab": {
     "base_uri": "https://localhost:8080/",
     "height": 692
    },
    "colab_type": "code",
    "id": "XOoWkzRH9SUg",
    "outputId": "e5f88927-1f0e-4b0d-c339-62718cac280a"
   },
   "outputs": [
    {
     "name": "stdout",
     "output_type": "stream",
     "text": [
      "Accuracy Score : 0.7004\n",
      "\n",
      "Classification Report : \n",
      "              precision    recall  f1-score   support\n",
      "\n",
      "           0       0.74      0.62      0.67      1246\n",
      "           1       0.67      0.78      0.72      1254\n",
      "\n",
      "    accuracy                           0.70      2500\n",
      "   macro avg       0.71      0.70      0.70      2500\n",
      "weighted avg       0.71      0.70      0.70      2500\n",
      "\n",
      "\n",
      "Confusion Matrix : \n",
      "[[775 471]\n",
      " [278 976]]\n",
      "\n",
      "Sensitivity (or recall) : 0.78\n",
      "Specificity : 0.62\n",
      "Precision : 0.67\n",
      "False Positive Rate (FPR) : 0.38\n"
     ]
    },
    {
     "data": {
      "image/png": "[encoded data removed]",
      "text/plain": [
       "<Figure size 432x288 with 1 Axes>"
      ]
     },
     "metadata": {
      "needs_background": "light",
      "tags": []
     },
     "output_type": "display_data"
    },
    {
     "name": "stdout",
     "output_type": "stream",
     "text": [
      "\n",
      "AUC Score : 0.7656872006369345\n"
     ]
    }
   ],
   "source": [
    "Cs = np.logspace(-2, 6, 9)\n",
    "y_pred, y_pred_prob = train_model(linear_model.LogisticRegressionCV(Cs=Cs, penalty='l2', cv=10, random_state=99, max_iter=10000), X_train, y_train)\n",
    "\n",
    "get_model_evaluation_metrics(y_test, y_pred, y_pred_prob)"
   ]
  },
  {
   "cell_type": "markdown",
   "metadata": {
    "colab_type": "text",
    "id": "OidN6j0L0fnj"
   },
   "source": [
    "## Naive Bayes\n",
    "A Naive Bayes classifier is a probabilistic machine learning model that’s used for classification task. The crux of the classifier is based on the Bayes theorem. Using Bayes theorem, we can find the probability of A happening, given that B has occurred. Here, B is the evidence and A is the hypothesis. The assumption made here is that the predictors/features are independent. That is presence of one particular feature does not affect the other. Hence it is called naive."
   ]
  },
  {
   "cell_type": "code",
   "execution_count": 108,
   "metadata": {
    "colab": {
     "base_uri": "https://localhost:8080/",
     "height": 692
    },
    "colab_type": "code",
    "id": "zM2H9RSTjIFT",
    "outputId": "96084072-7847-4856-af29-9ac74c591aa2"
   },
   "outputs": [
    {
     "name": "stdout",
     "output_type": "stream",
     "text": [
      "Accuracy Score : 0.6616\n",
      "\n",
      "Classification Report : \n",
      "              precision    recall  f1-score   support\n",
      "\n",
      "           0       0.66      0.66      0.66      1246\n",
      "           1       0.66      0.67      0.66      1254\n",
      "\n",
      "    accuracy                           0.66      2500\n",
      "   macro avg       0.66      0.66      0.66      2500\n",
      "weighted avg       0.66      0.66      0.66      2500\n",
      "\n",
      "\n",
      "Confusion Matrix : \n",
      "[[820 426]\n",
      " [420 834]]\n",
      "\n",
      "Sensitivity (or recall) : 0.67\n",
      "Specificity : 0.66\n",
      "Precision : 0.66\n",
      "False Positive Rate (FPR) : 0.34\n"
     ]
    },
    {
     "data": {
      "image/png": "[encoded data removed]",
      "text/plain": [
       "<Figure size 432x288 with 1 Axes>"
      ]
     },
     "metadata": {
      "needs_background": "light",
      "tags": []
     },
     "output_type": "display_data"
    },
    {
     "name": "stdout",
     "output_type": "stream",
     "text": [
      "\n",
      "AUC Score : 0.7067041966509735\n"
     ]
    }
   ],
   "source": [
    "y_pred, y_pred_prob = train_model(naive_bayes.BernoulliNB(), X_train, y_train)\n",
    "\n",
    "get_model_evaluation_metrics(y_test, y_pred, y_pred_prob)"
   ]
  },
  {
   "cell_type": "markdown",
   "metadata": {
    "colab_type": "text",
    "id": "ZFO4sAYPxO09"
   },
   "source": [
    "## SVM Classification\n",
    "“Support Vector Machine” (SVM) is a supervised machine learning algorithm which can be used for both classification or regression challenges. However,  it is mostly used in classification problems. In the SVM algorithm, we plot each data item as a point in n-dimensional space (where n is number of features you have) with the value of each feature being the value of a particular coordinate. Then, we perform classification by finding the hyper-plane that differentiates the two classes very well."
   ]
  },
  {
   "cell_type": "code",
   "execution_count": 109,
   "metadata": {
    "colab": {
     "base_uri": "https://localhost:8080/",
     "height": 692
    },
    "colab_type": "code",
    "id": "VE5KB6PAob7A",
    "outputId": "fb05d41f-ff6c-4165-9a23-175a933d21f7"
   },
   "outputs": [
    {
     "name": "stdout",
     "output_type": "stream",
     "text": [
      "Accuracy Score : 0.7056\n",
      "\n",
      "Classification Report : \n",
      "              precision    recall  f1-score   support\n",
      "\n",
      "           0       0.77      0.59      0.67      1246\n",
      "           1       0.67      0.82      0.74      1254\n",
      "\n",
      "    accuracy                           0.71      2500\n",
      "   macro avg       0.72      0.71      0.70      2500\n",
      "weighted avg       0.72      0.71      0.70      2500\n",
      "\n",
      "\n",
      "Confusion Matrix : \n",
      "[[ 734  512]\n",
      " [ 224 1030]]\n",
      "\n",
      "Sensitivity (or recall) : 0.82\n",
      "Specificity : 0.59\n",
      "Precision : 0.67\n",
      "False Positive Rate (FPR) : 0.41\n"
     ]
    },
    {
     "data": {
      "image/png": "[encoded data removed]",
      "text/plain": [
       "<Figure size 432x288 with 1 Axes>"
      ]
     },
     "metadata": {
      "needs_background": "light",
      "tags": []
     },
     "output_type": "display_data"
    },
    {
     "name": "stdout",
     "output_type": "stream",
     "text": [
      "\n",
      "AUC Score : 0.7640161435253097\n"
     ]
    }
   ],
   "source": [
    "y_pred, y_pred_prob = train_model(svm.SVC(kernel='linear',random_state = 99, probability=True), X_train, y_train)\n",
    "\n",
    "get_model_evaluation_metrics(y_test, y_pred, y_pred_prob)"
   ]
  },
  {
   "cell_type": "markdown",
   "metadata": {
    "colab_type": "text",
    "id": "5tXEyA1JeMVz"
   },
   "source": [
    "## Decision-Tree Classification\n",
    "A decision tree is a flowchart-like tree structure where an internal node represents feature(or attribute), the branch represents a decision rule, and each leaf node represents the outcome. The topmost node in a decision tree is known as the root node. It learns to partition on the basis of the attribute value. It partitions the tree in recursively manner call recursive partitioning. This flowchart-like structure helps you in decision making. It's visualization like a flowchart diagram which easily mimics the human level thinking."
   ]
  },
  {
   "cell_type": "code",
   "execution_count": 110,
   "metadata": {
    "colab": {
     "base_uri": "https://localhost:8080/",
     "height": 692
    },
    "colab_type": "code",
    "id": "8JV1GRtq4SA0",
    "outputId": "717f6bf9-53f0-4435-e8ad-8501d8d55411"
   },
   "outputs": [
    {
     "name": "stdout",
     "output_type": "stream",
     "text": [
      "Accuracy Score : 0.5816\n",
      "\n",
      "Classification Report : \n",
      "              precision    recall  f1-score   support\n",
      "\n",
      "           0       0.56      0.73      0.63      1246\n",
      "           1       0.62      0.44      0.51      1254\n",
      "\n",
      "    accuracy                           0.58      2500\n",
      "   macro avg       0.59      0.58      0.57      2500\n",
      "weighted avg       0.59      0.58      0.57      2500\n",
      "\n",
      "\n",
      "Confusion Matrix : \n",
      "[[904 342]\n",
      " [704 550]]\n",
      "\n",
      "Sensitivity (or recall) : 0.44\n",
      "Specificity : 0.73\n",
      "Precision : 0.62\n",
      "False Positive Rate (FPR) : 0.27\n"
     ]
    },
    {
     "data": {
      "image/png": "[encoded data removed]",
      "text/plain": [
       "<Figure size 432x288 with 1 Axes>"
      ]
     },
     "metadata": {
      "needs_background": "light",
      "tags": []
     },
     "output_type": "display_data"
    },
    {
     "name": "stdout",
     "output_type": "stream",
     "text": [
      "\n",
      "AUC Score : 0.5820590802849821\n"
     ]
    }
   ],
   "source": [
    "y_pred, y_pred_prob = train_model(tree.DecisionTreeClassifier(random_state = 99), X_train, y_train)\n",
    "\n",
    "get_model_evaluation_metrics(y_test, y_pred, y_pred_prob)"
   ]
  },
  {
   "cell_type": "markdown",
   "metadata": {
    "colab_type": "text",
    "id": "tJ8bHCjyeZBu"
   },
   "source": [
    "## Random-Forest Classification\n",
    "Random forests is a supervised learning algorithm. It can be used both for classification and regression. It is also the most flexible and easy to use algorithm. A forest is comprised of trees. It is said that the more trees it has, the more robust a forest is. Random forests creates decision trees on randomly selected data samples, gets prediction from each tree and selects the best solution by means of voting. It also provides a pretty good indicator of the feature importance."
   ]
  },
  {
   "cell_type": "code",
   "execution_count": 112,
   "metadata": {
    "colab": {
     "base_uri": "https://localhost:8080/",
     "height": 692
    },
    "colab_type": "code",
    "id": "GE-3hRjM5XPL",
    "outputId": "2be8dbe8-2dac-4ec9-ae06-6d5d184fbb1f"
   },
   "outputs": [
    {
     "name": "stdout",
     "output_type": "stream",
     "text": [
      "Accuracy Score : 0.7052\n",
      "\n",
      "Classification Report : \n",
      "              precision    recall  f1-score   support\n",
      "\n",
      "           0       0.70      0.71      0.70      1246\n",
      "           1       0.71      0.70      0.71      1254\n",
      "\n",
      "    accuracy                           0.71      2500\n",
      "   macro avg       0.71      0.71      0.71      2500\n",
      "weighted avg       0.71      0.71      0.71      2500\n",
      "\n",
      "\n",
      "Confusion Matrix : \n",
      "[[880 366]\n",
      " [371 883]]\n",
      "\n",
      "Sensitivity (or recall) : 0.70\n",
      "Specificity : 0.71\n",
      "Precision : 0.71\n",
      "False Positive Rate (FPR) : 0.29\n"
     ]
    },
    {
     "data": {
      "image/png": "[encoded data removed]",
      "text/plain": [
       "<Figure size 432x288 with 1 Axes>"
      ]
     },
     "metadata": {
      "needs_background": "light",
      "tags": []
     },
     "output_type": "display_data"
    },
    {
     "name": "stdout",
     "output_type": "stream",
     "text": [
      "\n",
      "AUC Score : 0.7850480388919183\n"
     ]
    }
   ],
   "source": [
    "y_pred, y_pred_prob = train_model(ensemble.RandomForestClassifier(n_estimators=1000, n_jobs=-1, random_state = 99), X_train, y_train)\n",
    "\n",
    "get_model_evaluation_metrics(y_test, y_pred, y_pred_prob)"
   ]
  },
  {
   "cell_type": "markdown",
   "metadata": {
    "colab_type": "text",
    "id": "zGuOz8zctBzW"
   },
   "source": [
    "# Deep Neural Network Models"
   ]
  },
  {
   "cell_type": "markdown",
   "metadata": {},
   "source": [
    "#### Defining 3 functions, each returning a different Keras model. \n",
    "#### The goal is to find out which of these 3 models leads to the lowest cross-validation error rate."
   ]
  },
  {
   "cell_type": "code",
   "execution_count": 0,
   "metadata": {
    "colab": {},
    "colab_type": "code",
    "id": "JaZIf9WSYcn9"
   },
   "outputs": [],
   "source": [
    "from keras.models import Sequential\n",
    "from keras.wrappers.scikit_learn import KerasClassifier\n",
    "from sklearn.model_selection import StratifiedKFold, cross_val_score, KFold\n",
    "import numpy as np\n",
    "from tensorflow import random\n",
    "\n",
    "from keras.layers import Dense\n",
    "\n",
    "# Create a function that returns the keras model 1\n",
    "def build_model_1(activation='relu', optimizer='adam'):\n",
    "  # create model 1  \n",
    "  model = Sequential()\n",
    "  model.add(Dense(18, input_dim=X_train.shape[1], activation=activation))\n",
    "  model.add(Dense(18, activation=activation))\n",
    "  model.add(Dense(18, activation=activation))\n",
    "  model.add(Dense(1, activation='sigmoid'))\n",
    "  # compile model 1\n",
    "  model.compile(optimizer=optimizer, loss='binary_crossentropy',metrics=['accuracy'])\n",
    "  return model\n",
    "\n",
    "# Create a function that returns the keras model 2\n",
    "def build_model_2(activation='relu', optimizer='adam'):\n",
    "  # create model 2\n",
    "  # print(f'Activation = {activation}  Optimizer={optimizer}')\n",
    "  model = Sequential()\n",
    "  model.add(Dense(18, input_dim=X_train.shape[1], activation=activation))\n",
    "  model.add(Dense(9, activation=activation))\n",
    "  model.add(Dense(1, activation='sigmoid'))\n",
    "  # compile model 2\n",
    "  model.compile(optimizer=optimizer, loss='binary_crossentropy',metrics=['accuracy'])\n",
    "  return model\n",
    "\n",
    "# Create a function that returns the keras model 3\n",
    "def build_model_3(activation='relu', optimizer='adam'):\n",
    "  # create model 3\n",
    "  model = Sequential()\n",
    "  model.add(Dense(18, input_dim=X_train.shape[1], activation=activation))\n",
    "  model.add(Dense(9, activation=activation))\n",
    "  model.add(Dense(6, activation=activation))\n",
    "  model.add(Dense(1, activation='sigmoid'))\n",
    "  # compile model 3\n",
    "  model.compile(optimizer=optimizer, loss='binary_crossentropy',metrics=['accuracy'])\n",
    "  return model\n",
    "  \n",
    "\n"
   ]
  },
  {
   "cell_type": "markdown",
   "metadata": {},
   "source": [
    "#### Writing code that will loop over the three models and perform 5-fold cross-validation."
   ]
  },
  {
   "cell_type": "code",
   "execution_count": 114,
   "metadata": {
    "colab": {
     "base_uri": "https://localhost:8080/",
     "height": 69
    },
    "colab_type": "code",
    "id": "jhYMsjSuC4b2",
    "outputId": "88559032-4d40-474a-fd55-a4fb68ff8351"
   },
   "outputs": [
    {
     "name": "stdout",
     "output_type": "stream",
     "text": [
      "Model  1  cross-validation score =  0.6953333258628845\n",
      "Model  2  cross-validation score =  0.7151999950408936\n",
      "Model  3  cross-validation score =  0.7107999920845032\n"
     ]
    }
   ],
   "source": [
    "# define a seed for random number generator so the result will be reproducible\n",
    "seed = 99\n",
    "np.random.seed(seed)\n",
    "random.set_seed(seed)\n",
    "\n",
    "# determine the number of folds for k-fold cross-validation, number of epochs and batch size\n",
    "n_folds = 5\n",
    "batch_size = 20\n",
    "epochs = 100\n",
    "\n",
    "# define the list to store cross-validation scores\n",
    "results_1 = []\n",
    "\n",
    "# define the possible options for the model\n",
    "models =[build_model_1, build_model_2, build_model_3]\n",
    "\n",
    "# loop over the models\n",
    "for m in range(len(models)):\n",
    "  # build the scikit-learn interface for the keras model\n",
    "  classifier = KerasClassifier(build_fn=models[m], epochs=epochs, batch_size=batch_size, verbose=0, shuffle=False)\n",
    "  # define the cross-validation iterator\n",
    "  kfold = StratifiedKFold(n_splits=n_folds, shuffle=True, random_state=seed)\n",
    "  # perform the k-fold cross-validation and store the scores in result\n",
    "  result = cross_val_score(classifier, X_train, y_train, cv=kfold)\n",
    "  # add the scores to the results list\n",
    "  results_1.append(result)\n",
    "\n",
    "# Print cross-validation score for each model\n",
    "for m in range(len(models)):\n",
    "  print(\"Model \", m+1, \" cross-validation score = \", abs(results_1[m].mean()))\n"
   ]
  },
  {
   "cell_type": "markdown",
   "metadata": {},
   "source": [
    "#### Choosing Model 2 as it has the highest cross-validation score. \n",
    "#### Repeating the above step by iterating over the epochs = [100, 200] and batches = [10, 20] values and performing 5-fold cross-validation"
   ]
  },
  {
   "cell_type": "code",
   "execution_count": 115,
   "metadata": {
    "colab": {
     "base_uri": "https://localhost:8080/",
     "height": 86
    },
    "colab_type": "code",
    "id": "8XxiEic1BOvj",
    "outputId": "2b606498-9aeb-4fad-da3e-011ed6ede4cb"
   },
   "outputs": [
    {
     "name": "stdout",
     "output_type": "stream",
     "text": [
      "batch_size = 10 , epochs = 100 , Test Accuracy = 0.705733346939087\n",
      "batch_size = 20 , epochs = 100 , Test Accuracy = 0.7113333225250245\n",
      "batch_size = 10 , epochs = 200 , Test Accuracy = 0.7023999929428101\n",
      "batch_size = 20 , epochs = 200 , Test Accuracy = 0.7030666589736938\n"
     ]
    }
   ],
   "source": [
    "# define a seed for random number generator so the result will be reproducible\n",
    "np.random.seed(seed)\n",
    "random.set_seed(seed)\n",
    "\n",
    "# determine the number of folds for k-fold cross-validation\n",
    "n_folds = 5\n",
    "\n",
    "# define the ossible options for epochs and batch_size\n",
    "epochs = [100, 200]\n",
    "batches = [10, 20]\n",
    "\n",
    "# define the list to store cross-validation scores\n",
    "results_2 = []\n",
    "\n",
    "# loop over all possible pairs of epochs, batch_size\n",
    "for e in range(len(epochs)):\n",
    "  for b in range(len(batches)):\n",
    "    # build the scikit-learn interface for the keras model\n",
    "    classifier = KerasClassifier(build_fn=build_model_2, epochs=epochs[e], batch_size=batches[b], verbose=0)\n",
    "\n",
    "    # define the corss-validation iterator\n",
    "    kfold = StratifiedKFold(n_splits=n_folds, shuffle=True, random_state=seed)\n",
    "\n",
    "    # perform the k-fold cross-validation and store the scores in result\n",
    "    result = cross_val_score(classifier, X_train, y_train, cv=kfold)\n",
    "\n",
    "    # add the scores to the results list\n",
    "    results_2.append(result)\n",
    "\n",
    "# Print cross-validation score for each possible pair of epochs, batch_size\n",
    "c = 0\n",
    "for e in range(len(epochs)):\n",
    "  for b in range(len(batches)):\n",
    "    print(\"batch_size =\", batches[b],\", epochs =\", epochs[e], \", Test Accuracy =\", results_2[c].mean())\n",
    "    c += 1"
   ]
  },
  {
   "cell_type": "markdown",
   "metadata": {},
   "source": [
    "##### Choosing the batch size and epochs with the highest accuracy score.\n",
    "#### Repeating the above step by iterating over the optimizers = ['rmsprop', 'adam', 'sgd'] and activations = ['relu','tanh'] values and performing 5-fold cross validation"
   ]
  },
  {
   "cell_type": "code",
   "execution_count": 116,
   "metadata": {
    "colab": {
     "base_uri": "https://localhost:8080/",
     "height": 121
    },
    "colab_type": "code",
    "id": "r3ycQ2xLHw2C",
    "outputId": "cb06f3d4-4454-4cf5-fe26-86f79b9c763a"
   },
   "outputs": [
    {
     "name": "stdout",
     "output_type": "stream",
     "text": [
      "activation =  relu , optimizer =  rmsprop , Test accuracy =  0.712933337688446\n",
      "activation =  tanh , optimizer =  rmsprop , Test accuracy =  0.7109333157539368\n",
      "activation =  relu , optimizer =  adam , Test accuracy =  0.7129333257675171\n",
      "activation =  tanh , optimizer =  adam , Test accuracy =  0.7075999975204468\n",
      "activation =  relu , optimizer =  sgd , Test accuracy =  0.7097333312034607\n",
      "activation =  tanh , optimizer =  sgd , Test accuracy =  0.7175999999046325\n"
     ]
    }
   ],
   "source": [
    "# define a seed for random number generator so the result will be reproducible\n",
    "np.random.seed(seed)\n",
    "random.set_seed(seed)\n",
    "\n",
    "# determine the number of folds for k-fold cross-validation, number of epochs and batch size\n",
    "n_folds = 5\n",
    "batch_size = 20\n",
    "epochs = 100\n",
    "\n",
    "# define the list to store cross_validation scores\n",
    "results_3 = []\n",
    "\n",
    "# define possible options for optimizer and activation\n",
    "optimizers = ['rmsprop', 'adam', 'sgd']\n",
    "activations = ['relu','tanh']\n",
    "\n",
    "# loop over all possible pairs of optimizer, activation\n",
    "for o in range(len(optimizers)):\n",
    "  for a in range(len(activations)):\n",
    "    optimizer = optimizers[o]\n",
    "    activation = activations[a]\n",
    "\n",
    "    # build the scikit-learn interface for the keras model\n",
    "    classifier = KerasClassifier(build_fn=build_model_2, activation=activation, optimizer=optimizer, epochs=epochs, batch_size=batch_size, verbose=0, shuffle=False)\n",
    "\n",
    "    # define the cross-validation iterator\n",
    "    kfold = StratifiedKFold(n_splits = n_folds, shuffle=True, random_state=seed)\n",
    "\n",
    "    # perform the k-fold cross-validation and store the scores in result\n",
    "    result = cross_val_score(classifier, X_train, y_train, cv=kfold)\n",
    "\n",
    "    # add the scores to the results list\n",
    "    results_3.append(result)\n",
    "\n",
    "# Print cross-validation score for each possible pair of optimizer, activation\n",
    "c = 0\n",
    "for o in range(len(optimizers)):\n",
    "  for a in range(len(activations)):\n",
    "    print(\"activation = \", activations[a],\", optimizer = \", optimizers[o], \", Test accuracy = \", results_3[c].mean())\n",
    "    c += 1"
   ]
  },
  {
   "cell_type": "markdown",
   "metadata": {
    "colab_type": "text",
    "id": "jwtY8UNPJhMW"
   },
   "source": [
    "## Improving the Model Accuracy (L1, L2 and Dropout Regularization)\n",
    "Regularization methods try to modify the learning algorithm in a way that reduces the variance of the mode. By decreasing the variance, regularization techniques intend to reduce the generalization error while not increasing the training error (or, at least, not increasing the training error drastically)."
   ]
  },
  {
   "cell_type": "markdown",
   "metadata": {},
   "source": [
    "#### Model 2 with batch_size = 20 , epochs = 100, activation =  tanh , optimizer =  sgd has the best accuracy\n",
    "#### Now let's see how the model behaves with regularization\n",
    "#### Writing a function that returns the model 2 with the best hyperparameter values and takes l2 parameter as input and testing it for different valies of l2 parameter"
   ]
  },
  {
   "cell_type": "code",
   "execution_count": 0,
   "metadata": {
    "colab": {},
    "colab_type": "code",
    "id": "p4R3Ma_QNTDl"
   },
   "outputs": [],
   "source": [
    "from keras.regularizers import l1, l2, l1_l2\n",
    "\n",
    "def build_model_2_l1l2(kernel_regularizer=None): \n",
    "  model_2 = Sequential()\n",
    "  model_2.add(Dense(18, input_dim=X_train.shape[1], activation='tanh', kernel_regularizer=kernel_regularizer))\n",
    "  model_2.add(Dense(9, activation='tanh', kernel_regularizer=kernel_regularizer))\n",
    "  model_2.add(Dense(1, activation='sigmoid'))\n",
    "  # compile model 3\n",
    "  model_2.compile(optimizer='sgd', loss='binary_crossentropy',metrics=['accuracy'])\n",
    "\n",
    "  # fit the model to the training data to perform the classification while evaluating on the test set, \n",
    "  # saving the results of the training process\n",
    "  history=model_2.fit(X_train, y_train, batch_size=20, epochs=100, validation_data=(X_test, y_test), verbose=0, shuffle=False)\n",
    "\n",
    "  # Plotting the trends in training error and test error by importing the necessary libraries for plotting the loss and\n",
    "  # validation loss and saving them in the variable that was created when the model was fit to the training process. \n",
    "  # Printing out the maximum validation accuracy\n",
    "  \n",
    " # plot training error and test error\n",
    "  matplotlib.rcParams['figure.figsize'] = (6.0, 4.0)\n",
    "  plt.plot(history.history['loss'])\n",
    "  plt.plot(history.history['val_loss'])\n",
    "  plt.ylim(0,1)\n",
    "  plt.ylabel('loss')\n",
    "  plt.xlabel('epoch')\n",
    "  plt.legend(['train loss', 'validation loss'], loc='upper right')\n",
    "\n",
    "  # print the best accuracy reached on the test set\n",
    "  print(\"Best Accuracy on Validation Set =\", max(history.history['val_accuracy']))\n",
    "  print(\"Lowest error on Training Set =\", min(history.history['loss']))\n",
    "  print(\"Lowest error on Validation Set =\", min(history.history['val_loss']))\n"
   ]
  },
  {
   "cell_type": "markdown",
   "metadata": {},
   "source": [
    "#### Training the model with no regularization"
   ]
  },
  {
   "cell_type": "code",
   "execution_count": 130,
   "metadata": {
    "colab": {
     "base_uri": "https://localhost:8080/",
     "height": 335
    },
    "colab_type": "code",
    "id": "OXvayyXbZP96",
    "outputId": "4b7f5b08-ef17-4bff-eb6a-67d29bb70070"
   },
   "outputs": [
    {
     "name": "stdout",
     "output_type": "stream",
     "text": [
      "Best Accuracy on Validation Set = 0.7164000272750854\n",
      "Lowest error on Training Set = 0.5181392391522726\n",
      "Lowest error on Validation Set = 0.5381243124008178\n"
     ]
    },
    {
     "data": {
      "image/png": "[encoded data removed]",
      "text/plain": [
       "<Figure size 432x288 with 1 Axes>"
      ]
     },
     "metadata": {
      "needs_background": "light",
      "tags": []
     },
     "output_type": "display_data"
    }
   ],
   "source": [
    "build_model_2_l1l2(kernel_regularizer=None)"
   ]
  },
  {
   "cell_type": "markdown",
   "metadata": {
    "colab_type": "text",
    "id": "xIK3JCNnfTOy"
   },
   "source": [
    "## L2 Regularization\n",
    "The most common type of regularization for deep learning models is the one that keeps the weights of the network small. This type of regularization is called weight regularization and has two difference variations: L2 regularization and L1 regularization.\n",
    "In weight regularization, a penalizing term is added to the loss function. This term is either the L2 norm (the sum of the squared values) of the weights or the L1 norm (the sum of the absolute values) of the weights. If the L1 norm is used, then it will be called L1 regularizaiton. If the L2 norm is used, then it will be called L2 regularization."
   ]
  },
  {
   "cell_type": "markdown",
   "metadata": {},
   "source": [
    "#### Training the model by adding L2 regularizers with lambda=0.01 to each hidden layer of the model."
   ]
  },
  {
   "cell_type": "code",
   "execution_count": 131,
   "metadata": {
    "colab": {
     "base_uri": "https://localhost:8080/",
     "height": 335
    },
    "colab_type": "code",
    "id": "hCIjpTHBbL4H",
    "outputId": "8fceffc3-26f2-48cf-a8cf-3dfe2c7ad4af"
   },
   "outputs": [
    {
     "name": "stdout",
     "output_type": "stream",
     "text": [
      "Best Accuracy on Validation Set = 0.7063999772071838\n",
      "Lowest error on Training Set = 0.5553408869107564\n",
      "Lowest error on Validation Set = 0.5580414431095123\n"
     ]
    },
    {
     "data": {
      "image/png": "[encoded data removed]",
      "text/plain": [
       "<Figure size 432x288 with 1 Axes>"
      ]
     },
     "metadata": {
      "needs_background": "light",
      "tags": []
     },
     "output_type": "display_data"
    }
   ],
   "source": [
    "l2_param = 0.01\n",
    "build_model_2_l1l2(kernel_regularizer=l2(l2_param))"
   ]
  },
  {
   "cell_type": "markdown",
   "metadata": {
    "colab": {},
    "colab_type": "code",
    "id": "FQg39Hrzcbs9"
   },
   "source": [
    "As seen from the preceding plots, the test error almost plateaus after being decreased to a certain amount. The gap between the training error and the validation error at the end of the training process (the bias) is very small, which is indicative of reduced overfitting (low variance) of the model for the training examples. This is good."
   ]
  },
  {
   "cell_type": "markdown",
   "metadata": {},
   "source": [
    "#### Training the model by adding L2 regularizers with lambda=0.1 to each hidden layer of the model."
   ]
  },
  {
   "cell_type": "code",
   "execution_count": null,
   "metadata": {
    "colab": {
     "base_uri": "https://localhost:8080/",
     "height": 335
    },
    "colab_type": "code",
    "id": "2tYX9O6YclLw",
    "outputId": "7b199b41-c6f1-42be-da39-b44b725d3c0a"
   },
   "outputs": [],
   "source": [
    "l2_param = 0.1\n",
    "build_model_2_l1l2(kernel_regularizer=l2(l2_param))"
   ]
  },
  {
   "cell_type": "markdown",
   "metadata": {
    "colab": {},
    "colab_type": "code",
    "id": "yXcYEzeadIkq"
   },
   "source": [
    "The training and validation error quickly plateau and are much higher than they were for the model that was created with a lower L2 parameter, indicating that we have penalized the model so much that it has not had the flexibility to learn the underlying function of the training data. Following this, we will reduce the valie of the regularization parameter to prevent it from penalizing the model as much."
   ]
  },
  {
   "cell_type": "markdown",
   "metadata": {},
   "source": [
    "#### Repeating the previous step with lambda=0.005 for the L2 parameter."
   ]
  },
  {
   "cell_type": "code",
   "execution_count": 135,
   "metadata": {
    "colab": {
     "base_uri": "https://localhost:8080/",
     "height": 335
    },
    "colab_type": "code",
    "id": "buVgIlPRdLK1",
    "outputId": "95f46e0f-60f8-49c5-f242-6fa262e6bcdc"
   },
   "outputs": [
    {
     "name": "stdout",
     "output_type": "stream",
     "text": [
      "Best Accuracy on Validation Set = 0.7111999988555908\n",
      "Lowest error on Training Set = 0.5471064503192902\n",
      "Lowest error on Validation Set = 0.551440169095993\n"
     ]
    },
    {
     "data": {
      "image/png": "[encoded data removed]",
      "text/plain": [
       "<Figure size 432x288 with 1 Axes>"
      ]
     },
     "metadata": {
      "needs_background": "light",
      "tags": []
     },
     "output_type": "display_data"
    }
   ],
   "source": [
    "l2_param = 0.005\n",
    "build_model_2_l1l2(kernel_regularizer=l2(l2_param))"
   ]
  },
  {
   "cell_type": "markdown",
   "metadata": {
    "colab": {},
    "colab_type": "code",
    "id": "iuFFpDw-WBwg"
   },
   "source": [
    "The value for the L2 weight regularization achieves the second highest accuracy that was evaluated on the validation data of all models with L2 regularization. Again, the test error doesn't increase a significant amount after being decreased to a certain value, which is indicative of the model not overfitting the training examples. It seems that L2 weight regularization with lambda=0.005 achieves the lowest validation error while preventing the model from overfitting."
   ]
  },
  {
   "cell_type": "markdown",
   "metadata": {
    "colab_type": "text",
    "id": "VD0eawgXfLhj"
   },
   "source": [
    "## **L1 Regularization**"
   ]
  },
  {
   "cell_type": "markdown",
   "metadata": {},
   "source": [
    "#### Repeating the previous step with lambda=0.01 for the L1 parameter."
   ]
  },
  {
   "cell_type": "code",
   "execution_count": 138,
   "metadata": {
    "colab": {
     "base_uri": "https://localhost:8080/",
     "height": 335
    },
    "colab_type": "code",
    "id": "rGM2_Az3fC8Z",
    "outputId": "cd888302-b148-4411-8c6b-fdebfdb60474"
   },
   "outputs": [
    {
     "name": "stdout",
     "output_type": "stream",
     "text": [
      "Best Accuracy on Validation Set = 0.6984000205993652\n",
      "Lowest error on Training Set = 0.5767499401569366\n",
      "Lowest error on Validation Set = 0.5810464961528778\n"
     ]
    },
    {
     "data": {
      "image/png": "[encoded data removed]",
      "text/plain": [
       "<Figure size 432x288 with 1 Axes>"
      ]
     },
     "metadata": {
      "needs_background": "light",
      "tags": []
     },
     "output_type": "display_data"
    }
   ],
   "source": [
    "l1_param = 0.01\n",
    "build_model_2_l1l2(kernel_regularizer=l1(l1_param))"
   ]
  },
  {
   "cell_type": "markdown",
   "metadata": {},
   "source": [
    "#### Repeating the previous step with lambda=0.005 for the L1 parameter."
   ]
  },
  {
   "cell_type": "code",
   "execution_count": 141,
   "metadata": {
    "colab": {
     "base_uri": "https://localhost:8080/",
     "height": 335
    },
    "colab_type": "code",
    "id": "GaaR_AczfCWE",
    "outputId": "ecc6ba76-3855-4f69-a0ed-130ccc4aa113"
   },
   "outputs": [
    {
     "name": "stdout",
     "output_type": "stream",
     "text": [
      "Best Accuracy on Validation Set = 0.699999988079071\n",
      "Lowest error on Training Set = 0.5732855691115062\n",
      "Lowest error on Validation Set = 0.5756369619369507\n"
     ]
    },
    {
     "data": {
      "image/png": "[encoded data removed]",
      "text/plain": [
       "<Figure size 432x288 with 1 Axes>"
      ]
     },
     "metadata": {
      "needs_background": "light",
      "tags": []
     },
     "output_type": "display_data"
    }
   ],
   "source": [
    "l1_param = 0.005\n",
    "build_model_2_l1l2(kernel_regularizer=l1(l1_param))"
   ]
  },
  {
   "cell_type": "markdown",
   "metadata": {
    "colab": {},
    "colab_type": "code",
    "id": "l4WFWhr9gKCh"
   },
   "source": [
    "It seems that L1 weight regularization with lamda=0.005 achieves a better test error while preventing a model from overfitting since the value of lambda=0.01 is too restrictive and prevents the model from learning the underlying function of the training data."
   ]
  },
  {
   "cell_type": "markdown",
   "metadata": {
    "colab": {
     "base_uri": "https://localhost:8080/",
     "height": 335
    },
    "colab_type": "code",
    "id": "H3kykHbPgzhO",
    "outputId": "5b635086-e03b-4d9b-d7f0-c758f02363d7"
   },
   "source": [
    "#### Repeating the previous step with L1 and L2 regularizers with an L1 of lambda=0.005 and an L2 of lambda=0.005 to the hidden layers of the model."
   ]
  },
  {
   "cell_type": "code",
   "execution_count": 143,
   "metadata": {
    "colab": {
     "base_uri": "https://localhost:8080/",
     "height": 335
    },
    "colab_type": "code",
    "id": "H3kykHbPgzhO",
    "outputId": "5b635086-e03b-4d9b-d7f0-c758f02363d7"
   },
   "outputs": [
    {
     "name": "stdout",
     "output_type": "stream",
     "text": [
      "Best Accuracy on Validation Set = 0.6988000273704529\n",
      "Lowest error on Training Set = 0.5736499591668447\n",
      "Lowest error on Validation Set = 0.5775598077774048\n"
     ]
    },
    {
     "data": {
      "image/png": "[encoded data removed]",
      "text/plain": [
       "<Figure size 432x288 with 1 Axes>"
      ]
     },
     "metadata": {
      "needs_background": "light",
      "tags": []
     },
     "output_type": "display_data"
    }
   ],
   "source": [
    "l1_param = 0.005\n",
    "l2_param = 0.005\n",
    "build_model_2_l1l2(kernel_regularizer=l1_l2(l1=l1_param, l2=l2_param))"
   ]
  },
  {
   "cell_type": "markdown",
   "metadata": {
    "colab": {},
    "colab_type": "code",
    "id": "q2kN8WPWiESi"
   },
   "source": [
    "While L1 and L2 regularization are successful in preventing the model from overfitting, the variance in the model is very low. However, the accuracy that's obtained on the validaton set is not as high as the model that was trained with no regularization or the model that was trained with the L2 regularization lambda=0.005 or L1 regularization lambda = 0.005 parameter individually."
   ]
  },
  {
   "cell_type": "markdown",
   "metadata": {
    "colab_type": "text",
    "id": "UoxQ80CySJKv"
   },
   "source": [
    "## Dropout Regularization\n",
    "Dropout regularization works by randomly removing nodes from a neural network during training. More precisely, dropout sets up a probability on each node. This probability referes to the chance that the node is included in the training at each iteration of the learning algorithm. Evaluation, however, is always performed on the original network\n"
   ]
  },
  {
   "cell_type": "markdown",
   "metadata": {
    "colab": {
     "base_uri": "https://localhost:8080/",
     "height": 335
    },
    "colab_type": "code",
    "id": "E8SWuu5gSLc0",
    "outputId": "b28b5c75-4c2c-43ef-8ba1-2b8fcb91e7f5"
   },
   "source": [
    "Model 2 : batch_size = 20 , epochs = 100, activation =  tanh , optimizer =  sgd<br/>\n",
    "Now let's see how the model behaves with dropout regularization"
   ]
  },
  {
   "cell_type": "markdown",
   "metadata": {
    "colab": {
     "base_uri": "https://localhost:8080/",
     "height": 335
    },
    "colab_type": "code",
    "id": "E8SWuu5gSLc0",
    "outputId": "b28b5c75-4c2c-43ef-8ba1-2b8fcb91e7f5"
   },
   "source": [
    "#### Redefining Model 2 by creating the same model architecture\n",
    "#### Adding a dropout regularization with rate = 0.1 to the first hidden layer of the model.\n",
    "#### Repeating the steps to train the model on the training data and to plot the trends for the training and validation errors.\n",
    "#### Printing the best accuracy that was reached on the validation set."
   ]
  },
  {
   "cell_type": "code",
   "execution_count": 145,
   "metadata": {
    "colab": {
     "base_uri": "https://localhost:8080/",
     "height": 335
    },
    "colab_type": "code",
    "id": "E8SWuu5gSLc0",
    "outputId": "b28b5c75-4c2c-43ef-8ba1-2b8fcb91e7f5"
   },
   "outputs": [
    {
     "name": "stdout",
     "output_type": "stream",
     "text": [
      "Best Accuracy on Validation Set = 0.7156000137329102\n",
      "Lowest error on Training Set = 0.5315577251911163\n",
      "Lowest error on Validation Set = 0.5365328528881073\n"
     ]
    },
    {
     "data": {
      "image/png": "[encoded data removed]",
      "text/plain": [
       "<Figure size 432x288 with 1 Axes>"
      ]
     },
     "metadata": {
      "needs_background": "light",
      "tags": []
     },
     "output_type": "display_data"
    }
   ],
   "source": [
    "from keras.layers import Dropout\n",
    "\n",
    "# create model\n",
    "model_2 = Sequential()\n",
    "model_2.add(Dense(18, input_dim=X_train.shape[1], activation='tanh'))\n",
    "model_2.add(Dropout(0.1))\n",
    "model_2.add(Dense(9, activation='tanh'))\n",
    "model_2.add(Dense(1, activation='sigmoid'))\n",
    "# compile model 3\n",
    "model_2.compile(optimizer='sgd', loss='binary_crossentropy',metrics=['accuracy'])\n",
    "# train the model using training set while evaluating on the test set\n",
    "history=model_2.fit(X_train, y_train, batch_size=20, epochs=100, validation_data=(X_test, y_test), verbose=0, shuffle=False)\n",
    "\n",
    "# plot training error and test error\n",
    "matplotlib.rcParams['figure.figsize'] = (6.0, 4.0)\n",
    "plt.plot(history.history['loss'])\n",
    "plt.plot(history.history['val_loss'])\n",
    "plt.ylim(0,1)\n",
    "plt.ylabel('loss')\n",
    "plt.xlabel('epoch')\n",
    "plt.legend(['train loss', 'validation loss'], loc='upper right')\n",
    "\n",
    "# print the best accuracy reached on the test set\n",
    "print(\"Best Accuracy on Validation Set =\", max(history.history['val_accuracy']))\n",
    "print(\"Lowest error on Training Set =\", min(history.history['loss']))\n",
    "print(\"Lowest error on Validation Set =\", min(history.history['val_loss']))"
   ]
  },
  {
   "cell_type": "markdown",
   "metadata": {
    "colab": {},
    "colab_type": "code",
    "id": "j46HoESTIraK"
   },
   "source": [
    "There is a very small gap between the training error and the validation error. The validation error is slightly higher than\n",
    "the training error, indicating that the model is might be overfitting the training data."
   ]
  },
  {
   "cell_type": "markdown",
   "metadata": {
    "colab": {
     "base_uri": "https://localhost:8080/",
     "height": 335
    },
    "colab_type": "code",
    "id": "UvnAB3cMNUfI",
    "outputId": "a233c019-9fa1-4a5a-caf3-375717628d6b"
   },
   "source": [
    "#### Repeating the previous step, this time adding dropout regularization with rate=0.1 to all hidden layers of the model.\n",
    "#### Repeating the steps to train the model on the training data and plot the trends for the training and validation errors."
   ]
  },
  {
   "cell_type": "code",
   "execution_count": 147,
   "metadata": {
    "colab": {
     "base_uri": "https://localhost:8080/",
     "height": 335
    },
    "colab_type": "code",
    "id": "UvnAB3cMNUfI",
    "outputId": "a233c019-9fa1-4a5a-caf3-375717628d6b"
   },
   "outputs": [
    {
     "name": "stdout",
     "output_type": "stream",
     "text": [
      "Best Accuracy on Validation Set = 0.7135999798774719\n",
      "Lowest error on Training Set = 0.5407212632497151\n",
      "Lowest error on Validation Set = 0.5382600486278534\n"
     ]
    },
    {
     "data": {
      "image/png": "[encoded data removed]",
      "text/plain": [
       "<Figure size 432x288 with 1 Axes>"
      ]
     },
     "metadata": {
      "needs_background": "light",
      "tags": []
     },
     "output_type": "display_data"
    }
   ],
   "source": [
    "# create model\n",
    "model_2 = Sequential()\n",
    "model_2.add(Dense(18, input_dim=X_train.shape[1], activation='tanh'))\n",
    "model_2.add(Dropout(0.1))\n",
    "model_2.add(Dense(9, activation='tanh'))\n",
    "model_2.add(Dropout(0.1))\n",
    "model_2.add(Dense(1, activation='sigmoid'))\n",
    "# compile model 3\n",
    "model_2.compile(optimizer='sgd', loss='binary_crossentropy',metrics=['accuracy'])\n",
    "# train the model using training set while evaluating on the test set\n",
    "history=model_2.fit(X_train, y_train, batch_size=20, epochs=100, validation_data=(X_test, y_test), verbose=0, shuffle=False)\n",
    "\n",
    "# plot training error and test error\n",
    "matplotlib.rcParams['figure.figsize'] = (6.0, 4.0)\n",
    "plt.plot(history.history['loss'])\n",
    "plt.plot(history.history['val_loss'])\n",
    "plt.ylim(0,1)\n",
    "plt.ylabel('loss')\n",
    "plt.xlabel('epoch')\n",
    "plt.legend(['train loss', 'validation loss'], loc='upper right')\n",
    "\n",
    "# print the best accuracy reached on the test set\n",
    "print(\"Best Accuracy on Validation Set =\", max(history.history['val_accuracy']))\n",
    "print(\"Lowest error on Training Set =\", min(history.history['loss']))\n",
    "print(\"Lowest error on Validation Set =\", min(history.history['val_loss']))"
   ]
  },
  {
   "cell_type": "markdown",
   "metadata": {
    "colab": {},
    "colab_type": "code",
    "id": "a7Tia1uYOH1p"
   },
   "source": [
    "The training error has increased as a result of additional regularization on the other 2 hidden layers of the model."
   ]
  },
  {
   "cell_type": "markdown",
   "metadata": {
    "colab": {
     "base_uri": "https://localhost:8080/",
     "height": 335
    },
    "colab_type": "code",
    "id": "xPewtDWMO2Xk",
    "outputId": "fb2c4484-2542-443c-8f0d-8f536ad9c593"
   },
   "source": [
    "#### Repeating the previous step, this time adding dropout regularization with rate=0.2 to the first layer and rate=0.1 to the rest of the hidden layers\n",
    "#### Repeating the steps to train the model on the training data and plot the trends for the training and validation errors."
   ]
  },
  {
   "cell_type": "code",
   "execution_count": 149,
   "metadata": {
    "colab": {
     "base_uri": "https://localhost:8080/",
     "height": 335
    },
    "colab_type": "code",
    "id": "xPewtDWMO2Xk",
    "outputId": "fb2c4484-2542-443c-8f0d-8f536ad9c593"
   },
   "outputs": [
    {
     "name": "stdout",
     "output_type": "stream",
     "text": [
      "Best Accuracy on Validation Set = 0.7111999988555908\n",
      "Lowest error on Training Set = 0.5476378169059753\n",
      "Lowest error on Validation Set = 0.5414268429279327\n"
     ]
    },
    {
     "data": {
      "image/png": "[encoded data removed]",
      "text/plain": [
       "<Figure size 432x288 with 1 Axes>"
      ]
     },
     "metadata": {
      "needs_background": "light",
      "tags": []
     },
     "output_type": "display_data"
    }
   ],
   "source": [
    "# create model\n",
    "model_2 = Sequential()\n",
    "model_2.add(Dense(18, input_dim=X_train.shape[1], activation='tanh'))\n",
    "model_2.add(Dropout(0.2))\n",
    "model_2.add(Dense(9, activation='tanh'))\n",
    "model_2.add(Dropout(0.1))\n",
    "model_2.add(Dense(1, activation='sigmoid'))\n",
    "# compile model 3\n",
    "model_2.compile(optimizer='sgd', loss='binary_crossentropy',metrics=['accuracy'])\n",
    "# train the model using training set while evaluating on the test set\n",
    "history=model_2.fit(X_train, y_train, batch_size=20, epochs=100, validation_data=(X_test, y_test), verbose=0, shuffle=False)\n",
    "\n",
    "# plot training error and test error\n",
    "matplotlib.rcParams['figure.figsize'] = (6.0, 4.0)\n",
    "plt.plot(history.history['loss'])\n",
    "plt.plot(history.history['val_loss'])\n",
    "plt.ylim(0,1)\n",
    "plt.ylabel('loss')\n",
    "plt.xlabel('epoch')\n",
    "plt.legend(['train loss', 'validation loss'], loc='upper right')\n",
    "\n",
    "# print the best accuracy reached on the test set\n",
    "print(\"Best Accuracy on Validation Set =\", max(history.history['val_accuracy']))\n",
    "print(\"Lowest error on Training Set =\", min(history.history['loss']))\n",
    "print(\"Lowest error on Validation Set =\", min(history.history['val_loss']))"
   ]
  },
  {
   "cell_type": "markdown",
   "metadata": {
    "colab": {},
    "colab_type": "code",
    "id": "JrH8i4ciQOuk"
   },
   "source": [
    "The gap between the training error and validation error is slightly larger due to the increase in regularization. In this case, there was no overfitting in the original model. As a result, regularization increased the error rate on the training and validation dataset."
   ]
  },
  {
   "cell_type": "markdown",
   "metadata": {
    "colab_type": "text",
    "id": "zb_FDiAg_CMU"
   },
   "source": [
    "## Early Stopping\n",
    "By monitoring the training process, we can train the model just enough for it to capture the form of the process, and we can stop the training right before it starts to overfit to individual data examples. This means forcing the Keras model to stop the training when a desired metric e.g. test error rate is not improving anymore."
   ]
  },
  {
   "cell_type": "markdown",
   "metadata": {},
   "source": [
    "#### Recreating the base model"
   ]
  },
  {
   "cell_type": "code",
   "execution_count": 151,
   "metadata": {
    "colab": {
     "base_uri": "https://localhost:8080/",
     "height": 444
    },
    "colab_type": "code",
    "id": "yynONm5kRehf",
    "outputId": "d716daa9-25e8-4b68-e422-85fc9293b919"
   },
   "outputs": [
    {
     "name": "stdout",
     "output_type": "stream",
     "text": [
      "Best Accuracy on Validation Set = 0.72079998254776\n",
      "Lowest error on Training Set = 0.5150706218878428\n",
      "Lowest error on Validation Set = 0.5370968613624573\n"
     ]
    },
    {
     "data": {
      "image/png": "[encoded data removed]",
      "text/plain": [
       "<Figure size 432x432 with 1 Axes>"
      ]
     },
     "metadata": {
      "needs_background": "light",
      "tags": []
     },
     "output_type": "display_data"
    }
   ],
   "source": [
    "model_2 = Sequential()\n",
    "model_2.add(Dense(18, input_dim=X_train.shape[1], activation='tanh'))\n",
    "model_2.add(Dense(9, activation='tanh'))\n",
    "model_2.add(Dense(1, activation='sigmoid'))\n",
    "\n",
    "# compile model 3\n",
    "model_2.compile(optimizer='sgd', loss='binary_crossentropy',metrics=['accuracy'])\n",
    "\n",
    "# train the model\n",
    "history=model_2.fit(X_train, y_train, batch_size=20, epochs=100, validation_data=(X_test, y_test), verbose=0, shuffle=False)\n",
    "\n",
    "# plot training error and test error\n",
    "matplotlib.rcParams['figure.figsize'] = (6.0, 6.0)\n",
    "plt.plot(history.history['loss'])\n",
    "plt.plot(history.history['val_loss'])\n",
    "plt.ylim(0,1)\n",
    "plt.ylabel('loss')\n",
    "plt.xlabel('epoch')\n",
    "plt.legend(['train loss', 'validation loss'], loc='upper right')\n",
    "\n",
    "print(\"Best Accuracy on Validation Set =\", max(history.history['val_accuracy']))\n",
    "print(\"Lowest error on Training Set =\", min(history.history['loss']))\n",
    "print(\"Lowest error on Validation Set =\", min(history.history['val_loss']))"
   ]
  },
  {
   "cell_type": "markdown",
   "metadata": {
    "colab": {},
    "colab_type": "code",
    "id": "o6r2SKSQCAAz"
   },
   "source": [
    "From the preceding plot, we can see that the training the model for 100 epochs results in a gap that grows between the training error and validation error, which is indicative of overfitting beginning to happen."
   ]
  },
  {
   "cell_type": "markdown",
   "metadata": {
    "colab": {
     "base_uri": "https://localhost:8080/",
     "height": 444
    },
    "colab_type": "code",
    "id": "pYYBlEKaEBRK",
    "outputId": "8e22481b-8e1d-4edb-dfd1-851e25725dd6"
   },
   "source": [
    "#### Redefining the model exactly the same way and adding a callback to the training process"
   ]
  },
  {
   "cell_type": "code",
   "execution_count": 153,
   "metadata": {
    "colab": {
     "base_uri": "https://localhost:8080/",
     "height": 444
    },
    "colab_type": "code",
    "id": "pYYBlEKaEBRK",
    "outputId": "8e22481b-8e1d-4edb-dfd1-851e25725dd6"
   },
   "outputs": [
    {
     "name": "stdout",
     "output_type": "stream",
     "text": [
      "Best Accuracy on Validation Set = 0.7192000150680542\n",
      "Lowest error on Training Set = 0.5166841110388438\n",
      "Lowest error on Validation Set = 0.5350715706348419\n"
     ]
    },
    {
     "data": {
      "image/png": "[encoded data removed]",
      "text/plain": [
       "<Figure size 432x432 with 1 Axes>"
      ]
     },
     "metadata": {
      "needs_background": "light",
      "tags": []
     },
     "output_type": "display_data"
    }
   ],
   "source": [
    "from keras.callbacks import EarlyStopping\n",
    "# Recreate the base model\n",
    "model_2 = Sequential()\n",
    "model_2.add(Dense(18, input_dim=X_train.shape[1], activation='tanh'))\n",
    "model_2.add(Dense(9, activation='tanh'))\n",
    "model_2.add(Dense(1, activation='sigmoid'))\n",
    "\n",
    "# compile model 3\n",
    "model_2.compile(optimizer='sgd', loss='binary_crossentropy',metrics=['accuracy'])\n",
    "\n",
    "# define early stopping callback\n",
    "# since the metric is error/loss, we would like to minimize it\n",
    "es_callback = EarlyStopping(monitor='val_loss', mode='min')\n",
    "\n",
    "# train the model\n",
    "history=model_2.fit(X_train, y_train, batch_size=20, epochs=100, validation_data=(X_test, y_test), callbacks=[es_callback], verbose=0, shuffle=False)\n",
    "\n",
    "# plot training error and test error\n",
    "matplotlib.rcParams['figure.figsize'] = (6.0, 6.0)\n",
    "plt.plot(history.history['loss'])\n",
    "plt.plot(history.history['val_loss'])\n",
    "plt.ylim(0,1)\n",
    "plt.ylabel('loss')\n",
    "plt.xlabel('epoch')\n",
    "plt.legend(['train loss', 'validation loss'], loc='upper right')\n",
    "\n",
    "print(\"Best Accuracy on Validation Set =\", max(history.history['val_accuracy']))\n",
    "print(\"Lowest error on Training Set =\", min(history.history['loss']))\n",
    "print(\"Lowest error on Validation Set =\", min(history.history['val_loss']))"
   ]
  },
  {
   "cell_type": "markdown",
   "metadata": {
    "colab": {},
    "colab_type": "code",
    "id": "7xqO3o8SG9m0"
   },
   "source": [
    "By adding the early stopping callback with patience=0 to the model, the training process automatically stops after about 65 epochs. If there are a lot of fluctuations or noise in the error rates, it is probably NOT a good idea to stop the training immediately when the loss begins to increase. For this reason, we can set the patience argument to a number  of epochs to give the early stopping method some time to monitor the desired metric for longer before stopping the training process."
   ]
  },
  {
   "cell_type": "markdown",
   "metadata": {
    "colab": {
     "base_uri": "https://localhost:8080/",
     "height": 444
    },
    "colab_type": "code",
    "id": "_IhHzQIdHcIy",
    "outputId": "f8b1d3e0-28b6-4491-8c4d-0663c9555dba"
   },
   "source": [
    "#### Redefining the model and adding a callback with patience=10 to the training process"
   ]
  },
  {
   "cell_type": "code",
   "execution_count": 155,
   "metadata": {
    "colab": {
     "base_uri": "https://localhost:8080/",
     "height": 444
    },
    "colab_type": "code",
    "id": "_IhHzQIdHcIy",
    "outputId": "f8b1d3e0-28b6-4491-8c4d-0663c9555dba"
   },
   "outputs": [
    {
     "name": "stdout",
     "output_type": "stream",
     "text": [
      "Best Accuracy on Validation Set = 0.7228000164031982\n",
      "Lowest error on Training Set = 0.5202365859349569\n",
      "Lowest error on Validation Set = 0.5352703838348388\n"
     ]
    },
    {
     "data": {
      "image/png": "[encoded data removed]",
      "text/plain": [
       "<Figure size 432x432 with 1 Axes>"
      ]
     },
     "metadata": {
      "needs_background": "light",
      "tags": []
     },
     "output_type": "display_data"
    }
   ],
   "source": [
    "from keras.callbacks import EarlyStopping\n",
    "# Recreate the base model\n",
    "model_2 = Sequential()\n",
    "model_2.add(Dense(18, input_dim=X_train.shape[1], activation='tanh'))\n",
    "model_2.add(Dense(9, activation='tanh'))\n",
    "model_2.add(Dense(1, activation='sigmoid'))\n",
    "\n",
    "# compile model 3\n",
    "model_2.compile(optimizer='sgd', loss='binary_crossentropy',metrics=['accuracy'])\n",
    "\n",
    "# define early stopping callback\n",
    "# since the metric is error/loss, we would like to minimize it\n",
    "es_callback = EarlyStopping(monitor='val_loss', mode='min', patience=10)\n",
    "\n",
    "# train the model\n",
    "history=model_2.fit(X_train, y_train, batch_size=20, epochs=100, validation_data=(X_test, y_test), callbacks=[es_callback], verbose=0, shuffle=False)\n",
    "\n",
    "# plot training error and test error\n",
    "matplotlib.rcParams['figure.figsize'] = (6.0, 6.0)\n",
    "plt.plot(history.history['loss'])\n",
    "plt.plot(history.history['val_loss'])\n",
    "plt.ylim(0,1)\n",
    "plt.ylabel('loss')\n",
    "plt.xlabel('epoch')\n",
    "plt.legend(['train loss', 'validation loss'], loc='upper right')\n",
    "\n",
    "print(\"Best Accuracy on Validation Set =\", max(history.history['val_accuracy']))\n",
    "print(\"Lowest error on Training Set =\", min(history.history['loss']))\n",
    "print(\"Lowest error on Validation Set =\", min(history.history['val_loss']))"
   ]
  },
  {
   "cell_type": "markdown",
   "metadata": {
    "colab": {},
    "colab_type": "code",
    "id": "7BrlCi_FIy9g"
   },
   "source": [
    "By adding the early stopping callback with patience=10 to the model, the training process automatically stops after about 85 epochs."
   ]
  },
  {
   "cell_type": "markdown",
   "metadata": {
    "colab_type": "text",
    "id": "Iki2HWmrOVY3"
   },
   "source": [
    "## Hyperparameter Tuning with scikit-learn\n",
    "The process of training and evaluating models with different hyperparameters and deciding about the final hyperparameters based on model performance is called hyperparameter tuning or hyperparameter optimization."
   ]
  },
  {
   "cell_type": "markdown",
   "metadata": {
    "colab": {},
    "colab_type": "code",
    "id": "03oC65ZrPGsY"
   },
   "source": [
    "#### Recreating the function that returns the keras model with regularization"
   ]
  },
  {
   "cell_type": "code",
   "execution_count": 0,
   "metadata": {
    "colab": {},
    "colab_type": "code",
    "id": "03oC65ZrPGsY"
   },
   "outputs": [],
   "source": [
    "def build_model_2(lambda_parameter): \n",
    "  model_2 = Sequential()\n",
    "  model_2.add(Dense(18, input_dim=X_train.shape[1], activation='relu', kernel_regularizer=l2(lambda_parameter)))\n",
    "  model_2.add(Dense(9, activation='relu', kernel_regularizer=l2(lambda_parameter)))\n",
    "  model_2.add(Dense(1, activation='sigmoid'))\n",
    "  # compile model 3\n",
    "  model_2.compile(optimizer='sgd', loss='binary_crossentropy', metrics=['accuracy'])\n",
    "  \n",
    "  return model"
   ]
  },
  {
   "cell_type": "markdown",
   "metadata": {
    "colab": {},
    "colab_type": "code",
    "id": "M4Ov6YoNR06N"
   },
   "source": [
    "#### Setting a seed, using a scikit-learn wrapper to wrap the model that was created in the previous step, and define the hyperparameters to scan. Finally, performing GridSearchCV() on the model using the hyperparameter's grid and fitting the model"
   ]
  },
  {
   "cell_type": "code",
   "execution_count": 0,
   "metadata": {
    "colab": {},
    "colab_type": "code",
    "id": "M4Ov6YoNR06N"
   },
   "outputs": [],
   "source": [
    "from keras.wrappers.scikit_learn import KerasClassifier\n",
    "from sklearn.model_selection import GridSearchCV\n",
    "from keras.regularizers import l2\n",
    "# define a seed for random number generator so the result will be reproducible\n",
    "seed = 99\n",
    "np.random.seed(seed)\n",
    "random.set_seed(seed)\n",
    "\n",
    "# define all the possible values for each hyperparameter\n",
    "lambda_parameter = [0.01, 0.5, 1]\n",
    "epochs = [50, 100]\n",
    "batch_size = [20]\n",
    "\n",
    "# create the Keras wrapper with scikit learn\n",
    "model = KerasClassifier(build_fn=build_model_2, verbose=0, shuffle=False)\n",
    "\n",
    "print(model.loss)\n",
    "\n",
    "# create the dictionary containing all possible values of hyperparameters\n",
    "param_grid = dict(lambda_parameter=lambda_parameter, epochs=epochs, batch_size=batch_size)\n",
    "\n",
    "# perform 5-fold cross-validation for the model and store the results\n",
    "grid_search = GridSearchCV(estimator=model, param_grid=param_grid, n_jobs=-1, cv=5)\n",
    "\n",
    "results_1 = grid_search.fit(X_train, y_train)\n",
    "\n",
    "# Print the results for the best cross-valiation score that's stored within\n",
    "# the variable that was created in the fit process. Iterate through all the parameters\n",
    "# and print the mean of the accuracy across all the folds, the standard deviation\n",
    "# of the accuracy and the parameters themselves.\n",
    "\n",
    "print(\"Best cross-validation score =\", results_1.best_score_)\n",
    "print(\"Parameters for Best cross-validation score =\", results_1.best_params_)\n",
    "\n",
    "# print the results for all evaluated hyperparameter combinations\n",
    "accuracy_means = results_1.cv_results_['mean_test_score']\n",
    "accuracy_stds = results_1.cv_results_['std_test_score']\n",
    "parameters = results_1.cv_results_['params']\n",
    "\n",
    "for p in range(len(parameters)):\n",
    "  print(\"Accuracy %f (std %f) for params %r\" % (accuracy_means[p], accuracy_stds[p], parameters[p]))"
   ]
  },
  {
   "cell_type": "markdown",
   "metadata": {
    "colab_type": "text",
    "id": "KT4cFrYTWL5S"
   },
   "source": [
    "## Deep Neural Network with Pre-Trained GloVe Embedding\n",
    "A word embedding is a class of approaches for representing words and documents using a dense vector representation. It is an improvement over more the traditional bag-of-words model encoding schemes where large sparse vectors were used to represent each word or to score each word within a vector to represent an entire vocabulary. These representations were sparse because the vocabularies were vast and a given word or document would be represented by a large vector comprised mostly of zero values.\n",
    "Two popular examples of methods of learning word embeddings from text are : Word2Vec and GloVe"
   ]
  },
  {
   "cell_type": "code",
   "execution_count": 166,
   "metadata": {
    "colab": {
     "base_uri": "https://localhost:8080/",
     "height": 34
    },
    "colab_type": "code",
    "id": "lUwUz5C0lNvF",
    "outputId": "acf882d9-9e27-4dcd-908d-ce8920a79ab9"
   },
   "outputs": [
    {
     "name": "stdout",
     "output_type": "stream",
     "text": [
      "Loaded 400000 word vectors.\n"
     ]
    }
   ],
   "source": [
    "# Combine q1 and q2 columns\n",
    "df['q1_q2_combined'] = df.question1.str.cat(df.question2,sep=\" \")\n",
    "df.head()\n",
    "\n",
    "docs = df.q1_q2_combined.to_list()\n",
    "labels = df.is_duplicate.to_list()\n",
    "docs[0]\n",
    "\n",
    "from numpy import asarray\n",
    "from numpy import zeros\n",
    "from keras.preprocessing.text import Tokenizer\n",
    "from keras.preprocessing.sequence import pad_sequences\n",
    "from keras.models import Sequential\n",
    "from keras.layers import Dense\n",
    "from keras.layers import Flatten\n",
    "from keras.layers import Embedding\n",
    "\n",
    "# prepare tokenizer\n",
    "t = Tokenizer()\n",
    "t.fit_on_texts(docs)\n",
    "vocab_size = len(t.word_index) + 1\n",
    "\n",
    "# integer encode the documents\n",
    "encoded_docs = t.texts_to_sequences(docs)\n",
    "# print(encoded_docs)\n",
    "\n",
    "# pad documents to a max length = questions with highest number of words q1+q2\n",
    "max_length = max([len(s.split()) for s in docs])\n",
    "padded_docs = pad_sequences(encoded_docs, maxlen=max_length, padding='post')\n",
    "# print(padded_docs)\n",
    "\n",
    "# load the whole embedding into memory\n",
    "embeddings_index = dict()\n",
    "f = open('drive/My Drive/Colab Notebooks/glove.6B.100d.txt', mode='rt', encoding='utf-8')\n",
    "for line in f:\n",
    "  values = line.split()\n",
    "  word = values[0]\n",
    "  coefs = asarray(values[1:], dtype='float32')\n",
    "  embeddings_index[word] = coefs\n",
    "f.close()\n",
    "print('Loaded %s word vectors.' % len(embeddings_index))\n",
    "\n",
    "# create a weight matrix for words in training docs\n",
    "embedding_matrix = zeros((vocab_size, 100))\n",
    "for word, i in t.word_index.items():\n",
    "  embedding_vector = embeddings_index.get(word)\n",
    "  if embedding_vector is not None:\n",
    "    embedding_matrix[i] = embedding_vector\n"
   ]
  },
  {
   "cell_type": "markdown",
   "metadata": {
    "colab": {},
    "colab_type": "code",
    "id": "dLeMgAgjWnJU"
   },
   "source": [
    "#### Defining 3 functions, each returning a different Keras model. The goal is to find out which of these 3 models leads to the lowest cross-validation error rate."
   ]
  },
  {
   "cell_type": "code",
   "execution_count": 0,
   "metadata": {
    "colab": {},
    "colab_type": "code",
    "id": "dLeMgAgjWnJU"
   },
   "outputs": [],
   "source": [
    "# Create a function that returns the keras model 1\n",
    "def build_model_1(activation='tanh', optimizer='adam'):\n",
    "  # create model 1  \n",
    "  model = Sequential()\n",
    "  e = Embedding(vocab_size, 100, weights=[embedding_matrix], input_length=max_length, trainable=False)\n",
    "  model.add(e)\n",
    "  model.add(Flatten())\n",
    "  model.add(Dense(1, activation='sigmoid'))\n",
    "  # compile the model\n",
    "  model.compile(optimizer=optimizer, loss='binary_crossentropy', metrics=['accuracy'])\n",
    "  return model\n",
    "\n",
    "# Create a function that returns the keras model 2\n",
    "def build_model_2(activation='tanh', optimizer='adam'):\n",
    "  # create model 2  \n",
    "  model = Sequential()\n",
    "  e = Embedding(vocab_size, 100, weights=[embedding_matrix], input_length=max_length, trainable=False)\n",
    "  model.add(e)\n",
    "  model.add(Flatten())\n",
    "  model.add(Dense(50, activation=activation))\n",
    "  model.add(Dense(1, activation='sigmoid'))\n",
    "  # compile the model\n",
    "  model.compile(optimizer=optimizer, loss='binary_crossentropy', metrics=['accuracy'])\n",
    "  return model\n",
    "\n",
    "# Create a function that returns the keras model 3\n",
    "def build_model_3(activation='tanh', optimizer='adam'):\n",
    "  # create model 3\n",
    "  model = Sequential()\n",
    "  e = Embedding(vocab_size, 100, weights=[embedding_matrix], input_length=max_length, trainable=False)\n",
    "  model.add(e)\n",
    "  model.add(Flatten())\n",
    "  model.add(Dense(50, activation=activation))\n",
    "  model.add(Dense(25, activation=activation))\n",
    "  model.add(Dense(1, activation='sigmoid'))\n",
    "  # compile the model\n",
    "  model.compile(optimizer=optimizer, loss='binary_crossentropy', metrics=['accuracy'])\n",
    "  return model"
   ]
  },
  {
   "cell_type": "markdown",
   "metadata": {
    "colab": {
     "base_uri": "https://localhost:8080/",
     "height": 69
    },
    "colab_type": "code",
    "id": "4wks4q3gWvAV",
    "outputId": "840484cb-fd40-4b23-db2d-8604e4e3c58a"
   },
   "source": [
    "#### Writing code that will loop over the three models and perform 5-fold cross-validation. "
   ]
  },
  {
   "cell_type": "code",
   "execution_count": 163,
   "metadata": {
    "colab": {
     "base_uri": "https://localhost:8080/",
     "height": 69
    },
    "colab_type": "code",
    "id": "4wks4q3gWvAV",
    "outputId": "840484cb-fd40-4b23-db2d-8604e4e3c58a"
   },
   "outputs": [
    {
     "name": "stdout",
     "output_type": "stream",
     "text": [
      "Model  1  cross-validation score =  0.5130999922752381\n",
      "Model  2  cross-validation score =  0.5001999974250794\n",
      "Model  3  cross-validation score =  0.5055999994277954\n"
     ]
    }
   ],
   "source": [
    "from tensorflow import random\n",
    "from keras.wrappers.scikit_learn import KerasClassifier\n",
    "from sklearn.model_selection import StratifiedKFold, cross_val_score\n",
    "\n",
    "#defining a seed for random number generator so the result will be reproducible\n",
    "seed = 99\n",
    "np.random.seed(seed)\n",
    "random.set_seed(seed)\n",
    "\n",
    "# determine the number of folds for k-fold cross-validation, number of epochs and batch size\n",
    "n_folds = 5\n",
    "batch_size = 20\n",
    "epochs = 50\n",
    "\n",
    "# define the list to store cross-validation scores\n",
    "results_1 = []\n",
    "\n",
    "# define the possible options for the model\n",
    "models =[build_model_1, build_model_2, build_model_3]\n",
    "\n",
    "# loop over the models\n",
    "for m in range(len(models)):\n",
    "  # build the scikit-learn interface for the keras model\n",
    "  classifier = KerasClassifier(build_fn=models[m], epochs=epochs, batch_size=batch_size, verbose=0, shuffle=False)\n",
    "  # define the cross-validation iterator\n",
    "  kfold = StratifiedKFold(n_splits=n_folds, shuffle=True, random_state=seed)\n",
    "  # perform the k-fold cross-validation and store the scores in result\n",
    "  result = cross_val_score(classifier, padded_docs, labels, cv=kfold)\n",
    "  # add the scores to the results list\n",
    "  results_1.append(result)\n",
    "  # Print cross-validation score for each model\n",
    "  print(\"Model \", m+1, \" cross-validation score = \", abs(results_1[m].mean()))"
   ]
  },
  {
   "cell_type": "markdown",
   "metadata": {
    "colab_type": "text",
    "id": "u4Q7zT4mW3lX"
   },
   "source": [
    "#### Adding a Convolutional Layer to the GloVe Embedding Model above"
   ]
  },
  {
   "cell_type": "code",
   "execution_count": 165,
   "metadata": {
    "colab": {
     "base_uri": "https://localhost:8080/",
     "height": 34
    },
    "colab_type": "code",
    "id": "_9HnA8kYW1m6",
    "outputId": "ced2ebc8-b192-4da0-995f-85c1a8401bc3"
   },
   "outputs": [
    {
     "name": "stdout",
     "output_type": "stream",
     "text": [
      "Cross-validation score =  0.5055999994277954\n"
     ]
    }
   ],
   "source": [
    "from keras.layers.convolutional import Conv1D, MaxPooling1D\n",
    "def build_model_2(activation='tanh', optimizer='adam'):\n",
    "  # create model 2  \n",
    "  model = Sequential()\n",
    "  e = Embedding(vocab_size, 100, weights=[embedding_matrix], input_length=max_length, trainable=False)\n",
    "  model.add(e)\n",
    "  model.add(Conv1D(filters=32, kernel_size=8, activation=activation))\n",
    "  model.add(MaxPooling1D(pool_size=2))\n",
    "  model.add(Flatten())\n",
    "  model.add(Dense(50, activation=activation))\n",
    "  model.add(Dense(1, activation='sigmoid'))\n",
    "  # compile the model\n",
    "  model.compile(optimizer=optimizer, loss='binary_crossentropy', metrics=['accuracy'])\n",
    "  return model\n",
    "\n",
    "\n",
    "# build the scikit-learn interface for the keras model\n",
    "classifier = KerasClassifier(build_fn=build_model_2, epochs=epochs, batch_size=batch_size, verbose=0, shuffle=False)\n",
    "# define the cross-validation iterator\n",
    "kfold = StratifiedKFold(n_splits=n_folds, shuffle=True, random_state=seed)\n",
    "# perform the k-fold cross-validation and store the scores in result\n",
    "result = cross_val_score(classifier, padded_docs, labels, cv=kfold)\n",
    "# add the scores to the results list\n",
    "results_1.append(result)\n",
    "# Print cross-validation score for each model\n",
    "print(\"Cross-validation score = \", abs(results_1[m].mean()))"
   ]
  },
  {
   "cell_type": "markdown",
   "metadata": {},
   "source": [
    "## Summary"
   ]
  },
  {
   "cell_type": "markdown",
   "metadata": {},
   "source": [
    "![Summary](./summary.png)"
   ]
  },
  {
   "cell_type": "code",
   "execution_count": null,
   "metadata": {},
   "outputs": [],
   "source": []
  }
 ],
 "metadata": {
  "colab": {
   "collapsed_sections": [],
   "machine_shape": "hm",
   "name": "QuoraQuestionsV1.ipynb",
   "provenance": []
  },
  "kernelspec": {
   "display_name": "Python 3",
   "language": "python",
   "name": "python3"
  },
  "language_info": {
   "codemirror_mode": {
    "name": "ipython",
    "version": 3
   },
   "file_extension": ".py",
   "mimetype": "text/x-python",
   "name": "python",
   "nbconvert_exporter": "python",
   "pygments_lexer": "ipython3",
   "version": "3.7.6"
  }
 },
 "nbformat": 4,
 "nbformat_minor": 1
}
