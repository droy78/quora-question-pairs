{
  "nbformat": 4,
  "nbformat_minor": 0,
  "metadata": {
    "kernelspec": {
      "display_name": "Python 3",
      "language": "python",
      "name": "python3"
    },
    "language_info": {
      "codemirror_mode": {
        "name": "ipython",
        "version": 3
      },
      "file_extension": ".py",
      "mimetype": "text/x-python",
      "name": "python",
      "nbconvert_exporter": "python",
      "pygments_lexer": "ipython3",
      "version": "3.7.6"
    },
    "colab": {
      "name": "QuoraQuestionsV1.ipynb",
      "provenance": []
    }
  },
  "cells": [
    {
      "cell_type": "markdown",
      "metadata": {
        "id": "mpply_LygY9e",
        "colab_type": "text"
      },
      "source": [
        "## Importing the Libraries and Data"
      ]
    },
    {
      "cell_type": "code",
      "metadata": {
        "id": "1jY6XBFpEcpR",
        "colab_type": "code",
        "colab": {
          "base_uri": "https://localhost:8080/",
          "height": 104
        },
        "outputId": "fe0224cf-6c25-4df2-b7b9-49eb098af637"
      },
      "source": [
        "import numpy as np\n",
        "import pandas as pd\n",
        "import matplotlib.pyplot as plt\n",
        "\n",
        "import nltk\n",
        "nltk.download('wordnet')\n",
        "from textblob import Word\n",
        "\n",
        "from sklearn.feature_extraction.text import TfidfVectorizer\n",
        "from scipy.spatial.distance import cosine, cityblock, jaccard, canberra, euclidean, minkowski, braycurtis\n",
        "\n",
        "!pip install fuzzywuzzy\n",
        "!pip install python-Levenshtein\n",
        "from fuzzywuzzy import fuzz\n",
        "\n",
        "from sklearn import model_selection, preprocessing, linear_model, naive_bayes, metrics, svm, tree, ensemble"
      ],
      "execution_count": 17,
      "outputs": [
        {
          "output_type": "stream",
          "text": [
            "[nltk_data] Downloading package wordnet to /root/nltk_data...\n",
            "[nltk_data]   Package wordnet is already up-to-date!\n",
            "Requirement already satisfied: fuzzywuzzy in /usr/local/lib/python3.6/dist-packages (0.18.0)\n",
            "Requirement already satisfied: python-Levenshtein in /usr/local/lib/python3.6/dist-packages (0.12.0)\n",
            "Requirement already satisfied: setuptools in /usr/local/lib/python3.6/dist-packages (from python-Levenshtein) (46.1.3)\n"
          ],
          "name": "stdout"
        }
      ]
    },
    {
      "cell_type": "code",
      "metadata": {
        "id": "b8-GySt8E694",
        "colab_type": "code",
        "outputId": "1df4bd67-78fe-4004-9a35-843ab3ed6987",
        "colab": {
          "base_uri": "https://localhost:8080/",
          "height": 34
        }
      },
      "source": [
        "from google.colab import drive\n",
        "drive.mount('/content/drive')"
      ],
      "execution_count": 18,
      "outputs": [
        {
          "output_type": "stream",
          "text": [
            "Drive already mounted at /content/drive; to attempt to forcibly remount, call drive.mount(\"/content/drive\", force_remount=True).\n"
          ],
          "name": "stdout"
        }
      ]
    },
    {
      "cell_type": "code",
      "metadata": {
        "id": "cnPJvtjfEcpV",
        "colab_type": "code",
        "colab": {}
      },
      "source": [
        "df = pd.read_csv(\"drive/My Drive/Colab Notebooks/CapstoneProject/train.csv\")"
      ],
      "execution_count": 0,
      "outputs": []
    },
    {
      "cell_type": "markdown",
      "metadata": {
        "id": "OFq-RBzYEcpY",
        "colab_type": "text"
      },
      "source": [
        "## Exploratory Data Analysis"
      ]
    },
    {
      "cell_type": "code",
      "metadata": {
        "id": "8oLJRmJqbC5C",
        "colab_type": "code",
        "colab": {
          "base_uri": "https://localhost:8080/",
          "height": 34
        },
        "outputId": "1b6e9bd5-db34-42a1-a8f1-da3746041b08"
      },
      "source": [
        "print(\"Number of data points:\",df.shape[0])"
      ],
      "execution_count": 20,
      "outputs": [
        {
          "output_type": "stream",
          "text": [
            "Number of data points: 404290\n"
          ],
          "name": "stdout"
        }
      ]
    },
    {
      "cell_type": "code",
      "metadata": {
        "id": "in5AFaxngbkk",
        "colab_type": "code",
        "colab": {
          "base_uri": "https://localhost:8080/",
          "height": 198
        },
        "outputId": "98fce315-7820-4bf1-b54e-9fdba440dfc1"
      },
      "source": [
        "df.head()"
      ],
      "execution_count": 21,
      "outputs": [
        {
          "output_type": "execute_result",
          "data": {
            "text/html": [
              "<div>\n",
              "<style scoped>\n",
              "    .dataframe tbody tr th:only-of-type {\n",
              "        vertical-align: middle;\n",
              "    }\n",
              "\n",
              "    .dataframe tbody tr th {\n",
              "        vertical-align: top;\n",
              "    }\n",
              "\n",
              "    .dataframe thead th {\n",
              "        text-align: right;\n",
              "    }\n",
              "</style>\n",
              "<table border=\"1\" class=\"dataframe\">\n",
              "  <thead>\n",
              "    <tr style=\"text-align: right;\">\n",
              "      <th></th>\n",
              "      <th>id</th>\n",
              "      <th>qid1</th>\n",
              "      <th>qid2</th>\n",
              "      <th>question1</th>\n",
              "      <th>question2</th>\n",
              "      <th>is_duplicate</th>\n",
              "    </tr>\n",
              "  </thead>\n",
              "  <tbody>\n",
              "    <tr>\n",
              "      <th>0</th>\n",
              "      <td>0</td>\n",
              "      <td>1</td>\n",
              "      <td>2</td>\n",
              "      <td>What is the step by step guide to invest in sh...</td>\n",
              "      <td>What is the step by step guide to invest in sh...</td>\n",
              "      <td>0</td>\n",
              "    </tr>\n",
              "    <tr>\n",
              "      <th>1</th>\n",
              "      <td>1</td>\n",
              "      <td>3</td>\n",
              "      <td>4</td>\n",
              "      <td>What is the story of Kohinoor (Koh-i-Noor) Dia...</td>\n",
              "      <td>What would happen if the Indian government sto...</td>\n",
              "      <td>0</td>\n",
              "    </tr>\n",
              "    <tr>\n",
              "      <th>2</th>\n",
              "      <td>2</td>\n",
              "      <td>5</td>\n",
              "      <td>6</td>\n",
              "      <td>How can I increase the speed of my internet co...</td>\n",
              "      <td>How can Internet speed be increased by hacking...</td>\n",
              "      <td>0</td>\n",
              "    </tr>\n",
              "    <tr>\n",
              "      <th>3</th>\n",
              "      <td>3</td>\n",
              "      <td>7</td>\n",
              "      <td>8</td>\n",
              "      <td>Why am I mentally very lonely? How can I solve...</td>\n",
              "      <td>Find the remainder when [math]23^{24}[/math] i...</td>\n",
              "      <td>0</td>\n",
              "    </tr>\n",
              "    <tr>\n",
              "      <th>4</th>\n",
              "      <td>4</td>\n",
              "      <td>9</td>\n",
              "      <td>10</td>\n",
              "      <td>Which one dissolve in water quikly sugar, salt...</td>\n",
              "      <td>Which fish would survive in salt water?</td>\n",
              "      <td>0</td>\n",
              "    </tr>\n",
              "  </tbody>\n",
              "</table>\n",
              "</div>"
            ],
            "text/plain": [
              "   id  qid1  ...                                          question2 is_duplicate\n",
              "0   0     1  ...  What is the step by step guide to invest in sh...            0\n",
              "1   1     3  ...  What would happen if the Indian government sto...            0\n",
              "2   2     5  ...  How can Internet speed be increased by hacking...            0\n",
              "3   3     7  ...  Find the remainder when [math]23^{24}[/math] i...            0\n",
              "4   4     9  ...            Which fish would survive in salt water?            0\n",
              "\n",
              "[5 rows x 6 columns]"
            ]
          },
          "metadata": {
            "tags": []
          },
          "execution_count": 21
        }
      ]
    },
    {
      "cell_type": "code",
      "metadata": {
        "id": "MYglTHF0EcqL",
        "colab_type": "code",
        "outputId": "dc26ab7e-f158-4f83-9973-7820919ce145",
        "colab": {
          "base_uri": "https://localhost:8080/",
          "height": 242
        }
      },
      "source": [
        "df.info()"
      ],
      "execution_count": 22,
      "outputs": [
        {
          "output_type": "stream",
          "text": [
            "<class 'pandas.core.frame.DataFrame'>\n",
            "RangeIndex: 404290 entries, 0 to 404289\n",
            "Data columns (total 6 columns):\n",
            " #   Column        Non-Null Count   Dtype \n",
            "---  ------        --------------   ----- \n",
            " 0   id            404290 non-null  int64 \n",
            " 1   qid1          404290 non-null  int64 \n",
            " 2   qid2          404290 non-null  int64 \n",
            " 3   question1     404289 non-null  object\n",
            " 4   question2     404288 non-null  object\n",
            " 5   is_duplicate  404290 non-null  int64 \n",
            "dtypes: int64(4), object(2)\n",
            "memory usage: 18.5+ MB\n"
          ],
          "name": "stdout"
        }
      ]
    },
    {
      "cell_type": "code",
      "metadata": {
        "id": "4UXvgagchXcE",
        "colab_type": "code",
        "colab": {
          "base_uri": "https://localhost:8080/",
          "height": 78
        },
        "outputId": "2e6127f0-a8ee-4473-c396-e34fa3ac9e9f"
      },
      "source": [
        "#question1 has 1 null value \n",
        "#question2 has 2 null values\n",
        "#Let's locate which question1 has a null value\n",
        "df[df.question1.isnull()]"
      ],
      "execution_count": 23,
      "outputs": [
        {
          "output_type": "execute_result",
          "data": {
            "text/html": [
              "<div>\n",
              "<style scoped>\n",
              "    .dataframe tbody tr th:only-of-type {\n",
              "        vertical-align: middle;\n",
              "    }\n",
              "\n",
              "    .dataframe tbody tr th {\n",
              "        vertical-align: top;\n",
              "    }\n",
              "\n",
              "    .dataframe thead th {\n",
              "        text-align: right;\n",
              "    }\n",
              "</style>\n",
              "<table border=\"1\" class=\"dataframe\">\n",
              "  <thead>\n",
              "    <tr style=\"text-align: right;\">\n",
              "      <th></th>\n",
              "      <th>id</th>\n",
              "      <th>qid1</th>\n",
              "      <th>qid2</th>\n",
              "      <th>question1</th>\n",
              "      <th>question2</th>\n",
              "      <th>is_duplicate</th>\n",
              "    </tr>\n",
              "  </thead>\n",
              "  <tbody>\n",
              "    <tr>\n",
              "      <th>363362</th>\n",
              "      <td>363362</td>\n",
              "      <td>493340</td>\n",
              "      <td>493341</td>\n",
              "      <td>NaN</td>\n",
              "      <td>My Chinese name is Haichao Yu. What English na...</td>\n",
              "      <td>0</td>\n",
              "    </tr>\n",
              "  </tbody>\n",
              "</table>\n",
              "</div>"
            ],
            "text/plain": [
              "            id  ...  is_duplicate\n",
              "363362  363362  ...             0\n",
              "\n",
              "[1 rows x 6 columns]"
            ]
          },
          "metadata": {
            "tags": []
          },
          "execution_count": 23
        }
      ]
    },
    {
      "cell_type": "code",
      "metadata": {
        "id": "yvj7L6nRhjJL",
        "colab_type": "code",
        "colab": {
          "base_uri": "https://localhost:8080/",
          "height": 78
        },
        "outputId": "73302e7f-9f00-4550-bd45-9fad87f77708"
      },
      "source": [
        "#The Null question1 has an qid1 = 493340. \n",
        "#Let's check if there is an instance of qid = 493340 is present anywhere in the dataset with a valid question attached to it.\n",
        "df[(df.qid1 == 493340) | (df.qid2 == 493340)]"
      ],
      "execution_count": 24,
      "outputs": [
        {
          "output_type": "execute_result",
          "data": {
            "text/html": [
              "<div>\n",
              "<style scoped>\n",
              "    .dataframe tbody tr th:only-of-type {\n",
              "        vertical-align: middle;\n",
              "    }\n",
              "\n",
              "    .dataframe tbody tr th {\n",
              "        vertical-align: top;\n",
              "    }\n",
              "\n",
              "    .dataframe thead th {\n",
              "        text-align: right;\n",
              "    }\n",
              "</style>\n",
              "<table border=\"1\" class=\"dataframe\">\n",
              "  <thead>\n",
              "    <tr style=\"text-align: right;\">\n",
              "      <th></th>\n",
              "      <th>id</th>\n",
              "      <th>qid1</th>\n",
              "      <th>qid2</th>\n",
              "      <th>question1</th>\n",
              "      <th>question2</th>\n",
              "      <th>is_duplicate</th>\n",
              "    </tr>\n",
              "  </thead>\n",
              "  <tbody>\n",
              "    <tr>\n",
              "      <th>363362</th>\n",
              "      <td>363362</td>\n",
              "      <td>493340</td>\n",
              "      <td>493341</td>\n",
              "      <td>NaN</td>\n",
              "      <td>My Chinese name is Haichao Yu. What English na...</td>\n",
              "      <td>0</td>\n",
              "    </tr>\n",
              "  </tbody>\n",
              "</table>\n",
              "</div>"
            ],
            "text/plain": [
              "            id  ...  is_duplicate\n",
              "363362  363362  ...             0\n",
              "\n",
              "[1 rows x 6 columns]"
            ]
          },
          "metadata": {
            "tags": []
          },
          "execution_count": 24
        }
      ]
    },
    {
      "cell_type": "code",
      "metadata": {
        "id": "Bj8PvwVthwos",
        "colab_type": "code",
        "colab": {}
      },
      "source": [
        "#We cannot fill this null question1 with the correct question. It is better to delete the record."
      ],
      "execution_count": 0,
      "outputs": []
    },
    {
      "cell_type": "code",
      "metadata": {
        "id": "4ovma0pSiAnP",
        "colab_type": "code",
        "colab": {
          "base_uri": "https://localhost:8080/",
          "height": 108
        },
        "outputId": "5b25e298-1789-4fc6-c1bf-9786e4d6c5bb"
      },
      "source": [
        "#Let's check how many records are there where question2 is null\n",
        "df[df.question2.isnull()]"
      ],
      "execution_count": 26,
      "outputs": [
        {
          "output_type": "execute_result",
          "data": {
            "text/html": [
              "<div>\n",
              "<style scoped>\n",
              "    .dataframe tbody tr th:only-of-type {\n",
              "        vertical-align: middle;\n",
              "    }\n",
              "\n",
              "    .dataframe tbody tr th {\n",
              "        vertical-align: top;\n",
              "    }\n",
              "\n",
              "    .dataframe thead th {\n",
              "        text-align: right;\n",
              "    }\n",
              "</style>\n",
              "<table border=\"1\" class=\"dataframe\">\n",
              "  <thead>\n",
              "    <tr style=\"text-align: right;\">\n",
              "      <th></th>\n",
              "      <th>id</th>\n",
              "      <th>qid1</th>\n",
              "      <th>qid2</th>\n",
              "      <th>question1</th>\n",
              "      <th>question2</th>\n",
              "      <th>is_duplicate</th>\n",
              "    </tr>\n",
              "  </thead>\n",
              "  <tbody>\n",
              "    <tr>\n",
              "      <th>105780</th>\n",
              "      <td>105780</td>\n",
              "      <td>174363</td>\n",
              "      <td>174364</td>\n",
              "      <td>How can I develop android app?</td>\n",
              "      <td>NaN</td>\n",
              "      <td>0</td>\n",
              "    </tr>\n",
              "    <tr>\n",
              "      <th>201841</th>\n",
              "      <td>201841</td>\n",
              "      <td>303951</td>\n",
              "      <td>174364</td>\n",
              "      <td>How can I create an Android app?</td>\n",
              "      <td>NaN</td>\n",
              "      <td>0</td>\n",
              "    </tr>\n",
              "  </tbody>\n",
              "</table>\n",
              "</div>"
            ],
            "text/plain": [
              "            id    qid1  ...  question2 is_duplicate\n",
              "105780  105780  174363  ...        NaN            0\n",
              "201841  201841  303951  ...        NaN            0\n",
              "\n",
              "[2 rows x 6 columns]"
            ]
          },
          "metadata": {
            "tags": []
          },
          "execution_count": 26
        }
      ]
    },
    {
      "cell_type": "code",
      "metadata": {
        "id": "tDDO1P8OiPHH",
        "colab_type": "code",
        "colab": {
          "base_uri": "https://localhost:8080/",
          "height": 108
        },
        "outputId": "758fbd61-6e1b-4c4b-ff8c-4885b5692239"
      },
      "source": [
        "#The 2 instances of Null question2 have ids 174364. \n",
        "#Let's check if there is an instance of qid = 174364 is present anywhere in the dataset with a valid question attached to it.\n",
        "df[(df.qid1 == 174364) | (df.qid2 == 174364)]"
      ],
      "execution_count": 27,
      "outputs": [
        {
          "output_type": "execute_result",
          "data": {
            "text/html": [
              "<div>\n",
              "<style scoped>\n",
              "    .dataframe tbody tr th:only-of-type {\n",
              "        vertical-align: middle;\n",
              "    }\n",
              "\n",
              "    .dataframe tbody tr th {\n",
              "        vertical-align: top;\n",
              "    }\n",
              "\n",
              "    .dataframe thead th {\n",
              "        text-align: right;\n",
              "    }\n",
              "</style>\n",
              "<table border=\"1\" class=\"dataframe\">\n",
              "  <thead>\n",
              "    <tr style=\"text-align: right;\">\n",
              "      <th></th>\n",
              "      <th>id</th>\n",
              "      <th>qid1</th>\n",
              "      <th>qid2</th>\n",
              "      <th>question1</th>\n",
              "      <th>question2</th>\n",
              "      <th>is_duplicate</th>\n",
              "    </tr>\n",
              "  </thead>\n",
              "  <tbody>\n",
              "    <tr>\n",
              "      <th>105780</th>\n",
              "      <td>105780</td>\n",
              "      <td>174363</td>\n",
              "      <td>174364</td>\n",
              "      <td>How can I develop android app?</td>\n",
              "      <td>NaN</td>\n",
              "      <td>0</td>\n",
              "    </tr>\n",
              "    <tr>\n",
              "      <th>201841</th>\n",
              "      <td>201841</td>\n",
              "      <td>303951</td>\n",
              "      <td>174364</td>\n",
              "      <td>How can I create an Android app?</td>\n",
              "      <td>NaN</td>\n",
              "      <td>0</td>\n",
              "    </tr>\n",
              "  </tbody>\n",
              "</table>\n",
              "</div>"
            ],
            "text/plain": [
              "            id    qid1  ...  question2 is_duplicate\n",
              "105780  105780  174363  ...        NaN            0\n",
              "201841  201841  303951  ...        NaN            0\n",
              "\n",
              "[2 rows x 6 columns]"
            ]
          },
          "metadata": {
            "tags": []
          },
          "execution_count": 27
        }
      ]
    },
    {
      "cell_type": "code",
      "metadata": {
        "id": "XR2zaDLziZok",
        "colab_type": "code",
        "colab": {}
      },
      "source": [
        "#We cannot fill this null question1 with the correct question. It is better to delete the record."
      ],
      "execution_count": 0,
      "outputs": []
    },
    {
      "cell_type": "code",
      "metadata": {
        "id": "RpxcwmDoikec",
        "colab_type": "code",
        "colab": {}
      },
      "source": [
        "#Deleting records with null in qid1 or qid2\n",
        "df = df.dropna(subset=['question1','question2'])"
      ],
      "execution_count": 0,
      "outputs": []
    },
    {
      "cell_type": "code",
      "metadata": {
        "id": "25QHvSaHipgd",
        "colab_type": "code",
        "colab": {
          "base_uri": "https://localhost:8080/",
          "height": 48
        },
        "outputId": "ed3bd76c-ea98-4914-b1bb-d63e553ee0d4"
      },
      "source": [
        "#Verifying the deletes\n",
        "df[(df.question1.isnull()) | (df.question2.isnull())]"
      ],
      "execution_count": 30,
      "outputs": [
        {
          "output_type": "execute_result",
          "data": {
            "text/html": [
              "<div>\n",
              "<style scoped>\n",
              "    .dataframe tbody tr th:only-of-type {\n",
              "        vertical-align: middle;\n",
              "    }\n",
              "\n",
              "    .dataframe tbody tr th {\n",
              "        vertical-align: top;\n",
              "    }\n",
              "\n",
              "    .dataframe thead th {\n",
              "        text-align: right;\n",
              "    }\n",
              "</style>\n",
              "<table border=\"1\" class=\"dataframe\">\n",
              "  <thead>\n",
              "    <tr style=\"text-align: right;\">\n",
              "      <th></th>\n",
              "      <th>id</th>\n",
              "      <th>qid1</th>\n",
              "      <th>qid2</th>\n",
              "      <th>question1</th>\n",
              "      <th>question2</th>\n",
              "      <th>is_duplicate</th>\n",
              "    </tr>\n",
              "  </thead>\n",
              "  <tbody>\n",
              "  </tbody>\n",
              "</table>\n",
              "</div>"
            ],
            "text/plain": [
              "Empty DataFrame\n",
              "Columns: [id, qid1, qid2, question1, question2, is_duplicate]\n",
              "Index: []"
            ]
          },
          "metadata": {
            "tags": []
          },
          "execution_count": 30
        }
      ]
    },
    {
      "cell_type": "code",
      "metadata": {
        "id": "JNGQq5gvi368",
        "colab_type": "code",
        "colab": {
          "base_uri": "https://localhost:8080/",
          "height": 48
        },
        "outputId": "c0726ce0-986e-4bb5-8b05-b103750ae93a"
      },
      "source": [
        "#Let's check if there are any records where question1 == question2\n",
        "df[df.question1 == df.question2]"
      ],
      "execution_count": 31,
      "outputs": [
        {
          "output_type": "execute_result",
          "data": {
            "text/html": [
              "<div>\n",
              "<style scoped>\n",
              "    .dataframe tbody tr th:only-of-type {\n",
              "        vertical-align: middle;\n",
              "    }\n",
              "\n",
              "    .dataframe tbody tr th {\n",
              "        vertical-align: top;\n",
              "    }\n",
              "\n",
              "    .dataframe thead th {\n",
              "        text-align: right;\n",
              "    }\n",
              "</style>\n",
              "<table border=\"1\" class=\"dataframe\">\n",
              "  <thead>\n",
              "    <tr style=\"text-align: right;\">\n",
              "      <th></th>\n",
              "      <th>id</th>\n",
              "      <th>qid1</th>\n",
              "      <th>qid2</th>\n",
              "      <th>question1</th>\n",
              "      <th>question2</th>\n",
              "      <th>is_duplicate</th>\n",
              "    </tr>\n",
              "  </thead>\n",
              "  <tbody>\n",
              "  </tbody>\n",
              "</table>\n",
              "</div>"
            ],
            "text/plain": [
              "Empty DataFrame\n",
              "Columns: [id, qid1, qid2, question1, question2, is_duplicate]\n",
              "Index: []"
            ]
          },
          "metadata": {
            "tags": []
          },
          "execution_count": 31
        }
      ]
    },
    {
      "cell_type": "code",
      "metadata": {
        "id": "-Rq6Woz_jFGe",
        "colab_type": "code",
        "colab": {
          "base_uri": "https://localhost:8080/",
          "height": 34
        },
        "outputId": "ef5a0f11-7ee8-429c-f46b-89e76c395881"
      },
      "source": [
        "#Let's check if a qid1, qid2 pair is repeated more than once\n",
        "pair_count = df.groupby(['qid1','qid2']).size()\n",
        "pair_count[pair_count > 1]"
      ],
      "execution_count": 32,
      "outputs": [
        {
          "output_type": "execute_result",
          "data": {
            "text/plain": [
              "Series([], dtype: int64)"
            ]
          },
          "metadata": {
            "tags": []
          },
          "execution_count": 32
        }
      ]
    },
    {
      "cell_type": "code",
      "metadata": {
        "id": "_oNXCJ0wjLVY",
        "colab_type": "code",
        "colab": {
          "base_uri": "https://localhost:8080/",
          "height": 34
        },
        "outputId": "4c378dcf-d760-40b8-9a7d-4587c19094a9"
      },
      "source": [
        "#The above code will not capture the scenario if qid1 and qid2 are interchanged. \n",
        "#Let's see if there cases such as qid1=N1/qid2=N2 and qid1=N2/qid2=N1.\n",
        "list_of_qids_1_2 = (df['qid1'].astype(str) + '-' + df['qid2'].astype(str)).tolist() \n",
        "list_of_qids_2_1 = (df['qid2'].astype(str) + '-' + df['qid1'].astype(str)).tolist()\n",
        "combined_list = pd.Series(list_of_qids_1_2 + list_of_qids_2_1)\n",
        "result = combined_list.duplicated()\n",
        "result[result == True]"
      ],
      "execution_count": 33,
      "outputs": [
        {
          "output_type": "execute_result",
          "data": {
            "text/plain": [
              "Series([], dtype: bool)"
            ]
          },
          "metadata": {
            "tags": []
          },
          "execution_count": 33
        }
      ]
    },
    {
      "cell_type": "code",
      "metadata": {
        "id": "Rw3k1BN_jT8C",
        "colab_type": "code",
        "colab": {
          "base_uri": "https://localhost:8080/",
          "height": 34
        },
        "outputId": "5c042375-598d-4dd4-c698-a1d4dfc8417a"
      },
      "source": [
        "#Let's check how many unique instances of qid1 are there.\n",
        "len(df.qid1.unique())"
      ],
      "execution_count": 34,
      "outputs": [
        {
          "output_type": "execute_result",
          "data": {
            "text/plain": [
              "290652"
            ]
          },
          "metadata": {
            "tags": []
          },
          "execution_count": 34
        }
      ]
    },
    {
      "cell_type": "code",
      "metadata": {
        "id": "EHxW1_2mjZPj",
        "colab_type": "code",
        "colab": {
          "base_uri": "https://localhost:8080/",
          "height": 34
        },
        "outputId": "3f836652-20f2-476e-ce99-6d60e3d30229"
      },
      "source": [
        "#Let's check how many unique instances of qid2 are there.\n",
        "len(df.qid2.unique())"
      ],
      "execution_count": 35,
      "outputs": [
        {
          "output_type": "execute_result",
          "data": {
            "text/plain": [
              "299362"
            ]
          },
          "metadata": {
            "tags": []
          },
          "execution_count": 35
        }
      ]
    },
    {
      "cell_type": "code",
      "metadata": {
        "id": "dPhyKvMWje0x",
        "colab_type": "code",
        "colab": {}
      },
      "source": [
        "#Based on the above queries, a question might be repeated in more than one pair."
      ],
      "execution_count": 0,
      "outputs": []
    },
    {
      "cell_type": "code",
      "metadata": {
        "id": "iDJ4wyIMji9U",
        "colab_type": "code",
        "colab": {
          "base_uri": "https://localhost:8080/",
          "height": 294
        },
        "outputId": "cfc1e696-9c38-4120-daec-e2825ffdc004"
      },
      "source": [
        "#Graph of duplicates vs non-duplicates\n",
        "df.groupby(\"is_duplicate\")['id'].count().plot.bar()"
      ],
      "execution_count": 37,
      "outputs": [
        {
          "output_type": "execute_result",
          "data": {
            "text/plain": [
              "<matplotlib.axes._subplots.AxesSubplot at 0x7f110e896e80>"
            ]
          },
          "metadata": {
            "tags": []
          },
          "execution_count": 37
        },
        {
          "output_type": "display_data",
          "data": {
            "image/png": "[encoded data removed]",
            "text/plain": [
              "<Figure size 432x288 with 1 Axes>"
            ]
          },
          "metadata": {
            "tags": [],
            "needs_background": "light"
          }
        }
      ]
    },
    {
      "cell_type": "code",
      "metadata": {
        "id": "lzeXP2SXh_ax",
        "colab_type": "code",
        "colab": {
          "base_uri": "https://localhost:8080/",
          "height": 86
        },
        "outputId": "2891f90f-7e26-41d6-af1c-a24c3fdb2987"
      },
      "source": [
        "#Average number of words per question\n",
        "print('Mean question1 : ', df['question1'].str.split().apply(len).mean(), ' words')\n",
        "print('Median question1 : ', df['question1'].str.split().apply(len).median(), ' words')\n",
        "print('Mean question1 : ', df['question1'].str.split().apply(len).mean(), ' words')\n",
        "print('Median question1 : ', df['question1'].str.split().apply(len).median(), ' words')"
      ],
      "execution_count": 38,
      "outputs": [
        {
          "output_type": "stream",
          "text": [
            "Mean question1 :  10.942256367382576  words\n",
            "Median question1 :  10.0  words\n",
            "Mean question1 :  10.942256367382576  words\n",
            "Median question1 :  10.0  words\n"
          ],
          "name": "stdout"
        }
      ]
    },
    {
      "cell_type": "code",
      "metadata": {
        "id": "wxv-h6H5EcqG",
        "colab_type": "code",
        "outputId": "0dddc3de-7867-407c-ee32-27dceb7e9046",
        "colab": {
          "base_uri": "https://localhost:8080/",
          "height": 104
        }
      },
      "source": [
        "print('Not Duplicate Question Pairs (is_duplicate = 0):\\n   {}%'.format(100 - round(df['is_duplicate'].mean()*100, 2)))\n",
        "print('\\nDuplicate Question Pairs (is_duplicate = 1):\\n   {}%'.format(round(df['is_duplicate'].mean()*100, 2)))"
      ],
      "execution_count": 39,
      "outputs": [
        {
          "output_type": "stream",
          "text": [
            "Not Duplicate Question Pairs (is_duplicate = 0):\n",
            "   63.08%\n",
            "\n",
            "Duplicate Question Pairs (is_duplicate = 1):\n",
            "   36.92%\n"
          ],
          "name": "stdout"
        }
      ]
    },
    {
      "cell_type": "code",
      "metadata": {
        "id": "Kqo_270IEcqK",
        "colab_type": "code",
        "colab": {}
      },
      "source": [
        "df = df.sample(n = 10000) "
      ],
      "execution_count": 0,
      "outputs": []
    },
    {
      "cell_type": "markdown",
      "metadata": {
        "id": "12Wk9qmUEcqJ",
        "colab_type": "text"
      },
      "source": [
        "## Processing Text Data"
      ]
    },
    {
      "cell_type": "code",
      "metadata": {
        "id": "o_OB1SGTEcpv",
        "colab_type": "code",
        "colab": {}
      },
      "source": [
        "#Deleting records with null in qid1 or qid2\n",
        "df = df.dropna(subset=['question1','question2'])"
      ],
      "execution_count": 0,
      "outputs": []
    },
    {
      "cell_type": "code",
      "metadata": {
        "id": "-O1iUyQMEcqO",
        "colab_type": "code",
        "outputId": "1e4da32e-1e52-4e44-81b3-398b8d0fe20a",
        "colab": {
          "base_uri": "https://localhost:8080/",
          "height": 198
        }
      },
      "source": [
        "#Convert question1 and question2 to lower case\n",
        "df['question1'] = df['question1'].str.lower()\n",
        "df['question2'] = df['question2'].str.lower()\n",
        "df.head()"
      ],
      "execution_count": 32,
      "outputs": [
        {
          "output_type": "execute_result",
          "data": {
            "text/html": [
              "<div>\n",
              "<style scoped>\n",
              "    .dataframe tbody tr th:only-of-type {\n",
              "        vertical-align: middle;\n",
              "    }\n",
              "\n",
              "    .dataframe tbody tr th {\n",
              "        vertical-align: top;\n",
              "    }\n",
              "\n",
              "    .dataframe thead th {\n",
              "        text-align: right;\n",
              "    }\n",
              "</style>\n",
              "<table border=\"1\" class=\"dataframe\">\n",
              "  <thead>\n",
              "    <tr style=\"text-align: right;\">\n",
              "      <th></th>\n",
              "      <th>id</th>\n",
              "      <th>qid1</th>\n",
              "      <th>qid2</th>\n",
              "      <th>question1</th>\n",
              "      <th>question2</th>\n",
              "      <th>is_duplicate</th>\n",
              "    </tr>\n",
              "  </thead>\n",
              "  <tbody>\n",
              "    <tr>\n",
              "      <th>339642</th>\n",
              "      <td>339642</td>\n",
              "      <td>467301</td>\n",
              "      <td>467302</td>\n",
              "      <td>why is donald trump so awesome?</td>\n",
              "      <td>why is donald trump awesome?</td>\n",
              "      <td>1</td>\n",
              "    </tr>\n",
              "    <tr>\n",
              "      <th>159952</th>\n",
              "      <td>159952</td>\n",
              "      <td>249593</td>\n",
              "      <td>249594</td>\n",
              "      <td>should i try being pretty?</td>\n",
              "      <td>how is neurolysis done?</td>\n",
              "      <td>0</td>\n",
              "    </tr>\n",
              "    <tr>\n",
              "      <th>248457</th>\n",
              "      <td>248457</td>\n",
              "      <td>361890</td>\n",
              "      <td>361891</td>\n",
              "      <td>how do i ask girls that i want to lick their p...</td>\n",
              "      <td>would you urinate in a girls mouth if she aske...</td>\n",
              "      <td>0</td>\n",
              "    </tr>\n",
              "    <tr>\n",
              "      <th>242808</th>\n",
              "      <td>242808</td>\n",
              "      <td>355097</td>\n",
              "      <td>355098</td>\n",
              "      <td>heaven: who is the strongest angel?</td>\n",
              "      <td>do dogs go to heaven?</td>\n",
              "      <td>0</td>\n",
              "    </tr>\n",
              "    <tr>\n",
              "      <th>207606</th>\n",
              "      <td>207606</td>\n",
              "      <td>311341</td>\n",
              "      <td>311342</td>\n",
              "      <td>what does an essay score of 6/6/6 on the new s...</td>\n",
              "      <td>how good is ielts overall score of 6.0?</td>\n",
              "      <td>0</td>\n",
              "    </tr>\n",
              "  </tbody>\n",
              "</table>\n",
              "</div>"
            ],
            "text/plain": [
              "            id  ...  is_duplicate\n",
              "339642  339642  ...             1\n",
              "159952  159952  ...             0\n",
              "248457  248457  ...             0\n",
              "242808  242808  ...             0\n",
              "207606  207606  ...             0\n",
              "\n",
              "[5 rows x 6 columns]"
            ]
          },
          "metadata": {
            "tags": []
          },
          "execution_count": 32
        }
      ]
    },
    {
      "cell_type": "code",
      "metadata": {
        "id": "hvFWe9eZEcqR",
        "colab_type": "code",
        "outputId": "9e4fd196-d18c-4335-c2c4-e1dd57d3f8bb",
        "colab": {
          "base_uri": "https://localhost:8080/",
          "height": 198
        }
      },
      "source": [
        "#Remove punctuation\n",
        "df['question1'] = df['question1'].str.replace(r'[^\\w\\s]+', '')\n",
        "df['question2'] = df['question2'].str.replace(r'[^\\w\\s]+', '')\n",
        "df.head()"
      ],
      "execution_count": 33,
      "outputs": [
        {
          "output_type": "execute_result",
          "data": {
            "text/html": [
              "<div>\n",
              "<style scoped>\n",
              "    .dataframe tbody tr th:only-of-type {\n",
              "        vertical-align: middle;\n",
              "    }\n",
              "\n",
              "    .dataframe tbody tr th {\n",
              "        vertical-align: top;\n",
              "    }\n",
              "\n",
              "    .dataframe thead th {\n",
              "        text-align: right;\n",
              "    }\n",
              "</style>\n",
              "<table border=\"1\" class=\"dataframe\">\n",
              "  <thead>\n",
              "    <tr style=\"text-align: right;\">\n",
              "      <th></th>\n",
              "      <th>id</th>\n",
              "      <th>qid1</th>\n",
              "      <th>qid2</th>\n",
              "      <th>question1</th>\n",
              "      <th>question2</th>\n",
              "      <th>is_duplicate</th>\n",
              "    </tr>\n",
              "  </thead>\n",
              "  <tbody>\n",
              "    <tr>\n",
              "      <th>339642</th>\n",
              "      <td>339642</td>\n",
              "      <td>467301</td>\n",
              "      <td>467302</td>\n",
              "      <td>why is donald trump so awesome</td>\n",
              "      <td>why is donald trump awesome</td>\n",
              "      <td>1</td>\n",
              "    </tr>\n",
              "    <tr>\n",
              "      <th>159952</th>\n",
              "      <td>159952</td>\n",
              "      <td>249593</td>\n",
              "      <td>249594</td>\n",
              "      <td>should i try being pretty</td>\n",
              "      <td>how is neurolysis done</td>\n",
              "      <td>0</td>\n",
              "    </tr>\n",
              "    <tr>\n",
              "      <th>248457</th>\n",
              "      <td>248457</td>\n",
              "      <td>361890</td>\n",
              "      <td>361891</td>\n",
              "      <td>how do i ask girls that i want to lick their p...</td>\n",
              "      <td>would you urinate in a girls mouth if she aske...</td>\n",
              "      <td>0</td>\n",
              "    </tr>\n",
              "    <tr>\n",
              "      <th>242808</th>\n",
              "      <td>242808</td>\n",
              "      <td>355097</td>\n",
              "      <td>355098</td>\n",
              "      <td>heaven who is the strongest angel</td>\n",
              "      <td>do dogs go to heaven</td>\n",
              "      <td>0</td>\n",
              "    </tr>\n",
              "    <tr>\n",
              "      <th>207606</th>\n",
              "      <td>207606</td>\n",
              "      <td>311341</td>\n",
              "      <td>311342</td>\n",
              "      <td>what does an essay score of 666 on the new sat...</td>\n",
              "      <td>how good is ielts overall score of 60</td>\n",
              "      <td>0</td>\n",
              "    </tr>\n",
              "  </tbody>\n",
              "</table>\n",
              "</div>"
            ],
            "text/plain": [
              "            id  ...  is_duplicate\n",
              "339642  339642  ...             1\n",
              "159952  159952  ...             0\n",
              "248457  248457  ...             0\n",
              "242808  242808  ...             0\n",
              "207606  207606  ...             0\n",
              "\n",
              "[5 rows x 6 columns]"
            ]
          },
          "metadata": {
            "tags": []
          },
          "execution_count": 33
        }
      ]
    },
    {
      "cell_type": "code",
      "metadata": {
        "id": "k1Qiern_5nIT",
        "colab_type": "code",
        "colab": {}
      },
      "source": [
        "#Word Replacements\n",
        "def word_replace(x):\n",
        "  x = x.replace(\",000,000\", \"m\").replace(\",000\", \"k\").replace(\"′\", \"'\").replace(\"’\", \"'\")\\\n",
        "                            .replace(\"won't\", \"will not\").replace(\"cannot\", \"can not\").replace(\"can't\", \"can not\")\\\n",
        "                            .replace(\"n't\", \" not\").replace(\"what's\", \"what is\").replace(\"it's\", \"it is\")\\\n",
        "                            .replace(\"'ve\", \" have\").replace(\"i'm\", \"i am\").replace(\"'re\", \" are\")\\\n",
        "                            .replace(\"he's\", \"he is\").replace(\"she's\", \"she is\").replace(\"'s\", \" own\")\\\n",
        "                            .replace(\"%\", \" percent \").replace(\"₹\", \" rupee \").replace(\"$\", \" dollar \")\\\n",
        "                            .replace(\"€\", \" euro \").replace(\"'ll\", \" will\")\n",
        "  return x\n",
        "\n",
        "df[\"question1\"] = df[\"question1\"].fillna(\"\").apply(word_replace)\n",
        "df[\"question2\"] = df[\"question2\"].fillna(\"\").apply(word_replace)"
      ],
      "execution_count": 0,
      "outputs": []
    },
    {
      "cell_type": "code",
      "metadata": {
        "id": "9K6boM8BYlRT",
        "colab_type": "code",
        "outputId": "27eecea0-b6a6-4c65-c995-1c8e5b6dafd2",
        "colab": {
          "base_uri": "https://localhost:8080/",
          "height": 198
        }
      },
      "source": [
        "#Lemmatization\n",
        "df['question1'] = df['question1'].apply(lambda x : \" \".join([Word(word).lemmatize() for word in x.split()]))\n",
        "df['question2'] = df['question2'].apply(lambda x : \" \".join([Word(word).lemmatize() for word in x.split()]))\n",
        "df.head()"
      ],
      "execution_count": 35,
      "outputs": [
        {
          "output_type": "execute_result",
          "data": {
            "text/html": [
              "<div>\n",
              "<style scoped>\n",
              "    .dataframe tbody tr th:only-of-type {\n",
              "        vertical-align: middle;\n",
              "    }\n",
              "\n",
              "    .dataframe tbody tr th {\n",
              "        vertical-align: top;\n",
              "    }\n",
              "\n",
              "    .dataframe thead th {\n",
              "        text-align: right;\n",
              "    }\n",
              "</style>\n",
              "<table border=\"1\" class=\"dataframe\">\n",
              "  <thead>\n",
              "    <tr style=\"text-align: right;\">\n",
              "      <th></th>\n",
              "      <th>id</th>\n",
              "      <th>qid1</th>\n",
              "      <th>qid2</th>\n",
              "      <th>question1</th>\n",
              "      <th>question2</th>\n",
              "      <th>is_duplicate</th>\n",
              "    </tr>\n",
              "  </thead>\n",
              "  <tbody>\n",
              "    <tr>\n",
              "      <th>339642</th>\n",
              "      <td>339642</td>\n",
              "      <td>467301</td>\n",
              "      <td>467302</td>\n",
              "      <td>why is donald trump so awesome</td>\n",
              "      <td>why is donald trump awesome</td>\n",
              "      <td>1</td>\n",
              "    </tr>\n",
              "    <tr>\n",
              "      <th>159952</th>\n",
              "      <td>159952</td>\n",
              "      <td>249593</td>\n",
              "      <td>249594</td>\n",
              "      <td>should i try being pretty</td>\n",
              "      <td>how is neurolysis done</td>\n",
              "      <td>0</td>\n",
              "    </tr>\n",
              "    <tr>\n",
              "      <th>248457</th>\n",
              "      <td>248457</td>\n",
              "      <td>361890</td>\n",
              "      <td>361891</td>\n",
              "      <td>how do i ask girl that i want to lick their pu...</td>\n",
              "      <td>would you urinate in a girl mouth if she asked...</td>\n",
              "      <td>0</td>\n",
              "    </tr>\n",
              "    <tr>\n",
              "      <th>242808</th>\n",
              "      <td>242808</td>\n",
              "      <td>355097</td>\n",
              "      <td>355098</td>\n",
              "      <td>heaven who is the strongest angel</td>\n",
              "      <td>do dog go to heaven</td>\n",
              "      <td>0</td>\n",
              "    </tr>\n",
              "    <tr>\n",
              "      <th>207606</th>\n",
              "      <td>207606</td>\n",
              "      <td>311341</td>\n",
              "      <td>311342</td>\n",
              "      <td>what doe an essay score of 666 on the new sat ...</td>\n",
              "      <td>how good is ielts overall score of 60</td>\n",
              "      <td>0</td>\n",
              "    </tr>\n",
              "  </tbody>\n",
              "</table>\n",
              "</div>"
            ],
            "text/plain": [
              "            id  ...  is_duplicate\n",
              "339642  339642  ...             1\n",
              "159952  159952  ...             0\n",
              "248457  248457  ...             0\n",
              "242808  242808  ...             0\n",
              "207606  207606  ...             0\n",
              "\n",
              "[5 rows x 6 columns]"
            ]
          },
          "metadata": {
            "tags": []
          },
          "execution_count": 35
        }
      ]
    },
    {
      "cell_type": "markdown",
      "metadata": {
        "id": "IZX4TNmkEcqZ",
        "colab_type": "text"
      },
      "source": [
        "## Feature Extraction"
      ]
    },
    {
      "cell_type": "code",
      "metadata": {
        "id": "sMFpQV11Ecqc",
        "colab_type": "code",
        "colab": {}
      },
      "source": [
        "#Words difference q1, q2\n",
        "df['words_diff_q1_q2'] = abs(df['question1'].apply(lambda row: len(row.split(\" \"))) - df['question2'].apply(lambda row: len(row.split(\" \"))))"
      ],
      "execution_count": 0,
      "outputs": []
    },
    {
      "cell_type": "code",
      "metadata": {
        "id": "Wkzkue37Ecqe",
        "colab_type": "code",
        "colab": {}
      },
      "source": [
        "#Number of common unique words in Question 1 and Question 2\n",
        "def normalized_word_Common(row):\n",
        "    w1 = set(map(lambda word: word.lower().strip(), row['question1'].split(\" \")))\n",
        "    w2 = set(map(lambda word: word.lower().strip(), row['question2'].split(\" \")))    \n",
        "    return 1.0 * len(w1 & w2)\n",
        "    \n",
        "df['word_Common'] = df.apply(normalized_word_Common, axis=1)"
      ],
      "execution_count": 0,
      "outputs": []
    },
    {
      "cell_type": "code",
      "metadata": {
        "id": "KVpjUJgWEcqg",
        "colab_type": "code",
        "colab": {}
      },
      "source": [
        "#Total num of words in Question 1 + Total num of words in Question 2\n",
        "def normalized_word_Total(row):\n",
        "        w1 = set(map(lambda word: word.lower().strip(), row['question1'].split(\" \")))\n",
        "        w2 = set(map(lambda word: word.lower().strip(), row['question2'].split(\" \")))    \n",
        "        return 1.0 * (len(w1) + len(w2))\n",
        "    \n",
        "df['word_Total'] = df.apply(normalized_word_Total, axis=1)    "
      ],
      "execution_count": 0,
      "outputs": []
    },
    {
      "cell_type": "code",
      "metadata": {
        "id": "qMMDIvSHEcqi",
        "colab_type": "code",
        "colab": {}
      },
      "source": [
        "#word_share = (word_common)/(word_Total)\n",
        "def normalized_word_share(row):\n",
        "        w1 = set(map(lambda word: word.lower().strip(), row['question1'].split(\" \")))\n",
        "        w2 = set(map(lambda word: word.lower().strip(), row['question2'].split(\" \")))    \n",
        "        return 1.0 * len(w1 & w2)/(len(w1) + len(w2))\n",
        "df['word_share'] = df.apply(normalized_word_share, axis=1)"
      ],
      "execution_count": 0,
      "outputs": []
    },
    {
      "cell_type": "code",
      "metadata": {
        "id": "PujmIf9f_0dW",
        "colab_type": "code",
        "colab": {
          "base_uri": "https://localhost:8080/",
          "height": 52
        },
        "outputId": "947a72ff-b044-4329-c038-d0af0b53c281"
      },
      "source": [
        "#Distance computations\n",
        "\n",
        "q1_q1_vectors = {}\n",
        "\n",
        "def get_q1_q1_vectors(row):\n",
        "\n",
        "      if row['id'] not in q1_q1_vectors:\n",
        "          \n",
        "          tfidf_matrix_list =[]\n",
        "\n",
        "          documents = []\n",
        "          documents.append(row['question1'].replace(\"\\n\", \" \"))\n",
        "          documents.append(row['question2'].replace(\"\\n\", \" \"))\n",
        "          tfidf_vectorizer = TfidfVectorizer(max_features = 200)\n",
        "          tfidf_vectorizer.fit(documents) \n",
        "\n",
        "          documents = []\n",
        "          documents.append(row['question1'].replace(\"\\n\", \" \"))\n",
        "          tfidf_matrix_q1 = tfidf_vectorizer.transform(documents)  \n",
        "          tfidf_matrix_list.append(tfidf_matrix_q1)\n",
        "\n",
        "          documents = []\n",
        "          documents.append(row['question2'].replace(\"\\n\", \" \"))\n",
        "          tfidf_matrix_q2 = tfidf_vectorizer.transform(documents) \n",
        "          tfidf_matrix_list.append(tfidf_matrix_q2)\n",
        "\n",
        "          q1_q1_vectors[row['id']] = tfidf_matrix_list\n",
        "\n",
        "      return q1_q1_vectors[row['id']][0], q1_q1_vectors[row['id']][1]\n",
        "\n",
        "def get_cosine_distance(row):\n",
        "  q1_q1_vectors = get_q1_q1_vectors(row)\n",
        "  return cosine(q1_q1_vectors[0].toarray(), q1_q1_vectors[1].toarray())\n",
        "\n",
        "def get_cityblock_distance(row):\n",
        "  q1_q1_vectors = get_q1_q1_vectors(row)\n",
        "  return cityblock(q1_q1_vectors[0].toarray(), q1_q1_vectors[1].toarray())\n",
        "\n",
        "def get_jaccard_distance(row):\n",
        "  q1_q1_vectors = get_q1_q1_vectors(row)\n",
        "  return jaccard(q1_q1_vectors[0].toarray(), q1_q1_vectors[1].toarray(),)\n",
        "\n",
        "def get_canberra_distance(row):\n",
        "  q1_q1_vectors = get_q1_q1_vectors(row)\n",
        "  return canberra(q1_q1_vectors[0].toarray(), q1_q1_vectors[1].toarray())\n",
        "\n",
        "def get_euclidean_distance(row):\n",
        "  q1_q1_vectors = get_q1_q1_vectors(row)\n",
        "  return euclidean(q1_q1_vectors[0].toarray(), q1_q1_vectors[1].toarray())\n",
        "\n",
        "def get_minkowski_distance(row):\n",
        "  q1_q1_vectors = get_q1_q1_vectors(row)\n",
        "  return minkowski(q1_q1_vectors[0].toarray(), q1_q1_vectors[1].toarray())\n",
        "\n",
        "def get_braycurtis_distance(row):\n",
        "  q1_q1_vectors = get_q1_q1_vectors(row)\n",
        "  return braycurtis(q1_q1_vectors[0].toarray(), q1_q1_vectors[1].toarray())  \n",
        "\n",
        "df['cosine_distance'] = df.apply(get_cosine_distance, axis=1)  \n",
        "df['cityblock_distance'] = df.apply(get_cityblock_distance, axis=1)\n",
        "df['jaccard_distance'] = df.apply(get_jaccard_distance, axis=1)\n",
        "df['canberra_distance'] = df.apply(get_canberra_distance, axis=1)\n",
        "df['euclidean_distance'] = df.apply(get_euclidean_distance, axis=1)\n",
        "df['minkowski_distance'] = df.apply(get_minkowski_distance, axis=1)\n",
        "df['braycurtis_distance'] = df.apply(get_braycurtis_distance, axis=1)\n"
      ],
      "execution_count": 40,
      "outputs": [
        {
          "output_type": "stream",
          "text": [
            "/usr/local/lib/python3.6/dist-packages/scipy/spatial/distance.py:720: RuntimeWarning: invalid value encountered in double_scalars\n",
            "  dist = 1.0 - uv / np.sqrt(uu * vv)\n"
          ],
          "name": "stderr"
        }
      ]
    },
    {
      "cell_type": "code",
      "metadata": {
        "id": "dap4c-P2Ecql",
        "colab_type": "code",
        "outputId": "3cbf4a9e-1cd4-468e-e194-d80634ddef73",
        "colab": {
          "base_uri": "https://localhost:8080/",
          "height": 495
        }
      },
      "source": [
        "df.head()"
      ],
      "execution_count": 41,
      "outputs": [
        {
          "output_type": "execute_result",
          "data": {
            "text/html": [
              "<div>\n",
              "<style scoped>\n",
              "    .dataframe tbody tr th:only-of-type {\n",
              "        vertical-align: middle;\n",
              "    }\n",
              "\n",
              "    .dataframe tbody tr th {\n",
              "        vertical-align: top;\n",
              "    }\n",
              "\n",
              "    .dataframe thead th {\n",
              "        text-align: right;\n",
              "    }\n",
              "</style>\n",
              "<table border=\"1\" class=\"dataframe\">\n",
              "  <thead>\n",
              "    <tr style=\"text-align: right;\">\n",
              "      <th></th>\n",
              "      <th>id</th>\n",
              "      <th>qid1</th>\n",
              "      <th>qid2</th>\n",
              "      <th>question1</th>\n",
              "      <th>question2</th>\n",
              "      <th>is_duplicate</th>\n",
              "      <th>words_diff_q1_q2</th>\n",
              "      <th>word_Common</th>\n",
              "      <th>word_Total</th>\n",
              "      <th>word_share</th>\n",
              "      <th>cosine_distance</th>\n",
              "      <th>cityblock_distance</th>\n",
              "      <th>jaccard_distance</th>\n",
              "      <th>canberra_distance</th>\n",
              "      <th>euclidean_distance</th>\n",
              "      <th>minkowski_distance</th>\n",
              "      <th>braycurtis_distance</th>\n",
              "    </tr>\n",
              "  </thead>\n",
              "  <tbody>\n",
              "    <tr>\n",
              "      <th>339642</th>\n",
              "      <td>339642</td>\n",
              "      <td>467301</td>\n",
              "      <td>467302</td>\n",
              "      <td>why is donald trump so awesome</td>\n",
              "      <td>why is donald trump awesome</td>\n",
              "      <td>1</td>\n",
              "      <td>1</td>\n",
              "      <td>5.0</td>\n",
              "      <td>11.0</td>\n",
              "      <td>0.454545</td>\n",
              "      <td>0.153353</td>\n",
              "      <td>0.875061</td>\n",
              "      <td>1.0</td>\n",
              "      <td>1.415219</td>\n",
              "      <td>0.553810</td>\n",
              "      <td>0.553810</td>\n",
              "      <td>0.187726</td>\n",
              "    </tr>\n",
              "    <tr>\n",
              "      <th>159952</th>\n",
              "      <td>159952</td>\n",
              "      <td>249593</td>\n",
              "      <td>249594</td>\n",
              "      <td>should i try being pretty</td>\n",
              "      <td>how is neurolysis done</td>\n",
              "      <td>0</td>\n",
              "      <td>1</td>\n",
              "      <td>0.0</td>\n",
              "      <td>9.0</td>\n",
              "      <td>0.000000</td>\n",
              "      <td>1.000000</td>\n",
              "      <td>4.000000</td>\n",
              "      <td>1.0</td>\n",
              "      <td>8.000000</td>\n",
              "      <td>1.414214</td>\n",
              "      <td>1.414214</td>\n",
              "      <td>1.000000</td>\n",
              "    </tr>\n",
              "    <tr>\n",
              "      <th>248457</th>\n",
              "      <td>248457</td>\n",
              "      <td>361890</td>\n",
              "      <td>361891</td>\n",
              "      <td>how do i ask girl that i want to lick their pu...</td>\n",
              "      <td>would you urinate in a girl mouth if she asked...</td>\n",
              "      <td>0</td>\n",
              "      <td>10</td>\n",
              "      <td>1.0</td>\n",
              "      <td>30.0</td>\n",
              "      <td>0.033333</td>\n",
              "      <td>0.970474</td>\n",
              "      <td>6.801042</td>\n",
              "      <td>1.0</td>\n",
              "      <td>26.156464</td>\n",
              "      <td>1.393179</td>\n",
              "      <td>1.393179</td>\n",
              "      <td>0.958629</td>\n",
              "    </tr>\n",
              "    <tr>\n",
              "      <th>242808</th>\n",
              "      <td>242808</td>\n",
              "      <td>355097</td>\n",
              "      <td>355098</td>\n",
              "      <td>heaven who is the strongest angel</td>\n",
              "      <td>do dog go to heaven</td>\n",
              "      <td>0</td>\n",
              "      <td>1</td>\n",
              "      <td>1.0</td>\n",
              "      <td>11.0</td>\n",
              "      <td>0.090909</td>\n",
              "      <td>0.898369</td>\n",
              "      <td>4.047069</td>\n",
              "      <td>1.0</td>\n",
              "      <td>9.050063</td>\n",
              "      <td>1.340425</td>\n",
              "      <td>1.340425</td>\n",
              "      <td>0.869683</td>\n",
              "    </tr>\n",
              "    <tr>\n",
              "      <th>207606</th>\n",
              "      <td>207606</td>\n",
              "      <td>311341</td>\n",
              "      <td>311342</td>\n",
              "      <td>what doe an essay score of 666 on the new sat ...</td>\n",
              "      <td>how good is ielts overall score of 60</td>\n",
              "      <td>0</td>\n",
              "      <td>4</td>\n",
              "      <td>2.0</td>\n",
              "      <td>20.0</td>\n",
              "      <td>0.100000</td>\n",
              "      <td>0.884784</td>\n",
              "      <td>5.387728</td>\n",
              "      <td>1.0</td>\n",
              "      <td>16.224716</td>\n",
              "      <td>1.330251</td>\n",
              "      <td>1.330251</td>\n",
              "      <td>0.862678</td>\n",
              "    </tr>\n",
              "  </tbody>\n",
              "</table>\n",
              "</div>"
            ],
            "text/plain": [
              "            id    qid1  ...  minkowski_distance braycurtis_distance\n",
              "339642  339642  467301  ...            0.553810            0.187726\n",
              "159952  159952  249593  ...            1.414214            1.000000\n",
              "248457  248457  361890  ...            1.393179            0.958629\n",
              "242808  242808  355097  ...            1.340425            0.869683\n",
              "207606  207606  311341  ...            1.330251            0.862678\n",
              "\n",
              "[5 rows x 17 columns]"
            ]
          },
          "metadata": {
            "tags": []
          },
          "execution_count": 41
        }
      ]
    },
    {
      "cell_type": "code",
      "metadata": {
        "id": "9zzsuWkRGEbq",
        "colab_type": "code",
        "colab": {}
      },
      "source": [
        "# FuzzyWuzzy is a library of Python which is used for string matching. \n",
        "# Fuzzy string matching is the process of finding strings that match a given pattern. \n",
        "# Basically it uses Levenshtein Distance to calculate the differences between sequences.\n",
        "\n",
        "df['fuzz_qratio'] = df.apply(lambda x: fuzz.QRatio(str(x['question1']), str(x['question2'])), axis=1)\n",
        "df['fuzz_WRatio'] = df.apply(lambda x: fuzz.WRatio(str(x['question1']), str(x['question2'])), axis=1)\n",
        "df['fuzz_partial_ratio'] = df.apply(lambda x: fuzz.partial_ratio(str(x['question1']), str(x['question2'])), axis=1)\n",
        "df['fuzz_partial_token_set_ratio'] = df.apply(lambda x: fuzz.partial_token_set_ratio(str(x['question1']), str(x['question2'])), axis=1)\n",
        "df['fuzz_partial_token_sort_ratio'] = df.apply(lambda x: fuzz.partial_token_sort_ratio(str(x['question1']), str(x['question2'])), axis=1)\n",
        "df['fuzz_token_set_ratio'] = df.apply(lambda x: fuzz.token_set_ratio(str(x['question1']), str(x['question2'])), axis=1)\n",
        "df['fuzz_token_sort_ratio'] = df.apply(lambda x: fuzz.token_sort_ratio(str(x['question1']), str(x['question2'])), axis=1)"
      ],
      "execution_count": 0,
      "outputs": []
    },
    {
      "cell_type": "code",
      "metadata": {
        "id": "1dmAs2t7H786",
        "colab_type": "code",
        "outputId": "fc734de7-efdc-43fb-ef32-f95306551998",
        "colab": {
          "base_uri": "https://localhost:8080/",
          "height": 495
        }
      },
      "source": [
        "df.head()"
      ],
      "execution_count": 43,
      "outputs": [
        {
          "output_type": "execute_result",
          "data": {
            "text/html": [
              "<div>\n",
              "<style scoped>\n",
              "    .dataframe tbody tr th:only-of-type {\n",
              "        vertical-align: middle;\n",
              "    }\n",
              "\n",
              "    .dataframe tbody tr th {\n",
              "        vertical-align: top;\n",
              "    }\n",
              "\n",
              "    .dataframe thead th {\n",
              "        text-align: right;\n",
              "    }\n",
              "</style>\n",
              "<table border=\"1\" class=\"dataframe\">\n",
              "  <thead>\n",
              "    <tr style=\"text-align: right;\">\n",
              "      <th></th>\n",
              "      <th>id</th>\n",
              "      <th>qid1</th>\n",
              "      <th>qid2</th>\n",
              "      <th>question1</th>\n",
              "      <th>question2</th>\n",
              "      <th>is_duplicate</th>\n",
              "      <th>words_diff_q1_q2</th>\n",
              "      <th>word_Common</th>\n",
              "      <th>word_Total</th>\n",
              "      <th>word_share</th>\n",
              "      <th>cosine_distance</th>\n",
              "      <th>cityblock_distance</th>\n",
              "      <th>jaccard_distance</th>\n",
              "      <th>canberra_distance</th>\n",
              "      <th>euclidean_distance</th>\n",
              "      <th>minkowski_distance</th>\n",
              "      <th>braycurtis_distance</th>\n",
              "      <th>fuzz_qratio</th>\n",
              "      <th>fuzz_WRatio</th>\n",
              "      <th>fuzz_partial_ratio</th>\n",
              "      <th>fuzz_partial_token_set_ratio</th>\n",
              "      <th>fuzz_partial_token_sort_ratio</th>\n",
              "      <th>fuzz_token_set_ratio</th>\n",
              "      <th>fuzz_token_sort_ratio</th>\n",
              "    </tr>\n",
              "  </thead>\n",
              "  <tbody>\n",
              "    <tr>\n",
              "      <th>339642</th>\n",
              "      <td>339642</td>\n",
              "      <td>467301</td>\n",
              "      <td>467302</td>\n",
              "      <td>why is donald trump so awesome</td>\n",
              "      <td>why is donald trump awesome</td>\n",
              "      <td>1</td>\n",
              "      <td>1</td>\n",
              "      <td>5.0</td>\n",
              "      <td>11.0</td>\n",
              "      <td>0.454545</td>\n",
              "      <td>0.153353</td>\n",
              "      <td>0.875061</td>\n",
              "      <td>1.0</td>\n",
              "      <td>1.415219</td>\n",
              "      <td>0.553810</td>\n",
              "      <td>0.553810</td>\n",
              "      <td>0.187726</td>\n",
              "      <td>95</td>\n",
              "      <td>95</td>\n",
              "      <td>89</td>\n",
              "      <td>100</td>\n",
              "      <td>89</td>\n",
              "      <td>100</td>\n",
              "      <td>95</td>\n",
              "    </tr>\n",
              "    <tr>\n",
              "      <th>159952</th>\n",
              "      <td>159952</td>\n",
              "      <td>249593</td>\n",
              "      <td>249594</td>\n",
              "      <td>should i try being pretty</td>\n",
              "      <td>how is neurolysis done</td>\n",
              "      <td>0</td>\n",
              "      <td>1</td>\n",
              "      <td>0.0</td>\n",
              "      <td>9.0</td>\n",
              "      <td>0.000000</td>\n",
              "      <td>1.000000</td>\n",
              "      <td>4.000000</td>\n",
              "      <td>1.0</td>\n",
              "      <td>8.000000</td>\n",
              "      <td>1.414214</td>\n",
              "      <td>1.414214</td>\n",
              "      <td>1.000000</td>\n",
              "      <td>38</td>\n",
              "      <td>38</td>\n",
              "      <td>32</td>\n",
              "      <td>38</td>\n",
              "      <td>38</td>\n",
              "      <td>30</td>\n",
              "      <td>30</td>\n",
              "    </tr>\n",
              "    <tr>\n",
              "      <th>248457</th>\n",
              "      <td>248457</td>\n",
              "      <td>361890</td>\n",
              "      <td>361891</td>\n",
              "      <td>how do i ask girl that i want to lick their pu...</td>\n",
              "      <td>would you urinate in a girl mouth if she asked...</td>\n",
              "      <td>0</td>\n",
              "      <td>10</td>\n",
              "      <td>1.0</td>\n",
              "      <td>30.0</td>\n",
              "      <td>0.033333</td>\n",
              "      <td>0.970474</td>\n",
              "      <td>6.801042</td>\n",
              "      <td>1.0</td>\n",
              "      <td>26.156464</td>\n",
              "      <td>1.393179</td>\n",
              "      <td>1.393179</td>\n",
              "      <td>0.958629</td>\n",
              "      <td>30</td>\n",
              "      <td>86</td>\n",
              "      <td>39</td>\n",
              "      <td>100</td>\n",
              "      <td>44</td>\n",
              "      <td>42</td>\n",
              "      <td>38</td>\n",
              "    </tr>\n",
              "    <tr>\n",
              "      <th>242808</th>\n",
              "      <td>242808</td>\n",
              "      <td>355097</td>\n",
              "      <td>355098</td>\n",
              "      <td>heaven who is the strongest angel</td>\n",
              "      <td>do dog go to heaven</td>\n",
              "      <td>0</td>\n",
              "      <td>1</td>\n",
              "      <td>1.0</td>\n",
              "      <td>11.0</td>\n",
              "      <td>0.090909</td>\n",
              "      <td>0.898369</td>\n",
              "      <td>4.047069</td>\n",
              "      <td>1.0</td>\n",
              "      <td>9.050063</td>\n",
              "      <td>1.340425</td>\n",
              "      <td>1.340425</td>\n",
              "      <td>0.869683</td>\n",
              "      <td>23</td>\n",
              "      <td>86</td>\n",
              "      <td>32</td>\n",
              "      <td>100</td>\n",
              "      <td>58</td>\n",
              "      <td>50</td>\n",
              "      <td>42</td>\n",
              "    </tr>\n",
              "    <tr>\n",
              "      <th>207606</th>\n",
              "      <td>207606</td>\n",
              "      <td>311341</td>\n",
              "      <td>311342</td>\n",
              "      <td>what doe an essay score of 666 on the new sat ...</td>\n",
              "      <td>how good is ielts overall score of 60</td>\n",
              "      <td>0</td>\n",
              "      <td>4</td>\n",
              "      <td>2.0</td>\n",
              "      <td>20.0</td>\n",
              "      <td>0.100000</td>\n",
              "      <td>0.884784</td>\n",
              "      <td>5.387728</td>\n",
              "      <td>1.0</td>\n",
              "      <td>16.224716</td>\n",
              "      <td>1.330251</td>\n",
              "      <td>1.330251</td>\n",
              "      <td>0.862678</td>\n",
              "      <td>30</td>\n",
              "      <td>42</td>\n",
              "      <td>49</td>\n",
              "      <td>100</td>\n",
              "      <td>43</td>\n",
              "      <td>39</td>\n",
              "      <td>44</td>\n",
              "    </tr>\n",
              "  </tbody>\n",
              "</table>\n",
              "</div>"
            ],
            "text/plain": [
              "            id    qid1  ...  fuzz_token_set_ratio fuzz_token_sort_ratio\n",
              "339642  339642  467301  ...                   100                    95\n",
              "159952  159952  249593  ...                    30                    30\n",
              "248457  248457  361890  ...                    42                    38\n",
              "242808  242808  355097  ...                    50                    42\n",
              "207606  207606  311341  ...                    39                    44\n",
              "\n",
              "[5 rows x 24 columns]"
            ]
          },
          "metadata": {
            "tags": []
          },
          "execution_count": 43
        }
      ]
    },
    {
      "cell_type": "markdown",
      "metadata": {
        "id": "j9Fbr6lXfEuC",
        "colab_type": "text"
      },
      "source": [
        "## Model Building and Predicting\n",
        "\n",
        "\n",
        "\n"
      ]
    },
    {
      "cell_type": "code",
      "metadata": {
        "id": "bVcWtsAkEcqp",
        "colab_type": "code",
        "outputId": "901142da-44b0-4195-feaf-500080a6c1a3",
        "colab": {
          "base_uri": "https://localhost:8080/",
          "height": 218
        }
      },
      "source": [
        "X = df[['words_diff_q1_q2', 'word_Common',\t'word_Total', 'word_share', 'cosine_distance','cityblock_distance',\t'jaccard_distance','canberra_distance',\t'euclidean_distance','minkowski_distance','braycurtis_distance', 'fuzz_qratio',\t'fuzz_WRatio',\t'fuzz_partial_ratio',\t'fuzz_partial_token_set_ratio',\t'fuzz_partial_token_sort_ratio',\t'fuzz_token_set_ratio',\t'fuzz_token_sort_ratio']]\n",
        "y = df['is_duplicate']\n",
        "X.head()"
      ],
      "execution_count": 44,
      "outputs": [
        {
          "output_type": "execute_result",
          "data": {
            "text/html": [
              "<div>\n",
              "<style scoped>\n",
              "    .dataframe tbody tr th:only-of-type {\n",
              "        vertical-align: middle;\n",
              "    }\n",
              "\n",
              "    .dataframe tbody tr th {\n",
              "        vertical-align: top;\n",
              "    }\n",
              "\n",
              "    .dataframe thead th {\n",
              "        text-align: right;\n",
              "    }\n",
              "</style>\n",
              "<table border=\"1\" class=\"dataframe\">\n",
              "  <thead>\n",
              "    <tr style=\"text-align: right;\">\n",
              "      <th></th>\n",
              "      <th>words_diff_q1_q2</th>\n",
              "      <th>word_Common</th>\n",
              "      <th>word_Total</th>\n",
              "      <th>word_share</th>\n",
              "      <th>cosine_distance</th>\n",
              "      <th>cityblock_distance</th>\n",
              "      <th>jaccard_distance</th>\n",
              "      <th>canberra_distance</th>\n",
              "      <th>euclidean_distance</th>\n",
              "      <th>minkowski_distance</th>\n",
              "      <th>braycurtis_distance</th>\n",
              "      <th>fuzz_qratio</th>\n",
              "      <th>fuzz_WRatio</th>\n",
              "      <th>fuzz_partial_ratio</th>\n",
              "      <th>fuzz_partial_token_set_ratio</th>\n",
              "      <th>fuzz_partial_token_sort_ratio</th>\n",
              "      <th>fuzz_token_set_ratio</th>\n",
              "      <th>fuzz_token_sort_ratio</th>\n",
              "    </tr>\n",
              "  </thead>\n",
              "  <tbody>\n",
              "    <tr>\n",
              "      <th>339642</th>\n",
              "      <td>1</td>\n",
              "      <td>5.0</td>\n",
              "      <td>11.0</td>\n",
              "      <td>0.454545</td>\n",
              "      <td>0.153353</td>\n",
              "      <td>0.875061</td>\n",
              "      <td>1.0</td>\n",
              "      <td>1.415219</td>\n",
              "      <td>0.553810</td>\n",
              "      <td>0.553810</td>\n",
              "      <td>0.187726</td>\n",
              "      <td>95</td>\n",
              "      <td>95</td>\n",
              "      <td>89</td>\n",
              "      <td>100</td>\n",
              "      <td>89</td>\n",
              "      <td>100</td>\n",
              "      <td>95</td>\n",
              "    </tr>\n",
              "    <tr>\n",
              "      <th>159952</th>\n",
              "      <td>1</td>\n",
              "      <td>0.0</td>\n",
              "      <td>9.0</td>\n",
              "      <td>0.000000</td>\n",
              "      <td>1.000000</td>\n",
              "      <td>4.000000</td>\n",
              "      <td>1.0</td>\n",
              "      <td>8.000000</td>\n",
              "      <td>1.414214</td>\n",
              "      <td>1.414214</td>\n",
              "      <td>1.000000</td>\n",
              "      <td>38</td>\n",
              "      <td>38</td>\n",
              "      <td>32</td>\n",
              "      <td>38</td>\n",
              "      <td>38</td>\n",
              "      <td>30</td>\n",
              "      <td>30</td>\n",
              "    </tr>\n",
              "    <tr>\n",
              "      <th>248457</th>\n",
              "      <td>10</td>\n",
              "      <td>1.0</td>\n",
              "      <td>30.0</td>\n",
              "      <td>0.033333</td>\n",
              "      <td>0.970474</td>\n",
              "      <td>6.801042</td>\n",
              "      <td>1.0</td>\n",
              "      <td>26.156464</td>\n",
              "      <td>1.393179</td>\n",
              "      <td>1.393179</td>\n",
              "      <td>0.958629</td>\n",
              "      <td>30</td>\n",
              "      <td>86</td>\n",
              "      <td>39</td>\n",
              "      <td>100</td>\n",
              "      <td>44</td>\n",
              "      <td>42</td>\n",
              "      <td>38</td>\n",
              "    </tr>\n",
              "    <tr>\n",
              "      <th>242808</th>\n",
              "      <td>1</td>\n",
              "      <td>1.0</td>\n",
              "      <td>11.0</td>\n",
              "      <td>0.090909</td>\n",
              "      <td>0.898369</td>\n",
              "      <td>4.047069</td>\n",
              "      <td>1.0</td>\n",
              "      <td>9.050063</td>\n",
              "      <td>1.340425</td>\n",
              "      <td>1.340425</td>\n",
              "      <td>0.869683</td>\n",
              "      <td>23</td>\n",
              "      <td>86</td>\n",
              "      <td>32</td>\n",
              "      <td>100</td>\n",
              "      <td>58</td>\n",
              "      <td>50</td>\n",
              "      <td>42</td>\n",
              "    </tr>\n",
              "    <tr>\n",
              "      <th>207606</th>\n",
              "      <td>4</td>\n",
              "      <td>2.0</td>\n",
              "      <td>20.0</td>\n",
              "      <td>0.100000</td>\n",
              "      <td>0.884784</td>\n",
              "      <td>5.387728</td>\n",
              "      <td>1.0</td>\n",
              "      <td>16.224716</td>\n",
              "      <td>1.330251</td>\n",
              "      <td>1.330251</td>\n",
              "      <td>0.862678</td>\n",
              "      <td>30</td>\n",
              "      <td>42</td>\n",
              "      <td>49</td>\n",
              "      <td>100</td>\n",
              "      <td>43</td>\n",
              "      <td>39</td>\n",
              "      <td>44</td>\n",
              "    </tr>\n",
              "  </tbody>\n",
              "</table>\n",
              "</div>"
            ],
            "text/plain": [
              "        words_diff_q1_q2  ...  fuzz_token_sort_ratio\n",
              "339642                 1  ...                     95\n",
              "159952                 1  ...                     30\n",
              "248457                10  ...                     38\n",
              "242808                 1  ...                     42\n",
              "207606                 4  ...                     44\n",
              "\n",
              "[5 rows x 18 columns]"
            ]
          },
          "metadata": {
            "tags": []
          },
          "execution_count": 44
        }
      ]
    },
    {
      "cell_type": "code",
      "metadata": {
        "id": "xLJSmUphEcqr",
        "colab_type": "code",
        "colab": {}
      },
      "source": [
        "#Splitting the dataset into the Training set and the Test set\n",
        "from sklearn import model_selection, preprocessing\n",
        "from sklearn.model_selection import train_test_split\n",
        "X_train, X_test, y_train, y_test = train_test_split(X, y, test_size = 0.25, random_state = 99)\n",
        "\n",
        "X_train = preprocessing.scale(X_train)\n",
        "X_test = preprocessing.scale(X_test)\n",
        "\n",
        "X_train = np.nan_to_num(X_train)\n",
        "X_test = np.nan_to_num(X_test)"
      ],
      "execution_count": 0,
      "outputs": []
    },
    {
      "cell_type": "code",
      "metadata": {
        "id": "9MtQ0o-bM64G",
        "colab_type": "code",
        "colab": {}
      },
      "source": [
        "#Defining the generic training pipeline\n",
        "def train_model(classifier, feature_vector_train, label, feature_vector_valid, is_neural_net=False):\n",
        "\n",
        "  #fit the training dataset on the classifier\n",
        "  classifier.fit(feature_vector_train, label)\n",
        "\n",
        "  #predict the labels on validation dataset\n",
        "  predictions = classifier.predict(feature_vector_valid)\n",
        "\n",
        "  return metrics.accuracy_score(y_test, predictions), metrics.classification_report(y_test,predictions),metrics.confusion_matrix(y_test,predictions)"
      ],
      "execution_count": 0,
      "outputs": []
    },
    {
      "cell_type": "markdown",
      "metadata": {
        "id": "kG6dv0aLol2d",
        "colab_type": "text"
      },
      "source": [
        "## **Logistic Regression**"
      ]
    },
    {
      "cell_type": "code",
      "metadata": {
        "id": "328zl7wROHd_",
        "colab_type": "code",
        "colab": {
          "base_uri": "https://localhost:8080/",
          "height": 259
        },
        "outputId": "38dd3c38-40e0-47e0-cf6e-b793084c6a02"
      },
      "source": [
        "training_results_LR = train_model(linear_model.LogisticRegression(random_state = 99, max_iter=200), X_train, y_train, X_test)\n",
        "\n",
        "print(f'Accuracy Score : {training_results_LR[0]}')\n",
        "print(f'Classification Report : \\n{training_results_LR[1]}')\n",
        "print(f'Confusion Matrix : \\n{training_results_LR[2]}')"
      ],
      "execution_count": 47,
      "outputs": [
        {
          "output_type": "stream",
          "text": [
            "Accuracy Score : 0.6848\n",
            "Classification Report : \n",
            "              precision    recall  f1-score   support\n",
            "\n",
            "           0       0.73      0.78      0.76      1561\n",
            "           1       0.59      0.53      0.56       939\n",
            "\n",
            "    accuracy                           0.68      2500\n",
            "   macro avg       0.66      0.65      0.66      2500\n",
            "weighted avg       0.68      0.68      0.68      2500\n",
            "\n",
            "Confusion Matrix : \n",
            "[[1216  345]\n",
            " [ 443  496]]\n"
          ],
          "name": "stdout"
        }
      ]
    },
    {
      "cell_type": "markdown",
      "metadata": {
        "id": "OidN6j0L0fnj",
        "colab_type": "text"
      },
      "source": [
        "## **Naive Bayes**"
      ]
    },
    {
      "cell_type": "code",
      "metadata": {
        "id": "zM2H9RSTjIFT",
        "colab_type": "code",
        "outputId": "693882bb-3c30-47a0-9a2a-2c19b2b7e63d",
        "colab": {
          "base_uri": "https://localhost:8080/",
          "height": 259
        }
      },
      "source": [
        "training_results_NB = train_model(naive_bayes.BernoulliNB(), X_train, y_train, X_test)\n",
        "\n",
        "print(f'Accuracy Score : {training_results_NB[0]}')\n",
        "print(f'Classification Report : \\n{training_results_NB[1]}')\n",
        "print(f'Confusion Matrix : \\n{training_results_NB[2]}')"
      ],
      "execution_count": 55,
      "outputs": [
        {
          "output_type": "stream",
          "text": [
            "Accuracy Score : 0.6556\n",
            "Classification Report : \n",
            "              precision    recall  f1-score   support\n",
            "\n",
            "           0       0.76      0.65      0.70      1561\n",
            "           1       0.53      0.66      0.59       939\n",
            "\n",
            "    accuracy                           0.66      2500\n",
            "   macro avg       0.65      0.66      0.65      2500\n",
            "weighted avg       0.68      0.66      0.66      2500\n",
            "\n",
            "Confusion Matrix : \n",
            "[[1017  544]\n",
            " [ 317  622]]\n"
          ],
          "name": "stdout"
        }
      ]
    },
    {
      "cell_type": "markdown",
      "metadata": {
        "id": "ZFO4sAYPxO09",
        "colab_type": "text"
      },
      "source": [
        "## **SVM Classification**"
      ]
    },
    {
      "cell_type": "code",
      "metadata": {
        "id": "VE5KB6PAob7A",
        "colab_type": "code",
        "colab": {
          "base_uri": "https://localhost:8080/",
          "height": 259
        },
        "outputId": "04d6c5f4-bb28-42a6-a163-fb499d601c6d"
      },
      "source": [
        "training_results_SVM = train_model(svm.SVC(kernel='linear',random_state = 99), X_train, y_train, X_test)\n",
        "\n",
        "print(f'Accuracy Score : {training_results_SVM[0]}')\n",
        "print(f'Classification Report : \\n{training_results_SVM[1]}')\n",
        "print(f'Confusion Matrix : \\n{training_results_SVM[2]}')"
      ],
      "execution_count": 49,
      "outputs": [
        {
          "output_type": "stream",
          "text": [
            "Accuracy Score : 0.6884\n",
            "Classification Report : \n",
            "              precision    recall  f1-score   support\n",
            "\n",
            "           0       0.73      0.79      0.76      1561\n",
            "           1       0.60      0.53      0.56       939\n",
            "\n",
            "    accuracy                           0.69      2500\n",
            "   macro avg       0.67      0.66      0.66      2500\n",
            "weighted avg       0.68      0.69      0.68      2500\n",
            "\n",
            "Confusion Matrix : \n",
            "[[1226  335]\n",
            " [ 444  495]]\n"
          ],
          "name": "stdout"
        }
      ]
    },
    {
      "cell_type": "markdown",
      "metadata": {
        "id": "5tXEyA1JeMVz",
        "colab_type": "text"
      },
      "source": [
        "## **Decision-Tree Classification**"
      ]
    },
    {
      "cell_type": "code",
      "metadata": {
        "id": "8JV1GRtq4SA0",
        "colab_type": "code",
        "colab": {
          "base_uri": "https://localhost:8080/",
          "height": 259
        },
        "outputId": "408de4c3-5eb3-47d5-a2c6-ef2ae9ac8863"
      },
      "source": [
        "training_results_DTree = train_model(tree.DecisionTreeClassifier(random_state = 99), X_train, y_train, X_test)\n",
        "\n",
        "print(f'Accuracy Score : {training_results_DTree[0]}')\n",
        "print(f'Classification Report : \\n{training_results_DTree[1]}')\n",
        "print(f'Confusion Matrix : \\n{training_results_DTree[2]}')"
      ],
      "execution_count": 50,
      "outputs": [
        {
          "output_type": "stream",
          "text": [
            "Accuracy Score : 0.6468\n",
            "Classification Report : \n",
            "              precision    recall  f1-score   support\n",
            "\n",
            "           0       0.72      0.71      0.72      1561\n",
            "           1       0.53      0.54      0.53       939\n",
            "\n",
            "    accuracy                           0.65      2500\n",
            "   macro avg       0.62      0.62      0.62      2500\n",
            "weighted avg       0.65      0.65      0.65      2500\n",
            "\n",
            "Confusion Matrix : \n",
            "[[1114  447]\n",
            " [ 436  503]]\n"
          ],
          "name": "stdout"
        }
      ]
    },
    {
      "cell_type": "markdown",
      "metadata": {
        "id": "tJ8bHCjyeZBu",
        "colab_type": "text"
      },
      "source": [
        "## **Random-Forest Classification**"
      ]
    },
    {
      "cell_type": "code",
      "metadata": {
        "id": "GE-3hRjM5XPL",
        "colab_type": "code",
        "colab": {
          "base_uri": "https://localhost:8080/",
          "height": 259
        },
        "outputId": "a7893212-5528-4402-a4d0-3a268258f67e"
      },
      "source": [
        "training_results_RandF = train_model(ensemble.RandomForestClassifier(n_estimators=1000, n_jobs=-1, random_state = 99), X_train, y_train, X_test)\n",
        "\n",
        "print(f'Accuracy Score : {training_results_RandF[0]}')\n",
        "print(f'Classification Report : \\n{training_results_RandF[1]}')\n",
        "print(f'Confusion Matrix : \\n{training_results_RandF[2]}')"
      ],
      "execution_count": 51,
      "outputs": [
        {
          "output_type": "stream",
          "text": [
            "Accuracy Score : 0.7056\n",
            "Classification Report : \n",
            "              precision    recall  f1-score   support\n",
            "\n",
            "           0       0.77      0.76      0.76      1561\n",
            "           1       0.61      0.61      0.61       939\n",
            "\n",
            "    accuracy                           0.71      2500\n",
            "   macro avg       0.69      0.69      0.69      2500\n",
            "weighted avg       0.71      0.71      0.71      2500\n",
            "\n",
            "Confusion Matrix : \n",
            "[[1190  371]\n",
            " [ 365  574]]\n"
          ],
          "name": "stdout"
        }
      ]
    }
  ]
}