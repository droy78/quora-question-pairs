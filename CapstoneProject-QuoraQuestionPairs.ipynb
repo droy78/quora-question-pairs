{
  "nbformat": 4,
  "nbformat_minor": 0,
  "metadata": {
    "kernelspec": {
      "display_name": "Python 3",
      "language": "python",
      "name": "python3"
    },
    "language_info": {
      "codemirror_mode": {
        "name": "ipython",
        "version": 3
      },
      "file_extension": ".py",
      "mimetype": "text/x-python",
      "name": "python",
      "nbconvert_exporter": "python",
      "pygments_lexer": "ipython3",
      "version": "3.7.6"
    },
    "colab": {
      "name": "QuoraQuestionsV1.ipynb",
      "provenance": [],
      "collapsed_sections": [],
      "machine_shape": "hm"
    }
  },
  "cells": [
    {
      "cell_type": "markdown",
      "metadata": {
        "id": "mpply_LygY9e",
        "colab_type": "text"
      },
      "source": [
        "## Importing the Libraries and Data"
      ]
    },
    {
      "cell_type": "code",
      "metadata": {
        "id": "1jY6XBFpEcpR",
        "colab_type": "code",
        "colab": {}
      },
      "source": [
        "import numpy as np\n",
        "import pandas as pd\n",
        "import matplotlib.pyplot as plt\n",
        "\n",
        "import matplotlib\n",
        "%matplotlib inline"
      ],
      "execution_count": 0,
      "outputs": []
    },
    {
      "cell_type": "code",
      "metadata": {
        "id": "b8-GySt8E694",
        "colab_type": "code",
        "outputId": "264e61c4-8d49-446e-d00e-775b57784e92",
        "colab": {
          "base_uri": "https://localhost:8080/",
          "height": 34
        }
      },
      "source": [
        "from google.colab import drive\n",
        "# drive.flush_and_unmount()\n",
        "drive.mount('/content/drive')"
      ],
      "execution_count": 147,
      "outputs": [
        {
          "output_type": "stream",
          "text": [
            "Drive already mounted at /content/drive; to attempt to forcibly remount, call drive.mount(\"/content/drive\", force_remount=True).\n"
          ],
          "name": "stdout"
        }
      ]
    },
    {
      "cell_type": "code",
      "metadata": {
        "id": "cnPJvtjfEcpV",
        "colab_type": "code",
        "colab": {}
      },
      "source": [
        "df = pd.read_csv(\"drive/My Drive/Colab Notebooks/CapstoneProject/train.csv\")"
      ],
      "execution_count": 0,
      "outputs": []
    },
    {
      "cell_type": "markdown",
      "metadata": {
        "id": "OFq-RBzYEcpY",
        "colab_type": "text"
      },
      "source": [
        "## Exploratory Data Analysis"
      ]
    },
    {
      "cell_type": "code",
      "metadata": {
        "id": "8oLJRmJqbC5C",
        "colab_type": "code",
        "outputId": "d52edacc-918c-4305-9113-3c893db24a63",
        "colab": {
          "base_uri": "https://localhost:8080/",
          "height": 34
        }
      },
      "source": [
        "print(\"Number of data points:\",df.shape[0])"
      ],
      "execution_count": 149,
      "outputs": [
        {
          "output_type": "stream",
          "text": [
            "Number of data points: 404290\n"
          ],
          "name": "stdout"
        }
      ]
    },
    {
      "cell_type": "code",
      "metadata": {
        "id": "in5AFaxngbkk",
        "colab_type": "code",
        "outputId": "6c6304d4-c1c1-4cd5-a42a-ad2cef345329",
        "colab": {
          "base_uri": "https://localhost:8080/",
          "height": 198
        }
      },
      "source": [
        "df.head()"
      ],
      "execution_count": 150,
      "outputs": [
        {
          "output_type": "execute_result",
          "data": {
            "text/html": [
              "<div>\n",
              "<style scoped>\n",
              "    .dataframe tbody tr th:only-of-type {\n",
              "        vertical-align: middle;\n",
              "    }\n",
              "\n",
              "    .dataframe tbody tr th {\n",
              "        vertical-align: top;\n",
              "    }\n",
              "\n",
              "    .dataframe thead th {\n",
              "        text-align: right;\n",
              "    }\n",
              "</style>\n",
              "<table border=\"1\" class=\"dataframe\">\n",
              "  <thead>\n",
              "    <tr style=\"text-align: right;\">\n",
              "      <th></th>\n",
              "      <th>id</th>\n",
              "      <th>qid1</th>\n",
              "      <th>qid2</th>\n",
              "      <th>question1</th>\n",
              "      <th>question2</th>\n",
              "      <th>is_duplicate</th>\n",
              "    </tr>\n",
              "  </thead>\n",
              "  <tbody>\n",
              "    <tr>\n",
              "      <th>0</th>\n",
              "      <td>0</td>\n",
              "      <td>1</td>\n",
              "      <td>2</td>\n",
              "      <td>What is the step by step guide to invest in sh...</td>\n",
              "      <td>What is the step by step guide to invest in sh...</td>\n",
              "      <td>0</td>\n",
              "    </tr>\n",
              "    <tr>\n",
              "      <th>1</th>\n",
              "      <td>1</td>\n",
              "      <td>3</td>\n",
              "      <td>4</td>\n",
              "      <td>What is the story of Kohinoor (Koh-i-Noor) Dia...</td>\n",
              "      <td>What would happen if the Indian government sto...</td>\n",
              "      <td>0</td>\n",
              "    </tr>\n",
              "    <tr>\n",
              "      <th>2</th>\n",
              "      <td>2</td>\n",
              "      <td>5</td>\n",
              "      <td>6</td>\n",
              "      <td>How can I increase the speed of my internet co...</td>\n",
              "      <td>How can Internet speed be increased by hacking...</td>\n",
              "      <td>0</td>\n",
              "    </tr>\n",
              "    <tr>\n",
              "      <th>3</th>\n",
              "      <td>3</td>\n",
              "      <td>7</td>\n",
              "      <td>8</td>\n",
              "      <td>Why am I mentally very lonely? How can I solve...</td>\n",
              "      <td>Find the remainder when [math]23^{24}[/math] i...</td>\n",
              "      <td>0</td>\n",
              "    </tr>\n",
              "    <tr>\n",
              "      <th>4</th>\n",
              "      <td>4</td>\n",
              "      <td>9</td>\n",
              "      <td>10</td>\n",
              "      <td>Which one dissolve in water quikly sugar, salt...</td>\n",
              "      <td>Which fish would survive in salt water?</td>\n",
              "      <td>0</td>\n",
              "    </tr>\n",
              "  </tbody>\n",
              "</table>\n",
              "</div>"
            ],
            "text/plain": [
              "   id  qid1  ...                                          question2 is_duplicate\n",
              "0   0     1  ...  What is the step by step guide to invest in sh...            0\n",
              "1   1     3  ...  What would happen if the Indian government sto...            0\n",
              "2   2     5  ...  How can Internet speed be increased by hacking...            0\n",
              "3   3     7  ...  Find the remainder when [math]23^{24}[/math] i...            0\n",
              "4   4     9  ...            Which fish would survive in salt water?            0\n",
              "\n",
              "[5 rows x 6 columns]"
            ]
          },
          "metadata": {
            "tags": []
          },
          "execution_count": 150
        }
      ]
    },
    {
      "cell_type": "code",
      "metadata": {
        "id": "MYglTHF0EcqL",
        "colab_type": "code",
        "outputId": "2cf6d02e-6fde-42c1-965e-7b2323045bd9",
        "colab": {
          "base_uri": "https://localhost:8080/",
          "height": 242
        }
      },
      "source": [
        "df.info()"
      ],
      "execution_count": 151,
      "outputs": [
        {
          "output_type": "stream",
          "text": [
            "<class 'pandas.core.frame.DataFrame'>\n",
            "RangeIndex: 404290 entries, 0 to 404289\n",
            "Data columns (total 6 columns):\n",
            " #   Column        Non-Null Count   Dtype \n",
            "---  ------        --------------   ----- \n",
            " 0   id            404290 non-null  int64 \n",
            " 1   qid1          404290 non-null  int64 \n",
            " 2   qid2          404290 non-null  int64 \n",
            " 3   question1     404289 non-null  object\n",
            " 4   question2     404288 non-null  object\n",
            " 5   is_duplicate  404290 non-null  int64 \n",
            "dtypes: int64(4), object(2)\n",
            "memory usage: 18.5+ MB\n"
          ],
          "name": "stdout"
        }
      ]
    },
    {
      "cell_type": "code",
      "metadata": {
        "id": "4UXvgagchXcE",
        "colab_type": "code",
        "outputId": "2971b85c-cb4a-4d00-964c-c42b8d3c93a1",
        "colab": {
          "base_uri": "https://localhost:8080/",
          "height": 78
        }
      },
      "source": [
        "#question1 has 1 null value \n",
        "#question2 has 2 null values\n",
        "#Let's locate which question1 has a null value\n",
        "df[df.question1.isnull()]"
      ],
      "execution_count": 152,
      "outputs": [
        {
          "output_type": "execute_result",
          "data": {
            "text/html": [
              "<div>\n",
              "<style scoped>\n",
              "    .dataframe tbody tr th:only-of-type {\n",
              "        vertical-align: middle;\n",
              "    }\n",
              "\n",
              "    .dataframe tbody tr th {\n",
              "        vertical-align: top;\n",
              "    }\n",
              "\n",
              "    .dataframe thead th {\n",
              "        text-align: right;\n",
              "    }\n",
              "</style>\n",
              "<table border=\"1\" class=\"dataframe\">\n",
              "  <thead>\n",
              "    <tr style=\"text-align: right;\">\n",
              "      <th></th>\n",
              "      <th>id</th>\n",
              "      <th>qid1</th>\n",
              "      <th>qid2</th>\n",
              "      <th>question1</th>\n",
              "      <th>question2</th>\n",
              "      <th>is_duplicate</th>\n",
              "    </tr>\n",
              "  </thead>\n",
              "  <tbody>\n",
              "    <tr>\n",
              "      <th>363362</th>\n",
              "      <td>363362</td>\n",
              "      <td>493340</td>\n",
              "      <td>493341</td>\n",
              "      <td>NaN</td>\n",
              "      <td>My Chinese name is Haichao Yu. What English na...</td>\n",
              "      <td>0</td>\n",
              "    </tr>\n",
              "  </tbody>\n",
              "</table>\n",
              "</div>"
            ],
            "text/plain": [
              "            id  ...  is_duplicate\n",
              "363362  363362  ...             0\n",
              "\n",
              "[1 rows x 6 columns]"
            ]
          },
          "metadata": {
            "tags": []
          },
          "execution_count": 152
        }
      ]
    },
    {
      "cell_type": "code",
      "metadata": {
        "id": "yvj7L6nRhjJL",
        "colab_type": "code",
        "outputId": "15f124b1-f414-407b-d969-cb9b7e754fb6",
        "colab": {
          "base_uri": "https://localhost:8080/",
          "height": 78
        }
      },
      "source": [
        "#The Null question1 has an qid1 = 493340. \n",
        "#Let's check if there is an instance of qid = 493340 is present anywhere in the dataset with a valid question attached to it.\n",
        "df[(df.qid1 == 493340) | (df.qid2 == 493340)]"
      ],
      "execution_count": 153,
      "outputs": [
        {
          "output_type": "execute_result",
          "data": {
            "text/html": [
              "<div>\n",
              "<style scoped>\n",
              "    .dataframe tbody tr th:only-of-type {\n",
              "        vertical-align: middle;\n",
              "    }\n",
              "\n",
              "    .dataframe tbody tr th {\n",
              "        vertical-align: top;\n",
              "    }\n",
              "\n",
              "    .dataframe thead th {\n",
              "        text-align: right;\n",
              "    }\n",
              "</style>\n",
              "<table border=\"1\" class=\"dataframe\">\n",
              "  <thead>\n",
              "    <tr style=\"text-align: right;\">\n",
              "      <th></th>\n",
              "      <th>id</th>\n",
              "      <th>qid1</th>\n",
              "      <th>qid2</th>\n",
              "      <th>question1</th>\n",
              "      <th>question2</th>\n",
              "      <th>is_duplicate</th>\n",
              "    </tr>\n",
              "  </thead>\n",
              "  <tbody>\n",
              "    <tr>\n",
              "      <th>363362</th>\n",
              "      <td>363362</td>\n",
              "      <td>493340</td>\n",
              "      <td>493341</td>\n",
              "      <td>NaN</td>\n",
              "      <td>My Chinese name is Haichao Yu. What English na...</td>\n",
              "      <td>0</td>\n",
              "    </tr>\n",
              "  </tbody>\n",
              "</table>\n",
              "</div>"
            ],
            "text/plain": [
              "            id  ...  is_duplicate\n",
              "363362  363362  ...             0\n",
              "\n",
              "[1 rows x 6 columns]"
            ]
          },
          "metadata": {
            "tags": []
          },
          "execution_count": 153
        }
      ]
    },
    {
      "cell_type": "code",
      "metadata": {
        "id": "Bj8PvwVthwos",
        "colab_type": "code",
        "colab": {}
      },
      "source": [
        "#We cannot fill this null question1 with the correct question. It is better to delete the record."
      ],
      "execution_count": 0,
      "outputs": []
    },
    {
      "cell_type": "code",
      "metadata": {
        "id": "4ovma0pSiAnP",
        "colab_type": "code",
        "outputId": "0ca88164-67be-40d2-b0c6-32207ebe900c",
        "colab": {
          "base_uri": "https://localhost:8080/",
          "height": 108
        }
      },
      "source": [
        "#Let's check how many records are there where question2 is null\n",
        "df[df.question2.isnull()]"
      ],
      "execution_count": 155,
      "outputs": [
        {
          "output_type": "execute_result",
          "data": {
            "text/html": [
              "<div>\n",
              "<style scoped>\n",
              "    .dataframe tbody tr th:only-of-type {\n",
              "        vertical-align: middle;\n",
              "    }\n",
              "\n",
              "    .dataframe tbody tr th {\n",
              "        vertical-align: top;\n",
              "    }\n",
              "\n",
              "    .dataframe thead th {\n",
              "        text-align: right;\n",
              "    }\n",
              "</style>\n",
              "<table border=\"1\" class=\"dataframe\">\n",
              "  <thead>\n",
              "    <tr style=\"text-align: right;\">\n",
              "      <th></th>\n",
              "      <th>id</th>\n",
              "      <th>qid1</th>\n",
              "      <th>qid2</th>\n",
              "      <th>question1</th>\n",
              "      <th>question2</th>\n",
              "      <th>is_duplicate</th>\n",
              "    </tr>\n",
              "  </thead>\n",
              "  <tbody>\n",
              "    <tr>\n",
              "      <th>105780</th>\n",
              "      <td>105780</td>\n",
              "      <td>174363</td>\n",
              "      <td>174364</td>\n",
              "      <td>How can I develop android app?</td>\n",
              "      <td>NaN</td>\n",
              "      <td>0</td>\n",
              "    </tr>\n",
              "    <tr>\n",
              "      <th>201841</th>\n",
              "      <td>201841</td>\n",
              "      <td>303951</td>\n",
              "      <td>174364</td>\n",
              "      <td>How can I create an Android app?</td>\n",
              "      <td>NaN</td>\n",
              "      <td>0</td>\n",
              "    </tr>\n",
              "  </tbody>\n",
              "</table>\n",
              "</div>"
            ],
            "text/plain": [
              "            id    qid1  ...  question2 is_duplicate\n",
              "105780  105780  174363  ...        NaN            0\n",
              "201841  201841  303951  ...        NaN            0\n",
              "\n",
              "[2 rows x 6 columns]"
            ]
          },
          "metadata": {
            "tags": []
          },
          "execution_count": 155
        }
      ]
    },
    {
      "cell_type": "code",
      "metadata": {
        "id": "tDDO1P8OiPHH",
        "colab_type": "code",
        "outputId": "57edea3e-7953-4c5b-8b3a-79f3114a887d",
        "colab": {
          "base_uri": "https://localhost:8080/",
          "height": 108
        }
      },
      "source": [
        "#The 2 instances of Null question2 have ids 174364. \n",
        "#Let's check if there is an instance of qid = 174364 is present anywhere in the dataset with a valid question attached to it.\n",
        "df[(df.qid1 == 174364) | (df.qid2 == 174364)]"
      ],
      "execution_count": 156,
      "outputs": [
        {
          "output_type": "execute_result",
          "data": {
            "text/html": [
              "<div>\n",
              "<style scoped>\n",
              "    .dataframe tbody tr th:only-of-type {\n",
              "        vertical-align: middle;\n",
              "    }\n",
              "\n",
              "    .dataframe tbody tr th {\n",
              "        vertical-align: top;\n",
              "    }\n",
              "\n",
              "    .dataframe thead th {\n",
              "        text-align: right;\n",
              "    }\n",
              "</style>\n",
              "<table border=\"1\" class=\"dataframe\">\n",
              "  <thead>\n",
              "    <tr style=\"text-align: right;\">\n",
              "      <th></th>\n",
              "      <th>id</th>\n",
              "      <th>qid1</th>\n",
              "      <th>qid2</th>\n",
              "      <th>question1</th>\n",
              "      <th>question2</th>\n",
              "      <th>is_duplicate</th>\n",
              "    </tr>\n",
              "  </thead>\n",
              "  <tbody>\n",
              "    <tr>\n",
              "      <th>105780</th>\n",
              "      <td>105780</td>\n",
              "      <td>174363</td>\n",
              "      <td>174364</td>\n",
              "      <td>How can I develop android app?</td>\n",
              "      <td>NaN</td>\n",
              "      <td>0</td>\n",
              "    </tr>\n",
              "    <tr>\n",
              "      <th>201841</th>\n",
              "      <td>201841</td>\n",
              "      <td>303951</td>\n",
              "      <td>174364</td>\n",
              "      <td>How can I create an Android app?</td>\n",
              "      <td>NaN</td>\n",
              "      <td>0</td>\n",
              "    </tr>\n",
              "  </tbody>\n",
              "</table>\n",
              "</div>"
            ],
            "text/plain": [
              "            id    qid1  ...  question2 is_duplicate\n",
              "105780  105780  174363  ...        NaN            0\n",
              "201841  201841  303951  ...        NaN            0\n",
              "\n",
              "[2 rows x 6 columns]"
            ]
          },
          "metadata": {
            "tags": []
          },
          "execution_count": 156
        }
      ]
    },
    {
      "cell_type": "code",
      "metadata": {
        "id": "XR2zaDLziZok",
        "colab_type": "code",
        "colab": {}
      },
      "source": [
        "#We cannot fill this null question1 with the correct question. It is better to delete the record."
      ],
      "execution_count": 0,
      "outputs": []
    },
    {
      "cell_type": "code",
      "metadata": {
        "id": "RpxcwmDoikec",
        "colab_type": "code",
        "colab": {}
      },
      "source": [
        "#Deleting records with null in qid1 or qid2\n",
        "df = df.dropna(subset=['question1','question2'])"
      ],
      "execution_count": 0,
      "outputs": []
    },
    {
      "cell_type": "code",
      "metadata": {
        "id": "25QHvSaHipgd",
        "colab_type": "code",
        "outputId": "c03aa78b-2002-4f98-fa79-544877eb3480",
        "colab": {
          "base_uri": "https://localhost:8080/",
          "height": 48
        }
      },
      "source": [
        "#Verifying the deletes\n",
        "df[(df.question1.isnull()) | (df.question2.isnull())]"
      ],
      "execution_count": 159,
      "outputs": [
        {
          "output_type": "execute_result",
          "data": {
            "text/html": [
              "<div>\n",
              "<style scoped>\n",
              "    .dataframe tbody tr th:only-of-type {\n",
              "        vertical-align: middle;\n",
              "    }\n",
              "\n",
              "    .dataframe tbody tr th {\n",
              "        vertical-align: top;\n",
              "    }\n",
              "\n",
              "    .dataframe thead th {\n",
              "        text-align: right;\n",
              "    }\n",
              "</style>\n",
              "<table border=\"1\" class=\"dataframe\">\n",
              "  <thead>\n",
              "    <tr style=\"text-align: right;\">\n",
              "      <th></th>\n",
              "      <th>id</th>\n",
              "      <th>qid1</th>\n",
              "      <th>qid2</th>\n",
              "      <th>question1</th>\n",
              "      <th>question2</th>\n",
              "      <th>is_duplicate</th>\n",
              "    </tr>\n",
              "  </thead>\n",
              "  <tbody>\n",
              "  </tbody>\n",
              "</table>\n",
              "</div>"
            ],
            "text/plain": [
              "Empty DataFrame\n",
              "Columns: [id, qid1, qid2, question1, question2, is_duplicate]\n",
              "Index: []"
            ]
          },
          "metadata": {
            "tags": []
          },
          "execution_count": 159
        }
      ]
    },
    {
      "cell_type": "code",
      "metadata": {
        "id": "JNGQq5gvi368",
        "colab_type": "code",
        "outputId": "b15c79ca-5190-43bc-ad57-986af57ea36b",
        "colab": {
          "base_uri": "https://localhost:8080/",
          "height": 48
        }
      },
      "source": [
        "#Let's check if there are any records where question1 == question2\n",
        "df[df.question1 == df.question2]"
      ],
      "execution_count": 160,
      "outputs": [
        {
          "output_type": "execute_result",
          "data": {
            "text/html": [
              "<div>\n",
              "<style scoped>\n",
              "    .dataframe tbody tr th:only-of-type {\n",
              "        vertical-align: middle;\n",
              "    }\n",
              "\n",
              "    .dataframe tbody tr th {\n",
              "        vertical-align: top;\n",
              "    }\n",
              "\n",
              "    .dataframe thead th {\n",
              "        text-align: right;\n",
              "    }\n",
              "</style>\n",
              "<table border=\"1\" class=\"dataframe\">\n",
              "  <thead>\n",
              "    <tr style=\"text-align: right;\">\n",
              "      <th></th>\n",
              "      <th>id</th>\n",
              "      <th>qid1</th>\n",
              "      <th>qid2</th>\n",
              "      <th>question1</th>\n",
              "      <th>question2</th>\n",
              "      <th>is_duplicate</th>\n",
              "    </tr>\n",
              "  </thead>\n",
              "  <tbody>\n",
              "  </tbody>\n",
              "</table>\n",
              "</div>"
            ],
            "text/plain": [
              "Empty DataFrame\n",
              "Columns: [id, qid1, qid2, question1, question2, is_duplicate]\n",
              "Index: []"
            ]
          },
          "metadata": {
            "tags": []
          },
          "execution_count": 160
        }
      ]
    },
    {
      "cell_type": "code",
      "metadata": {
        "id": "-Rq6Woz_jFGe",
        "colab_type": "code",
        "outputId": "3dd59aaf-7c80-403f-bc95-158bdc17761a",
        "colab": {
          "base_uri": "https://localhost:8080/",
          "height": 34
        }
      },
      "source": [
        "#Let's check if a qid1, qid2 pair is repeated more than once\n",
        "pair_count = df.groupby(['qid1','qid2']).size()\n",
        "pair_count[pair_count > 1]"
      ],
      "execution_count": 161,
      "outputs": [
        {
          "output_type": "execute_result",
          "data": {
            "text/plain": [
              "Series([], dtype: int64)"
            ]
          },
          "metadata": {
            "tags": []
          },
          "execution_count": 161
        }
      ]
    },
    {
      "cell_type": "code",
      "metadata": {
        "id": "_oNXCJ0wjLVY",
        "colab_type": "code",
        "outputId": "b3fc09e3-3ec5-46b4-c76e-78bebd91d9d3",
        "colab": {
          "base_uri": "https://localhost:8080/",
          "height": 34
        }
      },
      "source": [
        "#The above code will not capture the scenario if qid1 and qid2 are interchanged. \n",
        "#Let's see if there cases such as qid1=N1/qid2=N2 and qid1=N2/qid2=N1.\n",
        "list_of_qids_1_2 = (df['qid1'].astype(str) + '-' + df['qid2'].astype(str)).tolist() \n",
        "list_of_qids_2_1 = (df['qid2'].astype(str) + '-' + df['qid1'].astype(str)).tolist()\n",
        "combined_list = pd.Series(list_of_qids_1_2 + list_of_qids_2_1)\n",
        "result = combined_list.duplicated()\n",
        "result[result == True]"
      ],
      "execution_count": 162,
      "outputs": [
        {
          "output_type": "execute_result",
          "data": {
            "text/plain": [
              "Series([], dtype: bool)"
            ]
          },
          "metadata": {
            "tags": []
          },
          "execution_count": 162
        }
      ]
    },
    {
      "cell_type": "code",
      "metadata": {
        "id": "Rw3k1BN_jT8C",
        "colab_type": "code",
        "outputId": "9ce4c696-a370-4066-aec0-e61881c5455a",
        "colab": {
          "base_uri": "https://localhost:8080/",
          "height": 34
        }
      },
      "source": [
        "#Let's check how many unique instances of qid1 are there.\n",
        "len(df.qid1.unique())"
      ],
      "execution_count": 163,
      "outputs": [
        {
          "output_type": "execute_result",
          "data": {
            "text/plain": [
              "290652"
            ]
          },
          "metadata": {
            "tags": []
          },
          "execution_count": 163
        }
      ]
    },
    {
      "cell_type": "code",
      "metadata": {
        "id": "EHxW1_2mjZPj",
        "colab_type": "code",
        "outputId": "b67a848f-fe00-43a7-d72a-0f1f23475909",
        "colab": {
          "base_uri": "https://localhost:8080/",
          "height": 34
        }
      },
      "source": [
        "#Let's check how many unique instances of qid2 are there.\n",
        "len(df.qid2.unique())"
      ],
      "execution_count": 164,
      "outputs": [
        {
          "output_type": "execute_result",
          "data": {
            "text/plain": [
              "299362"
            ]
          },
          "metadata": {
            "tags": []
          },
          "execution_count": 164
        }
      ]
    },
    {
      "cell_type": "code",
      "metadata": {
        "id": "dPhyKvMWje0x",
        "colab_type": "code",
        "colab": {}
      },
      "source": [
        "#Based on the above queries, a question might be repeated in more than one pair."
      ],
      "execution_count": 0,
      "outputs": []
    },
    {
      "cell_type": "code",
      "metadata": {
        "id": "iDJ4wyIMji9U",
        "colab_type": "code",
        "outputId": "b7a9f7b9-28a3-41c7-895d-b719c19bfbaa",
        "colab": {
          "base_uri": "https://localhost:8080/",
          "height": 294
        }
      },
      "source": [
        "#Graph of duplicates vs non-duplicates\n",
        "df.groupby(\"is_duplicate\")['id'].count().plot.bar()"
      ],
      "execution_count": 166,
      "outputs": [
        {
          "output_type": "execute_result",
          "data": {
            "text/plain": [
              "<matplotlib.axes._subplots.AxesSubplot at 0x7f4fa18886d8>"
            ]
          },
          "metadata": {
            "tags": []
          },
          "execution_count": 166
        },
        {
          "output_type": "display_data",
          "data": {
            "image/png": "[encoded data removed]",
            "text/plain": [
              "<Figure size 432x288 with 1 Axes>"
            ]
          },
          "metadata": {
            "tags": [],
            "needs_background": "light"
          }
        }
      ]
    },
    {
      "cell_type": "code",
      "metadata": {
        "id": "lzeXP2SXh_ax",
        "colab_type": "code",
        "outputId": "2b518837-4eec-4fd5-a048-628318fdf411",
        "colab": {
          "base_uri": "https://localhost:8080/",
          "height": 86
        }
      },
      "source": [
        "#Average number of words per question\n",
        "print('Mean question1 : ', df['question1'].str.split().apply(len).mean(), ' words')\n",
        "print('Median question1 : ', df['question1'].str.split().apply(len).median(), ' words')\n",
        "print('Mean question1 : ', df['question1'].str.split().apply(len).mean(), ' words')\n",
        "print('Median question1 : ', df['question1'].str.split().apply(len).median(), ' words')"
      ],
      "execution_count": 167,
      "outputs": [
        {
          "output_type": "stream",
          "text": [
            "Mean question1 :  10.942256367382576  words\n",
            "Median question1 :  10.0  words\n",
            "Mean question1 :  10.942256367382576  words\n",
            "Median question1 :  10.0  words\n"
          ],
          "name": "stdout"
        }
      ]
    },
    {
      "cell_type": "code",
      "metadata": {
        "id": "wxv-h6H5EcqG",
        "colab_type": "code",
        "outputId": "c21855b8-e24b-45b5-9042-e28cae81d6af",
        "colab": {
          "base_uri": "https://localhost:8080/",
          "height": 104
        }
      },
      "source": [
        "print('Not Duplicate Question Pairs (is_duplicate = 0):\\n   {}%'.format(100 - round(df['is_duplicate'].mean()*100, 2)))\n",
        "print('\\nDuplicate Question Pairs (is_duplicate = 1):\\n   {}%'.format(round(df['is_duplicate'].mean()*100, 2)))"
      ],
      "execution_count": 168,
      "outputs": [
        {
          "output_type": "stream",
          "text": [
            "Not Duplicate Question Pairs (is_duplicate = 0):\n",
            "   63.08%\n",
            "\n",
            "Duplicate Question Pairs (is_duplicate = 1):\n",
            "   36.92%\n"
          ],
          "name": "stdout"
        }
      ]
    },
    {
      "cell_type": "code",
      "metadata": {
        "id": "Kqo_270IEcqK",
        "colab_type": "code",
        "colab": {}
      },
      "source": [
        "df_not_duplicate = df[df.is_duplicate == 0].sample(n = 5000)\n",
        "df_duplicate = df[df.is_duplicate == 1].sample(n = 5000)\n",
        "df = df_not_duplicate.append(df_duplicate)"
      ],
      "execution_count": 0,
      "outputs": []
    },
    {
      "cell_type": "code",
      "metadata": {
        "id": "0oteZv8L163D",
        "colab_type": "code",
        "outputId": "f0ef0bf2-21cf-4243-8cde-fa34cdcc8c9a",
        "colab": {
          "base_uri": "https://localhost:8080/",
          "height": 104
        }
      },
      "source": [
        "print('Not Duplicate Question Pairs (is_duplicate = 0):\\n   {}%'.format(100 - round(df['is_duplicate'].mean()*100, 2)))\n",
        "print('\\nDuplicate Question Pairs (is_duplicate = 1):\\n   {}%'.format(round(df['is_duplicate'].mean()*100, 2)))"
      ],
      "execution_count": 170,
      "outputs": [
        {
          "output_type": "stream",
          "text": [
            "Not Duplicate Question Pairs (is_duplicate = 0):\n",
            "   50.0%\n",
            "\n",
            "Duplicate Question Pairs (is_duplicate = 1):\n",
            "   50.0%\n"
          ],
          "name": "stdout"
        }
      ]
    },
    {
      "cell_type": "markdown",
      "metadata": {
        "id": "12Wk9qmUEcqJ",
        "colab_type": "text"
      },
      "source": [
        "## Processing Text Data"
      ]
    },
    {
      "cell_type": "markdown",
      "metadata": {
        "id": "4WJUu_ZpZkq8",
        "colab_type": "text"
      },
      "source": [
        "  Dropping Null Values"
      ]
    },
    {
      "cell_type": "code",
      "metadata": {
        "id": "o_OB1SGTEcpv",
        "colab_type": "code",
        "colab": {}
      },
      "source": [
        "#Deleting records with null in qid1 or qid2\n",
        "df = df.dropna(subset=['question1','question2'])"
      ],
      "execution_count": 0,
      "outputs": []
    },
    {
      "cell_type": "code",
      "metadata": {
        "id": "-O1iUyQMEcqO",
        "colab_type": "code",
        "outputId": "0c3e51cf-d692-4b5d-f2fe-59b77b38e28a",
        "colab": {
          "base_uri": "https://localhost:8080/",
          "height": 198
        }
      },
      "source": [
        "#Convert question1 and question2 to lower case\n",
        "df['question1'] = df['question1'].str.lower()\n",
        "df['question2'] = df['question2'].str.lower()\n",
        "df.head()"
      ],
      "execution_count": 31,
      "outputs": [
        {
          "output_type": "execute_result",
          "data": {
            "text/html": [
              "<div>\n",
              "<style scoped>\n",
              "    .dataframe tbody tr th:only-of-type {\n",
              "        vertical-align: middle;\n",
              "    }\n",
              "\n",
              "    .dataframe tbody tr th {\n",
              "        vertical-align: top;\n",
              "    }\n",
              "\n",
              "    .dataframe thead th {\n",
              "        text-align: right;\n",
              "    }\n",
              "</style>\n",
              "<table border=\"1\" class=\"dataframe\">\n",
              "  <thead>\n",
              "    <tr style=\"text-align: right;\">\n",
              "      <th></th>\n",
              "      <th>id</th>\n",
              "      <th>qid1</th>\n",
              "      <th>qid2</th>\n",
              "      <th>question1</th>\n",
              "      <th>question2</th>\n",
              "      <th>is_duplicate</th>\n",
              "    </tr>\n",
              "  </thead>\n",
              "  <tbody>\n",
              "    <tr>\n",
              "      <th>364530</th>\n",
              "      <td>364530</td>\n",
              "      <td>494586</td>\n",
              "      <td>494587</td>\n",
              "      <td>what is the importance of the cell membrane in...</td>\n",
              "      <td>what is the importance of the cell membrane in...</td>\n",
              "      <td>0</td>\n",
              "    </tr>\n",
              "    <tr>\n",
              "      <th>198481</th>\n",
              "      <td>198481</td>\n",
              "      <td>299714</td>\n",
              "      <td>299715</td>\n",
              "      <td>what are top facts about duronto express?</td>\n",
              "      <td>what are some interesting facts about avadh as...</td>\n",
              "      <td>0</td>\n",
              "    </tr>\n",
              "    <tr>\n",
              "      <th>37059</th>\n",
              "      <td>37059</td>\n",
              "      <td>67491</td>\n",
              "      <td>67492</td>\n",
              "      <td>how much does a usps tube for a poster cost to...</td>\n",
              "      <td>why does shipping cost so much?</td>\n",
              "      <td>0</td>\n",
              "    </tr>\n",
              "    <tr>\n",
              "      <th>148112</th>\n",
              "      <td>148112</td>\n",
              "      <td>233603</td>\n",
              "      <td>233604</td>\n",
              "      <td>what is a good broker for people living abroad?</td>\n",
              "      <td>how good is to live abroad?</td>\n",
              "      <td>0</td>\n",
              "    </tr>\n",
              "    <tr>\n",
              "      <th>182305</th>\n",
              "      <td>182305</td>\n",
              "      <td>279048</td>\n",
              "      <td>279049</td>\n",
              "      <td>who is adele?</td>\n",
              "      <td>is adele okay?</td>\n",
              "      <td>0</td>\n",
              "    </tr>\n",
              "  </tbody>\n",
              "</table>\n",
              "</div>"
            ],
            "text/plain": [
              "            id  ...  is_duplicate\n",
              "364530  364530  ...             0\n",
              "198481  198481  ...             0\n",
              "37059    37059  ...             0\n",
              "148112  148112  ...             0\n",
              "182305  182305  ...             0\n",
              "\n",
              "[5 rows x 6 columns]"
            ]
          },
          "metadata": {
            "tags": []
          },
          "execution_count": 31
        }
      ]
    },
    {
      "cell_type": "code",
      "metadata": {
        "id": "8HhMDfX-4Cu9",
        "colab_type": "code",
        "outputId": "132149b7-fbbf-4b9b-a739-61f38fac5708",
        "colab": {
          "base_uri": "https://localhost:8080/",
          "height": 52
        }
      },
      "source": [
        "# Remove STOP words\n",
        "import nltk\n",
        "from nltk.tokenize import word_tokenize\n",
        "nltk.download('stopwords')\n",
        "from nltk.corpus import stopwords\n",
        "stop_words = set(stopwords.words('english')) \n",
        "\n",
        "def remove_stopwords(x):\n",
        "  word_tokens = word_tokenize(x)   \n",
        "  filtered_sentence = [w for w in word_tokens if not w in stop_words] \n",
        "  return ' '.join(word for word in filtered_sentence)\n",
        "\n",
        "df['question1'] = df['question1'].apply(remove_stopwords)\n",
        "df['question2'] = df['question2'].apply(remove_stopwords)"
      ],
      "execution_count": 172,
      "outputs": [
        {
          "output_type": "stream",
          "text": [
            "[nltk_data] Downloading package stopwords to /root/nltk_data...\n",
            "[nltk_data]   Package stopwords is already up-to-date!\n"
          ],
          "name": "stdout"
        }
      ]
    },
    {
      "cell_type": "code",
      "metadata": {
        "id": "P59296bEaHMH",
        "colab_type": "code",
        "colab": {
          "base_uri": "https://localhost:8080/",
          "height": 224
        },
        "outputId": "e36b1c6a-469a-4faf-f1b3-572e6cf447f3"
      },
      "source": [
        "df['question2']"
      ],
      "execution_count": 174,
      "outputs": [
        {
          "output_type": "execute_result",
          "data": {
            "text/plain": [
              "303713                    Which better hot milk cold milk ?\n",
              "193426         Can I change eyebrow shape arched straight ?\n",
              "115685                 Why PR agencies join PR trade body ?\n",
              "229117          Have I made right decision joining Amdocs ?\n",
              "377648    What best way upload pc play music Samsung Gal...\n",
              "                                ...                        \n",
              "19548             What experience restored faith humanity ?\n",
              "342476                  Why people dislike anonymous A2As ?\n",
              "73128     Are people support Donald Trump racist xenopho...\n",
              "88732                          How know lust someone love ?\n",
              "367163                What social network use daily basis ?\n",
              "Name: question2, Length: 10000, dtype: object"
            ]
          },
          "metadata": {
            "tags": []
          },
          "execution_count": 174
        }
      ]
    },
    {
      "cell_type": "code",
      "metadata": {
        "id": "hvFWe9eZEcqR",
        "colab_type": "code",
        "outputId": "429e58bb-b099-4c49-b6ef-b6356c708d0a",
        "colab": {
          "base_uri": "https://localhost:8080/",
          "height": 198
        }
      },
      "source": [
        "#Remove punctuation\n",
        "df['question1'] = df['question1'].str.replace(r'[^\\w\\s]+', '')\n",
        "df['question2'] = df['question2'].str.replace(r'[^\\w\\s]+', '')\n",
        "df.head()"
      ],
      "execution_count": 32,
      "outputs": [
        {
          "output_type": "execute_result",
          "data": {
            "text/html": [
              "<div>\n",
              "<style scoped>\n",
              "    .dataframe tbody tr th:only-of-type {\n",
              "        vertical-align: middle;\n",
              "    }\n",
              "\n",
              "    .dataframe tbody tr th {\n",
              "        vertical-align: top;\n",
              "    }\n",
              "\n",
              "    .dataframe thead th {\n",
              "        text-align: right;\n",
              "    }\n",
              "</style>\n",
              "<table border=\"1\" class=\"dataframe\">\n",
              "  <thead>\n",
              "    <tr style=\"text-align: right;\">\n",
              "      <th></th>\n",
              "      <th>id</th>\n",
              "      <th>qid1</th>\n",
              "      <th>qid2</th>\n",
              "      <th>question1</th>\n",
              "      <th>question2</th>\n",
              "      <th>is_duplicate</th>\n",
              "    </tr>\n",
              "  </thead>\n",
              "  <tbody>\n",
              "    <tr>\n",
              "      <th>364530</th>\n",
              "      <td>364530</td>\n",
              "      <td>494586</td>\n",
              "      <td>494587</td>\n",
              "      <td>what is the importance of the cell membrane in...</td>\n",
              "      <td>what is the importance of the cell membrane in...</td>\n",
              "      <td>0</td>\n",
              "    </tr>\n",
              "    <tr>\n",
              "      <th>198481</th>\n",
              "      <td>198481</td>\n",
              "      <td>299714</td>\n",
              "      <td>299715</td>\n",
              "      <td>what are top facts about duronto express</td>\n",
              "      <td>what are some interesting facts about avadh as...</td>\n",
              "      <td>0</td>\n",
              "    </tr>\n",
              "    <tr>\n",
              "      <th>37059</th>\n",
              "      <td>37059</td>\n",
              "      <td>67491</td>\n",
              "      <td>67492</td>\n",
              "      <td>how much does a usps tube for a poster cost to...</td>\n",
              "      <td>why does shipping cost so much</td>\n",
              "      <td>0</td>\n",
              "    </tr>\n",
              "    <tr>\n",
              "      <th>148112</th>\n",
              "      <td>148112</td>\n",
              "      <td>233603</td>\n",
              "      <td>233604</td>\n",
              "      <td>what is a good broker for people living abroad</td>\n",
              "      <td>how good is to live abroad</td>\n",
              "      <td>0</td>\n",
              "    </tr>\n",
              "    <tr>\n",
              "      <th>182305</th>\n",
              "      <td>182305</td>\n",
              "      <td>279048</td>\n",
              "      <td>279049</td>\n",
              "      <td>who is adele</td>\n",
              "      <td>is adele okay</td>\n",
              "      <td>0</td>\n",
              "    </tr>\n",
              "  </tbody>\n",
              "</table>\n",
              "</div>"
            ],
            "text/plain": [
              "            id  ...  is_duplicate\n",
              "364530  364530  ...             0\n",
              "198481  198481  ...             0\n",
              "37059    37059  ...             0\n",
              "148112  148112  ...             0\n",
              "182305  182305  ...             0\n",
              "\n",
              "[5 rows x 6 columns]"
            ]
          },
          "metadata": {
            "tags": []
          },
          "execution_count": 32
        }
      ]
    },
    {
      "cell_type": "code",
      "metadata": {
        "id": "k1Qiern_5nIT",
        "colab_type": "code",
        "colab": {}
      },
      "source": [
        "#Word Replacements\n",
        "def word_replace(x):\n",
        "  x = x.replace(\",000,000\", \"m\").replace(\",000\", \"k\").replace(\"′\", \"'\").replace(\"’\", \"'\")\\\n",
        "                            .replace(\"won't\", \"will not\").replace(\"cannot\", \"can not\").replace(\"can't\", \"can not\")\\\n",
        "                            .replace(\"n't\", \" not\").replace(\"what's\", \"what is\").replace(\"it's\", \"it is\")\\\n",
        "                            .replace(\"'ve\", \" have\").replace(\"i'm\", \"i am\").replace(\"'re\", \" are\")\\\n",
        "                            .replace(\"he's\", \"he is\").replace(\"she's\", \"she is\").replace(\"'s\", \" own\")\\\n",
        "                            .replace(\"%\", \" percent \").replace(\"₹\", \" rupee \").replace(\"$\", \" dollar \")\\\n",
        "                            .replace(\"€\", \" euro \").replace(\"'ll\", \" will\")\n",
        "  return x\n",
        "\n",
        "df[\"question1\"] = df[\"question1\"].fillna(\"\").apply(word_replace)\n",
        "df[\"question2\"] = df[\"question2\"].fillna(\"\").apply(word_replace)"
      ],
      "execution_count": 0,
      "outputs": []
    },
    {
      "cell_type": "code",
      "metadata": {
        "id": "9K6boM8BYlRT",
        "colab_type": "code",
        "outputId": "624954bd-c423-41b1-fb72-a359b1adb8c1",
        "colab": {
          "base_uri": "https://localhost:8080/",
          "height": 233
        }
      },
      "source": [
        "#Lemmatization\n",
        "\n",
        "from nltk.stem import WordNetLemmatizer \n",
        "nltk.download('wordnet')\n",
        "\n",
        "lemmatizer = WordNetLemmatizer() \n",
        "  \n",
        "# print(\"rocks :\", lemmatizer.lemmatize(word)) \n",
        "# print(\"corpora :\", lemmatizer.lemmatize(\"corpora\"))\n",
        "\n",
        "df['question1'] = df['question1'].apply(lambda x : \" \".join([lemmatizer.lemmatize(word) for word in x.split()]))\n",
        "df['question2'] = df['question2'].apply(lambda x : \" \".join([lemmatizer.lemmatize(word) for word in x.split()]))\n",
        "df.head()"
      ],
      "execution_count": 34,
      "outputs": [
        {
          "output_type": "stream",
          "text": [
            "[nltk_data] Downloading package wordnet to /root/nltk_data...\n",
            "[nltk_data]   Package wordnet is already up-to-date!\n"
          ],
          "name": "stdout"
        },
        {
          "output_type": "execute_result",
          "data": {
            "text/html": [
              "<div>\n",
              "<style scoped>\n",
              "    .dataframe tbody tr th:only-of-type {\n",
              "        vertical-align: middle;\n",
              "    }\n",
              "\n",
              "    .dataframe tbody tr th {\n",
              "        vertical-align: top;\n",
              "    }\n",
              "\n",
              "    .dataframe thead th {\n",
              "        text-align: right;\n",
              "    }\n",
              "</style>\n",
              "<table border=\"1\" class=\"dataframe\">\n",
              "  <thead>\n",
              "    <tr style=\"text-align: right;\">\n",
              "      <th></th>\n",
              "      <th>id</th>\n",
              "      <th>qid1</th>\n",
              "      <th>qid2</th>\n",
              "      <th>question1</th>\n",
              "      <th>question2</th>\n",
              "      <th>is_duplicate</th>\n",
              "    </tr>\n",
              "  </thead>\n",
              "  <tbody>\n",
              "    <tr>\n",
              "      <th>364530</th>\n",
              "      <td>364530</td>\n",
              "      <td>494586</td>\n",
              "      <td>494587</td>\n",
              "      <td>what is the importance of the cell membrane in...</td>\n",
              "      <td>what is the importance of the cell membrane in...</td>\n",
              "      <td>0</td>\n",
              "    </tr>\n",
              "    <tr>\n",
              "      <th>198481</th>\n",
              "      <td>198481</td>\n",
              "      <td>299714</td>\n",
              "      <td>299715</td>\n",
              "      <td>what are top fact about duronto express</td>\n",
              "      <td>what are some interesting fact about avadh ass...</td>\n",
              "      <td>0</td>\n",
              "    </tr>\n",
              "    <tr>\n",
              "      <th>37059</th>\n",
              "      <td>37059</td>\n",
              "      <td>67491</td>\n",
              "      <td>67492</td>\n",
              "      <td>how much doe a usps tube for a poster cost to ...</td>\n",
              "      <td>why doe shipping cost so much</td>\n",
              "      <td>0</td>\n",
              "    </tr>\n",
              "    <tr>\n",
              "      <th>148112</th>\n",
              "      <td>148112</td>\n",
              "      <td>233603</td>\n",
              "      <td>233604</td>\n",
              "      <td>what is a good broker for people living abroad</td>\n",
              "      <td>how good is to live abroad</td>\n",
              "      <td>0</td>\n",
              "    </tr>\n",
              "    <tr>\n",
              "      <th>182305</th>\n",
              "      <td>182305</td>\n",
              "      <td>279048</td>\n",
              "      <td>279049</td>\n",
              "      <td>who is adele</td>\n",
              "      <td>is adele okay</td>\n",
              "      <td>0</td>\n",
              "    </tr>\n",
              "  </tbody>\n",
              "</table>\n",
              "</div>"
            ],
            "text/plain": [
              "            id  ...  is_duplicate\n",
              "364530  364530  ...             0\n",
              "198481  198481  ...             0\n",
              "37059    37059  ...             0\n",
              "148112  148112  ...             0\n",
              "182305  182305  ...             0\n",
              "\n",
              "[5 rows x 6 columns]"
            ]
          },
          "metadata": {
            "tags": []
          },
          "execution_count": 34
        }
      ]
    },
    {
      "cell_type": "markdown",
      "metadata": {
        "id": "IZX4TNmkEcqZ",
        "colab_type": "text"
      },
      "source": [
        "## Feature Extraction"
      ]
    },
    {
      "cell_type": "code",
      "metadata": {
        "id": "sMFpQV11Ecqc",
        "colab_type": "code",
        "colab": {}
      },
      "source": [
        "#Words difference q1, q2\n",
        "df['words_diff_q1_q2'] = abs(df['question1'].apply(lambda row: len(row.split(\" \"))) - df['question2'].apply(lambda row: len(row.split(\" \"))))"
      ],
      "execution_count": 0,
      "outputs": []
    },
    {
      "cell_type": "code",
      "metadata": {
        "id": "Wkzkue37Ecqe",
        "colab_type": "code",
        "colab": {}
      },
      "source": [
        "#Number of common unique words in Question 1 and Question 2\n",
        "def normalized_word_common(row):\n",
        "    w1 = set(map(lambda word: word.lower().strip(), row['question1'].split(\" \")))\n",
        "    w2 = set(map(lambda word: word.lower().strip(), row['question2'].split(\" \")))    \n",
        "    return len(w1 & w2)\n",
        "    \n",
        "df['word_Common'] = df.apply(normalized_word_common, axis=1)"
      ],
      "execution_count": 0,
      "outputs": []
    },
    {
      "cell_type": "code",
      "metadata": {
        "id": "KVpjUJgWEcqg",
        "colab_type": "code",
        "colab": {}
      },
      "source": [
        "#Total num of words in Question 1 + Total num of words in Question 2\n",
        "def normalized_word_total(row):\n",
        "        w1 = set(map(lambda word: word.lower().strip(), row['question1'].split(\" \")))\n",
        "        w2 = set(map(lambda word: word.lower().strip(), row['question2'].split(\" \")))    \n",
        "        return (len(w1) + len(w2))\n",
        "    \n",
        "df['word_Total'] = df.apply(normalized_word_total, axis=1)    "
      ],
      "execution_count": 0,
      "outputs": []
    },
    {
      "cell_type": "code",
      "metadata": {
        "id": "qMMDIvSHEcqi",
        "colab_type": "code",
        "colab": {}
      },
      "source": [
        "#word_share = (word_common)/(word_Total)\n",
        "def normalized_word_share(row):\n",
        "        w1 = set(map(lambda word: word.lower().strip(), row['question1'].split(\" \")))\n",
        "        w2 = set(map(lambda word: word.lower().strip(), row['question2'].split(\" \")))    \n",
        "        return len(w1 & w2)/(len(w1) + len(w2))\n",
        "df['word_share'] = df.apply(normalized_word_share, axis=1)"
      ],
      "execution_count": 0,
      "outputs": []
    },
    {
      "cell_type": "code",
      "metadata": {
        "id": "PujmIf9f_0dW",
        "colab_type": "code",
        "outputId": "0cbf916d-c732-4683-878a-3031bd1fe8ca",
        "colab": {
          "base_uri": "https://localhost:8080/",
          "height": 34
        }
      },
      "source": [
        "#Distance computations\n",
        "from scipy.spatial.distance import cosine, cityblock, jaccard, canberra, euclidean, minkowski, braycurtis\n",
        "\n",
        "def convert(lst): \n",
        "    return (lst[0].split())\n",
        "\n",
        "from keras.preprocessing.sequence import pad_sequences\n",
        "from keras.preprocessing.text import Tokenizer\n",
        "\n",
        "q1_q2_vectors = {}\n",
        "\n",
        "def get_q1_q2_vectors(row):\n",
        "\n",
        "      if row['id'] not in q1_q2_vectors:\n",
        "          \n",
        "          vocab = set()\n",
        "          \n",
        "          q1_list = []\n",
        "          # print(type(q1_list))\n",
        "          q1_list.append(row['question1'].replace(\"\\n\", \" \"))          \n",
        "          vocab = vocab.union(set(convert(q1_list)))\n",
        "\n",
        "          q2_list = []\n",
        "          q2_list.append(row['question2'].replace(\"\\n\", \" \"))\n",
        "          vocab = vocab.union(set(convert(q2_list)))          \n",
        "\n",
        "          # integer encode sequences of words\n",
        "          tokenizer = Tokenizer(filters=[])\n",
        "          tokenizer.fit_on_texts(vocab)\n",
        "\n",
        "          q1_seq = tokenizer.texts_to_sequences(q1_list)\n",
        "          q2_seq = tokenizer.texts_to_sequences(q2_list)\n",
        "\n",
        "          PAD_LENGTH = len(q1_seq[0]) + len(q2_seq[0])\n",
        "          q1_seq_padded = pad_sequences(q1_seq, maxlen=PAD_LENGTH)\n",
        "          q2_seq_padded = pad_sequences(q2_seq, maxlen=PAD_LENGTH)\n",
        "\n",
        "          q1_seq_sorted = np.sort(q1_seq_padded[0])\n",
        "          q2_seq_sorted = np.sort(q2_seq_padded[0])\n",
        "\n",
        "          q1_q2_list = []\n",
        "          q1_q2_list.append(q1_seq_sorted)\n",
        "          q1_q2_list.append(q2_seq_sorted)\n",
        "\n",
        "          q1_q2_vectors[row['id']] = q1_q2_list\n",
        "\n",
        "      return q1_q2_vectors[row['id']][0], q1_q2_vectors[row['id']][1]\n",
        "\n",
        "def get_cosine_distance(row):\n",
        "  q1_q2_vectors = get_q1_q2_vectors(row)\n",
        "  return cosine(q1_q2_vectors[0], q1_q2_vectors[1])\n",
        "\n",
        "def get_cityblock_distance(row):\n",
        "  q1_q2_vectors = get_q1_q2_vectors(row)\n",
        "  return cityblock(q1_q2_vectors[0], q1_q2_vectors[1])\n",
        "\n",
        "def get_jaccard_distance(row):\n",
        "  q1_q2_vectors = get_q1_q2_vectors(row)\n",
        "  return jaccard(q1_q2_vectors[0], q1_q2_vectors[1])\n",
        "\n",
        "def get_canberra_distance(row):\n",
        "  q1_q2_vectors = get_q1_q2_vectors(row)\n",
        "  return canberra(q1_q2_vectors[0], q1_q2_vectors[1])\n",
        "\n",
        "def get_euclidean_distance(row):\n",
        "  q1_q2_vectors = get_q1_q2_vectors(row)\n",
        "  return euclidean(q1_q2_vectors[0], q1_q2_vectors[1])\n",
        "\n",
        "def get_minkowski_distance(row):\n",
        "  q1_q2_vectors = get_q1_q2_vectors(row)\n",
        "  return minkowski(q1_q2_vectors[0], q1_q2_vectors[1])\n",
        "\n",
        "def get_braycurtis_distance(row):\n",
        "  q1_q2_vectors = get_q1_q2_vectors(row)\n",
        "  return braycurtis(q1_q2_vectors[0], q1_q2_vectors[1])  \n",
        "\n",
        "df['cosine_distance'] = df.apply(get_cosine_distance, axis=1)  \n",
        "df['cityblock_distance'] = df.apply(get_cityblock_distance, axis=1)\n",
        "df['jaccard_distance'] = df.apply(get_jaccard_distance, axis=1)\n",
        "df['canberra_distance'] = df.apply(get_canberra_distance, axis=1)\n",
        "df['euclidean_distance'] = df.apply(get_euclidean_distance, axis=1)\n",
        "df['minkowski_distance'] = df.apply(get_minkowski_distance, axis=1)\n",
        "df['braycurtis_distance'] = df.apply(get_braycurtis_distance, axis=1)\n",
        "\n",
        "# Vectorizing using TfidfVectorizer\n",
        "q1_q1_vectors = {}\n",
        "\n",
        "from sklearn.feature_extraction.text import TfidfVectorizer\n",
        "def get_q1_q1_vectors_old(row):\n",
        "\n",
        "      if row['id'] not in q1_q1_vectors:\n",
        "          \n",
        "          tfidf_matrix_list =[]\n",
        "\n",
        "          documents = []\n",
        "          documents.append(row['question1'].replace(\"\\n\", \" \"))\n",
        "          documents.append(row['question2'].replace(\"\\n\", \" \"))\n",
        "          tfidf_vectorizer = TfidfVectorizer(max_features = 200)\n",
        "          tfidf_vectorizer.fit(documents) \n",
        "\n",
        "          documents = []\n",
        "          documents.append(row['question1'].replace(\"\\n\", \" \"))\n",
        "          tfidf_matrix_q1 = tfidf_vectorizer.transform(documents)  \n",
        "          tfidf_matrix_list.append(tfidf_matrix_q1)\n",
        "\n",
        "          documents = []\n",
        "          documents.append(row['question2'].replace(\"\\n\", \" \"))\n",
        "          tfidf_matrix_q2 = tfidf_vectorizer.transform(documents) \n",
        "          tfidf_matrix_list.append(tfidf_matrix_q2)\n",
        "\n",
        "          q1_q1_vectors[row['id']] = tfidf_matrix_list\n",
        "\n",
        "      return q1_q1_vectors[row['id']][0], q1_q1_vectors[row['id']][1]\n"
      ],
      "execution_count": 39,
      "outputs": [
        {
          "output_type": "stream",
          "text": [
            "Using TensorFlow backend.\n"
          ],
          "name": "stderr"
        }
      ]
    },
    {
      "cell_type": "code",
      "metadata": {
        "id": "dap4c-P2Ecql",
        "colab_type": "code",
        "outputId": "e481bc71-d499-42fc-e9b6-17df3b373d3c",
        "colab": {
          "base_uri": "https://localhost:8080/",
          "height": 547
        }
      },
      "source": [
        "df[df.is_duplicate == 0].head()"
      ],
      "execution_count": 40,
      "outputs": [
        {
          "output_type": "execute_result",
          "data": {
            "text/html": [
              "<div>\n",
              "<style scoped>\n",
              "    .dataframe tbody tr th:only-of-type {\n",
              "        vertical-align: middle;\n",
              "    }\n",
              "\n",
              "    .dataframe tbody tr th {\n",
              "        vertical-align: top;\n",
              "    }\n",
              "\n",
              "    .dataframe thead th {\n",
              "        text-align: right;\n",
              "    }\n",
              "</style>\n",
              "<table border=\"1\" class=\"dataframe\">\n",
              "  <thead>\n",
              "    <tr style=\"text-align: right;\">\n",
              "      <th></th>\n",
              "      <th>id</th>\n",
              "      <th>qid1</th>\n",
              "      <th>qid2</th>\n",
              "      <th>question1</th>\n",
              "      <th>question2</th>\n",
              "      <th>is_duplicate</th>\n",
              "      <th>words_diff_q1_q2</th>\n",
              "      <th>word_Common</th>\n",
              "      <th>word_Total</th>\n",
              "      <th>word_share</th>\n",
              "      <th>cosine_distance</th>\n",
              "      <th>cityblock_distance</th>\n",
              "      <th>jaccard_distance</th>\n",
              "      <th>canberra_distance</th>\n",
              "      <th>euclidean_distance</th>\n",
              "      <th>minkowski_distance</th>\n",
              "      <th>braycurtis_distance</th>\n",
              "    </tr>\n",
              "  </thead>\n",
              "  <tbody>\n",
              "    <tr>\n",
              "      <th>364530</th>\n",
              "      <td>364530</td>\n",
              "      <td>494586</td>\n",
              "      <td>494587</td>\n",
              "      <td>what is the importance of the cell membrane in...</td>\n",
              "      <td>what is the importance of the cell membrane in...</td>\n",
              "      <td>0</td>\n",
              "      <td>0</td>\n",
              "      <td>8</td>\n",
              "      <td>18</td>\n",
              "      <td>0.444444</td>\n",
              "      <td>0.002546</td>\n",
              "      <td>3</td>\n",
              "      <td>0.272727</td>\n",
              "      <td>0.278943</td>\n",
              "      <td>1.732051</td>\n",
              "      <td>1.732051</td>\n",
              "      <td>0.023256</td>\n",
              "    </tr>\n",
              "    <tr>\n",
              "      <th>198481</th>\n",
              "      <td>198481</td>\n",
              "      <td>299714</td>\n",
              "      <td>299715</td>\n",
              "      <td>what are top fact about duronto express</td>\n",
              "      <td>what are some interesting fact about avadh ass...</td>\n",
              "      <td>0</td>\n",
              "      <td>2</td>\n",
              "      <td>5</td>\n",
              "      <td>16</td>\n",
              "      <td>0.312500</td>\n",
              "      <td>0.033644</td>\n",
              "      <td>14</td>\n",
              "      <td>1.000000</td>\n",
              "      <td>3.275741</td>\n",
              "      <td>5.099020</td>\n",
              "      <td>5.099020</td>\n",
              "      <td>0.142857</td>\n",
              "    </tr>\n",
              "    <tr>\n",
              "      <th>37059</th>\n",
              "      <td>37059</td>\n",
              "      <td>67491</td>\n",
              "      <td>67492</td>\n",
              "      <td>how much doe a usps tube for a poster cost to ...</td>\n",
              "      <td>why doe shipping cost so much</td>\n",
              "      <td>0</td>\n",
              "      <td>6</td>\n",
              "      <td>3</td>\n",
              "      <td>17</td>\n",
              "      <td>0.176471</td>\n",
              "      <td>0.145387</td>\n",
              "      <td>56</td>\n",
              "      <td>1.000000</td>\n",
              "      <td>7.891858</td>\n",
              "      <td>17.832555</td>\n",
              "      <td>17.832555</td>\n",
              "      <td>0.411765</td>\n",
              "    </tr>\n",
              "    <tr>\n",
              "      <th>148112</th>\n",
              "      <td>148112</td>\n",
              "      <td>233603</td>\n",
              "      <td>233604</td>\n",
              "      <td>what is a good broker for people living abroad</td>\n",
              "      <td>how good is to live abroad</td>\n",
              "      <td>0</td>\n",
              "      <td>3</td>\n",
              "      <td>3</td>\n",
              "      <td>15</td>\n",
              "      <td>0.200000</td>\n",
              "      <td>0.025699</td>\n",
              "      <td>12</td>\n",
              "      <td>0.777778</td>\n",
              "      <td>3.476812</td>\n",
              "      <td>4.898979</td>\n",
              "      <td>4.898979</td>\n",
              "      <td>0.115385</td>\n",
              "    </tr>\n",
              "    <tr>\n",
              "      <th>182305</th>\n",
              "      <td>182305</td>\n",
              "      <td>279048</td>\n",
              "      <td>279049</td>\n",
              "      <td>who is adele</td>\n",
              "      <td>is adele okay</td>\n",
              "      <td>0</td>\n",
              "      <td>0</td>\n",
              "      <td>2</td>\n",
              "      <td>6</td>\n",
              "      <td>0.333333</td>\n",
              "      <td>0.027471</td>\n",
              "      <td>2</td>\n",
              "      <td>0.666667</td>\n",
              "      <td>0.533333</td>\n",
              "      <td>1.414214</td>\n",
              "      <td>1.414214</td>\n",
              "      <td>0.125000</td>\n",
              "    </tr>\n",
              "  </tbody>\n",
              "</table>\n",
              "</div>"
            ],
            "text/plain": [
              "            id    qid1  ...  minkowski_distance braycurtis_distance\n",
              "364530  364530  494586  ...            1.732051            0.023256\n",
              "198481  198481  299714  ...            5.099020            0.142857\n",
              "37059    37059   67491  ...           17.832555            0.411765\n",
              "148112  148112  233603  ...            4.898979            0.115385\n",
              "182305  182305  279048  ...            1.414214            0.125000\n",
              "\n",
              "[5 rows x 17 columns]"
            ]
          },
          "metadata": {
            "tags": []
          },
          "execution_count": 40
        }
      ]
    },
    {
      "cell_type": "code",
      "metadata": {
        "id": "9zzsuWkRGEbq",
        "colab_type": "code",
        "outputId": "35c50a6c-db72-4114-aae2-375329ec96ca",
        "colab": {
          "base_uri": "https://localhost:8080/",
          "height": 69
        }
      },
      "source": [
        "# FuzzyWuzzy is a library of Python which is used for string matching. \n",
        "# Fuzzy string matching is the process of finding strings that match a given pattern. \n",
        "# Basically it uses Levenshtein Distance to calculate the differences between sequences.\n",
        "\n",
        "!pip install fuzzywuzzy\n",
        "!pip install python-Levenshtein\n",
        "from fuzzywuzzy import fuzz\n",
        "\n",
        "df['fuzz_qratio'] = df.apply(lambda x: fuzz.QRatio(str(x['question1']), str(x['question2'])), axis=1)\n",
        "df['fuzz_WRatio'] = df.apply(lambda x: fuzz.WRatio(str(x['question1']), str(x['question2'])), axis=1)\n",
        "df['fuzz_partial_ratio'] = df.apply(lambda x: fuzz.partial_ratio(str(x['question1']), str(x['question2'])), axis=1)\n",
        "df['fuzz_partial_token_set_ratio'] = df.apply(lambda x: fuzz.partial_token_set_ratio(str(x['question1']), str(x['question2'])), axis=1)\n",
        "df['fuzz_partial_token_sort_ratio'] = df.apply(lambda x: fuzz.partial_token_sort_ratio(str(x['question1']), str(x['question2'])), axis=1)\n",
        "df['fuzz_token_set_ratio'] = df.apply(lambda x: fuzz.token_set_ratio(str(x['question1']), str(x['question2'])), axis=1)\n",
        "df['fuzz_token_sort_ratio'] = df.apply(lambda x: fuzz.token_sort_ratio(str(x['question1']), str(x['question2'])), axis=1)"
      ],
      "execution_count": 41,
      "outputs": [
        {
          "output_type": "stream",
          "text": [
            "Requirement already satisfied: fuzzywuzzy in /usr/local/lib/python3.6/dist-packages (0.18.0)\n",
            "Requirement already satisfied: python-Levenshtein in /usr/local/lib/python3.6/dist-packages (0.12.0)\n",
            "Requirement already satisfied: setuptools in /usr/local/lib/python3.6/dist-packages (from python-Levenshtein) (46.1.3)\n"
          ],
          "name": "stdout"
        }
      ]
    },
    {
      "cell_type": "code",
      "metadata": {
        "id": "TdmlhT6cSqoW",
        "colab_type": "code",
        "outputId": "b24ea8bb-0a26-4076-e6d3-70a844a6e346",
        "colab": {
          "base_uri": "https://localhost:8080/",
          "height": 52
        }
      },
      "source": [
        "# Generating N-grams\n",
        "# Generate bigrams for every q1 and q2 and count the common bigrams.\n",
        "# Generate trigrams for every q1 and q2 and count the common trigrams.\n",
        "\n",
        "import nltk\n",
        "nltk.download('punkt')\n",
        "# nltk.download('wordnet')\n",
        "from textblob import TextBlob, Word\n",
        "\n",
        "def get_common_bigrams_count(row):\n",
        "  q1_bigrams = TextBlob(row['question1'].replace(\"\\n\", \" \")).ngrams(2)\n",
        "  q2_bigrams = TextBlob(row['question2'].replace(\"\\n\", \" \")).ngrams(2)\n",
        "\n",
        "  common=[]\n",
        "  for bigrams in q1_bigrams:\n",
        "      if bigrams in q2_bigrams:\n",
        "        common.append(bigrams)\n",
        "\n",
        "  return len(common)\n",
        "\n",
        "def get_common_trigrams_count(row):\n",
        "  q1_trigrams = TextBlob(row['question1'].replace(\"\\n\", \" \")).ngrams(3)\n",
        "  q2_trigrams = TextBlob(row['question2'].replace(\"\\n\", \" \")).ngrams(3)\n",
        "\n",
        "  common=[]\n",
        "  for trigrams in q1_trigrams:\n",
        "      if trigrams in q2_trigrams:\n",
        "        common.append(trigrams)\n",
        "\n",
        "  return len(common)\n",
        "\n",
        "df['common_bigrams'] = df.apply(get_common_bigrams_count, axis=1)\n",
        "df['common_trigrams'] = df.apply(get_common_trigrams_count, axis=1)"
      ],
      "execution_count": 42,
      "outputs": [
        {
          "output_type": "stream",
          "text": [
            "[nltk_data] Downloading package punkt to /root/nltk_data...\n",
            "[nltk_data]   Package punkt is already up-to-date!\n"
          ],
          "name": "stdout"
        }
      ]
    },
    {
      "cell_type": "code",
      "metadata": {
        "id": "c3kjR3e6_ZFI",
        "colab_type": "code",
        "outputId": "2e7db3bb-98aa-4969-fe83-2725a08b38d4",
        "colab": {
          "base_uri": "https://localhost:8080/",
          "height": 175
        }
      },
      "source": [
        "!pip install https://github.com/andreasvc/readability/tarball/master\n",
        "import readability\n",
        "def get_q1_readability_score(row):\n",
        "  text = row['question1']\n",
        "  try:\n",
        "    results = readability.getmeasures(text, lang='en')\n",
        "  except:\n",
        "    return 0.00\n",
        "  return results['readability grades']['FleschReadingEase']\n",
        "\n",
        "def get_q2_readability_score(row):\n",
        "  text = row['question2']\n",
        "  try:\n",
        "    results = readability.getmeasures(text, lang='en')\n",
        "  except:\n",
        "    return 0.00\n",
        "  return results['readability grades']['FleschReadingEase']\n",
        "\n",
        "df['q1_readability_score'] = df.apply(get_q1_readability_score, axis=1)\n",
        "df['q2_readability_score'] = df.apply(get_q2_readability_score, axis=1)"
      ],
      "execution_count": 43,
      "outputs": [
        {
          "output_type": "stream",
          "text": [
            "Collecting https://github.com/andreasvc/readability/tarball/master\n",
            "  Using cached https://github.com/andreasvc/readability/tarball/master\n",
            "Requirement already satisfied (use --upgrade to upgrade): readability==0.3.1 from https://github.com/andreasvc/readability/tarball/master in /usr/local/lib/python3.6/dist-packages\n",
            "Building wheels for collected packages: readability\n",
            "  Building wheel for readability (setup.py) ... \u001b[?25l\u001b[?25hdone\n",
            "  Created wheel for readability: filename=readability-0.3.1-cp36-none-any.whl size=35616 sha256=ef38849350f0a1444f7ce8f2e1f7185b52eb14d71c6e28e017d29306a5722a19\n",
            "  Stored in directory: /tmp/pip-ephem-wheel-cache-33o915fs/wheels/fa/99/d3/0ba1fbb692dcb69d39d28d13456b559b2e6f4cbba1560814be\n",
            "Successfully built readability\n"
          ],
          "name": "stdout"
        }
      ]
    },
    {
      "cell_type": "code",
      "metadata": {
        "id": "1dmAs2t7H786",
        "colab_type": "code",
        "outputId": "5e3f7f57-3efe-47dd-82b8-5d3729f43559",
        "colab": {
          "base_uri": "https://localhost:8080/",
          "height": 512
        }
      },
      "source": [
        "df[df.is_duplicate == 1].head()"
      ],
      "execution_count": 44,
      "outputs": [
        {
          "output_type": "execute_result",
          "data": {
            "text/html": [
              "<div>\n",
              "<style scoped>\n",
              "    .dataframe tbody tr th:only-of-type {\n",
              "        vertical-align: middle;\n",
              "    }\n",
              "\n",
              "    .dataframe tbody tr th {\n",
              "        vertical-align: top;\n",
              "    }\n",
              "\n",
              "    .dataframe thead th {\n",
              "        text-align: right;\n",
              "    }\n",
              "</style>\n",
              "<table border=\"1\" class=\"dataframe\">\n",
              "  <thead>\n",
              "    <tr style=\"text-align: right;\">\n",
              "      <th></th>\n",
              "      <th>id</th>\n",
              "      <th>qid1</th>\n",
              "      <th>qid2</th>\n",
              "      <th>question1</th>\n",
              "      <th>question2</th>\n",
              "      <th>is_duplicate</th>\n",
              "      <th>words_diff_q1_q2</th>\n",
              "      <th>word_Common</th>\n",
              "      <th>word_Total</th>\n",
              "      <th>word_share</th>\n",
              "      <th>cosine_distance</th>\n",
              "      <th>cityblock_distance</th>\n",
              "      <th>jaccard_distance</th>\n",
              "      <th>canberra_distance</th>\n",
              "      <th>euclidean_distance</th>\n",
              "      <th>minkowski_distance</th>\n",
              "      <th>braycurtis_distance</th>\n",
              "      <th>fuzz_qratio</th>\n",
              "      <th>fuzz_WRatio</th>\n",
              "      <th>fuzz_partial_ratio</th>\n",
              "      <th>fuzz_partial_token_set_ratio</th>\n",
              "      <th>fuzz_partial_token_sort_ratio</th>\n",
              "      <th>fuzz_token_set_ratio</th>\n",
              "      <th>fuzz_token_sort_ratio</th>\n",
              "      <th>common_bigrams</th>\n",
              "      <th>common_trigrams</th>\n",
              "      <th>q1_readability_score</th>\n",
              "      <th>q2_readability_score</th>\n",
              "    </tr>\n",
              "  </thead>\n",
              "  <tbody>\n",
              "    <tr>\n",
              "      <th>192024</th>\n",
              "      <td>192024</td>\n",
              "      <td>291546</td>\n",
              "      <td>41520</td>\n",
              "      <td>will ashwagandha powder surely increase height</td>\n",
              "      <td>doe ashwagandha powder increase height</td>\n",
              "      <td>1</td>\n",
              "      <td>1</td>\n",
              "      <td>4</td>\n",
              "      <td>11</td>\n",
              "      <td>0.363636</td>\n",
              "      <td>0.017193</td>\n",
              "      <td>11</td>\n",
              "      <td>1.000000</td>\n",
              "      <td>2.450000</td>\n",
              "      <td>4.582576</td>\n",
              "      <td>4.582576</td>\n",
              "      <td>0.268293</td>\n",
              "      <td>83</td>\n",
              "      <td>89</td>\n",
              "      <td>82</td>\n",
              "      <td>100</td>\n",
              "      <td>89</td>\n",
              "      <td>94</td>\n",
              "      <td>81</td>\n",
              "      <td>2</td>\n",
              "      <td>0</td>\n",
              "      <td>31.545000</td>\n",
              "      <td>32.560000</td>\n",
              "    </tr>\n",
              "    <tr>\n",
              "      <th>169944</th>\n",
              "      <td>169944</td>\n",
              "      <td>10859</td>\n",
              "      <td>11397</td>\n",
              "      <td>how can i specifically improve my english</td>\n",
              "      <td>how can i improve in english</td>\n",
              "      <td>1</td>\n",
              "      <td>1</td>\n",
              "      <td>5</td>\n",
              "      <td>13</td>\n",
              "      <td>0.384615</td>\n",
              "      <td>0.004961</td>\n",
              "      <td>2</td>\n",
              "      <td>0.285714</td>\n",
              "      <td>1.200000</td>\n",
              "      <td>1.414214</td>\n",
              "      <td>1.414214</td>\n",
              "      <td>0.030303</td>\n",
              "      <td>75</td>\n",
              "      <td>89</td>\n",
              "      <td>68</td>\n",
              "      <td>100</td>\n",
              "      <td>93</td>\n",
              "      <td>94</td>\n",
              "      <td>78</td>\n",
              "      <td>2</td>\n",
              "      <td>1</td>\n",
              "      <td>42.615714</td>\n",
              "      <td>87.945000</td>\n",
              "    </tr>\n",
              "    <tr>\n",
              "      <th>323027</th>\n",
              "      <td>323027</td>\n",
              "      <td>448935</td>\n",
              "      <td>448936</td>\n",
              "      <td>i would appreciate a thorough answer to the fo...</td>\n",
              "      <td>i would appreciate a thorough and complete ans...</td>\n",
              "      <td>1</td>\n",
              "      <td>1</td>\n",
              "      <td>18</td>\n",
              "      <td>40</td>\n",
              "      <td>0.450000</td>\n",
              "      <td>0.000525</td>\n",
              "      <td>13</td>\n",
              "      <td>0.590909</td>\n",
              "      <td>1.433999</td>\n",
              "      <td>3.605551</td>\n",
              "      <td>3.605551</td>\n",
              "      <td>0.026915</td>\n",
              "      <td>87</td>\n",
              "      <td>89</td>\n",
              "      <td>85</td>\n",
              "      <td>100</td>\n",
              "      <td>90</td>\n",
              "      <td>94</td>\n",
              "      <td>89</td>\n",
              "      <td>15</td>\n",
              "      <td>11</td>\n",
              "      <td>60.634286</td>\n",
              "      <td>65.295909</td>\n",
              "    </tr>\n",
              "    <tr>\n",
              "      <th>114481</th>\n",
              "      <td>114481</td>\n",
              "      <td>186863</td>\n",
              "      <td>186864</td>\n",
              "      <td>how can forest be conserved</td>\n",
              "      <td>how can a forest be conserved</td>\n",
              "      <td>1</td>\n",
              "      <td>1</td>\n",
              "      <td>5</td>\n",
              "      <td>11</td>\n",
              "      <td>0.454545</td>\n",
              "      <td>0.010986</td>\n",
              "      <td>2</td>\n",
              "      <td>0.333333</td>\n",
              "      <td>1.333333</td>\n",
              "      <td>1.414214</td>\n",
              "      <td>1.414214</td>\n",
              "      <td>0.050000</td>\n",
              "      <td>96</td>\n",
              "      <td>96</td>\n",
              "      <td>93</td>\n",
              "      <td>100</td>\n",
              "      <td>100</td>\n",
              "      <td>100</td>\n",
              "      <td>96</td>\n",
              "      <td>3</td>\n",
              "      <td>1</td>\n",
              "      <td>83.320000</td>\n",
              "      <td>87.945000</td>\n",
              "    </tr>\n",
              "    <tr>\n",
              "      <th>276170</th>\n",
              "      <td>276170</td>\n",
              "      <td>27660</td>\n",
              "      <td>121115</td>\n",
              "      <td>is there a scientific name for what existed be...</td>\n",
              "      <td>what existed in the space before big bang</td>\n",
              "      <td>1</td>\n",
              "      <td>4</td>\n",
              "      <td>6</td>\n",
              "      <td>20</td>\n",
              "      <td>0.300000</td>\n",
              "      <td>0.059671</td>\n",
              "      <td>38</td>\n",
              "      <td>1.000000</td>\n",
              "      <td>6.137235</td>\n",
              "      <td>11.916375</td>\n",
              "      <td>11.916375</td>\n",
              "      <td>0.256757</td>\n",
              "      <td>54</td>\n",
              "      <td>86</td>\n",
              "      <td>68</td>\n",
              "      <td>100</td>\n",
              "      <td>73</td>\n",
              "      <td>88</td>\n",
              "      <td>75</td>\n",
              "      <td>2</td>\n",
              "      <td>0</td>\n",
              "      <td>81.855000</td>\n",
              "      <td>92.965000</td>\n",
              "    </tr>\n",
              "  </tbody>\n",
              "</table>\n",
              "</div>"
            ],
            "text/plain": [
              "            id    qid1  ...  q1_readability_score q2_readability_score\n",
              "192024  192024  291546  ...             31.545000            32.560000\n",
              "169944  169944   10859  ...             42.615714            87.945000\n",
              "323027  323027  448935  ...             60.634286            65.295909\n",
              "114481  114481  186863  ...             83.320000            87.945000\n",
              "276170  276170   27660  ...             81.855000            92.965000\n",
              "\n",
              "[5 rows x 28 columns]"
            ]
          },
          "metadata": {
            "tags": []
          },
          "execution_count": 44
        }
      ]
    },
    {
      "cell_type": "code",
      "metadata": {
        "id": "PRBMo91r9jRL",
        "colab_type": "code",
        "colab": {
          "base_uri": "https://localhost:8080/",
          "height": 72
        },
        "outputId": "a1d260ae-9232-418b-9587-a8a1f04c00c6"
      },
      "source": [
        "from gensim.models import KeyedVectors\n",
        "\n",
        "filename = 'drive/My Drive/Colab Notebooks/GoogleNews-vectors-negative300.bin'\n",
        "model = KeyedVectors.load_word2vec_format(filename, binary=True)"
      ],
      "execution_count": 45,
      "outputs": [
        {
          "output_type": "stream",
          "text": [
            "/usr/local/lib/python3.6/dist-packages/smart_open/smart_open_lib.py:253: UserWarning: This function is deprecated, use smart_open.open instead. See the migration notes for details: https://github.com/RaRe-Technologies/smart_open/blob/master/README.rst#migrating-to-the-new-open-function\n",
            "  'See the migration notes for details: %s' % _MIGRATION_NOTES_URL\n"
          ],
          "name": "stderr"
        }
      ]
    },
    {
      "cell_type": "code",
      "metadata": {
        "id": "qsh1AUauBK_L",
        "colab_type": "code",
        "colab": {}
      },
      "source": [
        "from keras.preprocessing.text import text_to_word_sequence\n",
        "\n",
        "\n",
        "# count = 1\n",
        "def get_word2vec_similarity_score(row):    \n",
        "  # global count\n",
        "  # print(count)\n",
        "  q1_tokens = text_to_word_sequence(row['question1'])\n",
        "  # q1_tokens = [w for w in q1_tokens if not w in stop_words] \n",
        "  q1_tokens = [w for w in q1_tokens if w in model.vocab] \n",
        "  \n",
        "  q2_tokens = text_to_word_sequence(row['question2'])\n",
        "  # q2_tokens = [w for w in q2_tokens if not w in stop_words] \n",
        "  q2_tokens = [w for w in q2_tokens if w in model.vocab] \n",
        "  \n",
        "\n",
        "  try:\n",
        "    q1_similarity_score = model.most_similar(positive=q1_tokens, topn=1)\n",
        "    q2_similarity_score = model.most_similar(positive=q2_tokens, topn=1)\n",
        "  except:\n",
        "    return 999\n",
        "  count += 1\n",
        "  return abs(q1_similarity_score[0][1] - q2_similarity_score[0][1])\n",
        "\n",
        "\n",
        "df['word_2_vec_diff'] = df.apply(get_word2vec_similarity_score, axis=1)"
      ],
      "execution_count": 0,
      "outputs": []
    },
    {
      "cell_type": "code",
      "metadata": {
        "id": "QsoJPRzwBwzq",
        "colab_type": "code",
        "colab": {
          "base_uri": "https://localhost:8080/",
          "height": 68
        },
        "outputId": "f08a7f64-d609-4ff9-da59-bd562a9c1eda"
      },
      "source": [
        "df[df.word_2_vec_diff == 999]"
      ],
      "execution_count": 85,
      "outputs": [
        {
          "output_type": "execute_result",
          "data": {
            "text/html": [
              "<div>\n",
              "<style scoped>\n",
              "    .dataframe tbody tr th:only-of-type {\n",
              "        vertical-align: middle;\n",
              "    }\n",
              "\n",
              "    .dataframe tbody tr th {\n",
              "        vertical-align: top;\n",
              "    }\n",
              "\n",
              "    .dataframe thead th {\n",
              "        text-align: right;\n",
              "    }\n",
              "</style>\n",
              "<table border=\"1\" class=\"dataframe\">\n",
              "  <thead>\n",
              "    <tr style=\"text-align: right;\">\n",
              "      <th></th>\n",
              "      <th>id</th>\n",
              "      <th>qid1</th>\n",
              "      <th>qid2</th>\n",
              "      <th>question1</th>\n",
              "      <th>question2</th>\n",
              "      <th>is_duplicate</th>\n",
              "      <th>words_diff_q1_q2</th>\n",
              "      <th>word_Common</th>\n",
              "      <th>word_Total</th>\n",
              "      <th>word_share</th>\n",
              "      <th>cosine_distance</th>\n",
              "      <th>cityblock_distance</th>\n",
              "      <th>jaccard_distance</th>\n",
              "      <th>canberra_distance</th>\n",
              "      <th>euclidean_distance</th>\n",
              "      <th>minkowski_distance</th>\n",
              "      <th>braycurtis_distance</th>\n",
              "      <th>fuzz_qratio</th>\n",
              "      <th>fuzz_WRatio</th>\n",
              "      <th>fuzz_partial_ratio</th>\n",
              "      <th>fuzz_partial_token_set_ratio</th>\n",
              "      <th>fuzz_partial_token_sort_ratio</th>\n",
              "      <th>fuzz_token_set_ratio</th>\n",
              "      <th>fuzz_token_sort_ratio</th>\n",
              "      <th>common_bigrams</th>\n",
              "      <th>common_trigrams</th>\n",
              "      <th>q1_readability_score</th>\n",
              "      <th>q2_readability_score</th>\n",
              "      <th>word_2_vec_diff</th>\n",
              "    </tr>\n",
              "  </thead>\n",
              "  <tbody>\n",
              "  </tbody>\n",
              "</table>\n",
              "</div>"
            ],
            "text/plain": [
              "Empty DataFrame\n",
              "Columns: [id, qid1, qid2, question1, question2, is_duplicate, words_diff_q1_q2, word_Common, word_Total, word_share, cosine_distance, cityblock_distance, jaccard_distance, canberra_distance, euclidean_distance, minkowski_distance, braycurtis_distance, fuzz_qratio, fuzz_WRatio, fuzz_partial_ratio, fuzz_partial_token_set_ratio, fuzz_partial_token_sort_ratio, fuzz_token_set_ratio, fuzz_token_sort_ratio, common_bigrams, common_trigrams, q1_readability_score, q2_readability_score, word_2_vec_diff]\n",
              "Index: []"
            ]
          },
          "metadata": {
            "tags": []
          },
          "execution_count": 85
        }
      ]
    },
    {
      "cell_type": "code",
      "metadata": {
        "id": "Nl-tbWniQhgp",
        "colab_type": "code",
        "colab": {}
      },
      "source": [
        "# Save the dataframe as a pickle file\n",
        "import pickle\n",
        "df.to_pickle(\"drive/My Drive/Colab Notebooks/CapstoneProject/df_quora_10000_feat.pkl\")"
      ],
      "execution_count": 0,
      "outputs": []
    },
    {
      "cell_type": "markdown",
      "metadata": {
        "id": "j9Fbr6lXfEuC",
        "colab_type": "text"
      },
      "source": [
        "## Model Building and Predicting\n",
        "\n",
        "\n",
        "\n"
      ]
    },
    {
      "cell_type": "code",
      "metadata": {
        "id": "4eVY7oIeZIzO",
        "colab_type": "code",
        "colab": {}
      },
      "source": [
        "# Open the pickle file and save it as dataframe\n",
        "import pickle\n",
        "df = pd.read_pickle(\"drive/My Drive/Colab Notebooks/CapstoneProject/df_quora_10000_feat.pkl\")"
      ],
      "execution_count": 0,
      "outputs": []
    },
    {
      "cell_type": "code",
      "metadata": {
        "id": "bVcWtsAkEcqp",
        "colab_type": "code",
        "outputId": "1724704d-54f0-4fbb-b63b-2feac8ce5cd2",
        "colab": {
          "base_uri": "https://localhost:8080/",
          "height": 218
        }
      },
      "source": [
        "X = df[['word_2_vec_diff','words_diff_q1_q2', 'word_Common',\t'word_Total', 'word_share', 'cosine_distance','cityblock_distance',\t'jaccard_distance','canberra_distance',\t'euclidean_distance','minkowski_distance','braycurtis_distance', 'fuzz_qratio',\t'fuzz_WRatio',\t'fuzz_partial_ratio',\t'fuzz_partial_token_set_ratio',\t'fuzz_partial_token_sort_ratio',\t'fuzz_token_set_ratio',\t'fuzz_token_sort_ratio', 'common_bigrams',\t'common_trigrams','q1_readability_score',\t'q2_readability_score']]\n",
        "y = df['is_duplicate']\n",
        "X.head()"
      ],
      "execution_count": 74,
      "outputs": [
        {
          "output_type": "execute_result",
          "data": {
            "text/html": [
              "<div>\n",
              "<style scoped>\n",
              "    .dataframe tbody tr th:only-of-type {\n",
              "        vertical-align: middle;\n",
              "    }\n",
              "\n",
              "    .dataframe tbody tr th {\n",
              "        vertical-align: top;\n",
              "    }\n",
              "\n",
              "    .dataframe thead th {\n",
              "        text-align: right;\n",
              "    }\n",
              "</style>\n",
              "<table border=\"1\" class=\"dataframe\">\n",
              "  <thead>\n",
              "    <tr style=\"text-align: right;\">\n",
              "      <th></th>\n",
              "      <th>word_2_vec_diff</th>\n",
              "      <th>words_diff_q1_q2</th>\n",
              "      <th>word_Common</th>\n",
              "      <th>word_Total</th>\n",
              "      <th>word_share</th>\n",
              "      <th>cosine_distance</th>\n",
              "      <th>cityblock_distance</th>\n",
              "      <th>jaccard_distance</th>\n",
              "      <th>canberra_distance</th>\n",
              "      <th>euclidean_distance</th>\n",
              "      <th>minkowski_distance</th>\n",
              "      <th>braycurtis_distance</th>\n",
              "      <th>fuzz_qratio</th>\n",
              "      <th>fuzz_WRatio</th>\n",
              "      <th>fuzz_partial_ratio</th>\n",
              "      <th>fuzz_partial_token_set_ratio</th>\n",
              "      <th>fuzz_partial_token_sort_ratio</th>\n",
              "      <th>fuzz_token_set_ratio</th>\n",
              "      <th>fuzz_token_sort_ratio</th>\n",
              "      <th>common_bigrams</th>\n",
              "      <th>common_trigrams</th>\n",
              "      <th>q1_readability_score</th>\n",
              "      <th>q2_readability_score</th>\n",
              "    </tr>\n",
              "  </thead>\n",
              "  <tbody>\n",
              "    <tr>\n",
              "      <th>364530</th>\n",
              "      <td>0.000168</td>\n",
              "      <td>0</td>\n",
              "      <td>8</td>\n",
              "      <td>18</td>\n",
              "      <td>0.444444</td>\n",
              "      <td>0.002546</td>\n",
              "      <td>3</td>\n",
              "      <td>0.272727</td>\n",
              "      <td>0.278943</td>\n",
              "      <td>1.732051</td>\n",
              "      <td>1.732051</td>\n",
              "      <td>0.023256</td>\n",
              "      <td>94</td>\n",
              "      <td>94</td>\n",
              "      <td>93</td>\n",
              "      <td>100</td>\n",
              "      <td>94</td>\n",
              "      <td>93</td>\n",
              "      <td>89</td>\n",
              "      <td>8</td>\n",
              "      <td>7</td>\n",
              "      <td>87.997273</td>\n",
              "      <td>103.379091</td>\n",
              "    </tr>\n",
              "    <tr>\n",
              "      <th>198481</th>\n",
              "      <td>0.031010</td>\n",
              "      <td>2</td>\n",
              "      <td>5</td>\n",
              "      <td>16</td>\n",
              "      <td>0.312500</td>\n",
              "      <td>0.033644</td>\n",
              "      <td>14</td>\n",
              "      <td>1.000000</td>\n",
              "      <td>3.275741</td>\n",
              "      <td>5.099020</td>\n",
              "      <td>5.099020</td>\n",
              "      <td>0.142857</td>\n",
              "      <td>65</td>\n",
              "      <td>78</td>\n",
              "      <td>62</td>\n",
              "      <td>100</td>\n",
              "      <td>67</td>\n",
              "      <td>82</td>\n",
              "      <td>67</td>\n",
              "      <td>2</td>\n",
              "      <td>0</td>\n",
              "      <td>66.787143</td>\n",
              "      <td>47.300000</td>\n",
              "    </tr>\n",
              "    <tr>\n",
              "      <th>37059</th>\n",
              "      <td>0.059075</td>\n",
              "      <td>6</td>\n",
              "      <td>3</td>\n",
              "      <td>17</td>\n",
              "      <td>0.176471</td>\n",
              "      <td>0.145387</td>\n",
              "      <td>56</td>\n",
              "      <td>1.000000</td>\n",
              "      <td>7.891858</td>\n",
              "      <td>17.832555</td>\n",
              "      <td>17.832555</td>\n",
              "      <td>0.411765</td>\n",
              "      <td>48</td>\n",
              "      <td>86</td>\n",
              "      <td>48</td>\n",
              "      <td>100</td>\n",
              "      <td>59</td>\n",
              "      <td>62</td>\n",
              "      <td>53</td>\n",
              "      <td>0</td>\n",
              "      <td>0</td>\n",
              "      <td>103.005000</td>\n",
              "      <td>102.045000</td>\n",
              "    </tr>\n",
              "    <tr>\n",
              "      <th>148112</th>\n",
              "      <td>0.018460</td>\n",
              "      <td>3</td>\n",
              "      <td>3</td>\n",
              "      <td>15</td>\n",
              "      <td>0.200000</td>\n",
              "      <td>0.025699</td>\n",
              "      <td>12</td>\n",
              "      <td>0.777778</td>\n",
              "      <td>3.476812</td>\n",
              "      <td>4.898979</td>\n",
              "      <td>4.898979</td>\n",
              "      <td>0.115385</td>\n",
              "      <td>56</td>\n",
              "      <td>86</td>\n",
              "      <td>58</td>\n",
              "      <td>100</td>\n",
              "      <td>62</td>\n",
              "      <td>70</td>\n",
              "      <td>58</td>\n",
              "      <td>0</td>\n",
              "      <td>0</td>\n",
              "      <td>84.900000</td>\n",
              "      <td>102.045000</td>\n",
              "    </tr>\n",
              "    <tr>\n",
              "      <th>182305</th>\n",
              "      <td>0.120131</td>\n",
              "      <td>0</td>\n",
              "      <td>2</td>\n",
              "      <td>6</td>\n",
              "      <td>0.333333</td>\n",
              "      <td>0.027471</td>\n",
              "      <td>2</td>\n",
              "      <td>0.666667</td>\n",
              "      <td>0.533333</td>\n",
              "      <td>1.414214</td>\n",
              "      <td>1.414214</td>\n",
              "      <td>0.125000</td>\n",
              "      <td>64</td>\n",
              "      <td>76</td>\n",
              "      <td>67</td>\n",
              "      <td>100</td>\n",
              "      <td>83</td>\n",
              "      <td>80</td>\n",
              "      <td>80</td>\n",
              "      <td>1</td>\n",
              "      <td>0</td>\n",
              "      <td>90.990000</td>\n",
              "      <td>62.790000</td>\n",
              "    </tr>\n",
              "  </tbody>\n",
              "</table>\n",
              "</div>"
            ],
            "text/plain": [
              "        word_2_vec_diff  ...  q2_readability_score\n",
              "364530         0.000168  ...            103.379091\n",
              "198481         0.031010  ...             47.300000\n",
              "37059          0.059075  ...            102.045000\n",
              "148112         0.018460  ...            102.045000\n",
              "182305         0.120131  ...             62.790000\n",
              "\n",
              "[5 rows x 23 columns]"
            ]
          },
          "metadata": {
            "tags": []
          },
          "execution_count": 74
        }
      ]
    },
    {
      "cell_type": "code",
      "metadata": {
        "id": "Ad2SS5WlF93X",
        "colab_type": "code",
        "colab": {}
      },
      "source": [
        "from sklearn import model_selection, preprocessing, linear_model, naive_bayes, metrics, svm, tree, ensemble\n",
        "from sklearn.model_selection import train_test_split\n",
        "from sklearn.linear_model import LogisticRegressionCV\n",
        "\n",
        "#Splitting the dataset into the Training set and the Test set\n",
        "X_train, X_test, y_train, y_test = train_test_split(X, y, test_size = 0.25, random_state = 99)\n",
        "\n",
        "from sklearn.preprocessing import StandardScaler\n",
        "sc = StandardScaler()\n",
        "\n",
        "# Transform the training data\n",
        "X_train = sc.fit_transform(X_train)\n",
        "X_train = pd.DataFrame(X_train,columns=X_test.columns)\n",
        "\n",
        "# Transform the testing data\n",
        "X_test = sc.fit_transform(X_test)\n",
        "X_test = pd.DataFrame(X_test,columns=X_train.columns)\n",
        "\n",
        "X_train = np.nan_to_num(X_train)\n",
        "X_test = np.nan_to_num(X_test)"
      ],
      "execution_count": 0,
      "outputs": []
    },
    {
      "cell_type": "code",
      "metadata": {
        "id": "9MtQ0o-bM64G",
        "colab_type": "code",
        "colab": {}
      },
      "source": [
        "#Defining the generic training pipeline\n",
        "def train_model(classifier, X_train, y_train):\n",
        "\n",
        "  #fit the training dataset on the classifier\n",
        "  classifier.fit(X_train, y_train)  \n",
        "\n",
        "  #predict the labels on validation dataset\n",
        "  y_pred = classifier.predict(X_test)\n",
        "\n",
        "  # for input, prediction, label in zip(X_test, y_pred, y_test):\n",
        "  #   if prediction != label:\n",
        "  #     print(input, 'has been classified as ', prediction, 'and should be ', label) \n",
        "\n",
        "  #create a variable that is the result of the model's prediction on the test data\n",
        "  y_pred_prob = classifier.predict_proba(X_test)\n",
        "  \n",
        "  return y_pred, y_pred_prob"
      ],
      "execution_count": 0,
      "outputs": []
    },
    {
      "cell_type": "code",
      "metadata": {
        "id": "328zl7wROHd_",
        "colab_type": "code",
        "colab": {}
      },
      "source": [
        "# defining a function that returns the model evaluation metrics\n",
        "def get_model_evaluation_metrics(y_test, y_pred, y_pred_prob):  \n",
        "  \n",
        "  print(f'Accuracy Score : {metrics.accuracy_score(y_test, y_pred)}')\n",
        "  print(f'\\nClassification Report : \\n{metrics.classification_report(y_test,y_pred)}')\n",
        "  print(f'\\nConfusion Matrix : \\n{metrics.confusion_matrix(y_test,y_pred)}')\n",
        "\n",
        "  # A Confusion Matrix is a way to summarize the classifier performance\n",
        "  cm = metrics.confusion_matrix(y_test,y_pred)\n",
        "\n",
        "  # True Negatives (TN), False Negatives (FN), False Positives (FP), True Positives (TP)\n",
        "  TN = cm[0,0]\n",
        "  FP = cm[0,1] # Also known as Type 1 error\n",
        "  FN = cm[1,0] # Also known as Type 2 error\n",
        "  TP = cm[1,1]\n",
        "\n",
        "  # Sensitivity : refers to how often the prediction is correct when the actual value is positive (positive ==> question is duplicate).\n",
        "  # We need our alogrithm to be less sensitive. That means, when in doubt, it is better for a question to be considered as non-duplicate,\n",
        "  # rather than duplicate. i.e, it is better to lean towards False Negative than False Positive.\n",
        "  sensitivity = TP / (TP + FN) # also called as recall\n",
        "\n",
        "  # Specificity : refers to how often the prediction is correct when the actual value is negative (negative ==> question is not-duplcate)\n",
        "  # Our algorithm needs to be more specific and less sensitive.\n",
        "  specificity = TN / (TN + FP)\n",
        "\n",
        "  # Precision : refers to how often we are correct when the value predicted is positive\n",
        "  precision = TP / (TP + FP)\n",
        "\n",
        "  # False Positive Rate (FPR) : refers to how often we are incorrect when the actual value is negative. FPR = 1 - specicicity\n",
        "  false_positive_rate = FP / (FP + TN)\n",
        "\n",
        "  print(f'\\nSensitivity (or recall) : {sensitivity:.2f}')\n",
        "  print(f'Specificity : {specificity:.2f}')\n",
        "  print(f'Precision : {precision:.2f}')\n",
        "  print(f'False Positive Rate (FPR) : {false_positive_rate:.2f}')\n",
        "\n",
        "  from sklearn.metrics import roc_curve\n",
        "\n",
        "  fpr, tpr, thresholds = roc_curve(y_test, y_pred_prob[:,1])\n",
        "\n",
        "  plt.plot(fpr, tpr)\n",
        "  plt.title(\"ROC Curve for Quora Question Duplicates\")\n",
        "  plt.xlabel(\"False Positive Rate (1 - Specificity)\")\n",
        "  plt.ylabel(\"True Positive Rate (Sensitivity)\")\n",
        "  plt.grid(True)\n",
        "  plt.show()\n",
        "\n",
        "  from sklearn.metrics import roc_auc_score\n",
        "\n",
        "  print(f'\\nAUC Score : {roc_auc_score(y_test, y_pred_prob[:,1])}')"
      ],
      "execution_count": 0,
      "outputs": []
    },
    {
      "cell_type": "markdown",
      "metadata": {
        "id": "kG6dv0aLol2d",
        "colab_type": "text"
      },
      "source": [
        "## **Logistic Regression**"
      ]
    },
    {
      "cell_type": "code",
      "metadata": {
        "id": "cmQ-qqoEoJnU",
        "colab_type": "code",
        "outputId": "6d03a762-4748-4a3b-e84a-457c9e8a409f",
        "colab": {
          "base_uri": "https://localhost:8080/",
          "height": 692
        }
      },
      "source": [
        "y_pred, y_pred_prob = train_model(linear_model.LogisticRegression(random_state = 99, max_iter=200), X_train, y_train)\n",
        "\n",
        "get_model_evaluation_metrics(y_test, y_pred, y_pred_prob)"
      ],
      "execution_count": 78,
      "outputs": [
        {
          "output_type": "stream",
          "text": [
            "Accuracy Score : 0.6944\n",
            "\n",
            "Classification Report : \n",
            "              precision    recall  f1-score   support\n",
            "\n",
            "           0       0.72      0.63      0.67      1246\n",
            "           1       0.68      0.75      0.71      1254\n",
            "\n",
            "    accuracy                           0.69      2500\n",
            "   macro avg       0.70      0.69      0.69      2500\n",
            "weighted avg       0.70      0.69      0.69      2500\n",
            "\n",
            "\n",
            "Confusion Matrix : \n",
            "[[791 455]\n",
            " [309 945]]\n",
            "\n",
            "Sensitivity (or recall) : 0.75\n",
            "Specificity : 0.63\n",
            "Precision : 0.68\n",
            "False Positive Rate (FPR) : 0.37\n"
          ],
          "name": "stdout"
        },
        {
          "output_type": "display_data",
          "data": {
            "image/png": "[encoded data removed]",
            "text/plain": [
              "<Figure size 432x288 with 1 Axes>"
            ]
          },
          "metadata": {
            "tags": [],
            "needs_background": "light"
          }
        },
        {
          "output_type": "stream",
          "text": [
            "\n",
            "AUC Score : 0.7560525419780298\n"
          ],
          "name": "stdout"
        }
      ]
    },
    {
      "cell_type": "markdown",
      "metadata": {
        "id": "8VyVtw5i-eqv",
        "colab_type": "text"
      },
      "source": [
        "## **Logistic Regression with L1 Regularization**"
      ]
    },
    {
      "cell_type": "code",
      "metadata": {
        "id": "SNpna8tD7y_Z",
        "colab_type": "code",
        "outputId": "46459271-9e43-4786-b5a2-00cd6cfa1ecc",
        "colab": {
          "base_uri": "https://localhost:8080/",
          "height": 692
        }
      },
      "source": [
        "Cs = np.logspace(-2, 6, 9)\n",
        "y_pred, y_pred_prob = train_model(linear_model.LogisticRegressionCV(Cs=Cs, penalty='l1', cv=10, solver='liblinear', random_state=99, max_iter=10000), X_train, y_train)\n",
        "\n",
        "get_model_evaluation_metrics(y_test, y_pred, y_pred_prob)"
      ],
      "execution_count": 79,
      "outputs": [
        {
          "output_type": "stream",
          "text": [
            "Accuracy Score : 0.6956\n",
            "\n",
            "Classification Report : \n",
            "              precision    recall  f1-score   support\n",
            "\n",
            "           0       0.72      0.64      0.68      1246\n",
            "           1       0.68      0.75      0.71      1254\n",
            "\n",
            "    accuracy                           0.70      2500\n",
            "   macro avg       0.70      0.70      0.69      2500\n",
            "weighted avg       0.70      0.70      0.69      2500\n",
            "\n",
            "\n",
            "Confusion Matrix : \n",
            "[[793 453]\n",
            " [308 946]]\n",
            "\n",
            "Sensitivity (or recall) : 0.75\n",
            "Specificity : 0.64\n",
            "Precision : 0.68\n",
            "False Positive Rate (FPR) : 0.36\n"
          ],
          "name": "stdout"
        },
        {
          "output_type": "display_data",
          "data": {
            "image/png": "[encoded data removed]",
            "text/plain": [
              "<Figure size 432x288 with 1 Axes>"
            ]
          },
          "metadata": {
            "tags": [],
            "needs_background": "light"
          }
        },
        {
          "output_type": "stream",
          "text": [
            "\n",
            "AUC Score : 0.7561722232035656\n"
          ],
          "name": "stdout"
        }
      ]
    },
    {
      "cell_type": "markdown",
      "metadata": {
        "id": "Jz2BQdkO-pIt",
        "colab_type": "text"
      },
      "source": [
        "## **Logistic Regression with L2 Regularization**"
      ]
    },
    {
      "cell_type": "code",
      "metadata": {
        "id": "XOoWkzRH9SUg",
        "colab_type": "code",
        "outputId": "6a171e45-d827-4267-9182-a72eab7ed591",
        "colab": {
          "base_uri": "https://localhost:8080/",
          "height": 692
        }
      },
      "source": [
        "Cs = np.logspace(-2, 6, 9)\n",
        "y_pred, y_pred_prob = train_model(linear_model.LogisticRegressionCV(Cs=Cs, penalty='l2', cv=10, random_state=99, max_iter=10000), X_train, y_train)\n",
        "\n",
        "get_model_evaluation_metrics(y_test, y_pred, y_pred_prob)"
      ],
      "execution_count": 80,
      "outputs": [
        {
          "output_type": "stream",
          "text": [
            "Accuracy Score : 0.6944\n",
            "\n",
            "Classification Report : \n",
            "              precision    recall  f1-score   support\n",
            "\n",
            "           0       0.72      0.64      0.67      1246\n",
            "           1       0.68      0.75      0.71      1254\n",
            "\n",
            "    accuracy                           0.69      2500\n",
            "   macro avg       0.70      0.69      0.69      2500\n",
            "weighted avg       0.70      0.69      0.69      2500\n",
            "\n",
            "\n",
            "Confusion Matrix : \n",
            "[[793 453]\n",
            " [311 943]]\n",
            "\n",
            "Sensitivity (or recall) : 0.75\n",
            "Specificity : 0.64\n",
            "Precision : 0.68\n",
            "False Positive Rate (FPR) : 0.36\n"
          ],
          "name": "stdout"
        },
        {
          "output_type": "display_data",
          "data": {
            "image/png": "[encoded data removed]",
            "text/plain": [
              "<Figure size 432x288 with 1 Axes>"
            ]
          },
          "metadata": {
            "tags": [],
            "needs_background": "light"
          }
        },
        {
          "output_type": "stream",
          "text": [
            "\n",
            "AUC Score : 0.7561933434198366\n"
          ],
          "name": "stdout"
        }
      ]
    },
    {
      "cell_type": "markdown",
      "metadata": {
        "id": "OidN6j0L0fnj",
        "colab_type": "text"
      },
      "source": [
        "## **Naive Bayes**"
      ]
    },
    {
      "cell_type": "code",
      "metadata": {
        "id": "zM2H9RSTjIFT",
        "colab_type": "code",
        "outputId": "95f0c94f-408d-4354-bd0c-e46e199e3b57",
        "colab": {
          "base_uri": "https://localhost:8080/",
          "height": 692
        }
      },
      "source": [
        "y_pred, y_pred_prob = train_model(naive_bayes.BernoulliNB(), X_train, y_train)\n",
        "\n",
        "get_model_evaluation_metrics(y_test, y_pred, y_pred_prob)"
      ],
      "execution_count": 81,
      "outputs": [
        {
          "output_type": "stream",
          "text": [
            "Accuracy Score : 0.6636\n",
            "\n",
            "Classification Report : \n",
            "              precision    recall  f1-score   support\n",
            "\n",
            "           0       0.66      0.67      0.66      1246\n",
            "           1       0.67      0.66      0.66      1254\n",
            "\n",
            "    accuracy                           0.66      2500\n",
            "   macro avg       0.66      0.66      0.66      2500\n",
            "weighted avg       0.66      0.66      0.66      2500\n",
            "\n",
            "\n",
            "Confusion Matrix : \n",
            "[[831 415]\n",
            " [426 828]]\n",
            "\n",
            "Sensitivity (or recall) : 0.66\n",
            "Specificity : 0.67\n",
            "Precision : 0.67\n",
            "False Positive Rate (FPR) : 0.33\n"
          ],
          "name": "stdout"
        },
        {
          "output_type": "display_data",
          "data": {
            "image/png": "[encoded data removed]",
            "text/plain": [
              "<Figure size 432x288 with 1 Axes>"
            ]
          },
          "metadata": {
            "tags": [],
            "needs_background": "light"
          }
        },
        {
          "output_type": "stream",
          "text": [
            "\n",
            "AUC Score : 0.7097359076956947\n"
          ],
          "name": "stdout"
        }
      ]
    },
    {
      "cell_type": "markdown",
      "metadata": {
        "id": "ZFO4sAYPxO09",
        "colab_type": "text"
      },
      "source": [
        "## **SVM Classification**"
      ]
    },
    {
      "cell_type": "code",
      "metadata": {
        "id": "VE5KB6PAob7A",
        "colab_type": "code",
        "outputId": "c0d0ef8a-fec5-4836-9a1c-ece3325603d7",
        "colab": {
          "base_uri": "https://localhost:8080/",
          "height": 692
        }
      },
      "source": [
        "y_pred, y_pred_prob = train_model(svm.SVC(kernel='linear',random_state = 99, probability=True), X_train, y_train)\n",
        "\n",
        "get_model_evaluation_metrics(y_test, y_pred, y_pred_prob)"
      ],
      "execution_count": 82,
      "outputs": [
        {
          "output_type": "stream",
          "text": [
            "Accuracy Score : 0.7036\n",
            "\n",
            "Classification Report : \n",
            "              precision    recall  f1-score   support\n",
            "\n",
            "           0       0.75      0.60      0.67      1246\n",
            "           1       0.67      0.81      0.73      1254\n",
            "\n",
            "    accuracy                           0.70      2500\n",
            "   macro avg       0.71      0.70      0.70      2500\n",
            "weighted avg       0.71      0.70      0.70      2500\n",
            "\n",
            "\n",
            "Confusion Matrix : \n",
            "[[ 748  498]\n",
            " [ 243 1011]]\n",
            "\n",
            "Sensitivity (or recall) : 0.81\n",
            "Specificity : 0.60\n",
            "Precision : 0.67\n",
            "False Positive Rate (FPR) : 0.40\n"
          ],
          "name": "stdout"
        },
        {
          "output_type": "display_data",
          "data": {
            "image/png": "[encoded data removed]",
            "text/plain": [
              "<Figure size 432x288 with 1 Axes>"
            ]
          },
          "metadata": {
            "tags": [],
            "needs_background": "light"
          }
        },
        {
          "output_type": "stream",
          "text": [
            "\n",
            "AUC Score : 0.7565792673716979\n"
          ],
          "name": "stdout"
        }
      ]
    },
    {
      "cell_type": "markdown",
      "metadata": {
        "id": "5tXEyA1JeMVz",
        "colab_type": "text"
      },
      "source": [
        "## **Decision-Tree Classification**"
      ]
    },
    {
      "cell_type": "code",
      "metadata": {
        "id": "8JV1GRtq4SA0",
        "colab_type": "code",
        "outputId": "e2fde089-af94-4a09-c81a-da4024291ae3",
        "colab": {
          "base_uri": "https://localhost:8080/",
          "height": 692
        }
      },
      "source": [
        "y_pred, y_pred_prob = train_model(tree.DecisionTreeClassifier(random_state = 99), X_train, y_train)\n",
        "\n",
        "get_model_evaluation_metrics(y_test, y_pred, y_pred_prob)"
      ],
      "execution_count": 83,
      "outputs": [
        {
          "output_type": "stream",
          "text": [
            "Accuracy Score : 0.6284\n",
            "\n",
            "Classification Report : \n",
            "              precision    recall  f1-score   support\n",
            "\n",
            "           0       0.62      0.64      0.63      1246\n",
            "           1       0.63      0.62      0.62      1254\n",
            "\n",
            "    accuracy                           0.63      2500\n",
            "   macro avg       0.63      0.63      0.63      2500\n",
            "weighted avg       0.63      0.63      0.63      2500\n",
            "\n",
            "\n",
            "Confusion Matrix : \n",
            "[[797 449]\n",
            " [480 774]]\n",
            "\n",
            "Sensitivity (or recall) : 0.62\n",
            "Specificity : 0.64\n",
            "Precision : 0.63\n",
            "False Positive Rate (FPR) : 0.36\n"
          ],
          "name": "stdout"
        },
        {
          "output_type": "display_data",
          "data": {
            "image/png": "[encoded data removed]",
            "text/plain": [
              "<Figure size 432x288 with 1 Axes>"
            ]
          },
          "metadata": {
            "tags": [],
            "needs_background": "light"
          }
        },
        {
          "output_type": "stream",
          "text": [
            "\n",
            "AUC Score : 0.6284358751833619\n"
          ],
          "name": "stdout"
        }
      ]
    },
    {
      "cell_type": "markdown",
      "metadata": {
        "id": "tJ8bHCjyeZBu",
        "colab_type": "text"
      },
      "source": [
        "## **Random-Forest Classification**\n"
      ]
    },
    {
      "cell_type": "code",
      "metadata": {
        "id": "GE-3hRjM5XPL",
        "colab_type": "code",
        "outputId": "7161402a-2f01-4dc4-bc45-2b59251984a3",
        "colab": {
          "base_uri": "https://localhost:8080/",
          "height": 692
        }
      },
      "source": [
        "y_pred, y_pred_prob = train_model(ensemble.RandomForestClassifier(n_estimators=1000, n_jobs=-1, random_state = 99), X_train, y_train)\n",
        "\n",
        "get_model_evaluation_metrics(y_test, y_pred, y_pred_prob)"
      ],
      "execution_count": 84,
      "outputs": [
        {
          "output_type": "stream",
          "text": [
            "Accuracy Score : 0.7208\n",
            "\n",
            "Classification Report : \n",
            "              precision    recall  f1-score   support\n",
            "\n",
            "           0       0.78      0.62      0.69      1246\n",
            "           1       0.68      0.83      0.75      1254\n",
            "\n",
            "    accuracy                           0.72      2500\n",
            "   macro avg       0.73      0.72      0.72      2500\n",
            "weighted avg       0.73      0.72      0.72      2500\n",
            "\n",
            "\n",
            "Confusion Matrix : \n",
            "[[ 767  479]\n",
            " [ 219 1035]]\n",
            "\n",
            "Sensitivity (or recall) : 0.83\n",
            "Specificity : 0.62\n",
            "Precision : 0.68\n",
            "False Positive Rate (FPR) : 0.38\n"
          ],
          "name": "stdout"
        },
        {
          "output_type": "display_data",
          "data": {
            "image/png": "[encoded data removed]",
            "text/plain": [
              "<Figure size 432x288 with 1 Axes>"
            ]
          },
          "metadata": {
            "tags": [],
            "needs_background": "light"
          }
        },
        {
          "output_type": "stream",
          "text": [
            "\n",
            "AUC Score : 0.7817968055992893\n"
          ],
          "name": "stdout"
        }
      ]
    },
    {
      "cell_type": "markdown",
      "metadata": {
        "id": "zGuOz8zctBzW",
        "colab_type": "text"
      },
      "source": [
        "## **Deep Neural Network Models**"
      ]
    },
    {
      "cell_type": "code",
      "metadata": {
        "id": "JaZIf9WSYcn9",
        "colab_type": "code",
        "colab": {}
      },
      "source": [
        "from keras.models import Sequential\n",
        "from keras.wrappers.scikit_learn import KerasClassifier\n",
        "from sklearn.model_selection import StratifiedKFold, cross_val_score, KFold\n",
        "import numpy as np\n",
        "from tensorflow import random\n",
        "\n",
        "from keras.layers import Dense\n",
        "\n",
        "# Define 3 functions, each returning a different Keras model. \n",
        "# The goal is to find out which of these 3 models leads to the lowest cross-validation error rate.\n",
        "\n",
        "# Create a function that returns the keras model 1\n",
        "def build_model_1(activation='relu', optimizer='adam'):\n",
        "  # create model 1  \n",
        "  model = Sequential()\n",
        "  model.add(Dense(18, input_dim=X_train.shape[1], activation=activation))\n",
        "  model.add(Dense(18, activation=activation))\n",
        "  model.add(Dense(18, activation=activation))\n",
        "  model.add(Dense(1, activation='sigmoid'))\n",
        "  # compile model 1\n",
        "  model.compile(optimizer=optimizer, loss='binary_crossentropy',metrics=['accuracy'])\n",
        "  return model\n",
        "\n",
        "# Create a function that returns the keras model 2\n",
        "def build_model_2(activation='relu', optimizer='adam'):\n",
        "  # create model 2\n",
        "  # print(f'Activation = {activation}  Optimizer={optimizer}')\n",
        "  model = Sequential()\n",
        "  model.add(Dense(18, input_dim=X_train.shape[1], activation=activation))\n",
        "  model.add(Dense(9, activation=activation))\n",
        "  model.add(Dense(1, activation='sigmoid'))\n",
        "  # compile model 2\n",
        "  model.compile(optimizer=optimizer, loss='binary_crossentropy',metrics=['accuracy'])\n",
        "  return model\n",
        "\n",
        "# Create a function that returns the keras model 3\n",
        "def build_model_3(activation='relu', optimizer='adam'):\n",
        "  # create model 3\n",
        "  model = Sequential()\n",
        "  model.add(Dense(18, input_dim=X_train.shape[1], activation=activation))\n",
        "  model.add(Dense(9, activation=activation))\n",
        "  model.add(Dense(6, activation=activation))\n",
        "  model.add(Dense(1, activation='sigmoid'))\n",
        "  # compile model 3\n",
        "  model.compile(optimizer=optimizer, loss='binary_crossentropy',metrics=['accuracy'])\n",
        "  return model\n",
        "  \n",
        "\n"
      ],
      "execution_count": 0,
      "outputs": []
    },
    {
      "cell_type": "code",
      "metadata": {
        "id": "jhYMsjSuC4b2",
        "colab_type": "code",
        "outputId": "b3ce4658-63c0-4a7b-f167-a98c6f4f192e",
        "colab": {
          "base_uri": "https://localhost:8080/",
          "height": 69
        }
      },
      "source": [
        "# Writing code that will loop over the three models and perform 5-fold cross-validation.\n",
        "# define a seed for random number generator so the result will be reproducible\n",
        "seed = 99\n",
        "np.random.seed(seed)\n",
        "random.set_seed(seed)\n",
        "\n",
        "# determine the number of folds for k-fold cross-validation, number of epochs and batch size\n",
        "n_folds = 5\n",
        "batch_size = 20\n",
        "epochs = 100\n",
        "\n",
        "# define the list to store cross-validation scores\n",
        "results_1 = []\n",
        "\n",
        "# define the possible options for the model\n",
        "models =[build_model_1, build_model_2, build_model_3]\n",
        "\n",
        "# loop over the models\n",
        "for m in range(len(models)):\n",
        "  # build the scikit-learn interface for the keras model\n",
        "  classifier = KerasClassifier(build_fn=models[m], epochs=epochs, batch_size=batch_size, verbose=0, shuffle=False)\n",
        "  # define the cross-validation iterator\n",
        "  kfold = StratifiedKFold(n_splits=n_folds, shuffle=True, random_state=seed)\n",
        "  # perform the k-fold cross-validation and store the scores in result\n",
        "  result = cross_val_score(classifier, X_train, y_train, cv=kfold)\n",
        "  # add the scores to the results list\n",
        "  results_1.append(result)\n",
        "\n",
        "# Print cross-validation score for each model\n",
        "for m in range(len(models)):\n",
        "  print(\"Model \", m+1, \" cross-validation score = \", abs(results_1[m].mean()))\n"
      ],
      "execution_count": 0,
      "outputs": [
        {
          "output_type": "stream",
          "text": [
            "Model  1  test error rate =  0.7054666757583619\n",
            "Model  2  test error rate =  0.7171999931335449\n",
            "Model  3  test error rate =  0.7130666494369506\n"
          ],
          "name": "stdout"
        }
      ]
    },
    {
      "cell_type": "code",
      "metadata": {
        "id": "8XxiEic1BOvj",
        "colab_type": "code",
        "outputId": "82a24ed7-00b8-45fe-97bb-66142df432b1",
        "colab": {
          "base_uri": "https://localhost:8080/",
          "height": 86
        }
      },
      "source": [
        "# Choose the model with the highest cross-validation score and repeat the above step by iterating over the epochs = [100, 200] \n",
        "# and batches = [10, 20] values and performing 5-fold cross-validation\n",
        "\n",
        "# define a seed for random number generator so the result will be reproducible\n",
        "np.random.seed(seed)\n",
        "random.set_seed(seed)\n",
        "\n",
        "# determine the number of folds for k-fold cross-validation\n",
        "n_folds = 5\n",
        "\n",
        "# define the ossible options for epochs and batch_size\n",
        "epochs = [100, 200]\n",
        "batches = [10, 20]\n",
        "\n",
        "# define the list to store cross-validation scores\n",
        "results_2 = []\n",
        "\n",
        "# loop over all possible pairs of epochs, batch_size\n",
        "for e in range(len(epochs)):\n",
        "  for b in range(len(batches)):\n",
        "    # build the scikit-learn interface for the keras model\n",
        "    classifier = KerasClassifier(build_fn=build_model_2, epochs=epochs[e], batch_size=batches[b], verbose=0)\n",
        "\n",
        "    # define the corss-validation iterator\n",
        "    kfold = StratifiedKFold(n_splits=n_folds, shuffle=True, random_state=seed)\n",
        "\n",
        "    # perform the k-fold cross-validation and store the scores in result\n",
        "    result = cross_val_score(classifier, X_train, y_train, cv=kfold)\n",
        "\n",
        "    # add the scores to the results list\n",
        "    results_2.append(result)\n",
        "\n",
        "# Print cross-validation score for each possible pair of epochs, batch_size\n",
        "c = 0\n",
        "for e in range(len(epochs)):\n",
        "  for b in range(len(batches)):\n",
        "    print(\"batch_size =\", batches[b],\", epochs =\", epochs[e], \", Test Accuracy =\", results_2[c].mean())\n",
        "    c += 1"
      ],
      "execution_count": 0,
      "outputs": [
        {
          "output_type": "stream",
          "text": [
            "batch_size = 10 , epochs = 100 , Test Accuracy = 0.7166666746139526\n",
            "batch_size = 20 , epochs = 100 , Test Accuracy = 0.719866669178009\n",
            "batch_size = 10 , epochs = 200 , Test Accuracy = 0.7053333282470703\n",
            "batch_size = 20 , epochs = 200 , Test Accuracy = 0.7058666825294495\n"
          ],
          "name": "stdout"
        }
      ]
    },
    {
      "cell_type": "code",
      "metadata": {
        "id": "r3ycQ2xLHw2C",
        "colab_type": "code",
        "outputId": "bd6c26a0-39a1-4a95-fac5-7de2bd0d658b",
        "colab": {
          "base_uri": "https://localhost:8080/",
          "height": 121
        }
      },
      "source": [
        "# Choosing the batch size and epochs with the highest accuracy score and repeat the above step by iterating\n",
        "# over the optimizers = ['rmsprop', 'adam', 'sgd'] and activations = ['relu','tanh'] values and \n",
        "# performing 5-fold corss validation\n",
        "\n",
        "# define a seed for random number generator so the result will be reproducible\n",
        "np.random.seed(seed)\n",
        "random.set_seed(seed)\n",
        "\n",
        "# determine the number of folds for k-fold cross-validation, number of epochs and batch size\n",
        "n_folds = 5\n",
        "batch_size = 10\n",
        "epochs = 100\n",
        "\n",
        "# define the list to store cross_validation scores\n",
        "results_3 = []\n",
        "\n",
        "# define possible options for optimizer and activation\n",
        "optimizers = ['rmsprop', 'adam', 'sgd']\n",
        "activations = ['relu','tanh']\n",
        "\n",
        "# loop over all possible pairs of optimizer, activation\n",
        "for o in range(len(optimizers)):\n",
        "  for a in range(len(activations)):\n",
        "    optimizer = optimizers[o]\n",
        "    activation = activations[a]\n",
        "\n",
        "    # build the scikit-learn interface for the keras model\n",
        "    classifier = KerasClassifier(build_fn=build_model_2, activation=activation, optimizer=optimizer, epochs=epochs, batch_size=batch_size, verbose=0, shuffle=False)\n",
        "\n",
        "    # define the cross-validation iterator\n",
        "    kfold = StratifiedKFold(n_splits = n_folds, shuffle=True, random_state=seed)\n",
        "\n",
        "    # perform the k-fold cross-validation and store the scores in result\n",
        "    result = cross_val_score(classifier, X_train, y_train, cv=kfold)\n",
        "\n",
        "    # add the scores to the results list\n",
        "    results_3.append(result)\n",
        "\n",
        "# Print cross-validation score for each possible pair of optimizer, activation\n",
        "c = 0\n",
        "for o in range(len(optimizers)):\n",
        "  for a in range(len(activations)):\n",
        "    print(\"activation = \", activations[a],\", optimizer = \", optimizers[o], \", Test accuracy = \", results_3[c].mean())\n",
        "    c += 1"
      ],
      "execution_count": 0,
      "outputs": [
        {
          "output_type": "stream",
          "text": [
            "activation =  relu , optimizer =  rmsprop , Test accuracy =  0.7082666635513306\n",
            "activation =  tanh , optimizer =  rmsprop , Test accuracy =  0.7134666562080383\n",
            "activation =  relu , optimizer =  adam , Test accuracy =  0.7087999939918518\n",
            "activation =  tanh , optimizer =  adam , Test accuracy =  0.7069333314895629\n",
            "activation =  relu , optimizer =  sgd , Test accuracy =  0.7204000115394592\n",
            "activation =  tanh , optimizer =  sgd , Test accuracy =  0.7201333403587341\n"
          ],
          "name": "stdout"
        }
      ]
    },
    {
      "cell_type": "markdown",
      "metadata": {
        "id": "jwtY8UNPJhMW",
        "colab_type": "text"
      },
      "source": [
        "## **Improving the Model Accuracy (L1, L2 and Dropout Regularization)**\n",
        "\n"
      ]
    },
    {
      "cell_type": "code",
      "metadata": {
        "id": "p4R3Ma_QNTDl",
        "colab_type": "code",
        "colab": {}
      },
      "source": [
        "# So Model 2 with batch_size = 10 , epochs = 100, activation =  relu , optimizer =  sgd is the best model\n",
        "# Now let's see how the model behaves with regularization\n",
        "# write a function that returns the model 2 with the best hyperparameter values and takes l2 parameter as input \n",
        "# we will test it for different valies of l2 parameter\n",
        "\n",
        "from keras.regularizers import l1, l2, l1_l2\n",
        "\n",
        "def build_model_2_l1l2(kernel_regularizer=None): \n",
        "  model_2 = Sequential()\n",
        "  model_2.add(Dense(18, input_dim=X_train.shape[1], activation='relu', kernel_regularizer=kernel_regularizer))\n",
        "  model_2.add(Dense(9, activation='relu', kernel_regularizer=kernel_regularizer))\n",
        "  model_2.add(Dense(1, activation='sigmoid'))\n",
        "  # compile model 3\n",
        "  model_2.compile(optimizer='sgd', loss='binary_crossentropy',metrics=['accuracy'])\n",
        "\n",
        "  # fit the model to the training data to perform the classification while evaluating on the test set, \n",
        "  # saving the results of the training process\n",
        "  history=model_2.fit(X_train, y_train, batch_size=20, epochs=100, validation_data=(X_test, y_test), verbose=0, shuffle=False)\n",
        "\n",
        "  # Plotting the trends in training error and test error by importing the necessary libraries for plotting the loss and\n",
        "  # validation loss and saving them in the variable that was created when the model was fit to the training process. \n",
        "  # Printing out the maximum validation accuracy\n",
        "\n",
        " \n",
        "\n",
        "  # plot training error and test error\n",
        "  matplotlib.rcParams['figure.figsize'] = (6.0, 4.0)\n",
        "  plt.plot(history.history['loss'])\n",
        "  plt.plot(history.history['val_loss'])\n",
        "  plt.ylim(0,1)\n",
        "  plt.ylabel('loss')\n",
        "  plt.xlabel('epoch')\n",
        "  plt.legend(['train loss', 'validation loss'], loc='upper right')\n",
        "\n",
        "  # print the best accuracy reached on the test set\n",
        "  print(\"Best Accuracy on Validation Set =\", max(history.history['val_accuracy']))\n",
        "  print(\"Lowest error on Training Set =\", min(history.history['loss']))\n",
        "  print(\"Lowest error on Validation Set =\", min(history.history['val_loss']))\n"
      ],
      "execution_count": 0,
      "outputs": []
    },
    {
      "cell_type": "code",
      "metadata": {
        "id": "OXvayyXbZP96",
        "colab_type": "code",
        "outputId": "9203d150-bad4-476a-d868-04f22f169142",
        "colab": {
          "base_uri": "https://localhost:8080/",
          "height": 335
        }
      },
      "source": [
        "# Training the model with no regularization\n",
        "build_model_2_l1l2(kernel_regularizer=None)"
      ],
      "execution_count": 0,
      "outputs": [
        {
          "output_type": "stream",
          "text": [
            "Best Accuracy on Validation Set = 0.7156000137329102\n",
            "Lowest error on Training Set = 0.519805864572525\n",
            "Lowest error on Validation Set = 0.5385132467746735\n"
          ],
          "name": "stdout"
        },
        {
          "output_type": "display_data",
          "data": {
            "image/png": "[encoded data removed]",
            "text/plain": [
              "<Figure size 432x288 with 1 Axes>"
            ]
          },
          "metadata": {
            "tags": [],
            "needs_background": "light"
          }
        }
      ]
    },
    {
      "cell_type": "markdown",
      "metadata": {
        "id": "xIK3JCNnfTOy",
        "colab_type": "text"
      },
      "source": [
        "## **L2 Regularization**"
      ]
    },
    {
      "cell_type": "code",
      "metadata": {
        "id": "hCIjpTHBbL4H",
        "colab_type": "code",
        "outputId": "7315bce9-095e-4787-c0ea-c26f48a3f58d",
        "colab": {
          "base_uri": "https://localhost:8080/",
          "height": 335
        }
      },
      "source": [
        "# Training the model by adding L2 regularizers with lambda=0.01 to each hidden layer of the model.\n",
        "l2_param = 0.01\n",
        "build_model_2_l1l2(kernel_regularizer=l2(l2_param))"
      ],
      "execution_count": 0,
      "outputs": [
        {
          "output_type": "stream",
          "text": [
            "Best Accuracy on Validation Set = 0.7167999744415283\n",
            "Lowest error on Training Set = 0.5529270128409067\n",
            "Lowest error on Validation Set = 0.5575796072483062\n"
          ],
          "name": "stdout"
        },
        {
          "output_type": "display_data",
          "data": {
            "image/png": "[encoded data removed]",
            "text/plain": [
              "<Figure size 432x288 with 1 Axes>"
            ]
          },
          "metadata": {
            "tags": [],
            "needs_background": "light"
          }
        }
      ]
    },
    {
      "cell_type": "code",
      "metadata": {
        "id": "FQg39Hrzcbs9",
        "colab_type": "code",
        "colab": {}
      },
      "source": [
        "# As seen from the preceding plots, the test error almost plateaus after being decreased to a certain amount.\n",
        "# The gap between the training error and the validation error at the end of the training process (the bias) is very\n",
        "# small, which is indicative of reduced overfitting (low variance) of the model for the training examples. This is good."
      ],
      "execution_count": 0,
      "outputs": []
    },
    {
      "cell_type": "code",
      "metadata": {
        "id": "2tYX9O6YclLw",
        "colab_type": "code",
        "outputId": "9ae15316-f51f-4b8f-a999-f1fd08f90c9f",
        "colab": {
          "base_uri": "https://localhost:8080/",
          "height": 335
        }
      },
      "source": [
        "# Training the model by adding L2 regularizers with lambda=0.1 to each hidden layer of the model.\n",
        "l2_param = 0.1\n",
        "build_model_2_l1l2(kernel_regularizer=l2(l2_param))"
      ],
      "execution_count": 0,
      "outputs": [
        {
          "output_type": "stream",
          "text": [
            "Best Accuracy on Validation Set = 0.7008000016212463\n",
            "Lowest error on Training Set = 0.5951399548053742\n",
            "Lowest error on Validation Set = 0.5914834079742431\n"
          ],
          "name": "stdout"
        },
        {
          "output_type": "display_data",
          "data": {
            "image/png": "[encoded data removed]",
            "text/plain": [
              "<Figure size 432x288 with 1 Axes>"
            ]
          },
          "metadata": {
            "tags": [],
            "needs_background": "light"
          }
        }
      ]
    },
    {
      "cell_type": "code",
      "metadata": {
        "id": "yXcYEzeadIkq",
        "colab_type": "code",
        "colab": {}
      },
      "source": [
        "# The training and validation error quickly plateau and are much higher than they were for the model that was created\n",
        "# with a lower L2 parameter, indicating that we have penalized the model so much that it has not had the flexibility to learn the\n",
        "# underlying function of the training data. Following this, we will reduce the valie of the regularization parameter to prevent it\n",
        "# from penalizing the model as much."
      ],
      "execution_count": 0,
      "outputs": []
    },
    {
      "cell_type": "code",
      "metadata": {
        "id": "buVgIlPRdLK1",
        "colab_type": "code",
        "outputId": "6190b841-6fa9-4936-d7dc-7b48c84e3f5c",
        "colab": {
          "base_uri": "https://localhost:8080/",
          "height": 335
        }
      },
      "source": [
        "# Repeat the previous step with lambda=0.005 for the L2 parameter.\n",
        "l2_param = 0.005\n",
        "build_model_2_l1l2(kernel_regularizer=l2(l2_param))"
      ],
      "execution_count": 0,
      "outputs": [
        {
          "output_type": "stream",
          "text": [
            "Best Accuracy on Validation Set = 0.7148000001907349\n",
            "Lowest error on Training Set = 0.5471020164489746\n",
            "Lowest error on Validation Set = 0.5537295563220977\n"
          ],
          "name": "stdout"
        },
        {
          "output_type": "display_data",
          "data": {
            "image/png": "[encoded data removed]",
            "text/plain": [
              "<Figure size 432x288 with 1 Axes>"
            ]
          },
          "metadata": {
            "tags": [],
            "needs_background": "light"
          }
        }
      ]
    },
    {
      "cell_type": "code",
      "metadata": {
        "id": "iuFFpDw-WBwg",
        "colab_type": "code",
        "colab": {}
      },
      "source": [
        "# The value for the L2 weight regularization achieves the second highest accuracy that was evaluated on the validation data of all\n",
        "# models with L2 regularization. Again, the test error doesn't increase\n",
        "# a significant amount after being decreased to a certain value, which is indicative of the model not overfitting the training examples.\n",
        "# It seems that L2 weight regularization with lambda=0.005 achieves the lowest validation error while preventing the model\n",
        "# from overfitting."
      ],
      "execution_count": 0,
      "outputs": []
    },
    {
      "cell_type": "markdown",
      "metadata": {
        "id": "VD0eawgXfLhj",
        "colab_type": "text"
      },
      "source": [
        "## **L1 Regularization**"
      ]
    },
    {
      "cell_type": "code",
      "metadata": {
        "id": "rGM2_Az3fC8Z",
        "colab_type": "code",
        "outputId": "44054684-649d-4d51-f6a2-30fbb46367a3",
        "colab": {
          "base_uri": "https://localhost:8080/",
          "height": 335
        }
      },
      "source": [
        "# Repeat the previous step with lambda=0.01 for the L1 parameter.\n",
        "l1_param = 0.01\n",
        "build_model_2_l1l2(kernel_regularizer=l1(l1_param))"
      ],
      "execution_count": 0,
      "outputs": [
        {
          "output_type": "stream",
          "text": [
            "Best Accuracy on Validation Set = 0.7092000246047974\n",
            "Lowest error on Training Set = 0.5822986573378245\n",
            "Lowest error on Validation Set = 0.5782577345371246\n"
          ],
          "name": "stdout"
        },
        {
          "output_type": "display_data",
          "data": {
            "image/png": "[encoded data removed]",
            "text/plain": [
              "<Figure size 432x288 with 1 Axes>"
            ]
          },
          "metadata": {
            "tags": [],
            "needs_background": "light"
          }
        }
      ]
    },
    {
      "cell_type": "code",
      "metadata": {
        "id": "GaaR_AczfCWE",
        "colab_type": "code",
        "outputId": "c670cfc4-18da-4fde-992f-5a2e429a6b5a",
        "colab": {
          "base_uri": "https://localhost:8080/",
          "height": 335
        }
      },
      "source": [
        "# Repeat the previous step with lambda=0.005 for the L1 parameter.\n",
        "l1_param = 0.005\n",
        "build_model_2_l1l2(kernel_regularizer=l1(l1_param))"
      ],
      "execution_count": 0,
      "outputs": [
        {
          "output_type": "stream",
          "text": [
            "Best Accuracy on Validation Set = 0.7099999785423279\n",
            "Lowest error on Training Set = 0.5727731577555338\n",
            "Lowest error on Validation Set = 0.5696559178829194\n"
          ],
          "name": "stdout"
        },
        {
          "output_type": "display_data",
          "data": {
            "image/png": "[encoded data removed]",
            "text/plain": [
              "<Figure size 432x288 with 1 Axes>"
            ]
          },
          "metadata": {
            "tags": [],
            "needs_background": "light"
          }
        }
      ]
    },
    {
      "cell_type": "code",
      "metadata": {
        "id": "l4WFWhr9gKCh",
        "colab_type": "code",
        "colab": {}
      },
      "source": [
        "# It seems that L1 weight regularization with lamda=0.005 achieves a better test error while preventing a model from \n",
        "# overfitting since the value of lambda=0.01 is too restrictive and prevents the model from learning the underlying\n",
        "# function of the training data."
      ],
      "execution_count": 0,
      "outputs": []
    },
    {
      "cell_type": "code",
      "metadata": {
        "id": "H3kykHbPgzhO",
        "colab_type": "code",
        "outputId": "84c5f235-0487-4756-8966-22f1882170c7",
        "colab": {
          "base_uri": "https://localhost:8080/",
          "height": 335
        }
      },
      "source": [
        "# Repeat the previous step with L1 and L2 regularizers with an L1 of lambda=0.005 and an L2 of lambda=0.005\n",
        "# to the hidden layers of the model.\n",
        "l1_param = 0.005\n",
        "l2_param = 0.005\n",
        "build_model_2_l1l2(kernel_regularizer=l1_l2(l1=l1_param, l2=l2_param))"
      ],
      "execution_count": 0,
      "outputs": [
        {
          "output_type": "stream",
          "text": [
            "Best Accuracy on Validation Set = 0.7080000042915344\n",
            "Lowest error on Training Set = 0.5760435692469279\n",
            "Lowest error on Validation Set = 0.5718391695022583\n"
          ],
          "name": "stdout"
        },
        {
          "output_type": "display_data",
          "data": {
            "image/png": "[encoded data removed]",
            "text/plain": [
              "<Figure size 432x288 with 1 Axes>"
            ]
          },
          "metadata": {
            "tags": [],
            "needs_background": "light"
          }
        }
      ]
    },
    {
      "cell_type": "code",
      "metadata": {
        "id": "q2kN8WPWiESi",
        "colab_type": "code",
        "colab": {}
      },
      "source": [
        "# While L1 and L2 regularization are successful in preventing the model from overfitting, the variance in the model\n",
        "# is very low. However, the accuracy that's obtained on the validaton set is not as high as the model that was\n",
        "# trained with no regularization or the model that was trained with the \n",
        "# L2 regularization lambda=0.005 or L1 regularization lambda = 0.005 parameter individually."
      ],
      "execution_count": 0,
      "outputs": []
    },
    {
      "cell_type": "markdown",
      "metadata": {
        "id": "UoxQ80CySJKv",
        "colab_type": "text"
      },
      "source": [
        "## **Dropout Regularization**"
      ]
    },
    {
      "cell_type": "code",
      "metadata": {
        "id": "E8SWuu5gSLc0",
        "colab_type": "code",
        "outputId": "c36e6b8a-2ad0-41db-a933-3f572ef1ee97",
        "colab": {
          "base_uri": "https://localhost:8080/",
          "height": 335
        }
      },
      "source": [
        "# Model 2 : batch_size = 10 , epochs = 100, activation =  relu , optimizer =  sgd \n",
        "# Now let's see how the model behaves with dropout regularization\n",
        "\n",
        "# Redefine the model by creating the same model architecture\n",
        "# Add a dropout regularization with rate = 0.1 to the first hidden layer of the model.\n",
        "# Repeat the steps to train the model on the training data and to plot the trends for the training and validation errors.\n",
        "# Then print the best accuracy that was reached on the validation set.\n",
        "\n",
        "from keras.layers import Dropout\n",
        "\n",
        "# create model\n",
        "model_2 = Sequential()\n",
        "model_2.add(Dense(18, input_dim=X_train.shape[1], activation='relu'))\n",
        "model_2.add(Dropout(0.1))\n",
        "model_2.add(Dense(9, activation='relu'))\n",
        "model_2.add(Dense(1, activation='sigmoid'))\n",
        "# compile model 3\n",
        "model_2.compile(optimizer='sgd', loss='binary_crossentropy',metrics=['accuracy'])\n",
        "# train the model using training set while evaluating on the test set\n",
        "history=model_2.fit(X_train, y_train, batch_size=20, epochs=100, validation_data=(X_test, y_test), verbose=0, shuffle=False)\n",
        "\n",
        "# plot training error and test error\n",
        "matplotlib.rcParams['figure.figsize'] = (6.0, 4.0)\n",
        "plt.plot(history.history['loss'])\n",
        "plt.plot(history.history['val_loss'])\n",
        "plt.ylim(0,1)\n",
        "plt.ylabel('loss')\n",
        "plt.xlabel('epoch')\n",
        "plt.legend(['train loss', 'validation loss'], loc='upper right')\n",
        "\n",
        "# print the best accuracy reached on the test set\n",
        "print(\"Best Accuracy on Validation Set =\", max(history.history['val_accuracy']))\n",
        "print(\"Lowest error on Training Set =\", min(history.history['loss']))\n",
        "print(\"Lowest error on Validation Set =\", min(history.history['val_loss']))"
      ],
      "execution_count": 0,
      "outputs": [
        {
          "output_type": "stream",
          "text": [
            "Best Accuracy on Validation Set = 0.7120000123977661\n",
            "Lowest error on Training Set = 0.5267147301038106\n",
            "Lowest error on Validation Set = 0.5404192833900452\n"
          ],
          "name": "stdout"
        },
        {
          "output_type": "display_data",
          "data": {
            "image/png": "[encoded data removed]",
            "text/plain": [
              "<Figure size 432x288 with 1 Axes>"
            ]
          },
          "metadata": {
            "tags": [],
            "needs_background": "light"
          }
        }
      ]
    },
    {
      "cell_type": "code",
      "metadata": {
        "id": "j46HoESTIraK",
        "colab_type": "code",
        "colab": {}
      },
      "source": [
        "# There is a very small gap between the training error and the validation error. The validation error is slightly higher than\n",
        "# the training error, indicating that the model is might be overfitting the training data."
      ],
      "execution_count": 0,
      "outputs": []
    },
    {
      "cell_type": "code",
      "metadata": {
        "id": "UvnAB3cMNUfI",
        "colab_type": "code",
        "outputId": "0ce544a5-17dd-4c52-8f82-7ba740168453",
        "colab": {
          "base_uri": "https://localhost:8080/",
          "height": 335
        }
      },
      "source": [
        "# Repeating the previous step, this time adding dropout regularization with rate=0.1 to all hidden layers of your model.\n",
        "# Repeat the steps to train the model on the training data and plot the trends for the training and validation errors.\n",
        "\n",
        "# create model\n",
        "model_2 = Sequential()\n",
        "model_2.add(Dense(18, input_dim=X_train.shape[1], activation='relu'))\n",
        "model_2.add(Dropout(0.1))\n",
        "model_2.add(Dense(9, activation='relu'))\n",
        "model_2.add(Dropout(0.1))\n",
        "model_2.add(Dense(1, activation='sigmoid'))\n",
        "# compile model 3\n",
        "model_2.compile(optimizer='sgd', loss='binary_crossentropy',metrics=['accuracy'])\n",
        "# train the model using training set while evaluating on the test set\n",
        "history=model_2.fit(X_train, y_train, batch_size=20, epochs=100, validation_data=(X_test, y_test), verbose=0, shuffle=False)\n",
        "\n",
        "# plot training error and test error\n",
        "matplotlib.rcParams['figure.figsize'] = (6.0, 4.0)\n",
        "plt.plot(history.history['loss'])\n",
        "plt.plot(history.history['val_loss'])\n",
        "plt.ylim(0,1)\n",
        "plt.ylabel('loss')\n",
        "plt.xlabel('epoch')\n",
        "plt.legend(['train loss', 'validation loss'], loc='upper right')\n",
        "\n",
        "# print the best accuracy reached on the test set\n",
        "print(\"Best Accuracy on Validation Set =\", max(history.history['val_accuracy']))\n",
        "print(\"Lowest error on Training Set =\", min(history.history['loss']))\n",
        "print(\"Lowest error on Validation Set =\", min(history.history['val_loss']))"
      ],
      "execution_count": 0,
      "outputs": [
        {
          "output_type": "stream",
          "text": [
            "Best Accuracy on Validation Set = 0.7080000042915344\n",
            "Lowest error on Training Set = 0.5310429490407308\n",
            "Lowest error on Validation Set = 0.5384255845546723\n"
          ],
          "name": "stdout"
        },
        {
          "output_type": "display_data",
          "data": {
            "image/png": "[encoded data removed]",
            "text/plain": [
              "<Figure size 432x288 with 1 Axes>"
            ]
          },
          "metadata": {
            "tags": [],
            "needs_background": "light"
          }
        }
      ]
    },
    {
      "cell_type": "code",
      "metadata": {
        "id": "a7Tia1uYOH1p",
        "colab_type": "code",
        "colab": {}
      },
      "source": [
        "# The training error has increased as a result of additional regularization on the other 2 hidden layers of the model."
      ],
      "execution_count": 0,
      "outputs": []
    },
    {
      "cell_type": "code",
      "metadata": {
        "id": "xPewtDWMO2Xk",
        "colab_type": "code",
        "outputId": "93f43f19-80c0-4c7b-9d25-37d2fd9903da",
        "colab": {
          "base_uri": "https://localhost:8080/",
          "height": 335
        }
      },
      "source": [
        "# Repeating the previous step, this time adding dropout regularization with rate=0.2 to the first layer and rate=0.1 to the rest of \n",
        "# the hidden layers\n",
        "# Repeat the steps to train the model on the training data and plot the trends for the training and validation errors.\n",
        "\n",
        "# create model\n",
        "model_2 = Sequential()\n",
        "model_2.add(Dense(18, input_dim=X_train.shape[1], activation='relu'))\n",
        "model_2.add(Dropout(0.2))\n",
        "model_2.add(Dense(9, activation='relu'))\n",
        "model_2.add(Dropout(0.1))\n",
        "model_2.add(Dense(1, activation='sigmoid'))\n",
        "# compile model 3\n",
        "model_2.compile(optimizer='sgd', loss='binary_crossentropy',metrics=['accuracy'])\n",
        "# train the model using training set while evaluating on the test set\n",
        "history=model_2.fit(X_train, y_train, batch_size=20, epochs=100, validation_data=(X_test, y_test), verbose=0, shuffle=False)\n",
        "\n",
        "# plot training error and test error\n",
        "matplotlib.rcParams['figure.figsize'] = (6.0, 4.0)\n",
        "plt.plot(history.history['loss'])\n",
        "plt.plot(history.history['val_loss'])\n",
        "plt.ylim(0,1)\n",
        "plt.ylabel('loss')\n",
        "plt.xlabel('epoch')\n",
        "plt.legend(['train loss', 'validation loss'], loc='upper right')\n",
        "\n",
        "# print the best accuracy reached on the test set\n",
        "print(\"Best Accuracy on Validation Set =\", max(history.history['val_accuracy']))\n",
        "print(\"Lowest error on Training Set =\", min(history.history['loss']))\n",
        "print(\"Lowest error on Validation Set =\", min(history.history['val_loss']))"
      ],
      "execution_count": 0,
      "outputs": [
        {
          "output_type": "stream",
          "text": [
            "Best Accuracy on Validation Set = 0.7184000015258789\n",
            "Lowest error on Training Set = 0.5359634370803833\n",
            "Lowest error on Validation Set = 0.5398985111713409\n"
          ],
          "name": "stdout"
        },
        {
          "output_type": "display_data",
          "data": {
            "image/png": "[encoded data removed]",
            "text/plain": [
              "<Figure size 432x288 with 1 Axes>"
            ]
          },
          "metadata": {
            "tags": [],
            "needs_background": "light"
          }
        }
      ]
    },
    {
      "cell_type": "code",
      "metadata": {
        "id": "JrH8i4ciQOuk",
        "colab_type": "code",
        "colab": {}
      },
      "source": [
        "# The gap between the training error and validation error is slightly larger due to the increase in regularization.\n",
        "# In this case, there was no overfitting in the original model. \n",
        "# As a result, regularization increased the error rate on the training and validation dataset."
      ],
      "execution_count": 0,
      "outputs": []
    },
    {
      "cell_type": "markdown",
      "metadata": {
        "id": "zb_FDiAg_CMU",
        "colab_type": "text"
      },
      "source": [
        "## **Early Stopping**<br/>\n",
        "By monitoring the training process, we can train the model just enough for it to capture the form of the process, and we can stop the training right before it starts to overfit to individual data examples. This means forcing the Keras model to stop the training when a desired metric e.g. test error rate is not improving anymore."
      ]
    },
    {
      "cell_type": "code",
      "metadata": {
        "id": "yynONm5kRehf",
        "colab_type": "code",
        "outputId": "db3b7c9c-bfd9-4f70-a0d5-58a6e11c7bbf",
        "colab": {
          "base_uri": "https://localhost:8080/",
          "height": 444
        }
      },
      "source": [
        "# Recreate the base model\n",
        "model_2 = Sequential()\n",
        "model_2.add(Dense(18, input_dim=X_train.shape[1], activation='relu'))\n",
        "model_2.add(Dense(9, activation='relu'))\n",
        "model_2.add(Dense(1, activation='sigmoid'))\n",
        "\n",
        "# compile model 3\n",
        "model_2.compile(optimizer='sgd', loss='binary_crossentropy',metrics=['accuracy'])\n",
        "\n",
        "# train the model\n",
        "history=model_2.fit(X_train, y_train, batch_size=20, epochs=100, validation_data=(X_test, y_test), verbose=0, shuffle=False)\n",
        "\n",
        "# plot training error and test error\n",
        "matplotlib.rcParams['figure.figsize'] = (6.0, 6.0)\n",
        "plt.plot(history.history['loss'])\n",
        "plt.plot(history.history['val_loss'])\n",
        "plt.ylim(0,1)\n",
        "plt.ylabel('loss')\n",
        "plt.xlabel('epoch')\n",
        "plt.legend(['train loss', 'validation loss'], loc='upper right')\n",
        "\n",
        "print(\"Best Accuracy on Validation Set =\", max(history.history['val_accuracy']))\n",
        "print(\"Lowest error on Training Set =\", min(history.history['loss']))\n",
        "print(\"Lowest error on Validation Set =\", min(history.history['val_loss']))"
      ],
      "execution_count": 0,
      "outputs": [
        {
          "output_type": "stream",
          "text": [
            "Best Accuracy on Validation Set = 0.7160000205039978\n",
            "Lowest error on Training Set = 0.5199723019599914\n",
            "Lowest error on Validation Set = 0.5412468502521515\n"
          ],
          "name": "stdout"
        },
        {
          "output_type": "display_data",
          "data": {
            "image/png": "[encoded data removed]",
            "text/plain": [
              "<Figure size 432x432 with 1 Axes>"
            ]
          },
          "metadata": {
            "tags": [],
            "needs_background": "light"
          }
        }
      ]
    },
    {
      "cell_type": "code",
      "metadata": {
        "id": "o6r2SKSQCAAz",
        "colab_type": "code",
        "colab": {}
      },
      "source": [
        "# From the preceding plot, we can see that the training the model for 100 epochs results in a gap that\n",
        "# grows between the training error and validation error, which is indicative of overfitting beginning to happen."
      ],
      "execution_count": 0,
      "outputs": []
    },
    {
      "cell_type": "code",
      "metadata": {
        "id": "pYYBlEKaEBRK",
        "colab_type": "code",
        "outputId": "fed72298-30fb-407f-f30a-e7f91022eefe",
        "colab": {
          "base_uri": "https://localhost:8080/",
          "height": 444
        }
      },
      "source": [
        "# Redefining the model exactly the same way and adding a callback to the training process\n",
        "\n",
        "from keras.callbacks import EarlyStopping\n",
        "# Recreate the base model\n",
        "model_2 = Sequential()\n",
        "model_2.add(Dense(18, input_dim=X_train.shape[1], activation='relu'))\n",
        "model_2.add(Dense(9, activation='relu'))\n",
        "model_2.add(Dense(1, activation='sigmoid'))\n",
        "\n",
        "# compile model 3\n",
        "model_2.compile(optimizer='sgd', loss='binary_crossentropy',metrics=['accuracy'])\n",
        "\n",
        "# define early stopping callback\n",
        "# since the metric is error/loss, we would like to minimize it\n",
        "es_callback = EarlyStopping(monitor='val_loss', mode='min')\n",
        "\n",
        "# train the model\n",
        "history=model_2.fit(X_train, y_train, batch_size=20, epochs=100, validation_data=(X_test, y_test), callbacks=[es_callback], verbose=0, shuffle=False)\n",
        "\n",
        "# plot training error and test error\n",
        "matplotlib.rcParams['figure.figsize'] = (6.0, 6.0)\n",
        "plt.plot(history.history['loss'])\n",
        "plt.plot(history.history['val_loss'])\n",
        "plt.ylim(0,1)\n",
        "plt.ylabel('loss')\n",
        "plt.xlabel('epoch')\n",
        "plt.legend(['train loss', 'validation loss'], loc='upper right')\n",
        "\n",
        "print(\"Best Accuracy on Validation Set =\", max(history.history['val_accuracy']))\n",
        "print(\"Lowest error on Training Set =\", min(history.history['loss']))\n",
        "print(\"Lowest error on Validation Set =\", min(history.history['val_loss']))"
      ],
      "execution_count": 0,
      "outputs": [
        {
          "output_type": "stream",
          "text": [
            "Best Accuracy on Validation Set = 0.7148000001907349\n",
            "Lowest error on Training Set = 0.5297336949507395\n",
            "Lowest error on Validation Set = 0.5417783272266388\n"
          ],
          "name": "stdout"
        },
        {
          "output_type": "display_data",
          "data": {
            "image/png": "[encoded data removed]",
            "text/plain": [
              "<Figure size 432x432 with 1 Axes>"
            ]
          },
          "metadata": {
            "tags": [],
            "needs_background": "light"
          }
        }
      ]
    },
    {
      "cell_type": "code",
      "metadata": {
        "id": "7xqO3o8SG9m0",
        "colab_type": "code",
        "colab": {}
      },
      "source": [
        "# By adding the early stopping callback with patience=0 to the model, the training process automatically stops \n",
        "# after about 65 epochs.\n",
        "# If there are a lot of fluctuations or noise in the error rates, it is probably NOT a good idea to stop\n",
        "# the training immediately when the loss begins to increase. For this reason, we can set the patience argument\n",
        "# to a number  of epochs to give the early stopping method some time to monitor the desired metric for longer\n",
        "# before stopping the training process."
      ],
      "execution_count": 0,
      "outputs": []
    },
    {
      "cell_type": "code",
      "metadata": {
        "id": "_IhHzQIdHcIy",
        "colab_type": "code",
        "outputId": "74c23cef-35f7-4006-ed1c-64b8feaad792",
        "colab": {
          "base_uri": "https://localhost:8080/",
          "height": 444
        }
      },
      "source": [
        "# Redefining the model and adding a callback with patience=10 to the training process\n",
        "\n",
        "from keras.callbacks import EarlyStopping\n",
        "# Recreate the base model\n",
        "model_2 = Sequential()\n",
        "model_2.add(Dense(18, input_dim=X_train.shape[1], activation='relu'))\n",
        "model_2.add(Dense(9, activation='relu'))\n",
        "model_2.add(Dense(1, activation='sigmoid'))\n",
        "\n",
        "# compile model 3\n",
        "model_2.compile(optimizer='sgd', loss='binary_crossentropy',metrics=['accuracy'])\n",
        "\n",
        "# define early stopping callback\n",
        "# since the metric is error/loss, we would like to minimize it\n",
        "es_callback = EarlyStopping(monitor='val_loss', mode='min', patience=10)\n",
        "\n",
        "# train the model\n",
        "history=model_2.fit(X_train, y_train, batch_size=20, epochs=100, validation_data=(X_test, y_test), callbacks=[es_callback], verbose=0, shuffle=False)\n",
        "\n",
        "# plot training error and test error\n",
        "matplotlib.rcParams['figure.figsize'] = (6.0, 6.0)\n",
        "plt.plot(history.history['loss'])\n",
        "plt.plot(history.history['val_loss'])\n",
        "plt.ylim(0,1)\n",
        "plt.ylabel('loss')\n",
        "plt.xlabel('epoch')\n",
        "plt.legend(['train loss', 'validation loss'], loc='upper right')\n",
        "\n",
        "print(\"Best Accuracy on Validation Set =\", max(history.history['val_accuracy']))\n",
        "print(\"Lowest error on Training Set =\", min(history.history['loss']))\n",
        "print(\"Lowest error on Validation Set =\", min(history.history['val_loss']))"
      ],
      "execution_count": 0,
      "outputs": [
        {
          "output_type": "stream",
          "text": [
            "Best Accuracy on Validation Set = 0.7160000205039978\n",
            "Lowest error on Training Set = 0.5264881302515666\n",
            "Lowest error on Validation Set = 0.5446123509407044\n"
          ],
          "name": "stdout"
        },
        {
          "output_type": "display_data",
          "data": {
            "image/png": "[encoded data removed]",
            "text/plain": [
              "<Figure size 432x432 with 1 Axes>"
            ]
          },
          "metadata": {
            "tags": [],
            "needs_background": "light"
          }
        }
      ]
    },
    {
      "cell_type": "code",
      "metadata": {
        "id": "7BrlCi_FIy9g",
        "colab_type": "code",
        "colab": {}
      },
      "source": [
        "# By adding the early stopping callback with patience=10 to the model, the training process automatically stops\n",
        "# after about 85 epochs."
      ],
      "execution_count": 0,
      "outputs": []
    },
    {
      "cell_type": "markdown",
      "metadata": {
        "id": "Iki2HWmrOVY3",
        "colab_type": "text"
      },
      "source": [
        "##**Hyperparameter Tuning with scikit-learn**<br/>\n",
        "The process of training and evaluating models with different hyperparameters and deciding about the final hyperparameters based on model performance is called hyperparameter tuning or hyperparameter optimization."
      ]
    },
    {
      "cell_type": "code",
      "metadata": {
        "id": "03oC65ZrPGsY",
        "colab_type": "code",
        "colab": {}
      },
      "source": [
        "# Recreate the function that returns the keras model with regularization\n",
        "def build_model_2(lambda_parameter=lambda_parameter): \n",
        "  model_2 = Sequential()\n",
        "  model_2.add(Dense(18, input_dim=X_train.shape[1], activation='relu', kernel_regularizer=l2(lambda_parameter)))\n",
        "  model_2.add(Dense(9, activation='relu', kernel_regularizer=l2(lambda_parameter)))\n",
        "  model_2.add(Dense(1, activation='sigmoid'))\n",
        "  # compile model 3\n",
        "  model_2.compile(optimizer='sgd', loss='binary_crossentropy', metrics=['accuracy'])\n",
        "  \n",
        "  return model"
      ],
      "execution_count": 0,
      "outputs": []
    },
    {
      "cell_type": "code",
      "metadata": {
        "id": "M4Ov6YoNR06N",
        "colab_type": "code",
        "colab": {}
      },
      "source": [
        "# Set a seed, use a scikit-learn wrapper to wrap the model that we created in the previous step, and define\n",
        "# the hyperparameters to scan. Finally, perform GridSearchCV() on the model using the hyperparameter's grid\n",
        "# and fit the model\n",
        "\n",
        "from keras.wrappers.scikit_learn import KerasClassifier\n",
        "from sklearn.model_selection import GridSearchCV\n",
        "from keras.regularizers import l2\n",
        "# define a seed for random number generator so the result will be reproducible\n",
        "seed = 99\n",
        "np.random.seed(seed)\n",
        "random.set_seed(seed)\n",
        "\n",
        "# define all the possible values for each hyperparameter\n",
        "lambda_parameter = [0.01, 0.5, 1]\n",
        "epochs = [50, 100]\n",
        "batch_size = [20]\n",
        "\n",
        "# create the Keras wrapper with scikit learn\n",
        "model = KerasClassifier(build_fn=build_model_2, verbose=0, shuffle=False)\n",
        "\n",
        "print(model.loss)\n",
        "\n",
        "# create the dictionary containing all possible values of hyperparameters\n",
        "param_grid = dict(lambda_parameter=lambda_parameter, epochs=epochs, batch_size=batch_size)\n",
        "\n",
        "# perform 5-fold cross-validation for the model and store the results\n",
        "grid_search = GridSearchCV(estimator=model, param_grid=param_grid, n_jobs=-1, cv=5)\n",
        "\n",
        "results_1 = grid_search.fit(X_train, y_train)\n",
        "\n",
        "# Print the results for the best cross-valiation score that's stored within\n",
        "# the variable that was created in the fit process. Iterate through all the parameters\n",
        "# and print the mean of the accuracy across all the folds, the standard deviation\n",
        "# of the accuracy and the parameters themselves.\n",
        "\n",
        "print(\"Best cross-validation score =\", results_1.best_score_)\n",
        "print(\"Parameters for Best cross-validation score =\", results_1.best_params_)\n",
        "\n",
        "# print the results for all evaluated hyperparameter combinations\n",
        "accuracy_means = results_1.cv_results_['mean_test_score']\n",
        "accuracy_stds = results_1.cv_results_['std_test_score']\n",
        "parameters = results_1.cv_results_['params']\n",
        "\n",
        "for p in range(len(parameters)):\n",
        "  print(\"Accuracy %f (std %f) for params %r\" % (accuracy_means[p], accuracy_stds[p], parameters[p]))\n",
        "\n"
      ],
      "execution_count": 0,
      "outputs": []
    },
    {
      "cell_type": "code",
      "metadata": {
        "id": "lUwUz5C0lNvF",
        "colab_type": "code",
        "colab": {}
      },
      "source": [
        ""
      ],
      "execution_count": 0,
      "outputs": []
    }
  ]
}