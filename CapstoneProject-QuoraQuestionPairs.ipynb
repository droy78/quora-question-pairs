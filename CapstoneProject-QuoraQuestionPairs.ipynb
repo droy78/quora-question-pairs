{
  "nbformat": 4,
  "nbformat_minor": 0,
  "metadata": {
    "kernelspec": {
      "display_name": "Python 3",
      "language": "python",
      "name": "python3"
    },
    "language_info": {
      "codemirror_mode": {
        "name": "ipython",
        "version": 3
      },
      "file_extension": ".py",
      "mimetype": "text/x-python",
      "name": "python",
      "nbconvert_exporter": "python",
      "pygments_lexer": "ipython3",
      "version": "3.7.6"
    },
    "colab": {
      "name": "QuoraQuestionsV1.ipynb",
      "provenance": [],
      "collapsed_sections": []
    }
  },
  "cells": [
    {
      "cell_type": "markdown",
      "metadata": {
        "id": "mpply_LygY9e",
        "colab_type": "text"
      },
      "source": [
        "## Importing the Libraries and Data"
      ]
    },
    {
      "cell_type": "code",
      "metadata": {
        "id": "1jY6XBFpEcpR",
        "colab_type": "code",
        "colab": {}
      },
      "source": [
        "import numpy as np\n",
        "import pandas as pd\n",
        "import matplotlib.pyplot as plt\n",
        "\n",
        "import matplotlib\n",
        "%matplotlib inline"
      ],
      "execution_count": 0,
      "outputs": []
    },
    {
      "cell_type": "code",
      "metadata": {
        "id": "b8-GySt8E694",
        "colab_type": "code",
        "outputId": "758cfc44-5320-4c15-f1a3-deb931fe027d",
        "colab": {
          "base_uri": "https://localhost:8080/",
          "height": 34
        }
      },
      "source": [
        "from google.colab import drive\n",
        "drive.mount('/content/drive')"
      ],
      "execution_count": 358,
      "outputs": [
        {
          "output_type": "stream",
          "text": [
            "Drive already mounted at /content/drive; to attempt to forcibly remount, call drive.mount(\"/content/drive\", force_remount=True).\n"
          ],
          "name": "stdout"
        }
      ]
    },
    {
      "cell_type": "code",
      "metadata": {
        "id": "cnPJvtjfEcpV",
        "colab_type": "code",
        "colab": {}
      },
      "source": [
        "df = pd.read_csv(\"drive/My Drive/Colab Notebooks/CapstoneProject/train.csv\")"
      ],
      "execution_count": 0,
      "outputs": []
    },
    {
      "cell_type": "markdown",
      "metadata": {
        "id": "OFq-RBzYEcpY",
        "colab_type": "text"
      },
      "source": [
        "## Exploratory Data Analysis"
      ]
    },
    {
      "cell_type": "code",
      "metadata": {
        "id": "8oLJRmJqbC5C",
        "colab_type": "code",
        "outputId": "175b8c06-a358-40cf-cb75-a9fea16f4bf4",
        "colab": {
          "base_uri": "https://localhost:8080/",
          "height": 34
        }
      },
      "source": [
        "print(\"Number of data points:\",df.shape[0])"
      ],
      "execution_count": 360,
      "outputs": [
        {
          "output_type": "stream",
          "text": [
            "Number of data points: 404290\n"
          ],
          "name": "stdout"
        }
      ]
    },
    {
      "cell_type": "code",
      "metadata": {
        "id": "in5AFaxngbkk",
        "colab_type": "code",
        "outputId": "540f06c4-c538-4be4-caef-1df725997217",
        "colab": {
          "base_uri": "https://localhost:8080/",
          "height": 198
        }
      },
      "source": [
        "df.head()"
      ],
      "execution_count": 361,
      "outputs": [
        {
          "output_type": "execute_result",
          "data": {
            "text/html": [
              "<div>\n",
              "<style scoped>\n",
              "    .dataframe tbody tr th:only-of-type {\n",
              "        vertical-align: middle;\n",
              "    }\n",
              "\n",
              "    .dataframe tbody tr th {\n",
              "        vertical-align: top;\n",
              "    }\n",
              "\n",
              "    .dataframe thead th {\n",
              "        text-align: right;\n",
              "    }\n",
              "</style>\n",
              "<table border=\"1\" class=\"dataframe\">\n",
              "  <thead>\n",
              "    <tr style=\"text-align: right;\">\n",
              "      <th></th>\n",
              "      <th>id</th>\n",
              "      <th>qid1</th>\n",
              "      <th>qid2</th>\n",
              "      <th>question1</th>\n",
              "      <th>question2</th>\n",
              "      <th>is_duplicate</th>\n",
              "    </tr>\n",
              "  </thead>\n",
              "  <tbody>\n",
              "    <tr>\n",
              "      <th>0</th>\n",
              "      <td>0</td>\n",
              "      <td>1</td>\n",
              "      <td>2</td>\n",
              "      <td>What is the step by step guide to invest in sh...</td>\n",
              "      <td>What is the step by step guide to invest in sh...</td>\n",
              "      <td>0</td>\n",
              "    </tr>\n",
              "    <tr>\n",
              "      <th>1</th>\n",
              "      <td>1</td>\n",
              "      <td>3</td>\n",
              "      <td>4</td>\n",
              "      <td>What is the story of Kohinoor (Koh-i-Noor) Dia...</td>\n",
              "      <td>What would happen if the Indian government sto...</td>\n",
              "      <td>0</td>\n",
              "    </tr>\n",
              "    <tr>\n",
              "      <th>2</th>\n",
              "      <td>2</td>\n",
              "      <td>5</td>\n",
              "      <td>6</td>\n",
              "      <td>How can I increase the speed of my internet co...</td>\n",
              "      <td>How can Internet speed be increased by hacking...</td>\n",
              "      <td>0</td>\n",
              "    </tr>\n",
              "    <tr>\n",
              "      <th>3</th>\n",
              "      <td>3</td>\n",
              "      <td>7</td>\n",
              "      <td>8</td>\n",
              "      <td>Why am I mentally very lonely? How can I solve...</td>\n",
              "      <td>Find the remainder when [math]23^{24}[/math] i...</td>\n",
              "      <td>0</td>\n",
              "    </tr>\n",
              "    <tr>\n",
              "      <th>4</th>\n",
              "      <td>4</td>\n",
              "      <td>9</td>\n",
              "      <td>10</td>\n",
              "      <td>Which one dissolve in water quikly sugar, salt...</td>\n",
              "      <td>Which fish would survive in salt water?</td>\n",
              "      <td>0</td>\n",
              "    </tr>\n",
              "  </tbody>\n",
              "</table>\n",
              "</div>"
            ],
            "text/plain": [
              "   id  qid1  ...                                          question2 is_duplicate\n",
              "0   0     1  ...  What is the step by step guide to invest in sh...            0\n",
              "1   1     3  ...  What would happen if the Indian government sto...            0\n",
              "2   2     5  ...  How can Internet speed be increased by hacking...            0\n",
              "3   3     7  ...  Find the remainder when [math]23^{24}[/math] i...            0\n",
              "4   4     9  ...            Which fish would survive in salt water?            0\n",
              "\n",
              "[5 rows x 6 columns]"
            ]
          },
          "metadata": {
            "tags": []
          },
          "execution_count": 361
        }
      ]
    },
    {
      "cell_type": "code",
      "metadata": {
        "id": "MYglTHF0EcqL",
        "colab_type": "code",
        "outputId": "3bb4f562-6ea3-44c1-e919-0ea8919c73e8",
        "colab": {
          "base_uri": "https://localhost:8080/",
          "height": 242
        }
      },
      "source": [
        "df.info()"
      ],
      "execution_count": 362,
      "outputs": [
        {
          "output_type": "stream",
          "text": [
            "<class 'pandas.core.frame.DataFrame'>\n",
            "RangeIndex: 404290 entries, 0 to 404289\n",
            "Data columns (total 6 columns):\n",
            " #   Column        Non-Null Count   Dtype \n",
            "---  ------        --------------   ----- \n",
            " 0   id            404290 non-null  int64 \n",
            " 1   qid1          404290 non-null  int64 \n",
            " 2   qid2          404290 non-null  int64 \n",
            " 3   question1     404289 non-null  object\n",
            " 4   question2     404288 non-null  object\n",
            " 5   is_duplicate  404290 non-null  int64 \n",
            "dtypes: int64(4), object(2)\n",
            "memory usage: 18.5+ MB\n"
          ],
          "name": "stdout"
        }
      ]
    },
    {
      "cell_type": "code",
      "metadata": {
        "id": "4UXvgagchXcE",
        "colab_type": "code",
        "outputId": "7a1fa8c7-e396-4b52-cb3e-b458970ce8b9",
        "colab": {
          "base_uri": "https://localhost:8080/",
          "height": 78
        }
      },
      "source": [
        "#question1 has 1 null value \n",
        "#question2 has 2 null values\n",
        "#Let's locate which question1 has a null value\n",
        "df[df.question1.isnull()]"
      ],
      "execution_count": 363,
      "outputs": [
        {
          "output_type": "execute_result",
          "data": {
            "text/html": [
              "<div>\n",
              "<style scoped>\n",
              "    .dataframe tbody tr th:only-of-type {\n",
              "        vertical-align: middle;\n",
              "    }\n",
              "\n",
              "    .dataframe tbody tr th {\n",
              "        vertical-align: top;\n",
              "    }\n",
              "\n",
              "    .dataframe thead th {\n",
              "        text-align: right;\n",
              "    }\n",
              "</style>\n",
              "<table border=\"1\" class=\"dataframe\">\n",
              "  <thead>\n",
              "    <tr style=\"text-align: right;\">\n",
              "      <th></th>\n",
              "      <th>id</th>\n",
              "      <th>qid1</th>\n",
              "      <th>qid2</th>\n",
              "      <th>question1</th>\n",
              "      <th>question2</th>\n",
              "      <th>is_duplicate</th>\n",
              "    </tr>\n",
              "  </thead>\n",
              "  <tbody>\n",
              "    <tr>\n",
              "      <th>363362</th>\n",
              "      <td>363362</td>\n",
              "      <td>493340</td>\n",
              "      <td>493341</td>\n",
              "      <td>NaN</td>\n",
              "      <td>My Chinese name is Haichao Yu. What English na...</td>\n",
              "      <td>0</td>\n",
              "    </tr>\n",
              "  </tbody>\n",
              "</table>\n",
              "</div>"
            ],
            "text/plain": [
              "            id  ...  is_duplicate\n",
              "363362  363362  ...             0\n",
              "\n",
              "[1 rows x 6 columns]"
            ]
          },
          "metadata": {
            "tags": []
          },
          "execution_count": 363
        }
      ]
    },
    {
      "cell_type": "code",
      "metadata": {
        "id": "yvj7L6nRhjJL",
        "colab_type": "code",
        "outputId": "26b8c08d-eb07-44f4-fa01-ffeba515889b",
        "colab": {
          "base_uri": "https://localhost:8080/",
          "height": 78
        }
      },
      "source": [
        "#The Null question1 has an qid1 = 493340. \n",
        "#Let's check if there is an instance of qid = 493340 is present anywhere in the dataset with a valid question attached to it.\n",
        "df[(df.qid1 == 493340) | (df.qid2 == 493340)]"
      ],
      "execution_count": 364,
      "outputs": [
        {
          "output_type": "execute_result",
          "data": {
            "text/html": [
              "<div>\n",
              "<style scoped>\n",
              "    .dataframe tbody tr th:only-of-type {\n",
              "        vertical-align: middle;\n",
              "    }\n",
              "\n",
              "    .dataframe tbody tr th {\n",
              "        vertical-align: top;\n",
              "    }\n",
              "\n",
              "    .dataframe thead th {\n",
              "        text-align: right;\n",
              "    }\n",
              "</style>\n",
              "<table border=\"1\" class=\"dataframe\">\n",
              "  <thead>\n",
              "    <tr style=\"text-align: right;\">\n",
              "      <th></th>\n",
              "      <th>id</th>\n",
              "      <th>qid1</th>\n",
              "      <th>qid2</th>\n",
              "      <th>question1</th>\n",
              "      <th>question2</th>\n",
              "      <th>is_duplicate</th>\n",
              "    </tr>\n",
              "  </thead>\n",
              "  <tbody>\n",
              "    <tr>\n",
              "      <th>363362</th>\n",
              "      <td>363362</td>\n",
              "      <td>493340</td>\n",
              "      <td>493341</td>\n",
              "      <td>NaN</td>\n",
              "      <td>My Chinese name is Haichao Yu. What English na...</td>\n",
              "      <td>0</td>\n",
              "    </tr>\n",
              "  </tbody>\n",
              "</table>\n",
              "</div>"
            ],
            "text/plain": [
              "            id  ...  is_duplicate\n",
              "363362  363362  ...             0\n",
              "\n",
              "[1 rows x 6 columns]"
            ]
          },
          "metadata": {
            "tags": []
          },
          "execution_count": 364
        }
      ]
    },
    {
      "cell_type": "code",
      "metadata": {
        "id": "Bj8PvwVthwos",
        "colab_type": "code",
        "colab": {}
      },
      "source": [
        "#We cannot fill this null question1 with the correct question. It is better to delete the record."
      ],
      "execution_count": 0,
      "outputs": []
    },
    {
      "cell_type": "code",
      "metadata": {
        "id": "4ovma0pSiAnP",
        "colab_type": "code",
        "outputId": "5d21f518-3c1c-4d68-fcca-664fcde5f5f9",
        "colab": {
          "base_uri": "https://localhost:8080/",
          "height": 108
        }
      },
      "source": [
        "#Let's check how many records are there where question2 is null\n",
        "df[df.question2.isnull()]"
      ],
      "execution_count": 366,
      "outputs": [
        {
          "output_type": "execute_result",
          "data": {
            "text/html": [
              "<div>\n",
              "<style scoped>\n",
              "    .dataframe tbody tr th:only-of-type {\n",
              "        vertical-align: middle;\n",
              "    }\n",
              "\n",
              "    .dataframe tbody tr th {\n",
              "        vertical-align: top;\n",
              "    }\n",
              "\n",
              "    .dataframe thead th {\n",
              "        text-align: right;\n",
              "    }\n",
              "</style>\n",
              "<table border=\"1\" class=\"dataframe\">\n",
              "  <thead>\n",
              "    <tr style=\"text-align: right;\">\n",
              "      <th></th>\n",
              "      <th>id</th>\n",
              "      <th>qid1</th>\n",
              "      <th>qid2</th>\n",
              "      <th>question1</th>\n",
              "      <th>question2</th>\n",
              "      <th>is_duplicate</th>\n",
              "    </tr>\n",
              "  </thead>\n",
              "  <tbody>\n",
              "    <tr>\n",
              "      <th>105780</th>\n",
              "      <td>105780</td>\n",
              "      <td>174363</td>\n",
              "      <td>174364</td>\n",
              "      <td>How can I develop android app?</td>\n",
              "      <td>NaN</td>\n",
              "      <td>0</td>\n",
              "    </tr>\n",
              "    <tr>\n",
              "      <th>201841</th>\n",
              "      <td>201841</td>\n",
              "      <td>303951</td>\n",
              "      <td>174364</td>\n",
              "      <td>How can I create an Android app?</td>\n",
              "      <td>NaN</td>\n",
              "      <td>0</td>\n",
              "    </tr>\n",
              "  </tbody>\n",
              "</table>\n",
              "</div>"
            ],
            "text/plain": [
              "            id    qid1  ...  question2 is_duplicate\n",
              "105780  105780  174363  ...        NaN            0\n",
              "201841  201841  303951  ...        NaN            0\n",
              "\n",
              "[2 rows x 6 columns]"
            ]
          },
          "metadata": {
            "tags": []
          },
          "execution_count": 366
        }
      ]
    },
    {
      "cell_type": "code",
      "metadata": {
        "id": "tDDO1P8OiPHH",
        "colab_type": "code",
        "outputId": "e799644f-a963-4762-fbb0-aaa91b60e096",
        "colab": {
          "base_uri": "https://localhost:8080/",
          "height": 108
        }
      },
      "source": [
        "#The 2 instances of Null question2 have ids 174364. \n",
        "#Let's check if there is an instance of qid = 174364 is present anywhere in the dataset with a valid question attached to it.\n",
        "df[(df.qid1 == 174364) | (df.qid2 == 174364)]"
      ],
      "execution_count": 367,
      "outputs": [
        {
          "output_type": "execute_result",
          "data": {
            "text/html": [
              "<div>\n",
              "<style scoped>\n",
              "    .dataframe tbody tr th:only-of-type {\n",
              "        vertical-align: middle;\n",
              "    }\n",
              "\n",
              "    .dataframe tbody tr th {\n",
              "        vertical-align: top;\n",
              "    }\n",
              "\n",
              "    .dataframe thead th {\n",
              "        text-align: right;\n",
              "    }\n",
              "</style>\n",
              "<table border=\"1\" class=\"dataframe\">\n",
              "  <thead>\n",
              "    <tr style=\"text-align: right;\">\n",
              "      <th></th>\n",
              "      <th>id</th>\n",
              "      <th>qid1</th>\n",
              "      <th>qid2</th>\n",
              "      <th>question1</th>\n",
              "      <th>question2</th>\n",
              "      <th>is_duplicate</th>\n",
              "    </tr>\n",
              "  </thead>\n",
              "  <tbody>\n",
              "    <tr>\n",
              "      <th>105780</th>\n",
              "      <td>105780</td>\n",
              "      <td>174363</td>\n",
              "      <td>174364</td>\n",
              "      <td>How can I develop android app?</td>\n",
              "      <td>NaN</td>\n",
              "      <td>0</td>\n",
              "    </tr>\n",
              "    <tr>\n",
              "      <th>201841</th>\n",
              "      <td>201841</td>\n",
              "      <td>303951</td>\n",
              "      <td>174364</td>\n",
              "      <td>How can I create an Android app?</td>\n",
              "      <td>NaN</td>\n",
              "      <td>0</td>\n",
              "    </tr>\n",
              "  </tbody>\n",
              "</table>\n",
              "</div>"
            ],
            "text/plain": [
              "            id    qid1  ...  question2 is_duplicate\n",
              "105780  105780  174363  ...        NaN            0\n",
              "201841  201841  303951  ...        NaN            0\n",
              "\n",
              "[2 rows x 6 columns]"
            ]
          },
          "metadata": {
            "tags": []
          },
          "execution_count": 367
        }
      ]
    },
    {
      "cell_type": "code",
      "metadata": {
        "id": "XR2zaDLziZok",
        "colab_type": "code",
        "colab": {}
      },
      "source": [
        "#We cannot fill this null question1 with the correct question. It is better to delete the record."
      ],
      "execution_count": 0,
      "outputs": []
    },
    {
      "cell_type": "code",
      "metadata": {
        "id": "RpxcwmDoikec",
        "colab_type": "code",
        "colab": {}
      },
      "source": [
        "#Deleting records with null in qid1 or qid2\n",
        "df = df.dropna(subset=['question1','question2'])"
      ],
      "execution_count": 0,
      "outputs": []
    },
    {
      "cell_type": "code",
      "metadata": {
        "id": "25QHvSaHipgd",
        "colab_type": "code",
        "outputId": "f1e08971-1fa7-4e50-8d2a-81c54a49202b",
        "colab": {
          "base_uri": "https://localhost:8080/",
          "height": 48
        }
      },
      "source": [
        "#Verifying the deletes\n",
        "df[(df.question1.isnull()) | (df.question2.isnull())]"
      ],
      "execution_count": 370,
      "outputs": [
        {
          "output_type": "execute_result",
          "data": {
            "text/html": [
              "<div>\n",
              "<style scoped>\n",
              "    .dataframe tbody tr th:only-of-type {\n",
              "        vertical-align: middle;\n",
              "    }\n",
              "\n",
              "    .dataframe tbody tr th {\n",
              "        vertical-align: top;\n",
              "    }\n",
              "\n",
              "    .dataframe thead th {\n",
              "        text-align: right;\n",
              "    }\n",
              "</style>\n",
              "<table border=\"1\" class=\"dataframe\">\n",
              "  <thead>\n",
              "    <tr style=\"text-align: right;\">\n",
              "      <th></th>\n",
              "      <th>id</th>\n",
              "      <th>qid1</th>\n",
              "      <th>qid2</th>\n",
              "      <th>question1</th>\n",
              "      <th>question2</th>\n",
              "      <th>is_duplicate</th>\n",
              "    </tr>\n",
              "  </thead>\n",
              "  <tbody>\n",
              "  </tbody>\n",
              "</table>\n",
              "</div>"
            ],
            "text/plain": [
              "Empty DataFrame\n",
              "Columns: [id, qid1, qid2, question1, question2, is_duplicate]\n",
              "Index: []"
            ]
          },
          "metadata": {
            "tags": []
          },
          "execution_count": 370
        }
      ]
    },
    {
      "cell_type": "code",
      "metadata": {
        "id": "JNGQq5gvi368",
        "colab_type": "code",
        "outputId": "fb108530-194c-492c-beca-e65847dff344",
        "colab": {
          "base_uri": "https://localhost:8080/",
          "height": 48
        }
      },
      "source": [
        "#Let's check if there are any records where question1 == question2\n",
        "df[df.question1 == df.question2]"
      ],
      "execution_count": 371,
      "outputs": [
        {
          "output_type": "execute_result",
          "data": {
            "text/html": [
              "<div>\n",
              "<style scoped>\n",
              "    .dataframe tbody tr th:only-of-type {\n",
              "        vertical-align: middle;\n",
              "    }\n",
              "\n",
              "    .dataframe tbody tr th {\n",
              "        vertical-align: top;\n",
              "    }\n",
              "\n",
              "    .dataframe thead th {\n",
              "        text-align: right;\n",
              "    }\n",
              "</style>\n",
              "<table border=\"1\" class=\"dataframe\">\n",
              "  <thead>\n",
              "    <tr style=\"text-align: right;\">\n",
              "      <th></th>\n",
              "      <th>id</th>\n",
              "      <th>qid1</th>\n",
              "      <th>qid2</th>\n",
              "      <th>question1</th>\n",
              "      <th>question2</th>\n",
              "      <th>is_duplicate</th>\n",
              "    </tr>\n",
              "  </thead>\n",
              "  <tbody>\n",
              "  </tbody>\n",
              "</table>\n",
              "</div>"
            ],
            "text/plain": [
              "Empty DataFrame\n",
              "Columns: [id, qid1, qid2, question1, question2, is_duplicate]\n",
              "Index: []"
            ]
          },
          "metadata": {
            "tags": []
          },
          "execution_count": 371
        }
      ]
    },
    {
      "cell_type": "code",
      "metadata": {
        "id": "-Rq6Woz_jFGe",
        "colab_type": "code",
        "outputId": "7c257d4b-2ed6-4300-a517-977bd73c7061",
        "colab": {
          "base_uri": "https://localhost:8080/",
          "height": 34
        }
      },
      "source": [
        "#Let's check if a qid1, qid2 pair is repeated more than once\n",
        "pair_count = df.groupby(['qid1','qid2']).size()\n",
        "pair_count[pair_count > 1]"
      ],
      "execution_count": 372,
      "outputs": [
        {
          "output_type": "execute_result",
          "data": {
            "text/plain": [
              "Series([], dtype: int64)"
            ]
          },
          "metadata": {
            "tags": []
          },
          "execution_count": 372
        }
      ]
    },
    {
      "cell_type": "code",
      "metadata": {
        "id": "_oNXCJ0wjLVY",
        "colab_type": "code",
        "outputId": "4d38d8fd-bd52-447f-f52b-5647d7d3afb2",
        "colab": {
          "base_uri": "https://localhost:8080/",
          "height": 34
        }
      },
      "source": [
        "#The above code will not capture the scenario if qid1 and qid2 are interchanged. \n",
        "#Let's see if there cases such as qid1=N1/qid2=N2 and qid1=N2/qid2=N1.\n",
        "list_of_qids_1_2 = (df['qid1'].astype(str) + '-' + df['qid2'].astype(str)).tolist() \n",
        "list_of_qids_2_1 = (df['qid2'].astype(str) + '-' + df['qid1'].astype(str)).tolist()\n",
        "combined_list = pd.Series(list_of_qids_1_2 + list_of_qids_2_1)\n",
        "result = combined_list.duplicated()\n",
        "result[result == True]"
      ],
      "execution_count": 373,
      "outputs": [
        {
          "output_type": "execute_result",
          "data": {
            "text/plain": [
              "Series([], dtype: bool)"
            ]
          },
          "metadata": {
            "tags": []
          },
          "execution_count": 373
        }
      ]
    },
    {
      "cell_type": "code",
      "metadata": {
        "id": "Rw3k1BN_jT8C",
        "colab_type": "code",
        "outputId": "32174071-d0d4-4d3b-be1e-93312ae6d0b7",
        "colab": {
          "base_uri": "https://localhost:8080/",
          "height": 34
        }
      },
      "source": [
        "#Let's check how many unique instances of qid1 are there.\n",
        "len(df.qid1.unique())"
      ],
      "execution_count": 374,
      "outputs": [
        {
          "output_type": "execute_result",
          "data": {
            "text/plain": [
              "290652"
            ]
          },
          "metadata": {
            "tags": []
          },
          "execution_count": 374
        }
      ]
    },
    {
      "cell_type": "code",
      "metadata": {
        "id": "EHxW1_2mjZPj",
        "colab_type": "code",
        "outputId": "c8d39b19-45ab-48be-827e-913ece915e06",
        "colab": {
          "base_uri": "https://localhost:8080/",
          "height": 34
        }
      },
      "source": [
        "#Let's check how many unique instances of qid2 are there.\n",
        "len(df.qid2.unique())"
      ],
      "execution_count": 375,
      "outputs": [
        {
          "output_type": "execute_result",
          "data": {
            "text/plain": [
              "299362"
            ]
          },
          "metadata": {
            "tags": []
          },
          "execution_count": 375
        }
      ]
    },
    {
      "cell_type": "code",
      "metadata": {
        "id": "dPhyKvMWje0x",
        "colab_type": "code",
        "colab": {}
      },
      "source": [
        "#Based on the above queries, a question might be repeated in more than one pair."
      ],
      "execution_count": 0,
      "outputs": []
    },
    {
      "cell_type": "code",
      "metadata": {
        "id": "iDJ4wyIMji9U",
        "colab_type": "code",
        "outputId": "15e0e5be-0550-44b0-afd3-d782f1f14e2e",
        "colab": {
          "base_uri": "https://localhost:8080/",
          "height": 294
        }
      },
      "source": [
        "#Graph of duplicates vs non-duplicates\n",
        "df.groupby(\"is_duplicate\")['id'].count().plot.bar()"
      ],
      "execution_count": 377,
      "outputs": [
        {
          "output_type": "execute_result",
          "data": {
            "text/plain": [
              "<matplotlib.axes._subplots.AxesSubplot at 0x7f1618cb5f60>"
            ]
          },
          "metadata": {
            "tags": []
          },
          "execution_count": 377
        },
        {
          "output_type": "display_data",
          "data": {
            "image/png": "[encoded data removed]",
            "text/plain": [
              "<Figure size 432x288 with 1 Axes>"
            ]
          },
          "metadata": {
            "tags": [],
            "needs_background": "light"
          }
        }
      ]
    },
    {
      "cell_type": "code",
      "metadata": {
        "id": "lzeXP2SXh_ax",
        "colab_type": "code",
        "colab": {
          "base_uri": "https://localhost:8080/",
          "height": 86
        },
        "outputId": "06e95ed3-477e-4b6c-fd0b-2f7e6c3ec84e"
      },
      "source": [
        "#Average number of words per question\n",
        "print('Mean question1 : ', df['question1'].str.split().apply(len).mean(), ' words')\n",
        "print('Median question1 : ', df['question1'].str.split().apply(len).median(), ' words')\n",
        "print('Mean question1 : ', df['question1'].str.split().apply(len).mean(), ' words')\n",
        "print('Median question1 : ', df['question1'].str.split().apply(len).median(), ' words')"
      ],
      "execution_count": 378,
      "outputs": [
        {
          "output_type": "stream",
          "text": [
            "Mean question1 :  10.942256367382576  words\n",
            "Median question1 :  10.0  words\n",
            "Mean question1 :  10.942256367382576  words\n",
            "Median question1 :  10.0  words\n"
          ],
          "name": "stdout"
        }
      ]
    },
    {
      "cell_type": "code",
      "metadata": {
        "id": "wxv-h6H5EcqG",
        "colab_type": "code",
        "colab": {
          "base_uri": "https://localhost:8080/",
          "height": 104
        },
        "outputId": "36ebe34b-37a6-456d-bd20-dfc51df53cad"
      },
      "source": [
        "print('Not Duplicate Question Pairs (is_duplicate = 0):\\n   {}%'.format(100 - round(df['is_duplicate'].mean()*100, 2)))\n",
        "print('\\nDuplicate Question Pairs (is_duplicate = 1):\\n   {}%'.format(round(df['is_duplicate'].mean()*100, 2)))"
      ],
      "execution_count": 379,
      "outputs": [
        {
          "output_type": "stream",
          "text": [
            "Not Duplicate Question Pairs (is_duplicate = 0):\n",
            "   63.08%\n",
            "\n",
            "Duplicate Question Pairs (is_duplicate = 1):\n",
            "   36.92%\n"
          ],
          "name": "stdout"
        }
      ]
    },
    {
      "cell_type": "code",
      "metadata": {
        "id": "Kqo_270IEcqK",
        "colab_type": "code",
        "colab": {}
      },
      "source": [
        "df_not_duplicate = df[df.is_duplicate == 0].sample(n = 5000)\n",
        "df_duplicate = df[df.is_duplicate == 1].sample(n = 5000)\n",
        "df = df_not_duplicate.append(df_duplicate)"
      ],
      "execution_count": 0,
      "outputs": []
    },
    {
      "cell_type": "code",
      "metadata": {
        "id": "_p82RiOU3Kr2",
        "colab_type": "code",
        "outputId": "dc6d05d6-e714-4be1-d301-47946f01c402",
        "colab": {
          "base_uri": "https://localhost:8080/",
          "height": 198
        }
      },
      "source": [
        "df.head()"
      ],
      "execution_count": 381,
      "outputs": [
        {
          "output_type": "execute_result",
          "data": {
            "text/html": [
              "<div>\n",
              "<style scoped>\n",
              "    .dataframe tbody tr th:only-of-type {\n",
              "        vertical-align: middle;\n",
              "    }\n",
              "\n",
              "    .dataframe tbody tr th {\n",
              "        vertical-align: top;\n",
              "    }\n",
              "\n",
              "    .dataframe thead th {\n",
              "        text-align: right;\n",
              "    }\n",
              "</style>\n",
              "<table border=\"1\" class=\"dataframe\">\n",
              "  <thead>\n",
              "    <tr style=\"text-align: right;\">\n",
              "      <th></th>\n",
              "      <th>id</th>\n",
              "      <th>qid1</th>\n",
              "      <th>qid2</th>\n",
              "      <th>question1</th>\n",
              "      <th>question2</th>\n",
              "      <th>is_duplicate</th>\n",
              "    </tr>\n",
              "  </thead>\n",
              "  <tbody>\n",
              "    <tr>\n",
              "      <th>314890</th>\n",
              "      <td>314890</td>\n",
              "      <td>439709</td>\n",
              "      <td>439710</td>\n",
              "      <td>What are some similar websites to ontwik.com?</td>\n",
              "      <td>What are the similar websites like Latestone.c...</td>\n",
              "      <td>0</td>\n",
              "    </tr>\n",
              "    <tr>\n",
              "      <th>26767</th>\n",
              "      <td>26767</td>\n",
              "      <td>49769</td>\n",
              "      <td>49770</td>\n",
              "      <td>What would you call someone that believes in G...</td>\n",
              "      <td>What do we call a religion which does not beli...</td>\n",
              "      <td>0</td>\n",
              "    </tr>\n",
              "    <tr>\n",
              "      <th>90052</th>\n",
              "      <td>90052</td>\n",
              "      <td>151179</td>\n",
              "      <td>151180</td>\n",
              "      <td>Why is 1 neither prime nor composite?</td>\n",
              "      <td>What are prime and composite numbers?</td>\n",
              "      <td>0</td>\n",
              "    </tr>\n",
              "    <tr>\n",
              "      <th>330838</th>\n",
              "      <td>330838</td>\n",
              "      <td>457637</td>\n",
              "      <td>457638</td>\n",
              "      <td>In my lab they have put 3 security cameras. So...</td>\n",
              "      <td>What is a way to gauge the quality of a movie ...</td>\n",
              "      <td>0</td>\n",
              "    </tr>\n",
              "    <tr>\n",
              "      <th>67018</th>\n",
              "      <td>67018</td>\n",
              "      <td>116059</td>\n",
              "      <td>80852</td>\n",
              "      <td>I caught my husband lying. He almost cheated o...</td>\n",
              "      <td>How do you cope with a lying cheating husband?</td>\n",
              "      <td>0</td>\n",
              "    </tr>\n",
              "  </tbody>\n",
              "</table>\n",
              "</div>"
            ],
            "text/plain": [
              "            id  ...  is_duplicate\n",
              "314890  314890  ...             0\n",
              "26767    26767  ...             0\n",
              "90052    90052  ...             0\n",
              "330838  330838  ...             0\n",
              "67018    67018  ...             0\n",
              "\n",
              "[5 rows x 6 columns]"
            ]
          },
          "metadata": {
            "tags": []
          },
          "execution_count": 381
        }
      ]
    },
    {
      "cell_type": "code",
      "metadata": {
        "id": "0oteZv8L163D",
        "colab_type": "code",
        "outputId": "3f029d94-0e4e-4f9c-9bf6-84652956c38f",
        "colab": {
          "base_uri": "https://localhost:8080/",
          "height": 104
        }
      },
      "source": [
        "print('Not Duplicate Question Pairs (is_duplicate = 0):\\n   {}%'.format(100 - round(df['is_duplicate'].mean()*100, 2)))\n",
        "print('\\nDuplicate Question Pairs (is_duplicate = 1):\\n   {}%'.format(round(df['is_duplicate'].mean()*100, 2)))"
      ],
      "execution_count": 382,
      "outputs": [
        {
          "output_type": "stream",
          "text": [
            "Not Duplicate Question Pairs (is_duplicate = 0):\n",
            "   50.0%\n",
            "\n",
            "Duplicate Question Pairs (is_duplicate = 1):\n",
            "   50.0%\n"
          ],
          "name": "stdout"
        }
      ]
    },
    {
      "cell_type": "markdown",
      "metadata": {
        "id": "12Wk9qmUEcqJ",
        "colab_type": "text"
      },
      "source": [
        "## Processing Text Data"
      ]
    },
    {
      "cell_type": "code",
      "metadata": {
        "id": "o_OB1SGTEcpv",
        "colab_type": "code",
        "colab": {}
      },
      "source": [
        "#Deleting records with null in qid1 or qid2\n",
        "df = df.dropna(subset=['question1','question2'])"
      ],
      "execution_count": 0,
      "outputs": []
    },
    {
      "cell_type": "code",
      "metadata": {
        "id": "-O1iUyQMEcqO",
        "colab_type": "code",
        "outputId": "f1e10df4-4b1d-4fe8-89af-9ac720572097",
        "colab": {
          "base_uri": "https://localhost:8080/",
          "height": 198
        }
      },
      "source": [
        "#Convert question1 and question2 to lower case\n",
        "df['question1'] = df['question1'].str.lower()\n",
        "df['question2'] = df['question2'].str.lower()\n",
        "df.head()"
      ],
      "execution_count": 384,
      "outputs": [
        {
          "output_type": "execute_result",
          "data": {
            "text/html": [
              "<div>\n",
              "<style scoped>\n",
              "    .dataframe tbody tr th:only-of-type {\n",
              "        vertical-align: middle;\n",
              "    }\n",
              "\n",
              "    .dataframe tbody tr th {\n",
              "        vertical-align: top;\n",
              "    }\n",
              "\n",
              "    .dataframe thead th {\n",
              "        text-align: right;\n",
              "    }\n",
              "</style>\n",
              "<table border=\"1\" class=\"dataframe\">\n",
              "  <thead>\n",
              "    <tr style=\"text-align: right;\">\n",
              "      <th></th>\n",
              "      <th>id</th>\n",
              "      <th>qid1</th>\n",
              "      <th>qid2</th>\n",
              "      <th>question1</th>\n",
              "      <th>question2</th>\n",
              "      <th>is_duplicate</th>\n",
              "    </tr>\n",
              "  </thead>\n",
              "  <tbody>\n",
              "    <tr>\n",
              "      <th>314890</th>\n",
              "      <td>314890</td>\n",
              "      <td>439709</td>\n",
              "      <td>439710</td>\n",
              "      <td>what are some similar websites to ontwik.com?</td>\n",
              "      <td>what are the similar websites like latestone.c...</td>\n",
              "      <td>0</td>\n",
              "    </tr>\n",
              "    <tr>\n",
              "      <th>26767</th>\n",
              "      <td>26767</td>\n",
              "      <td>49769</td>\n",
              "      <td>49770</td>\n",
              "      <td>what would you call someone that believes in g...</td>\n",
              "      <td>what do we call a religion which does not beli...</td>\n",
              "      <td>0</td>\n",
              "    </tr>\n",
              "    <tr>\n",
              "      <th>90052</th>\n",
              "      <td>90052</td>\n",
              "      <td>151179</td>\n",
              "      <td>151180</td>\n",
              "      <td>why is 1 neither prime nor composite?</td>\n",
              "      <td>what are prime and composite numbers?</td>\n",
              "      <td>0</td>\n",
              "    </tr>\n",
              "    <tr>\n",
              "      <th>330838</th>\n",
              "      <td>330838</td>\n",
              "      <td>457637</td>\n",
              "      <td>457638</td>\n",
              "      <td>in my lab they have put 3 security cameras. so...</td>\n",
              "      <td>what is a way to gauge the quality of a movie ...</td>\n",
              "      <td>0</td>\n",
              "    </tr>\n",
              "    <tr>\n",
              "      <th>67018</th>\n",
              "      <td>67018</td>\n",
              "      <td>116059</td>\n",
              "      <td>80852</td>\n",
              "      <td>i caught my husband lying. he almost cheated o...</td>\n",
              "      <td>how do you cope with a lying cheating husband?</td>\n",
              "      <td>0</td>\n",
              "    </tr>\n",
              "  </tbody>\n",
              "</table>\n",
              "</div>"
            ],
            "text/plain": [
              "            id  ...  is_duplicate\n",
              "314890  314890  ...             0\n",
              "26767    26767  ...             0\n",
              "90052    90052  ...             0\n",
              "330838  330838  ...             0\n",
              "67018    67018  ...             0\n",
              "\n",
              "[5 rows x 6 columns]"
            ]
          },
          "metadata": {
            "tags": []
          },
          "execution_count": 384
        }
      ]
    },
    {
      "cell_type": "code",
      "metadata": {
        "id": "hvFWe9eZEcqR",
        "colab_type": "code",
        "outputId": "96495241-c19b-418c-935a-d131ba9765d9",
        "colab": {
          "base_uri": "https://localhost:8080/",
          "height": 198
        }
      },
      "source": [
        "#Remove punctuation\n",
        "df['question1'] = df['question1'].str.replace(r'[^\\w\\s]+', '')\n",
        "df['question2'] = df['question2'].str.replace(r'[^\\w\\s]+', '')\n",
        "df.head()"
      ],
      "execution_count": 385,
      "outputs": [
        {
          "output_type": "execute_result",
          "data": {
            "text/html": [
              "<div>\n",
              "<style scoped>\n",
              "    .dataframe tbody tr th:only-of-type {\n",
              "        vertical-align: middle;\n",
              "    }\n",
              "\n",
              "    .dataframe tbody tr th {\n",
              "        vertical-align: top;\n",
              "    }\n",
              "\n",
              "    .dataframe thead th {\n",
              "        text-align: right;\n",
              "    }\n",
              "</style>\n",
              "<table border=\"1\" class=\"dataframe\">\n",
              "  <thead>\n",
              "    <tr style=\"text-align: right;\">\n",
              "      <th></th>\n",
              "      <th>id</th>\n",
              "      <th>qid1</th>\n",
              "      <th>qid2</th>\n",
              "      <th>question1</th>\n",
              "      <th>question2</th>\n",
              "      <th>is_duplicate</th>\n",
              "    </tr>\n",
              "  </thead>\n",
              "  <tbody>\n",
              "    <tr>\n",
              "      <th>314890</th>\n",
              "      <td>314890</td>\n",
              "      <td>439709</td>\n",
              "      <td>439710</td>\n",
              "      <td>what are some similar websites to ontwikcom</td>\n",
              "      <td>what are the similar websites like latestoneco...</td>\n",
              "      <td>0</td>\n",
              "    </tr>\n",
              "    <tr>\n",
              "      <th>26767</th>\n",
              "      <td>26767</td>\n",
              "      <td>49769</td>\n",
              "      <td>49770</td>\n",
              "      <td>what would you call someone that believes in g...</td>\n",
              "      <td>what do we call a religion which does not beli...</td>\n",
              "      <td>0</td>\n",
              "    </tr>\n",
              "    <tr>\n",
              "      <th>90052</th>\n",
              "      <td>90052</td>\n",
              "      <td>151179</td>\n",
              "      <td>151180</td>\n",
              "      <td>why is 1 neither prime nor composite</td>\n",
              "      <td>what are prime and composite numbers</td>\n",
              "      <td>0</td>\n",
              "    </tr>\n",
              "    <tr>\n",
              "      <th>330838</th>\n",
              "      <td>330838</td>\n",
              "      <td>457637</td>\n",
              "      <td>457638</td>\n",
              "      <td>in my lab they have put 3 security cameras so ...</td>\n",
              "      <td>what is a way to gauge the quality of a movie ...</td>\n",
              "      <td>0</td>\n",
              "    </tr>\n",
              "    <tr>\n",
              "      <th>67018</th>\n",
              "      <td>67018</td>\n",
              "      <td>116059</td>\n",
              "      <td>80852</td>\n",
              "      <td>i caught my husband lying he almost cheated on...</td>\n",
              "      <td>how do you cope with a lying cheating husband</td>\n",
              "      <td>0</td>\n",
              "    </tr>\n",
              "  </tbody>\n",
              "</table>\n",
              "</div>"
            ],
            "text/plain": [
              "            id  ...  is_duplicate\n",
              "314890  314890  ...             0\n",
              "26767    26767  ...             0\n",
              "90052    90052  ...             0\n",
              "330838  330838  ...             0\n",
              "67018    67018  ...             0\n",
              "\n",
              "[5 rows x 6 columns]"
            ]
          },
          "metadata": {
            "tags": []
          },
          "execution_count": 385
        }
      ]
    },
    {
      "cell_type": "code",
      "metadata": {
        "id": "k1Qiern_5nIT",
        "colab_type": "code",
        "colab": {}
      },
      "source": [
        "#Word Replacements\n",
        "def word_replace(x):\n",
        "  x = x.replace(\",000,000\", \"m\").replace(\",000\", \"k\").replace(\"′\", \"'\").replace(\"’\", \"'\")\\\n",
        "                            .replace(\"won't\", \"will not\").replace(\"cannot\", \"can not\").replace(\"can't\", \"can not\")\\\n",
        "                            .replace(\"n't\", \" not\").replace(\"what's\", \"what is\").replace(\"it's\", \"it is\")\\\n",
        "                            .replace(\"'ve\", \" have\").replace(\"i'm\", \"i am\").replace(\"'re\", \" are\")\\\n",
        "                            .replace(\"he's\", \"he is\").replace(\"she's\", \"she is\").replace(\"'s\", \" own\")\\\n",
        "                            .replace(\"%\", \" percent \").replace(\"₹\", \" rupee \").replace(\"$\", \" dollar \")\\\n",
        "                            .replace(\"€\", \" euro \").replace(\"'ll\", \" will\")\n",
        "  return x\n",
        "\n",
        "df[\"question1\"] = df[\"question1\"].fillna(\"\").apply(word_replace)\n",
        "df[\"question2\"] = df[\"question2\"].fillna(\"\").apply(word_replace)"
      ],
      "execution_count": 0,
      "outputs": []
    },
    {
      "cell_type": "code",
      "metadata": {
        "id": "9K6boM8BYlRT",
        "colab_type": "code",
        "outputId": "45347444-6c73-4f2b-8f45-b85450795435",
        "colab": {
          "base_uri": "https://localhost:8080/",
          "height": 198
        }
      },
      "source": [
        "#Lemmatization\n",
        "df['question1'] = df['question1'].apply(lambda x : \" \".join([Word(word).lemmatize() for word in x.split()]))\n",
        "df['question2'] = df['question2'].apply(lambda x : \" \".join([Word(word).lemmatize() for word in x.split()]))\n",
        "df.head()"
      ],
      "execution_count": 387,
      "outputs": [
        {
          "output_type": "execute_result",
          "data": {
            "text/html": [
              "<div>\n",
              "<style scoped>\n",
              "    .dataframe tbody tr th:only-of-type {\n",
              "        vertical-align: middle;\n",
              "    }\n",
              "\n",
              "    .dataframe tbody tr th {\n",
              "        vertical-align: top;\n",
              "    }\n",
              "\n",
              "    .dataframe thead th {\n",
              "        text-align: right;\n",
              "    }\n",
              "</style>\n",
              "<table border=\"1\" class=\"dataframe\">\n",
              "  <thead>\n",
              "    <tr style=\"text-align: right;\">\n",
              "      <th></th>\n",
              "      <th>id</th>\n",
              "      <th>qid1</th>\n",
              "      <th>qid2</th>\n",
              "      <th>question1</th>\n",
              "      <th>question2</th>\n",
              "      <th>is_duplicate</th>\n",
              "    </tr>\n",
              "  </thead>\n",
              "  <tbody>\n",
              "    <tr>\n",
              "      <th>314890</th>\n",
              "      <td>314890</td>\n",
              "      <td>439709</td>\n",
              "      <td>439710</td>\n",
              "      <td>what are some similar website to ontwikcom</td>\n",
              "      <td>what are the similar website like latestonecom...</td>\n",
              "      <td>0</td>\n",
              "    </tr>\n",
              "    <tr>\n",
              "      <th>26767</th>\n",
              "      <td>26767</td>\n",
              "      <td>49769</td>\n",
              "      <td>49770</td>\n",
              "      <td>what would you call someone that belief in god...</td>\n",
              "      <td>what do we call a religion which doe not belie...</td>\n",
              "      <td>0</td>\n",
              "    </tr>\n",
              "    <tr>\n",
              "      <th>90052</th>\n",
              "      <td>90052</td>\n",
              "      <td>151179</td>\n",
              "      <td>151180</td>\n",
              "      <td>why is 1 neither prime nor composite</td>\n",
              "      <td>what are prime and composite number</td>\n",
              "      <td>0</td>\n",
              "    </tr>\n",
              "    <tr>\n",
              "      <th>330838</th>\n",
              "      <td>330838</td>\n",
              "      <td>457637</td>\n",
              "      <td>457638</td>\n",
              "      <td>in my lab they have put 3 security camera so t...</td>\n",
              "      <td>what is a way to gauge the quality of a movie ...</td>\n",
              "      <td>0</td>\n",
              "    </tr>\n",
              "    <tr>\n",
              "      <th>67018</th>\n",
              "      <td>67018</td>\n",
              "      <td>116059</td>\n",
              "      <td>80852</td>\n",
              "      <td>i caught my husband lying he almost cheated on...</td>\n",
              "      <td>how do you cope with a lying cheating husband</td>\n",
              "      <td>0</td>\n",
              "    </tr>\n",
              "  </tbody>\n",
              "</table>\n",
              "</div>"
            ],
            "text/plain": [
              "            id  ...  is_duplicate\n",
              "314890  314890  ...             0\n",
              "26767    26767  ...             0\n",
              "90052    90052  ...             0\n",
              "330838  330838  ...             0\n",
              "67018    67018  ...             0\n",
              "\n",
              "[5 rows x 6 columns]"
            ]
          },
          "metadata": {
            "tags": []
          },
          "execution_count": 387
        }
      ]
    },
    {
      "cell_type": "markdown",
      "metadata": {
        "id": "IZX4TNmkEcqZ",
        "colab_type": "text"
      },
      "source": [
        "## Feature Extraction"
      ]
    },
    {
      "cell_type": "code",
      "metadata": {
        "id": "sMFpQV11Ecqc",
        "colab_type": "code",
        "colab": {}
      },
      "source": [
        "#Words difference q1, q2\n",
        "df['words_diff_q1_q2'] = abs(df['question1'].apply(lambda row: len(row.split(\" \"))) - df['question2'].apply(lambda row: len(row.split(\" \"))))"
      ],
      "execution_count": 0,
      "outputs": []
    },
    {
      "cell_type": "code",
      "metadata": {
        "id": "Wkzkue37Ecqe",
        "colab_type": "code",
        "colab": {}
      },
      "source": [
        "#Number of common unique words in Question 1 and Question 2\n",
        "def normalized_word_Common(row):\n",
        "    w1 = set(map(lambda word: word.lower().strip(), row['question1'].split(\" \")))\n",
        "    w2 = set(map(lambda word: word.lower().strip(), row['question2'].split(\" \")))    \n",
        "    return 1.0 * len(w1 & w2)\n",
        "    \n",
        "df['word_Common'] = df.apply(normalized_word_Common, axis=1)"
      ],
      "execution_count": 0,
      "outputs": []
    },
    {
      "cell_type": "code",
      "metadata": {
        "id": "KVpjUJgWEcqg",
        "colab_type": "code",
        "colab": {}
      },
      "source": [
        "#Total num of words in Question 1 + Total num of words in Question 2\n",
        "def normalized_word_Total(row):\n",
        "        w1 = set(map(lambda word: word.lower().strip(), row['question1'].split(\" \")))\n",
        "        w2 = set(map(lambda word: word.lower().strip(), row['question2'].split(\" \")))    \n",
        "        return 1.0 * (len(w1) + len(w2))\n",
        "    \n",
        "df['word_Total'] = df.apply(normalized_word_Total, axis=1)    "
      ],
      "execution_count": 0,
      "outputs": []
    },
    {
      "cell_type": "code",
      "metadata": {
        "id": "qMMDIvSHEcqi",
        "colab_type": "code",
        "colab": {}
      },
      "source": [
        "#word_share = (word_common)/(word_Total)\n",
        "def normalized_word_share(row):\n",
        "        w1 = set(map(lambda word: word.lower().strip(), row['question1'].split(\" \")))\n",
        "        w2 = set(map(lambda word: word.lower().strip(), row['question2'].split(\" \")))    \n",
        "        return 1.0 * len(w1 & w2)/(len(w1) + len(w2))\n",
        "df['word_share'] = df.apply(normalized_word_share, axis=1)"
      ],
      "execution_count": 0,
      "outputs": []
    },
    {
      "cell_type": "code",
      "metadata": {
        "id": "PujmIf9f_0dW",
        "colab_type": "code",
        "colab": {}
      },
      "source": [
        "#Distance computations\n",
        "from scipy.spatial.distance import cosine, cityblock, jaccard, canberra, euclidean, minkowski, braycurtis\n",
        "\n",
        "def convert(lst): \n",
        "    return (lst[0].split())\n",
        "\n",
        "from keras.preprocessing.sequence import pad_sequences\n",
        "from keras.preprocessing.text import Tokenizer\n",
        "\n",
        "q1_q2_vectors = {}\n",
        "\n",
        "def get_q1_q2_vectors(row):\n",
        "\n",
        "      if row['id'] not in q1_q2_vectors:\n",
        "          \n",
        "          vocab = set()\n",
        "          \n",
        "          q1_list = []\n",
        "          # print(type(q1_list))\n",
        "          q1_list.append(row['question1'].replace(\"\\n\", \" \"))          \n",
        "          vocab = vocab.union(set(convert(q1_list)))\n",
        "\n",
        "          q2_list = []\n",
        "          q2_list.append(row['question2'].replace(\"\\n\", \" \"))\n",
        "          vocab = vocab.union(set(convert(q2_list)))          \n",
        "\n",
        "          # integer encode sequences of words\n",
        "          tokenizer = Tokenizer(filters=[])\n",
        "          tokenizer.fit_on_texts(vocab)\n",
        "\n",
        "          q1_seq = tokenizer.texts_to_sequences(q1_list)\n",
        "          q2_seq = tokenizer.texts_to_sequences(q2_list)\n",
        "\n",
        "          PAD_LENGTH = len(q1_seq[0]) + len(q2_seq[0])\n",
        "          q1_seq_padded = pad_sequences(q1_seq, maxlen=PAD_LENGTH)\n",
        "          q2_seq_padded = pad_sequences(q2_seq, maxlen=PAD_LENGTH)\n",
        "\n",
        "          q1_seq_sorted = np.sort(q1_seq_padded[0])\n",
        "          q2_seq_sorted = np.sort(q2_seq_padded[0])\n",
        "\n",
        "          q1_q2_list = []\n",
        "          q1_q2_list.append(q1_seq_sorted)\n",
        "          q1_q2_list.append(q2_seq_sorted)\n",
        "\n",
        "          q1_q2_vectors[row['id']] = q1_q2_list\n",
        "\n",
        "      return q1_q2_vectors[row['id']][0], q1_q2_vectors[row['id']][1]\n",
        "\n",
        "def get_cosine_distance(row):\n",
        "  q1_q2_vectors = get_q1_q2_vectors(row)\n",
        "  return cosine(q1_q2_vectors[0], q1_q2_vectors[1])\n",
        "\n",
        "def get_cityblock_distance(row):\n",
        "  q1_q2_vectors = get_q1_q2_vectors(row)\n",
        "  return cityblock(q1_q2_vectors[0], q1_q2_vectors[1])\n",
        "\n",
        "def get_jaccard_distance(row):\n",
        "  q1_q2_vectors = get_q1_q2_vectors(row)\n",
        "  return jaccard(q1_q2_vectors[0], q1_q2_vectors[1])\n",
        "\n",
        "def get_canberra_distance(row):\n",
        "  q1_q2_vectors = get_q1_q2_vectors(row)\n",
        "  return canberra(q1_q2_vectors[0], q1_q2_vectors[1])\n",
        "\n",
        "def get_euclidean_distance(row):\n",
        "  q1_q2_vectors = get_q1_q2_vectors(row)\n",
        "  return euclidean(q1_q2_vectors[0], q1_q2_vectors[1])\n",
        "\n",
        "def get_minkowski_distance(row):\n",
        "  q1_q2_vectors = get_q1_q2_vectors(row)\n",
        "  return minkowski(q1_q2_vectors[0], q1_q2_vectors[1])\n",
        "\n",
        "def get_braycurtis_distance(row):\n",
        "  q1_q2_vectors = get_q1_q2_vectors(row)\n",
        "  return braycurtis(q1_q2_vectors[0], q1_q2_vectors[1])  \n",
        "\n",
        "df['cosine_distance'] = df.apply(get_cosine_distance, axis=1)  \n",
        "df['cityblock_distance'] = df.apply(get_cityblock_distance, axis=1)\n",
        "df['jaccard_distance'] = df.apply(get_jaccard_distance, axis=1)\n",
        "df['canberra_distance'] = df.apply(get_canberra_distance, axis=1)\n",
        "df['euclidean_distance'] = df.apply(get_euclidean_distance, axis=1)\n",
        "df['minkowski_distance'] = df.apply(get_minkowski_distance, axis=1)\n",
        "df['braycurtis_distance'] = df.apply(get_braycurtis_distance, axis=1)\n",
        "\n",
        "# Vectorizing using TfidfVectorizer\n",
        "q1_q1_vectors = {}\n",
        "\n",
        "from sklearn.feature_extraction.text import TfidfVectorizer\n",
        "def get_q1_q1_vectors_old(row):\n",
        "\n",
        "      if row['id'] not in q1_q1_vectors:\n",
        "          \n",
        "          tfidf_matrix_list =[]\n",
        "\n",
        "          documents = []\n",
        "          documents.append(row['question1'].replace(\"\\n\", \" \"))\n",
        "          documents.append(row['question2'].replace(\"\\n\", \" \"))\n",
        "          tfidf_vectorizer = TfidfVectorizer(max_features = 200)\n",
        "          tfidf_vectorizer.fit(documents) \n",
        "\n",
        "          documents = []\n",
        "          documents.append(row['question1'].replace(\"\\n\", \" \"))\n",
        "          tfidf_matrix_q1 = tfidf_vectorizer.transform(documents)  \n",
        "          tfidf_matrix_list.append(tfidf_matrix_q1)\n",
        "\n",
        "          documents = []\n",
        "          documents.append(row['question2'].replace(\"\\n\", \" \"))\n",
        "          tfidf_matrix_q2 = tfidf_vectorizer.transform(documents) \n",
        "          tfidf_matrix_list.append(tfidf_matrix_q2)\n",
        "\n",
        "          q1_q1_vectors[row['id']] = tfidf_matrix_list\n",
        "\n",
        "      return q1_q1_vectors[row['id']][0], q1_q1_vectors[row['id']][1]\n"
      ],
      "execution_count": 0,
      "outputs": []
    },
    {
      "cell_type": "code",
      "metadata": {
        "id": "dap4c-P2Ecql",
        "colab_type": "code",
        "outputId": "57d871ed-f8d4-495f-a0eb-ab9ebe3476f2",
        "colab": {
          "base_uri": "https://localhost:8080/",
          "height": 616
        }
      },
      "source": [
        "df[df.is_duplicate == 0].head()"
      ],
      "execution_count": 393,
      "outputs": [
        {
          "output_type": "execute_result",
          "data": {
            "text/html": [
              "<div>\n",
              "<style scoped>\n",
              "    .dataframe tbody tr th:only-of-type {\n",
              "        vertical-align: middle;\n",
              "    }\n",
              "\n",
              "    .dataframe tbody tr th {\n",
              "        vertical-align: top;\n",
              "    }\n",
              "\n",
              "    .dataframe thead th {\n",
              "        text-align: right;\n",
              "    }\n",
              "</style>\n",
              "<table border=\"1\" class=\"dataframe\">\n",
              "  <thead>\n",
              "    <tr style=\"text-align: right;\">\n",
              "      <th></th>\n",
              "      <th>id</th>\n",
              "      <th>qid1</th>\n",
              "      <th>qid2</th>\n",
              "      <th>question1</th>\n",
              "      <th>question2</th>\n",
              "      <th>is_duplicate</th>\n",
              "      <th>words_diff_q1_q2</th>\n",
              "      <th>word_Common</th>\n",
              "      <th>word_Total</th>\n",
              "      <th>word_share</th>\n",
              "      <th>cosine_distance</th>\n",
              "      <th>cityblock_distance</th>\n",
              "      <th>jaccard_distance</th>\n",
              "      <th>canberra_distance</th>\n",
              "      <th>euclidean_distance</th>\n",
              "      <th>minkowski_distance</th>\n",
              "      <th>braycurtis_distance</th>\n",
              "    </tr>\n",
              "  </thead>\n",
              "  <tbody>\n",
              "    <tr>\n",
              "      <th>314890</th>\n",
              "      <td>314890</td>\n",
              "      <td>439709</td>\n",
              "      <td>439710</td>\n",
              "      <td>what are some similar website to ontwikcom</td>\n",
              "      <td>what are the similar website like latestonecom...</td>\n",
              "      <td>0</td>\n",
              "      <td>1</td>\n",
              "      <td>4.0</td>\n",
              "      <td>15.0</td>\n",
              "      <td>0.266667</td>\n",
              "      <td>0.039123</td>\n",
              "      <td>16</td>\n",
              "      <td>0.875000</td>\n",
              "      <td>2.818033</td>\n",
              "      <td>6.480741</td>\n",
              "      <td>6.480741</td>\n",
              "      <td>0.186047</td>\n",
              "    </tr>\n",
              "    <tr>\n",
              "      <th>26767</th>\n",
              "      <td>26767</td>\n",
              "      <td>49769</td>\n",
              "      <td>49770</td>\n",
              "      <td>what would you call someone that belief in god...</td>\n",
              "      <td>what do we call a religion which doe not belie...</td>\n",
              "      <td>0</td>\n",
              "      <td>13</td>\n",
              "      <td>9.0</td>\n",
              "      <td>37.0</td>\n",
              "      <td>0.243243</td>\n",
              "      <td>0.135437</td>\n",
              "      <td>226</td>\n",
              "      <td>1.000000</td>\n",
              "      <td>17.444874</td>\n",
              "      <td>49.132474</td>\n",
              "      <td>49.132474</td>\n",
              "      <td>0.410909</td>\n",
              "    </tr>\n",
              "    <tr>\n",
              "      <th>90052</th>\n",
              "      <td>90052</td>\n",
              "      <td>151179</td>\n",
              "      <td>151180</td>\n",
              "      <td>why is 1 neither prime nor composite</td>\n",
              "      <td>what are prime and composite number</td>\n",
              "      <td>0</td>\n",
              "      <td>1</td>\n",
              "      <td>2.0</td>\n",
              "      <td>13.0</td>\n",
              "      <td>0.153846</td>\n",
              "      <td>0.014182</td>\n",
              "      <td>8</td>\n",
              "      <td>0.857143</td>\n",
              "      <td>1.778211</td>\n",
              "      <td>3.464102</td>\n",
              "      <td>3.464102</td>\n",
              "      <td>0.108108</td>\n",
              "    </tr>\n",
              "    <tr>\n",
              "      <th>330838</th>\n",
              "      <td>330838</td>\n",
              "      <td>457637</td>\n",
              "      <td>457638</td>\n",
              "      <td>in my lab they have put 3 security camera so t...</td>\n",
              "      <td>what is a way to gauge the quality of a movie ...</td>\n",
              "      <td>0</td>\n",
              "      <td>20</td>\n",
              "      <td>4.0</td>\n",
              "      <td>35.0</td>\n",
              "      <td>0.114286</td>\n",
              "      <td>0.225789</td>\n",
              "      <td>335</td>\n",
              "      <td>0.968750</td>\n",
              "      <td>23.693379</td>\n",
              "      <td>70.618694</td>\n",
              "      <td>70.618694</td>\n",
              "      <td>0.448461</td>\n",
              "    </tr>\n",
              "    <tr>\n",
              "      <th>67018</th>\n",
              "      <td>67018</td>\n",
              "      <td>116059</td>\n",
              "      <td>80852</td>\n",
              "      <td>i caught my husband lying he almost cheated on...</td>\n",
              "      <td>how do you cope with a lying cheating husband</td>\n",
              "      <td>0</td>\n",
              "      <td>14</td>\n",
              "      <td>4.0</td>\n",
              "      <td>31.0</td>\n",
              "      <td>0.129032</td>\n",
              "      <td>0.207201</td>\n",
              "      <td>209</td>\n",
              "      <td>0.956522</td>\n",
              "      <td>16.863405</td>\n",
              "      <td>50.783856</td>\n",
              "      <td>50.783856</td>\n",
              "      <td>0.457330</td>\n",
              "    </tr>\n",
              "  </tbody>\n",
              "</table>\n",
              "</div>"
            ],
            "text/plain": [
              "            id    qid1  ...  minkowski_distance braycurtis_distance\n",
              "314890  314890  439709  ...            6.480741            0.186047\n",
              "26767    26767   49769  ...           49.132474            0.410909\n",
              "90052    90052  151179  ...            3.464102            0.108108\n",
              "330838  330838  457637  ...           70.618694            0.448461\n",
              "67018    67018  116059  ...           50.783856            0.457330\n",
              "\n",
              "[5 rows x 17 columns]"
            ]
          },
          "metadata": {
            "tags": []
          },
          "execution_count": 393
        }
      ]
    },
    {
      "cell_type": "code",
      "metadata": {
        "id": "9zzsuWkRGEbq",
        "colab_type": "code",
        "colab": {}
      },
      "source": [
        "# FuzzyWuzzy is a library of Python which is used for string matching. \n",
        "# Fuzzy string matching is the process of finding strings that match a given pattern. \n",
        "# Basically it uses Levenshtein Distance to calculate the differences between sequences.\n",
        "\n",
        "# !pip install fuzzywuzzy\n",
        "# !pip install python-Levenshtein\n",
        "from fuzzywuzzy import fuzz\n",
        "\n",
        "df['fuzz_qratio'] = df.apply(lambda x: fuzz.QRatio(str(x['question1']), str(x['question2'])), axis=1)\n",
        "df['fuzz_WRatio'] = df.apply(lambda x: fuzz.WRatio(str(x['question1']), str(x['question2'])), axis=1)\n",
        "df['fuzz_partial_ratio'] = df.apply(lambda x: fuzz.partial_ratio(str(x['question1']), str(x['question2'])), axis=1)\n",
        "df['fuzz_partial_token_set_ratio'] = df.apply(lambda x: fuzz.partial_token_set_ratio(str(x['question1']), str(x['question2'])), axis=1)\n",
        "df['fuzz_partial_token_sort_ratio'] = df.apply(lambda x: fuzz.partial_token_sort_ratio(str(x['question1']), str(x['question2'])), axis=1)\n",
        "df['fuzz_token_set_ratio'] = df.apply(lambda x: fuzz.token_set_ratio(str(x['question1']), str(x['question2'])), axis=1)\n",
        "df['fuzz_token_sort_ratio'] = df.apply(lambda x: fuzz.token_sort_ratio(str(x['question1']), str(x['question2'])), axis=1)"
      ],
      "execution_count": 0,
      "outputs": []
    },
    {
      "cell_type": "code",
      "metadata": {
        "id": "TdmlhT6cSqoW",
        "colab_type": "code",
        "colab": {
          "base_uri": "https://localhost:8080/",
          "height": 52
        },
        "outputId": "53d4fe32-6489-4c38-b432-a54d37fb0766"
      },
      "source": [
        "# Generating N-grams\n",
        "# Generate bigrams for every q1 and q2 and count the common bigrams.\n",
        "# Generate trigrams for every q1 and q2 and count the common trigrams.\n",
        "\n",
        "import nltk\n",
        "nltk.download('punkt')\n",
        "# nltk.download('wordnet')\n",
        "from textblob import TextBlob, Word\n",
        "\n",
        "def get_common_bigrams_count(row):\n",
        "  q1_bigrams = TextBlob(row['question1'].replace(\"\\n\", \" \")).ngrams(2)\n",
        "  q2_bigrams = TextBlob(row['question2'].replace(\"\\n\", \" \")).ngrams(2)\n",
        "\n",
        "  common=[]\n",
        "  for bigrams in q1_bigrams:\n",
        "      if bigrams in q2_bigrams:\n",
        "        common.append(bigrams)\n",
        "\n",
        "  return len(common)\n",
        "\n",
        "def get_common_trigrams_count(row):\n",
        "  q1_trigrams = TextBlob(row['question1'].replace(\"\\n\", \" \")).ngrams(3)\n",
        "  q2_trigrams = TextBlob(row['question2'].replace(\"\\n\", \" \")).ngrams(3)\n",
        "\n",
        "  common=[]\n",
        "  for trigrams in q1_trigrams:\n",
        "      if trigrams in q2_trigrams:\n",
        "        common.append(trigrams)\n",
        "\n",
        "  return len(common)\n",
        "\n",
        "df['common_bigrams'] = df.apply(get_common_bigrams_count, axis=1)\n",
        "df['common_trigrams'] = df.apply(get_common_trigrams_count, axis=1)"
      ],
      "execution_count": 395,
      "outputs": [
        {
          "output_type": "stream",
          "text": [
            "[nltk_data] Downloading package punkt to /root/nltk_data...\n",
            "[nltk_data]   Package punkt is already up-to-date!\n"
          ],
          "name": "stdout"
        }
      ]
    },
    {
      "cell_type": "code",
      "metadata": {
        "id": "1dmAs2t7H786",
        "colab_type": "code",
        "outputId": "3f4f207f-eb5a-4fba-c5a7-873ae25e3177",
        "colab": {
          "base_uri": "https://localhost:8080/",
          "height": 564
        }
      },
      "source": [
        "df[df.is_duplicate == 1].head()"
      ],
      "execution_count": 396,
      "outputs": [
        {
          "output_type": "execute_result",
          "data": {
            "text/html": [
              "<div>\n",
              "<style scoped>\n",
              "    .dataframe tbody tr th:only-of-type {\n",
              "        vertical-align: middle;\n",
              "    }\n",
              "\n",
              "    .dataframe tbody tr th {\n",
              "        vertical-align: top;\n",
              "    }\n",
              "\n",
              "    .dataframe thead th {\n",
              "        text-align: right;\n",
              "    }\n",
              "</style>\n",
              "<table border=\"1\" class=\"dataframe\">\n",
              "  <thead>\n",
              "    <tr style=\"text-align: right;\">\n",
              "      <th></th>\n",
              "      <th>id</th>\n",
              "      <th>qid1</th>\n",
              "      <th>qid2</th>\n",
              "      <th>question1</th>\n",
              "      <th>question2</th>\n",
              "      <th>is_duplicate</th>\n",
              "      <th>words_diff_q1_q2</th>\n",
              "      <th>word_Common</th>\n",
              "      <th>word_Total</th>\n",
              "      <th>word_share</th>\n",
              "      <th>cosine_distance</th>\n",
              "      <th>cityblock_distance</th>\n",
              "      <th>jaccard_distance</th>\n",
              "      <th>canberra_distance</th>\n",
              "      <th>euclidean_distance</th>\n",
              "      <th>minkowski_distance</th>\n",
              "      <th>braycurtis_distance</th>\n",
              "      <th>fuzz_qratio</th>\n",
              "      <th>fuzz_WRatio</th>\n",
              "      <th>fuzz_partial_ratio</th>\n",
              "      <th>fuzz_partial_token_set_ratio</th>\n",
              "      <th>fuzz_partial_token_sort_ratio</th>\n",
              "      <th>fuzz_token_set_ratio</th>\n",
              "      <th>fuzz_token_sort_ratio</th>\n",
              "      <th>common_bigrams</th>\n",
              "      <th>common_trigrams</th>\n",
              "    </tr>\n",
              "  </thead>\n",
              "  <tbody>\n",
              "    <tr>\n",
              "      <th>5486</th>\n",
              "      <td>5486</td>\n",
              "      <td>10792</td>\n",
              "      <td>10793</td>\n",
              "      <td>which one is better nikon d5500 or canon 70d</td>\n",
              "      <td>which is a better dslr canon eos70d or nikon d...</td>\n",
              "      <td>1</td>\n",
              "      <td>1</td>\n",
              "      <td>7.0</td>\n",
              "      <td>19.0</td>\n",
              "      <td>0.368421</td>\n",
              "      <td>0.005748</td>\n",
              "      <td>11</td>\n",
              "      <td>0.800000</td>\n",
              "      <td>1.911586</td>\n",
              "      <td>4.123106</td>\n",
              "      <td>4.123106</td>\n",
              "      <td>0.089431</td>\n",
              "      <td>64</td>\n",
              "      <td>86</td>\n",
              "      <td>64</td>\n",
              "      <td>100</td>\n",
              "      <td>73</td>\n",
              "      <td>90</td>\n",
              "      <td>79</td>\n",
              "      <td>1</td>\n",
              "      <td>0</td>\n",
              "    </tr>\n",
              "    <tr>\n",
              "      <th>300230</th>\n",
              "      <td>300230</td>\n",
              "      <td>423006</td>\n",
              "      <td>262168</td>\n",
              "      <td>why cant i see all answer for a question on qu...</td>\n",
              "      <td>why cant i see my answer on quora anymore</td>\n",
              "      <td>1</td>\n",
              "      <td>3</td>\n",
              "      <td>8.0</td>\n",
              "      <td>21.0</td>\n",
              "      <td>0.380952</td>\n",
              "      <td>0.024495</td>\n",
              "      <td>28</td>\n",
              "      <td>1.000000</td>\n",
              "      <td>5.128566</td>\n",
              "      <td>8.366600</td>\n",
              "      <td>8.366600</td>\n",
              "      <td>0.208955</td>\n",
              "      <td>80</td>\n",
              "      <td>91</td>\n",
              "      <td>71</td>\n",
              "      <td>100</td>\n",
              "      <td>71</td>\n",
              "      <td>96</td>\n",
              "      <td>80</td>\n",
              "      <td>5</td>\n",
              "      <td>3</td>\n",
              "    </tr>\n",
              "    <tr>\n",
              "      <th>295278</th>\n",
              "      <td>295278</td>\n",
              "      <td>417293</td>\n",
              "      <td>417294</td>\n",
              "      <td>how close is vatgrown meat to commercialization</td>\n",
              "      <td>how close are we to switching from animal meat...</td>\n",
              "      <td>1</td>\n",
              "      <td>7</td>\n",
              "      <td>4.0</td>\n",
              "      <td>19.0</td>\n",
              "      <td>0.210526</td>\n",
              "      <td>0.112583</td>\n",
              "      <td>47</td>\n",
              "      <td>1.000000</td>\n",
              "      <td>8.337626</td>\n",
              "      <td>14.456832</td>\n",
              "      <td>14.456832</td>\n",
              "      <td>0.281437</td>\n",
              "      <td>54</td>\n",
              "      <td>55</td>\n",
              "      <td>55</td>\n",
              "      <td>100</td>\n",
              "      <td>57</td>\n",
              "      <td>58</td>\n",
              "      <td>51</td>\n",
              "      <td>2</td>\n",
              "      <td>0</td>\n",
              "    </tr>\n",
              "    <tr>\n",
              "      <th>338095</th>\n",
              "      <td>338095</td>\n",
              "      <td>32623</td>\n",
              "      <td>183643</td>\n",
              "      <td>doe money ha more importance in life</td>\n",
              "      <td>how important is money in life</td>\n",
              "      <td>1</td>\n",
              "      <td>1</td>\n",
              "      <td>3.0</td>\n",
              "      <td>13.0</td>\n",
              "      <td>0.230769</td>\n",
              "      <td>0.007523</td>\n",
              "      <td>7</td>\n",
              "      <td>1.000000</td>\n",
              "      <td>1.755478</td>\n",
              "      <td>2.645751</td>\n",
              "      <td>2.645751</td>\n",
              "      <td>0.098592</td>\n",
              "      <td>61</td>\n",
              "      <td>72</td>\n",
              "      <td>67</td>\n",
              "      <td>100</td>\n",
              "      <td>80</td>\n",
              "      <td>76</td>\n",
              "      <td>73</td>\n",
              "      <td>1</td>\n",
              "      <td>0</td>\n",
              "    </tr>\n",
              "    <tr>\n",
              "      <th>25604</th>\n",
              "      <td>25604</td>\n",
              "      <td>47704</td>\n",
              "      <td>47705</td>\n",
              "      <td>how is the mass of a neutron determined</td>\n",
              "      <td>what is the mass of a neutron how is this mass...</td>\n",
              "      <td>1</td>\n",
              "      <td>4</td>\n",
              "      <td>8.0</td>\n",
              "      <td>18.0</td>\n",
              "      <td>0.444444</td>\n",
              "      <td>0.055504</td>\n",
              "      <td>24</td>\n",
              "      <td>0.916667</td>\n",
              "      <td>5.990891</td>\n",
              "      <td>7.874008</td>\n",
              "      <td>7.874008</td>\n",
              "      <td>0.230769</td>\n",
              "      <td>77</td>\n",
              "      <td>95</td>\n",
              "      <td>74</td>\n",
              "      <td>100</td>\n",
              "      <td>79</td>\n",
              "      <td>100</td>\n",
              "      <td>81</td>\n",
              "      <td>6</td>\n",
              "      <td>4</td>\n",
              "    </tr>\n",
              "  </tbody>\n",
              "</table>\n",
              "</div>"
            ],
            "text/plain": [
              "            id    qid1  ...  common_bigrams common_trigrams\n",
              "5486      5486   10792  ...               1               0\n",
              "300230  300230  423006  ...               5               3\n",
              "295278  295278  417293  ...               2               0\n",
              "338095  338095   32623  ...               1               0\n",
              "25604    25604   47704  ...               6               4\n",
              "\n",
              "[5 rows x 26 columns]"
            ]
          },
          "metadata": {
            "tags": []
          },
          "execution_count": 396
        }
      ]
    },
    {
      "cell_type": "code",
      "metadata": {
        "id": "Nl-tbWniQhgp",
        "colab_type": "code",
        "colab": {}
      },
      "source": [
        "# Save the dataframe as a pickle file\n",
        "import pickle\n",
        "df.to_pickle(\"drive/My Drive/Colab Notebooks/CapstoneProject/df_quora_10000_feat.pkl\")"
      ],
      "execution_count": 0,
      "outputs": []
    },
    {
      "cell_type": "markdown",
      "metadata": {
        "id": "j9Fbr6lXfEuC",
        "colab_type": "text"
      },
      "source": [
        "## Model Building and Predicting\n",
        "\n",
        "\n",
        "\n"
      ]
    },
    {
      "cell_type": "code",
      "metadata": {
        "id": "4eVY7oIeZIzO",
        "colab_type": "code",
        "colab": {}
      },
      "source": [
        "# Open the pickle file and save it as dataframe\n",
        "import pickle\n",
        "df = pd.read_pickle(\"drive/My Drive/Colab Notebooks/CapstoneProject/df_quora_10000_feat.pkl\")"
      ],
      "execution_count": 0,
      "outputs": []
    },
    {
      "cell_type": "code",
      "metadata": {
        "id": "bVcWtsAkEcqp",
        "colab_type": "code",
        "outputId": "30a207e3-e7f7-436f-c1d3-724d73c4f3d2",
        "colab": {
          "base_uri": "https://localhost:8080/",
          "height": 218
        }
      },
      "source": [
        "X = df[['words_diff_q1_q2', 'word_Common',\t'word_Total', 'word_share', 'cosine_distance','cityblock_distance',\t'jaccard_distance','canberra_distance',\t'euclidean_distance','minkowski_distance','braycurtis_distance', 'fuzz_qratio',\t'fuzz_WRatio',\t'fuzz_partial_ratio',\t'fuzz_partial_token_set_ratio',\t'fuzz_partial_token_sort_ratio',\t'fuzz_token_set_ratio',\t'fuzz_token_sort_ratio', 'common_bigrams',\t'common_trigrams']]\n",
        "y = df['is_duplicate']\n",
        "X.head()"
      ],
      "execution_count": 399,
      "outputs": [
        {
          "output_type": "execute_result",
          "data": {
            "text/html": [
              "<div>\n",
              "<style scoped>\n",
              "    .dataframe tbody tr th:only-of-type {\n",
              "        vertical-align: middle;\n",
              "    }\n",
              "\n",
              "    .dataframe tbody tr th {\n",
              "        vertical-align: top;\n",
              "    }\n",
              "\n",
              "    .dataframe thead th {\n",
              "        text-align: right;\n",
              "    }\n",
              "</style>\n",
              "<table border=\"1\" class=\"dataframe\">\n",
              "  <thead>\n",
              "    <tr style=\"text-align: right;\">\n",
              "      <th></th>\n",
              "      <th>words_diff_q1_q2</th>\n",
              "      <th>word_Common</th>\n",
              "      <th>word_Total</th>\n",
              "      <th>word_share</th>\n",
              "      <th>cosine_distance</th>\n",
              "      <th>cityblock_distance</th>\n",
              "      <th>jaccard_distance</th>\n",
              "      <th>canberra_distance</th>\n",
              "      <th>euclidean_distance</th>\n",
              "      <th>minkowski_distance</th>\n",
              "      <th>braycurtis_distance</th>\n",
              "      <th>fuzz_qratio</th>\n",
              "      <th>fuzz_WRatio</th>\n",
              "      <th>fuzz_partial_ratio</th>\n",
              "      <th>fuzz_partial_token_set_ratio</th>\n",
              "      <th>fuzz_partial_token_sort_ratio</th>\n",
              "      <th>fuzz_token_set_ratio</th>\n",
              "      <th>fuzz_token_sort_ratio</th>\n",
              "      <th>common_bigrams</th>\n",
              "      <th>common_trigrams</th>\n",
              "    </tr>\n",
              "  </thead>\n",
              "  <tbody>\n",
              "    <tr>\n",
              "      <th>314890</th>\n",
              "      <td>1</td>\n",
              "      <td>4.0</td>\n",
              "      <td>15.0</td>\n",
              "      <td>0.266667</td>\n",
              "      <td>0.039123</td>\n",
              "      <td>16</td>\n",
              "      <td>0.875000</td>\n",
              "      <td>2.818033</td>\n",
              "      <td>6.480741</td>\n",
              "      <td>6.480741</td>\n",
              "      <td>0.186047</td>\n",
              "      <td>69</td>\n",
              "      <td>69</td>\n",
              "      <td>71</td>\n",
              "      <td>100</td>\n",
              "      <td>71</td>\n",
              "      <td>73</td>\n",
              "      <td>67</td>\n",
              "      <td>2</td>\n",
              "      <td>0</td>\n",
              "    </tr>\n",
              "    <tr>\n",
              "      <th>26767</th>\n",
              "      <td>13</td>\n",
              "      <td>9.0</td>\n",
              "      <td>37.0</td>\n",
              "      <td>0.243243</td>\n",
              "      <td>0.135437</td>\n",
              "      <td>226</td>\n",
              "      <td>1.000000</td>\n",
              "      <td>17.444874</td>\n",
              "      <td>49.132474</td>\n",
              "      <td>49.132474</td>\n",
              "      <td>0.410909</td>\n",
              "      <td>48</td>\n",
              "      <td>86</td>\n",
              "      <td>55</td>\n",
              "      <td>100</td>\n",
              "      <td>55</td>\n",
              "      <td>76</td>\n",
              "      <td>54</td>\n",
              "      <td>0</td>\n",
              "      <td>0</td>\n",
              "    </tr>\n",
              "    <tr>\n",
              "      <th>90052</th>\n",
              "      <td>1</td>\n",
              "      <td>2.0</td>\n",
              "      <td>13.0</td>\n",
              "      <td>0.153846</td>\n",
              "      <td>0.014182</td>\n",
              "      <td>8</td>\n",
              "      <td>0.857143</td>\n",
              "      <td>1.778211</td>\n",
              "      <td>3.464102</td>\n",
              "      <td>3.464102</td>\n",
              "      <td>0.108108</td>\n",
              "      <td>62</td>\n",
              "      <td>65</td>\n",
              "      <td>63</td>\n",
              "      <td>100</td>\n",
              "      <td>66</td>\n",
              "      <td>68</td>\n",
              "      <td>65</td>\n",
              "      <td>0</td>\n",
              "      <td>0</td>\n",
              "    </tr>\n",
              "    <tr>\n",
              "      <th>330838</th>\n",
              "      <td>20</td>\n",
              "      <td>4.0</td>\n",
              "      <td>35.0</td>\n",
              "      <td>0.114286</td>\n",
              "      <td>0.225789</td>\n",
              "      <td>335</td>\n",
              "      <td>0.968750</td>\n",
              "      <td>23.693379</td>\n",
              "      <td>70.618694</td>\n",
              "      <td>70.618694</td>\n",
              "      <td>0.448461</td>\n",
              "      <td>39</td>\n",
              "      <td>86</td>\n",
              "      <td>52</td>\n",
              "      <td>100</td>\n",
              "      <td>50</td>\n",
              "      <td>50</td>\n",
              "      <td>41</td>\n",
              "      <td>2</td>\n",
              "      <td>0</td>\n",
              "    </tr>\n",
              "    <tr>\n",
              "      <th>67018</th>\n",
              "      <td>14</td>\n",
              "      <td>4.0</td>\n",
              "      <td>31.0</td>\n",
              "      <td>0.129032</td>\n",
              "      <td>0.207201</td>\n",
              "      <td>209</td>\n",
              "      <td>0.956522</td>\n",
              "      <td>16.863405</td>\n",
              "      <td>50.783856</td>\n",
              "      <td>50.783856</td>\n",
              "      <td>0.457330</td>\n",
              "      <td>37</td>\n",
              "      <td>86</td>\n",
              "      <td>49</td>\n",
              "      <td>100</td>\n",
              "      <td>64</td>\n",
              "      <td>64</td>\n",
              "      <td>46</td>\n",
              "      <td>0</td>\n",
              "      <td>0</td>\n",
              "    </tr>\n",
              "  </tbody>\n",
              "</table>\n",
              "</div>"
            ],
            "text/plain": [
              "        words_diff_q1_q2  word_Common  ...  common_bigrams  common_trigrams\n",
              "314890                 1          4.0  ...               2                0\n",
              "26767                 13          9.0  ...               0                0\n",
              "90052                  1          2.0  ...               0                0\n",
              "330838                20          4.0  ...               2                0\n",
              "67018                 14          4.0  ...               0                0\n",
              "\n",
              "[5 rows x 20 columns]"
            ]
          },
          "metadata": {
            "tags": []
          },
          "execution_count": 399
        }
      ]
    },
    {
      "cell_type": "code",
      "metadata": {
        "id": "Ad2SS5WlF93X",
        "colab_type": "code",
        "colab": {}
      },
      "source": [
        "from sklearn import model_selection, preprocessing, linear_model, naive_bayes, metrics, svm, tree, ensemble\n",
        "from sklearn.model_selection import train_test_split\n",
        "from sklearn.linear_model import LogisticRegressionCV\n",
        "\n",
        "#Splitting the dataset into the Training set and the Test set\n",
        "X_train, X_test, y_train, y_test = train_test_split(X, y, test_size = 0.25, random_state = 99)\n",
        "\n",
        "from sklearn.preprocessing import StandardScaler\n",
        "sc = StandardScaler()\n",
        "\n",
        "# Transform the training data\n",
        "X_train = sc.fit_transform(X_train)\n",
        "X_train = pd.DataFrame(X_train,columns=X_test.columns)\n",
        "\n",
        "# Transform the testing data\n",
        "X_test = sc.fit_transform(X_test)\n",
        "X_test = pd.DataFrame(X_test,columns=X_train.columns)\n",
        "\n",
        "X_train = np.nan_to_num(X_train)\n",
        "X_test = np.nan_to_num(X_test)"
      ],
      "execution_count": 0,
      "outputs": []
    },
    {
      "cell_type": "code",
      "metadata": {
        "id": "9MtQ0o-bM64G",
        "colab_type": "code",
        "colab": {}
      },
      "source": [
        "#Defining the generic training pipeline\n",
        "def train_model(classifier, X_train, y_train):\n",
        "\n",
        "  #fit the training dataset on the classifier\n",
        "  classifier.fit(X_train, y_train)  \n",
        "\n",
        "  #predict the labels on validation dataset\n",
        "  y_pred = classifier.predict(X_test)\n",
        "\n",
        "  # for input, prediction, label in zip(X_test, y_pred, y_test):\n",
        "  #   if prediction != label:\n",
        "  #     print(input, 'has been classified as ', prediction, 'and should be ', label) \n",
        "\n",
        "  #create a variable that is the result of the model's prediction on the test data\n",
        "  y_pred_prob = classifier.predict_proba(X_test)\n",
        "  \n",
        "  return y_pred, y_pred_prob"
      ],
      "execution_count": 0,
      "outputs": []
    },
    {
      "cell_type": "code",
      "metadata": {
        "id": "328zl7wROHd_",
        "colab_type": "code",
        "colab": {}
      },
      "source": [
        "# defining a function that returns the model evaluation metrics\n",
        "def get_model_evaluation_metrics(y_test, y_pred, y_pred_prob):  \n",
        "  \n",
        "  print(f'Accuracy Score : {metrics.accuracy_score(y_test, y_pred)}')\n",
        "  print(f'\\nClassification Report : \\n{metrics.classification_report(y_test,y_pred)}')\n",
        "  print(f'\\nConfusion Matrix : \\n{metrics.confusion_matrix(y_test,y_pred)}')\n",
        "\n",
        "  # A Confusion Matrix is a way to summarize the classifier performance\n",
        "  cm = metrics.confusion_matrix(y_test,y_pred)\n",
        "\n",
        "  # True Negatives (TN), False Negatives (FN), False Positives (FP), True Positives (TP)\n",
        "  TN = cm[0,0]\n",
        "  FP = cm[0,1] # Also known as Type 1 error\n",
        "  FN = cm[1,0] # Also known as Type 2 error\n",
        "  TP = cm[1,1]\n",
        "\n",
        "  # Sensitivity : refers to how often the prediction is correct when the actual value is positive (positive ==> question is duplicate).\n",
        "  # We need our alogrithm to be less sensitive. That means, when in doubt, it is better for a question to be considered as non-duplicate,\n",
        "  # rather than duplicate. i.e, it is better to lean towards False Negative than False Positive.\n",
        "  sensitivity = TP / (TP + FN) # also called as recall\n",
        "\n",
        "  # Specificity : refers to how often the prediction is correct when the actual value is negative (negative ==> question is not-duplcate)\n",
        "  # Our algorithm needs to be more specific and less sensitive.\n",
        "  specificity = TN / (TN + FP)\n",
        "\n",
        "  # Precision : refers to how often we are correct when the value predicted is positive\n",
        "  precision = TP / (TP + FP)\n",
        "\n",
        "  # False Positive Rate (FPR) : refers to how often we are incorrect when the actual value is negative. FPR = 1 - specicicity\n",
        "  false_positive_rate = FP / (FP + TN)\n",
        "\n",
        "  print(f'\\nSensitivity (or recall) : {sensitivity:.2f}')\n",
        "  print(f'Specificity : {specificity:.2f}')\n",
        "  print(f'Precision : {precision:.2f}')\n",
        "  print(f'False Positive Rate (FPR) : {false_positive_rate:.2f}')\n",
        "\n",
        "  from sklearn.metrics import roc_curve\n",
        "\n",
        "  fpr, tpr, thresholds = roc_curve(y_test, y_pred_prob[:,1])\n",
        "\n",
        "  plt.plot(fpr, tpr)\n",
        "  plt.title(\"ROC Curve for Quora Question Duplicates\")\n",
        "  plt.xlabel(\"False Positive Rate (1 - Specificity)\")\n",
        "  plt.ylabel(\"True Positive Rate (Sensitivity)\")\n",
        "  plt.grid(True)\n",
        "  plt.show()\n",
        "\n",
        "  from sklearn.metrics import roc_auc_score\n",
        "\n",
        "  print(f'\\nAUC Score : {roc_auc_score(y_test, y_pred_prob[:,1])}')"
      ],
      "execution_count": 0,
      "outputs": []
    },
    {
      "cell_type": "markdown",
      "metadata": {
        "id": "kG6dv0aLol2d",
        "colab_type": "text"
      },
      "source": [
        "## **Logistic Regression**"
      ]
    },
    {
      "cell_type": "code",
      "metadata": {
        "id": "cmQ-qqoEoJnU",
        "colab_type": "code",
        "outputId": "8665f883-3e46-4183-d311-a1a4dd357cd2",
        "colab": {
          "base_uri": "https://localhost:8080/",
          "height": 692
        }
      },
      "source": [
        "y_pred, y_pred_prob = train_model(linear_model.LogisticRegression(random_state = 99, max_iter=200), X_train, y_train)\n",
        "\n",
        "get_model_evaluation_metrics(y_test, y_pred, y_pred_prob)"
      ],
      "execution_count": 403,
      "outputs": [
        {
          "output_type": "stream",
          "text": [
            "Accuracy Score : 0.6928\n",
            "\n",
            "Classification Report : \n",
            "              precision    recall  f1-score   support\n",
            "\n",
            "           0       0.73      0.61      0.66      1246\n",
            "           1       0.67      0.78      0.72      1254\n",
            "\n",
            "    accuracy                           0.69      2500\n",
            "   macro avg       0.70      0.69      0.69      2500\n",
            "weighted avg       0.70      0.69      0.69      2500\n",
            "\n",
            "\n",
            "Confusion Matrix : \n",
            "[[758 488]\n",
            " [280 974]]\n",
            "\n",
            "Sensitivity (or recall) : 0.78\n",
            "Specificity : 0.61\n",
            "Precision : 0.67\n",
            "False Positive Rate (FPR) : 0.39\n"
          ],
          "name": "stdout"
        },
        {
          "output_type": "display_data",
          "data": {
            "image/png": "[encoded data removed]",
            "text/plain": [
              "<Figure size 432x288 with 1 Axes>"
            ]
          },
          "metadata": {
            "tags": [],
            "needs_background": "light"
          }
        },
        {
          "output_type": "stream",
          "text": [
            "\n",
            "AUC Score : 0.7592071342810551\n"
          ],
          "name": "stdout"
        }
      ]
    },
    {
      "cell_type": "markdown",
      "metadata": {
        "id": "8VyVtw5i-eqv",
        "colab_type": "text"
      },
      "source": [
        "## **Logistic Regression with L1 Regularization**"
      ]
    },
    {
      "cell_type": "code",
      "metadata": {
        "id": "SNpna8tD7y_Z",
        "colab_type": "code",
        "outputId": "3db5a0a6-57cf-407b-c39b-06cc553313dc",
        "colab": {
          "base_uri": "https://localhost:8080/",
          "height": 692
        }
      },
      "source": [
        "Cs = np.logspace(-2, 6, 9)\n",
        "y_pred, y_pred_prob = train_model(linear_model.LogisticRegressionCV(Cs=Cs, penalty='l1', cv=10, solver='liblinear', random_state=99, max_iter=10000), X_train, y_train)\n",
        "\n",
        "get_model_evaluation_metrics(y_test, y_pred, y_pred_prob)"
      ],
      "execution_count": 404,
      "outputs": [
        {
          "output_type": "stream",
          "text": [
            "Accuracy Score : 0.6936\n",
            "\n",
            "Classification Report : \n",
            "              precision    recall  f1-score   support\n",
            "\n",
            "           0       0.73      0.61      0.66      1246\n",
            "           1       0.67      0.78      0.72      1254\n",
            "\n",
            "    accuracy                           0.69      2500\n",
            "   macro avg       0.70      0.69      0.69      2500\n",
            "weighted avg       0.70      0.69      0.69      2500\n",
            "\n",
            "\n",
            "Confusion Matrix : \n",
            "[[757 489]\n",
            " [277 977]]\n",
            "\n",
            "Sensitivity (or recall) : 0.78\n",
            "Specificity : 0.61\n",
            "Precision : 0.67\n",
            "False Positive Rate (FPR) : 0.39\n"
          ],
          "name": "stdout"
        },
        {
          "output_type": "display_data",
          "data": {
            "image/png": "[encoded data removed]",
            "text/plain": [
              "<Figure size 432x288 with 1 Axes>"
            ]
          },
          "metadata": {
            "tags": [],
            "needs_background": "light"
          }
        },
        {
          "output_type": "stream",
          "text": [
            "\n",
            "AUC Score : 0.7598490608543832\n"
          ],
          "name": "stdout"
        }
      ]
    },
    {
      "cell_type": "markdown",
      "metadata": {
        "id": "Jz2BQdkO-pIt",
        "colab_type": "text"
      },
      "source": [
        "## **Logistic Regression with L2 Regularization**"
      ]
    },
    {
      "cell_type": "code",
      "metadata": {
        "id": "XOoWkzRH9SUg",
        "colab_type": "code",
        "outputId": "e3c4868b-08c5-4562-d4cb-6ad4c12ceb09",
        "colab": {
          "base_uri": "https://localhost:8080/",
          "height": 692
        }
      },
      "source": [
        "Cs = np.logspace(-2, 6, 9)\n",
        "y_pred, y_pred_prob = train_model(linear_model.LogisticRegressionCV(Cs=Cs, penalty='l2', cv=10, random_state=99, max_iter=10000), X_train, y_train)\n",
        "\n",
        "get_model_evaluation_metrics(y_test, y_pred, y_pred_prob)"
      ],
      "execution_count": 405,
      "outputs": [
        {
          "output_type": "stream",
          "text": [
            "Accuracy Score : 0.6932\n",
            "\n",
            "Classification Report : \n",
            "              precision    recall  f1-score   support\n",
            "\n",
            "           0       0.73      0.61      0.66      1246\n",
            "           1       0.67      0.78      0.72      1254\n",
            "\n",
            "    accuracy                           0.69      2500\n",
            "   macro avg       0.70      0.69      0.69      2500\n",
            "weighted avg       0.70      0.69      0.69      2500\n",
            "\n",
            "\n",
            "Confusion Matrix : \n",
            "[[759 487]\n",
            " [280 974]]\n",
            "\n",
            "Sensitivity (or recall) : 0.78\n",
            "Specificity : 0.61\n",
            "Precision : 0.67\n",
            "False Positive Rate (FPR) : 0.39\n"
          ],
          "name": "stdout"
        },
        {
          "output_type": "display_data",
          "data": {
            "image/png": "[encoded data removed]",
            "text/plain": [
              "<Figure size 432x288 with 1 Axes>"
            ]
          },
          "metadata": {
            "tags": [],
            "needs_background": "light"
          }
        },
        {
          "output_type": "stream",
          "text": [
            "\n",
            "AUC Score : 0.759209054300716\n"
          ],
          "name": "stdout"
        }
      ]
    },
    {
      "cell_type": "markdown",
      "metadata": {
        "id": "OidN6j0L0fnj",
        "colab_type": "text"
      },
      "source": [
        "## **Naive Bayes**"
      ]
    },
    {
      "cell_type": "code",
      "metadata": {
        "id": "zM2H9RSTjIFT",
        "colab_type": "code",
        "outputId": "9eeddf39-9953-4649-85db-1461ac0a122c",
        "colab": {
          "base_uri": "https://localhost:8080/",
          "height": 692
        }
      },
      "source": [
        "y_pred, y_pred_prob = train_model(naive_bayes.BernoulliNB(), X_train, y_train)\n",
        "\n",
        "get_model_evaluation_metrics(y_test, y_pred, y_pred_prob)"
      ],
      "execution_count": 406,
      "outputs": [
        {
          "output_type": "stream",
          "text": [
            "Accuracy Score : 0.6656\n",
            "\n",
            "Classification Report : \n",
            "              precision    recall  f1-score   support\n",
            "\n",
            "           0       0.66      0.67      0.67      1246\n",
            "           1       0.67      0.66      0.66      1254\n",
            "\n",
            "    accuracy                           0.67      2500\n",
            "   macro avg       0.67      0.67      0.67      2500\n",
            "weighted avg       0.67      0.67      0.67      2500\n",
            "\n",
            "\n",
            "Confusion Matrix : \n",
            "[[841 405]\n",
            " [431 823]]\n",
            "\n",
            "Sensitivity (or recall) : 0.66\n",
            "Specificity : 0.67\n",
            "Precision : 0.67\n",
            "False Positive Rate (FPR) : 0.33\n"
          ],
          "name": "stdout"
        },
        {
          "output_type": "display_data",
          "data": {
            "image/png": "[encoded data removed]",
            "text/plain": [
              "<Figure size 432x288 with 1 Axes>"
            ]
          },
          "metadata": {
            "tags": [],
            "needs_background": "light"
          }
        },
        {
          "output_type": "stream",
          "text": [
            "\n",
            "AUC Score : 0.7138559498849267\n"
          ],
          "name": "stdout"
        }
      ]
    },
    {
      "cell_type": "markdown",
      "metadata": {
        "id": "ZFO4sAYPxO09",
        "colab_type": "text"
      },
      "source": [
        "## **SVM Classification**"
      ]
    },
    {
      "cell_type": "code",
      "metadata": {
        "id": "VE5KB6PAob7A",
        "colab_type": "code",
        "outputId": "0523e439-b2f1-4754-ad7e-23ea94f71294",
        "colab": {
          "base_uri": "https://localhost:8080/",
          "height": 692
        }
      },
      "source": [
        "y_pred, y_pred_prob = train_model(svm.SVC(kernel='linear',random_state = 99, probability=True), X_train, y_train)\n",
        "\n",
        "get_model_evaluation_metrics(y_test, y_pred, y_pred_prob)"
      ],
      "execution_count": 407,
      "outputs": [
        {
          "output_type": "stream",
          "text": [
            "Accuracy Score : 0.7028\n",
            "\n",
            "Classification Report : \n",
            "              precision    recall  f1-score   support\n",
            "\n",
            "           0       0.77      0.58      0.66      1246\n",
            "           1       0.66      0.82      0.74      1254\n",
            "\n",
            "    accuracy                           0.70      2500\n",
            "   macro avg       0.72      0.70      0.70      2500\n",
            "weighted avg       0.71      0.70      0.70      2500\n",
            "\n",
            "\n",
            "Confusion Matrix : \n",
            "[[ 725  521]\n",
            " [ 222 1032]]\n",
            "\n",
            "Sensitivity (or recall) : 0.82\n",
            "Specificity : 0.58\n",
            "Precision : 0.66\n",
            "False Positive Rate (FPR) : 0.42\n"
          ],
          "name": "stdout"
        },
        {
          "output_type": "display_data",
          "data": {
            "image/png": "[encoded data removed]",
            "text/plain": [
              "<Figure size 432x288 with 1 Axes>"
            ]
          },
          "metadata": {
            "tags": [],
            "needs_background": "light"
          }
        },
        {
          "output_type": "stream",
          "text": [
            "\n",
            "AUC Score : 0.7575949577723676\n"
          ],
          "name": "stdout"
        }
      ]
    },
    {
      "cell_type": "markdown",
      "metadata": {
        "id": "5tXEyA1JeMVz",
        "colab_type": "text"
      },
      "source": [
        "## **Decision-Tree Classification**"
      ]
    },
    {
      "cell_type": "code",
      "metadata": {
        "id": "8JV1GRtq4SA0",
        "colab_type": "code",
        "outputId": "4a5be62f-cb43-4671-875e-b4dd378b02a9",
        "colab": {
          "base_uri": "https://localhost:8080/",
          "height": 692
        }
      },
      "source": [
        "y_pred, y_pred_prob = train_model(tree.DecisionTreeClassifier(random_state = 99), X_train, y_train)\n",
        "\n",
        "get_model_evaluation_metrics(y_test, y_pred, y_pred_prob)"
      ],
      "execution_count": 408,
      "outputs": [
        {
          "output_type": "stream",
          "text": [
            "Accuracy Score : 0.6468\n",
            "\n",
            "Classification Report : \n",
            "              precision    recall  f1-score   support\n",
            "\n",
            "           0       0.65      0.64      0.64      1246\n",
            "           1       0.65      0.66      0.65      1254\n",
            "\n",
            "    accuracy                           0.65      2500\n",
            "   macro avg       0.65      0.65      0.65      2500\n",
            "weighted avg       0.65      0.65      0.65      2500\n",
            "\n",
            "\n",
            "Confusion Matrix : \n",
            "[[795 451]\n",
            " [432 822]]\n",
            "\n",
            "Sensitivity (or recall) : 0.66\n",
            "Specificity : 0.64\n",
            "Precision : 0.65\n",
            "False Positive Rate (FPR) : 0.36\n"
          ],
          "name": "stdout"
        },
        {
          "output_type": "display_data",
          "data": {
            "image/png": "[encoded data removed]",
            "text/plain": [
              "<Figure size 432x288 with 1 Axes>"
            ]
          },
          "metadata": {
            "tags": [],
            "needs_background": "light"
          }
        },
        {
          "output_type": "stream",
          "text": [
            "\n",
            "AUC Score : 0.6467720629459245\n"
          ],
          "name": "stdout"
        }
      ]
    },
    {
      "cell_type": "markdown",
      "metadata": {
        "id": "tJ8bHCjyeZBu",
        "colab_type": "text"
      },
      "source": [
        "## **Random-Forest Classification**\n"
      ]
    },
    {
      "cell_type": "code",
      "metadata": {
        "id": "GE-3hRjM5XPL",
        "colab_type": "code",
        "outputId": "a1590bad-8522-4061-f348-0976046ebdd9",
        "colab": {
          "base_uri": "https://localhost:8080/",
          "height": 692
        }
      },
      "source": [
        "y_pred, y_pred_prob = train_model(ensemble.RandomForestClassifier(n_estimators=1000, n_jobs=-1, random_state = 99), X_train, y_train)\n",
        "\n",
        "get_model_evaluation_metrics(y_test, y_pred, y_pred_prob)"
      ],
      "execution_count": 409,
      "outputs": [
        {
          "output_type": "stream",
          "text": [
            "Accuracy Score : 0.7108\n",
            "\n",
            "Classification Report : \n",
            "              precision    recall  f1-score   support\n",
            "\n",
            "           0       0.75      0.63      0.68      1246\n",
            "           1       0.68      0.79      0.73      1254\n",
            "\n",
            "    accuracy                           0.71      2500\n",
            "   macro avg       0.72      0.71      0.71      2500\n",
            "weighted avg       0.72      0.71      0.71      2500\n",
            "\n",
            "\n",
            "Confusion Matrix : \n",
            "[[784 462]\n",
            " [261 993]]\n",
            "\n",
            "Sensitivity (or recall) : 0.79\n",
            "Specificity : 0.63\n",
            "Precision : 0.68\n",
            "False Positive Rate (FPR) : 0.37\n"
          ],
          "name": "stdout"
        },
        {
          "output_type": "display_data",
          "data": {
            "image/png": "[encoded data removed]",
            "text/plain": [
              "<Figure size 432x288 with 1 Axes>"
            ]
          },
          "metadata": {
            "tags": [],
            "needs_background": "light"
          }
        },
        {
          "output_type": "stream",
          "text": [
            "\n",
            "AUC Score : 0.7719528647973355\n"
          ],
          "name": "stdout"
        }
      ]
    },
    {
      "cell_type": "markdown",
      "metadata": {
        "id": "zGuOz8zctBzW",
        "colab_type": "text"
      },
      "source": [
        "## **Deep Neural Network Models**"
      ]
    },
    {
      "cell_type": "code",
      "metadata": {
        "id": "JaZIf9WSYcn9",
        "colab_type": "code",
        "colab": {}
      },
      "source": [
        "from keras.models import Sequential\n",
        "from keras.wrappers.scikit_learn import KerasClassifier\n",
        "from sklearn.model_selection import StratifiedKFold, cross_val_score, KFold\n",
        "import numpy as np\n",
        "from tensorflow import random\n",
        "\n",
        "from keras.layers import Dense\n",
        "\n",
        "# Define 3 functions, each returning a different Keras model. \n",
        "# The goal is to find out which of these 3 models leads to the lowest cross-validation error rate.\n",
        "\n",
        "# Create a function that returns the keras model 1\n",
        "def build_model_1(activation='relu', optimizer='adam'):\n",
        "  # create model 1  \n",
        "  model = Sequential()\n",
        "  model.add(Dense(18, input_dim=X_train.shape[1], activation=activation))\n",
        "  model.add(Dense(18, activation=activation))\n",
        "  model.add(Dense(18, activation=activation))\n",
        "  model.add(Dense(1, activation='sigmoid'))\n",
        "  # compile model 1\n",
        "  model.compile(optimizer=optimizer, loss='binary_crossentropy',metrics=['accuracy'])\n",
        "  return model\n",
        "\n",
        "# Create a function that returns the keras model 2\n",
        "def build_model_2(activation='relu', optimizer='adam'):\n",
        "  # create model 2\n",
        "  # print(f'Activation = {activation}  Optimizer={optimizer}')\n",
        "  model = Sequential()\n",
        "  model.add(Dense(18, input_dim=X_train.shape[1], activation=activation))\n",
        "  model.add(Dense(9, activation=activation))\n",
        "  model.add(Dense(1, activation='sigmoid'))\n",
        "  # compile model 2\n",
        "  model.compile(optimizer=optimizer, loss='binary_crossentropy',metrics=['accuracy'])\n",
        "  return model\n",
        "\n",
        "# Create a function that returns the keras model 3\n",
        "def build_model_3(activation='relu', optimizer='adam'):\n",
        "  # create model 3\n",
        "  model = Sequential()\n",
        "  model.add(Dense(18, input_dim=X_train.shape[1], activation=activation))\n",
        "  model.add(Dense(9, activation=activation))\n",
        "  model.add(Dense(6, activation=activation))\n",
        "  model.add(Dense(1, activation='sigmoid'))\n",
        "  # compile model 3\n",
        "  model.compile(optimizer=optimizer, loss='binary_crossentropy',metrics=['accuracy'])\n",
        "  return model\n",
        "  \n",
        "\n"
      ],
      "execution_count": 0,
      "outputs": []
    },
    {
      "cell_type": "code",
      "metadata": {
        "id": "jhYMsjSuC4b2",
        "colab_type": "code",
        "outputId": "b3ce4658-63c0-4a7b-f167-a98c6f4f192e",
        "colab": {
          "base_uri": "https://localhost:8080/",
          "height": 69
        }
      },
      "source": [
        "# Writing code that will loop over the three models and perform 5-fold cross-validation.\n",
        "# define a seed for random number generator so the result will be reproducible\n",
        "seed = 99\n",
        "np.random.seed(seed)\n",
        "random.set_seed(seed)\n",
        "\n",
        "# determine the number of folds for k-fold cross-validation, number of epochs and batch size\n",
        "n_folds = 5\n",
        "batch_size = 20\n",
        "epochs = 100\n",
        "\n",
        "# define the list to store cross-validation scores\n",
        "results_1 = []\n",
        "\n",
        "# define the possible options for the model\n",
        "models =[build_model_1, build_model_2, build_model_3]\n",
        "\n",
        "# loop over the models\n",
        "for m in range(len(models)):\n",
        "  # build the scikit-learn interface for the keras model\n",
        "  classifier = KerasClassifier(build_fn=models[m], epochs=epochs, batch_size=batch_size, verbose=0, shuffle=False)\n",
        "  # define the cross-validation iterator\n",
        "  kfold = StratifiedKFold(n_splits=n_folds, shuffle=True, random_state=seed)\n",
        "  # perform the k-fold cross-validation and store the scores in result\n",
        "  result = cross_val_score(classifier, X_train, y_train, cv=kfold)\n",
        "  # add the scores to the results list\n",
        "  results_1.append(result)\n",
        "\n",
        "# Print cross-validation score for each model\n",
        "for m in range(len(models)):\n",
        "  print(\"Model \", m+1, \" cross-validation score = \", abs(results_1[m].mean()))\n"
      ],
      "execution_count": 412,
      "outputs": [
        {
          "output_type": "stream",
          "text": [
            "Model  1  test error rate =  0.7054666757583619\n",
            "Model  2  test error rate =  0.7171999931335449\n",
            "Model  3  test error rate =  0.7130666494369506\n"
          ],
          "name": "stdout"
        }
      ]
    },
    {
      "cell_type": "code",
      "metadata": {
        "id": "8XxiEic1BOvj",
        "colab_type": "code",
        "outputId": "82a24ed7-00b8-45fe-97bb-66142df432b1",
        "colab": {
          "base_uri": "https://localhost:8080/",
          "height": 86
        }
      },
      "source": [
        "# Choose the model with the highest cross-validation score and repeat the above step by iterating over the epochs = [100, 200] \n",
        "# and batches = [10, 20] values and performing 5-fold cross-validation\n",
        "\n",
        "# define a seed for random number generator so the result will be reproducible\n",
        "np.random.seed(seed)\n",
        "random.set_seed(seed)\n",
        "\n",
        "# determine the number of folds for k-fold cross-validation\n",
        "n_folds = 5\n",
        "\n",
        "# define the ossible options for epochs and batch_size\n",
        "epochs = [100, 200]\n",
        "batches = [10, 20]\n",
        "\n",
        "# define the list to store cross-validation scores\n",
        "results_2 = []\n",
        "\n",
        "# loop over all possible pairs of epochs, batch_size\n",
        "for e in range(len(epochs)):\n",
        "  for b in range(len(batches)):\n",
        "    # build the scikit-learn interface for the keras model\n",
        "    classifier = KerasClassifier(build_fn=build_model_2, epochs=epochs[e], batch_size=batches[b], verbose=0)\n",
        "\n",
        "    # define the corss-validation iterator\n",
        "    kfold = StratifiedKFold(n_splits=n_folds, shuffle=True, random_state=seed)\n",
        "\n",
        "    # perform the k-fold cross-validation and store the scores in result\n",
        "    result = cross_val_score(classifier, X_train, y_train, cv=kfold)\n",
        "\n",
        "    # add the scores to the results list\n",
        "    results_2.append(result)\n",
        "\n",
        "# Print cross-validation score for each possible pair of epochs, batch_size\n",
        "c = 0\n",
        "for e in range(len(epochs)):\n",
        "  for b in range(len(batches)):\n",
        "    print(\"batch_size =\", batches[b],\", epochs =\", epochs[e], \", Test Accuracy =\", results_2[c].mean())\n",
        "    c += 1"
      ],
      "execution_count": 415,
      "outputs": [
        {
          "output_type": "stream",
          "text": [
            "batch_size = 10 , epochs = 100 , Test Accuracy = 0.7166666746139526\n",
            "batch_size = 20 , epochs = 100 , Test Accuracy = 0.719866669178009\n",
            "batch_size = 10 , epochs = 200 , Test Accuracy = 0.7053333282470703\n",
            "batch_size = 20 , epochs = 200 , Test Accuracy = 0.7058666825294495\n"
          ],
          "name": "stdout"
        }
      ]
    },
    {
      "cell_type": "code",
      "metadata": {
        "id": "r3ycQ2xLHw2C",
        "colab_type": "code",
        "outputId": "bd6c26a0-39a1-4a95-fac5-7de2bd0d658b",
        "colab": {
          "base_uri": "https://localhost:8080/",
          "height": 121
        }
      },
      "source": [
        "# Choosing the batch size and epochs with the highest accuracy score and repeat the above step by iterating\n",
        "# over the optimizers = ['rmsprop', 'adam', 'sgd'] and activations = ['relu','tanh'] values and \n",
        "# performing 5-fold corss validation\n",
        "\n",
        "# define a seed for random number generator so the result will be reproducible\n",
        "np.random.seed(seed)\n",
        "random.set_seed(seed)\n",
        "\n",
        "# determine the number of folds for k-fold cross-validation, number of epochs and batch size\n",
        "n_folds = 5\n",
        "batch_size = 10\n",
        "epochs = 100\n",
        "\n",
        "# define the list to store cross_validation scores\n",
        "results_3 = []\n",
        "\n",
        "# define possible options for optimizer and activation\n",
        "optimizers = ['rmsprop', 'adam', 'sgd']\n",
        "activations = ['relu','tanh']\n",
        "\n",
        "# loop over all possible pairs of optimizer, activation\n",
        "for o in range(len(optimizers)):\n",
        "  for a in range(len(activations)):\n",
        "    optimizer = optimizers[o]\n",
        "    activation = activations[a]\n",
        "\n",
        "    # build the scikit-learn interface for the keras model\n",
        "    classifier = KerasClassifier(build_fn=build_model_2, activation=activation, optimizer=optimizer, epochs=epochs, batch_size=batch_size, verbose=0, shuffle=False)\n",
        "\n",
        "    # define the cross-validation iterator\n",
        "    kfold = StratifiedKFold(n_splits = n_folds, shuffle=True, random_state=seed)\n",
        "\n",
        "    # perform the k-fold cross-validation and store the scores in result\n",
        "    result = cross_val_score(classifier, X_train, y_train, cv=kfold)\n",
        "\n",
        "    # add the scores to the results list\n",
        "    results_3.append(result)\n",
        "\n",
        "# Print cross-validation score for each possible pair of optimizer, activation\n",
        "c = 0\n",
        "for o in range(len(optimizers)):\n",
        "  for a in range(len(activations)):\n",
        "    print(\"activation = \", activations[a],\", optimizer = \", optimizers[o], \", Test accuracy = \", results_3[c].mean())\n",
        "    c += 1"
      ],
      "execution_count": 436,
      "outputs": [
        {
          "output_type": "stream",
          "text": [
            "activation =  relu , optimizer =  rmsprop , Test accuracy =  0.7082666635513306\n",
            "activation =  tanh , optimizer =  rmsprop , Test accuracy =  0.7134666562080383\n",
            "activation =  relu , optimizer =  adam , Test accuracy =  0.7087999939918518\n",
            "activation =  tanh , optimizer =  adam , Test accuracy =  0.7069333314895629\n",
            "activation =  relu , optimizer =  sgd , Test accuracy =  0.7204000115394592\n",
            "activation =  tanh , optimizer =  sgd , Test accuracy =  0.7201333403587341\n"
          ],
          "name": "stdout"
        }
      ]
    },
    {
      "cell_type": "markdown",
      "metadata": {
        "id": "jwtY8UNPJhMW",
        "colab_type": "text"
      },
      "source": [
        "## **Improving the Model Accuracy (L1, L2 and Dropout Regularization)**\n",
        "\n"
      ]
    },
    {
      "cell_type": "code",
      "metadata": {
        "id": "p4R3Ma_QNTDl",
        "colab_type": "code",
        "colab": {}
      },
      "source": [
        "# So Model 2 with batch_size = 10 , epochs = 100, activation =  relu , optimizer =  sgd is the best model\n",
        "# Now let's see how the model behaves with regularization\n",
        "# write a function that returns the model 2 with the best hyperparameter values and takes l2 parameter as input \n",
        "# we will test it for different valies of l2 parameter\n",
        "\n",
        "from keras.regularizers import l1, l2, l1_l2\n",
        "\n",
        "def build_model_2_l1l2(kernel_regularizer=None): \n",
        "  model_2 = Sequential()\n",
        "  model_2.add(Dense(18, input_dim=X_train.shape[1], activation='relu', kernel_regularizer=kernel_regularizer))\n",
        "  model_2.add(Dense(9, activation='relu', kernel_regularizer=kernel_regularizer))\n",
        "  model_2.add(Dense(1, activation='sigmoid'))\n",
        "  # compile model 3\n",
        "  model_2.compile(optimizer='sgd', loss='binary_crossentropy',metrics=['accuracy'])\n",
        "\n",
        "  # fit the model to the training data to perform the classification while evaluating on the test set, \n",
        "  # saving the results of the training process\n",
        "  history=model_2.fit(X_train, y_train, batch_size=20, epochs=100, validation_data=(X_test, y_test), verbose=0, shuffle=False)\n",
        "\n",
        "  # Plotting the trends in training error and test error by importing the necessary libraries for plotting the loss and\n",
        "  # validation loss and saving them in the variable that was created when the model was fit to the training process. \n",
        "  # Printing out the maximum validation accuracy\n",
        "\n",
        " \n",
        "\n",
        "  # plot training error and test error\n",
        "  matplotlib.rcParams['figure.figsize'] = (6.0, 4.0)\n",
        "  plt.plot(history.history['loss'])\n",
        "  plt.plot(history.history['val_loss'])\n",
        "  plt.ylim(0,1)\n",
        "  plt.ylabel('loss')\n",
        "  plt.xlabel('epoch')\n",
        "  plt.legend(['train loss', 'validation loss'], loc='upper right')\n",
        "\n",
        "  # print the best accuracy reached on the test set\n",
        "  print(\"Best Accuracy on Validation Set =\", max(history.history['val_accuracy']))\n",
        "  print(\"Lowest error on Training Set =\", min(history.history['loss']))\n",
        "  print(\"Lowest error on Validation Set =\", min(history.history['val_loss']))\n"
      ],
      "execution_count": 0,
      "outputs": []
    },
    {
      "cell_type": "code",
      "metadata": {
        "id": "OXvayyXbZP96",
        "colab_type": "code",
        "outputId": "9203d150-bad4-476a-d868-04f22f169142",
        "colab": {
          "base_uri": "https://localhost:8080/",
          "height": 335
        }
      },
      "source": [
        "# Training the model with no regularization\n",
        "build_model_2_l1l2(kernel_regularizer=None)"
      ],
      "execution_count": 465,
      "outputs": [
        {
          "output_type": "stream",
          "text": [
            "Best Accuracy on Validation Set = 0.7156000137329102\n",
            "Lowest error on Training Set = 0.519805864572525\n",
            "Lowest error on Validation Set = 0.5385132467746735\n"
          ],
          "name": "stdout"
        },
        {
          "output_type": "display_data",
          "data": {
            "image/png": "[encoded data removed]",
            "text/plain": [
              "<Figure size 432x288 with 1 Axes>"
            ]
          },
          "metadata": {
            "tags": [],
            "needs_background": "light"
          }
        }
      ]
    },
    {
      "cell_type": "markdown",
      "metadata": {
        "id": "xIK3JCNnfTOy",
        "colab_type": "text"
      },
      "source": [
        "## **L2 Regularization**"
      ]
    },
    {
      "cell_type": "code",
      "metadata": {
        "id": "hCIjpTHBbL4H",
        "colab_type": "code",
        "outputId": "7315bce9-095e-4787-c0ea-c26f48a3f58d",
        "colab": {
          "base_uri": "https://localhost:8080/",
          "height": 335
        }
      },
      "source": [
        "# Training the model by adding L2 regularizers with lambda=0.01 to each hidden layer of the model.\n",
        "l2_param = 0.01\n",
        "build_model_2_l1l2(kernel_regularizer=l2(l2_param))"
      ],
      "execution_count": 466,
      "outputs": [
        {
          "output_type": "stream",
          "text": [
            "Best Accuracy on Validation Set = 0.7167999744415283\n",
            "Lowest error on Training Set = 0.5529270128409067\n",
            "Lowest error on Validation Set = 0.5575796072483062\n"
          ],
          "name": "stdout"
        },
        {
          "output_type": "display_data",
          "data": {
            "image/png": "[encoded data removed]",
            "text/plain": [
              "<Figure size 432x288 with 1 Axes>"
            ]
          },
          "metadata": {
            "tags": [],
            "needs_background": "light"
          }
        }
      ]
    },
    {
      "cell_type": "code",
      "metadata": {
        "id": "FQg39Hrzcbs9",
        "colab_type": "code",
        "colab": {}
      },
      "source": [
        "# As seen from the preceding plots, the test error almost plateaus after being decreased to a certain amount.\n",
        "# The gap between the training error and the validation error at the end of the training process (the bias) is very\n",
        "# small, which is indicative of reduced overfitting (low variance) of the model for the training examples. This is good."
      ],
      "execution_count": 0,
      "outputs": []
    },
    {
      "cell_type": "code",
      "metadata": {
        "id": "2tYX9O6YclLw",
        "colab_type": "code",
        "outputId": "9ae15316-f51f-4b8f-a999-f1fd08f90c9f",
        "colab": {
          "base_uri": "https://localhost:8080/",
          "height": 335
        }
      },
      "source": [
        "# Training the model by adding L2 regularizers with lambda=0.1 to each hidden layer of the model.\n",
        "l2_param = 0.1\n",
        "build_model_2_l1l2(kernel_regularizer=l2(l2_param))"
      ],
      "execution_count": 468,
      "outputs": [
        {
          "output_type": "stream",
          "text": [
            "Best Accuracy on Validation Set = 0.7008000016212463\n",
            "Lowest error on Training Set = 0.5951399548053742\n",
            "Lowest error on Validation Set = 0.5914834079742431\n"
          ],
          "name": "stdout"
        },
        {
          "output_type": "display_data",
          "data": {
            "image/png": "[encoded data removed]",
            "text/plain": [
              "<Figure size 432x288 with 1 Axes>"
            ]
          },
          "metadata": {
            "tags": [],
            "needs_background": "light"
          }
        }
      ]
    },
    {
      "cell_type": "code",
      "metadata": {
        "id": "yXcYEzeadIkq",
        "colab_type": "code",
        "colab": {}
      },
      "source": [
        "# The training and validation error quickly plateau and are much higher than they were for the model that was created\n",
        "# with a lower L2 parameter, indicating that we have penalized the model so much that it has not had the flexibility to learn the\n",
        "# underlying function of the training data. Following this, we will reduce the valie of the regularization parameter to prevent it\n",
        "# from penalizing the model as much."
      ],
      "execution_count": 0,
      "outputs": []
    },
    {
      "cell_type": "code",
      "metadata": {
        "id": "buVgIlPRdLK1",
        "colab_type": "code",
        "outputId": "6190b841-6fa9-4936-d7dc-7b48c84e3f5c",
        "colab": {
          "base_uri": "https://localhost:8080/",
          "height": 335
        }
      },
      "source": [
        "# Repeat the previous step with lambda=0.005 for the L2 parameter.\n",
        "l2_param = 0.005\n",
        "build_model_2_l1l2(kernel_regularizer=l2(l2_param))"
      ],
      "execution_count": 470,
      "outputs": [
        {
          "output_type": "stream",
          "text": [
            "Best Accuracy on Validation Set = 0.7148000001907349\n",
            "Lowest error on Training Set = 0.5471020164489746\n",
            "Lowest error on Validation Set = 0.5537295563220977\n"
          ],
          "name": "stdout"
        },
        {
          "output_type": "display_data",
          "data": {
            "image/png": "[encoded data removed]",
            "text/plain": [
              "<Figure size 432x288 with 1 Axes>"
            ]
          },
          "metadata": {
            "tags": [],
            "needs_background": "light"
          }
        }
      ]
    },
    {
      "cell_type": "code",
      "metadata": {
        "id": "iuFFpDw-WBwg",
        "colab_type": "code",
        "colab": {}
      },
      "source": [
        "# The value for the L2 weight regularization achieves the second highest accuracy that was evaluated on the validation data of all\n",
        "# models with L2 regularization. Again, the test error doesn't increase\n",
        "# a significant amount after being decreased to a certain value, which is indicative of the model not overfitting the training examples.\n",
        "# It seems that L2 weight regularization with lambda=0.005 achieves the lowest validation error while preventing the model\n",
        "# from overfitting."
      ],
      "execution_count": 0,
      "outputs": []
    },
    {
      "cell_type": "markdown",
      "metadata": {
        "id": "VD0eawgXfLhj",
        "colab_type": "text"
      },
      "source": [
        "## **L1 Regularization**"
      ]
    },
    {
      "cell_type": "code",
      "metadata": {
        "id": "rGM2_Az3fC8Z",
        "colab_type": "code",
        "outputId": "44054684-649d-4d51-f6a2-30fbb46367a3",
        "colab": {
          "base_uri": "https://localhost:8080/",
          "height": 335
        }
      },
      "source": [
        "# Repeat the previous step with lambda=0.01 for the L1 parameter.\n",
        "l1_param = 0.01\n",
        "build_model_2_l1l2(kernel_regularizer=l1(l1_param))"
      ],
      "execution_count": 471,
      "outputs": [
        {
          "output_type": "stream",
          "text": [
            "Best Accuracy on Validation Set = 0.7092000246047974\n",
            "Lowest error on Training Set = 0.5822986573378245\n",
            "Lowest error on Validation Set = 0.5782577345371246\n"
          ],
          "name": "stdout"
        },
        {
          "output_type": "display_data",
          "data": {
            "image/png": "[encoded data removed]",
            "text/plain": [
              "<Figure size 432x288 with 1 Axes>"
            ]
          },
          "metadata": {
            "tags": [],
            "needs_background": "light"
          }
        }
      ]
    },
    {
      "cell_type": "code",
      "metadata": {
        "id": "GaaR_AczfCWE",
        "colab_type": "code",
        "outputId": "c670cfc4-18da-4fde-992f-5a2e429a6b5a",
        "colab": {
          "base_uri": "https://localhost:8080/",
          "height": 335
        }
      },
      "source": [
        "# Repeat the previous step with lambda=0.005 for the L1 parameter.\n",
        "l1_param = 0.005\n",
        "build_model_2_l1l2(kernel_regularizer=l1(l1_param))"
      ],
      "execution_count": 472,
      "outputs": [
        {
          "output_type": "stream",
          "text": [
            "Best Accuracy on Validation Set = 0.7099999785423279\n",
            "Lowest error on Training Set = 0.5727731577555338\n",
            "Lowest error on Validation Set = 0.5696559178829194\n"
          ],
          "name": "stdout"
        },
        {
          "output_type": "display_data",
          "data": {
            "image/png": "[encoded data removed]",
            "text/plain": [
              "<Figure size 432x288 with 1 Axes>"
            ]
          },
          "metadata": {
            "tags": [],
            "needs_background": "light"
          }
        }
      ]
    },
    {
      "cell_type": "code",
      "metadata": {
        "id": "l4WFWhr9gKCh",
        "colab_type": "code",
        "colab": {}
      },
      "source": [
        "# It seems that L1 weight regularization with lamda=0.005 achieves a better test error while preventing a model from \n",
        "# overfitting since the value of lambda=0.01 is too restrictive and prevents the model from learning the underlying\n",
        "# function of the training data."
      ],
      "execution_count": 0,
      "outputs": []
    },
    {
      "cell_type": "code",
      "metadata": {
        "id": "H3kykHbPgzhO",
        "colab_type": "code",
        "outputId": "84c5f235-0487-4756-8966-22f1882170c7",
        "colab": {
          "base_uri": "https://localhost:8080/",
          "height": 335
        }
      },
      "source": [
        "# Repeat the previous step with L1 and L2 regularizers with an L1 of lambda=0.005 and an L2 of lambda=0.005\n",
        "# to the hidden layers of the model.\n",
        "l1_param = 0.005\n",
        "l2_param = 0.005\n",
        "build_model_2_l1l2(kernel_regularizer=l1_l2(l1=l1_param, l2=l2_param))"
      ],
      "execution_count": 474,
      "outputs": [
        {
          "output_type": "stream",
          "text": [
            "Best Accuracy on Validation Set = 0.7080000042915344\n",
            "Lowest error on Training Set = 0.5760435692469279\n",
            "Lowest error on Validation Set = 0.5718391695022583\n"
          ],
          "name": "stdout"
        },
        {
          "output_type": "display_data",
          "data": {
            "image/png": "[encoded data removed]",
            "text/plain": [
              "<Figure size 432x288 with 1 Axes>"
            ]
          },
          "metadata": {
            "tags": [],
            "needs_background": "light"
          }
        }
      ]
    },
    {
      "cell_type": "code",
      "metadata": {
        "id": "q2kN8WPWiESi",
        "colab_type": "code",
        "colab": {}
      },
      "source": [
        "# While L1 and L2 regularization are successful in preventing the model from overfitting, the variance in the model\n",
        "# is very low. However, the accuracy that's obtained on the validaton set is not as high as the model that was\n",
        "# trained with no regularization or the model that was trained with the \n",
        "# L2 regularization lambda=0.005 or L1 regularization lambda = 0.005 parameter individually."
      ],
      "execution_count": 0,
      "outputs": []
    },
    {
      "cell_type": "markdown",
      "metadata": {
        "id": "UoxQ80CySJKv",
        "colab_type": "text"
      },
      "source": [
        "## **Dropout Regularization**"
      ]
    },
    {
      "cell_type": "code",
      "metadata": {
        "id": "E8SWuu5gSLc0",
        "colab_type": "code",
        "outputId": "c36e6b8a-2ad0-41db-a933-3f572ef1ee97",
        "colab": {
          "base_uri": "https://localhost:8080/",
          "height": 335
        }
      },
      "source": [
        "# Model 2 : batch_size = 10 , epochs = 100, activation =  relu , optimizer =  sgd \n",
        "# Now let's see how the model behaves with dropout regularization\n",
        "\n",
        "# Redefine the model by creating the same model architecture\n",
        "# Add a dropout regularization with rate = 0.1 to the first hidden layer of the model.\n",
        "# Repeat the steps to train the model on the training data and to plot the trends for the training and validation errors.\n",
        "# Then print the best accuracy that was reached on the validation set.\n",
        "\n",
        "from keras.layers import Dropout\n",
        "\n",
        "# create model\n",
        "model_2 = Sequential()\n",
        "model_2.add(Dense(18, input_dim=X_train.shape[1], activation='relu'))\n",
        "model_2.add(Dropout(0.1))\n",
        "model_2.add(Dense(9, activation='relu'))\n",
        "model_2.add(Dense(1, activation='sigmoid'))\n",
        "# compile model 3\n",
        "model_2.compile(optimizer='sgd', loss='binary_crossentropy',metrics=['accuracy'])\n",
        "# train the model using training set while evaluating on the test set\n",
        "history=model_2.fit(X_train, y_train, batch_size=20, epochs=100, validation_data=(X_test, y_test), verbose=0, shuffle=False)\n",
        "\n",
        "# plot training error and test error\n",
        "matplotlib.rcParams['figure.figsize'] = (6.0, 4.0)\n",
        "plt.plot(history.history['loss'])\n",
        "plt.plot(history.history['val_loss'])\n",
        "plt.ylim(0,1)\n",
        "plt.ylabel('loss')\n",
        "plt.xlabel('epoch')\n",
        "plt.legend(['train loss', 'validation loss'], loc='upper right')\n",
        "\n",
        "# print the best accuracy reached on the test set\n",
        "print(\"Best Accuracy on Validation Set =\", max(history.history['val_accuracy']))\n",
        "print(\"Lowest error on Training Set =\", min(history.history['loss']))\n",
        "print(\"Lowest error on Validation Set =\", min(history.history['val_loss']))"
      ],
      "execution_count": 477,
      "outputs": [
        {
          "output_type": "stream",
          "text": [
            "Best Accuracy on Validation Set = 0.7120000123977661\n",
            "Lowest error on Training Set = 0.5267147301038106\n",
            "Lowest error on Validation Set = 0.5404192833900452\n"
          ],
          "name": "stdout"
        },
        {
          "output_type": "display_data",
          "data": {
            "image/png": "[encoded data removed]",
            "text/plain": [
              "<Figure size 432x288 with 1 Axes>"
            ]
          },
          "metadata": {
            "tags": [],
            "needs_background": "light"
          }
        }
      ]
    },
    {
      "cell_type": "code",
      "metadata": {
        "id": "j46HoESTIraK",
        "colab_type": "code",
        "colab": {}
      },
      "source": [
        "# There is a very small gap between the training error and the validation error. The validation error is slightly higher than\n",
        "# the training error, indicating that the model is might be overfitting the training data."
      ],
      "execution_count": 0,
      "outputs": []
    },
    {
      "cell_type": "code",
      "metadata": {
        "id": "UvnAB3cMNUfI",
        "colab_type": "code",
        "outputId": "0ce544a5-17dd-4c52-8f82-7ba740168453",
        "colab": {
          "base_uri": "https://localhost:8080/",
          "height": 335
        }
      },
      "source": [
        "# Repeating the previous step, this time adding dropout regularization with rate=0.1 to all hidden layers of your model.\n",
        "# Repeat the steps to train the model on the training data and plot the trends for the training and validation errors.\n",
        "\n",
        "# create model\n",
        "model_2 = Sequential()\n",
        "model_2.add(Dense(18, input_dim=X_train.shape[1], activation='relu'))\n",
        "model_2.add(Dropout(0.1))\n",
        "model_2.add(Dense(9, activation='relu'))\n",
        "model_2.add(Dropout(0.1))\n",
        "model_2.add(Dense(1, activation='sigmoid'))\n",
        "# compile model 3\n",
        "model_2.compile(optimizer='sgd', loss='binary_crossentropy',metrics=['accuracy'])\n",
        "# train the model using training set while evaluating on the test set\n",
        "history=model_2.fit(X_train, y_train, batch_size=20, epochs=100, validation_data=(X_test, y_test), verbose=0, shuffle=False)\n",
        "\n",
        "# plot training error and test error\n",
        "matplotlib.rcParams['figure.figsize'] = (6.0, 4.0)\n",
        "plt.plot(history.history['loss'])\n",
        "plt.plot(history.history['val_loss'])\n",
        "plt.ylim(0,1)\n",
        "plt.ylabel('loss')\n",
        "plt.xlabel('epoch')\n",
        "plt.legend(['train loss', 'validation loss'], loc='upper right')\n",
        "\n",
        "# print the best accuracy reached on the test set\n",
        "print(\"Best Accuracy on Validation Set =\", max(history.history['val_accuracy']))\n",
        "print(\"Lowest error on Training Set =\", min(history.history['loss']))\n",
        "print(\"Lowest error on Validation Set =\", min(history.history['val_loss']))"
      ],
      "execution_count": 479,
      "outputs": [
        {
          "output_type": "stream",
          "text": [
            "Best Accuracy on Validation Set = 0.7080000042915344\n",
            "Lowest error on Training Set = 0.5310429490407308\n",
            "Lowest error on Validation Set = 0.5384255845546723\n"
          ],
          "name": "stdout"
        },
        {
          "output_type": "display_data",
          "data": {
            "image/png": "[encoded data removed]",
            "text/plain": [
              "<Figure size 432x288 with 1 Axes>"
            ]
          },
          "metadata": {
            "tags": [],
            "needs_background": "light"
          }
        }
      ]
    },
    {
      "cell_type": "code",
      "metadata": {
        "id": "a7Tia1uYOH1p",
        "colab_type": "code",
        "colab": {}
      },
      "source": [
        "# The training error has increased as a result of additional regularization on the other 2 hidden layers of the model."
      ],
      "execution_count": 0,
      "outputs": []
    },
    {
      "cell_type": "code",
      "metadata": {
        "id": "xPewtDWMO2Xk",
        "colab_type": "code",
        "outputId": "93f43f19-80c0-4c7b-9d25-37d2fd9903da",
        "colab": {
          "base_uri": "https://localhost:8080/",
          "height": 335
        }
      },
      "source": [
        "# Repeating the previous step, this time adding dropout regularization with rate=0.2 to the first layer and rate=0.1 to the rest of \n",
        "# the hidden layers\n",
        "# Repeat the steps to train the model on the training data and plot the trends for the training and validation errors.\n",
        "\n",
        "# create model\n",
        "model_2 = Sequential()\n",
        "model_2.add(Dense(18, input_dim=X_train.shape[1], activation='relu'))\n",
        "model_2.add(Dropout(0.2))\n",
        "model_2.add(Dense(9, activation='relu'))\n",
        "model_2.add(Dropout(0.1))\n",
        "model_2.add(Dense(1, activation='sigmoid'))\n",
        "# compile model 3\n",
        "model_2.compile(optimizer='sgd', loss='binary_crossentropy',metrics=['accuracy'])\n",
        "# train the model using training set while evaluating on the test set\n",
        "history=model_2.fit(X_train, y_train, batch_size=20, epochs=100, validation_data=(X_test, y_test), verbose=0, shuffle=False)\n",
        "\n",
        "# plot training error and test error\n",
        "matplotlib.rcParams['figure.figsize'] = (6.0, 4.0)\n",
        "plt.plot(history.history['loss'])\n",
        "plt.plot(history.history['val_loss'])\n",
        "plt.ylim(0,1)\n",
        "plt.ylabel('loss')\n",
        "plt.xlabel('epoch')\n",
        "plt.legend(['train loss', 'validation loss'], loc='upper right')\n",
        "\n",
        "# print the best accuracy reached on the test set\n",
        "print(\"Best Accuracy on Validation Set =\", max(history.history['val_accuracy']))\n",
        "print(\"Lowest error on Training Set =\", min(history.history['loss']))\n",
        "print(\"Lowest error on Validation Set =\", min(history.history['val_loss']))"
      ],
      "execution_count": 481,
      "outputs": [
        {
          "output_type": "stream",
          "text": [
            "Best Accuracy on Validation Set = 0.7184000015258789\n",
            "Lowest error on Training Set = 0.5359634370803833\n",
            "Lowest error on Validation Set = 0.5398985111713409\n"
          ],
          "name": "stdout"
        },
        {
          "output_type": "display_data",
          "data": {
            "image/png": "[encoded data removed]",
            "text/plain": [
              "<Figure size 432x288 with 1 Axes>"
            ]
          },
          "metadata": {
            "tags": [],
            "needs_background": "light"
          }
        }
      ]
    },
    {
      "cell_type": "code",
      "metadata": {
        "id": "JrH8i4ciQOuk",
        "colab_type": "code",
        "colab": {}
      },
      "source": [
        "# The gap between the training error and validation error is slightly larger due to the increase in regularization.\n",
        "# In this case, there was no overfitting in the original model. \n",
        "# As a result, regularization increased the error rate on the training and validation dataset."
      ],
      "execution_count": 0,
      "outputs": []
    },
    {
      "cell_type": "markdown",
      "metadata": {
        "id": "zb_FDiAg_CMU",
        "colab_type": "text"
      },
      "source": [
        "## **Early Stopping**<br/>\n",
        "By monitoring the training process, we can train the model just enough for it to capture the form of the process, and we can stop the training right before it starts to overfit to individual data examples. This means forcing the Keras model to stop the training when a desired metric e.g. test error rate is not improving anymore."
      ]
    },
    {
      "cell_type": "code",
      "metadata": {
        "id": "yynONm5kRehf",
        "colab_type": "code",
        "outputId": "db3b7c9c-bfd9-4f70-a0d5-58a6e11c7bbf",
        "colab": {
          "base_uri": "https://localhost:8080/",
          "height": 444
        }
      },
      "source": [
        "# Recreate the base model\n",
        "model_2 = Sequential()\n",
        "model_2.add(Dense(18, input_dim=X_train.shape[1], activation='relu'))\n",
        "model_2.add(Dense(9, activation='relu'))\n",
        "model_2.add(Dense(1, activation='sigmoid'))\n",
        "\n",
        "# compile model 3\n",
        "model_2.compile(optimizer='sgd', loss='binary_crossentropy',metrics=['accuracy'])\n",
        "\n",
        "# train the model\n",
        "history=model_2.fit(X_train, y_train, batch_size=20, epochs=100, validation_data=(X_test, y_test), verbose=0, shuffle=False)\n",
        "\n",
        "# plot training error and test error\n",
        "matplotlib.rcParams['figure.figsize'] = (6.0, 6.0)\n",
        "plt.plot(history.history['loss'])\n",
        "plt.plot(history.history['val_loss'])\n",
        "plt.ylim(0,1)\n",
        "plt.ylabel('loss')\n",
        "plt.xlabel('epoch')\n",
        "plt.legend(['train loss', 'validation loss'], loc='upper right')\n",
        "\n",
        "print(\"Best Accuracy on Validation Set =\", max(history.history['val_accuracy']))\n",
        "print(\"Lowest error on Training Set =\", min(history.history['loss']))\n",
        "print(\"Lowest error on Validation Set =\", min(history.history['val_loss']))"
      ],
      "execution_count": 490,
      "outputs": [
        {
          "output_type": "stream",
          "text": [
            "Best Accuracy on Validation Set = 0.7160000205039978\n",
            "Lowest error on Training Set = 0.5199723019599914\n",
            "Lowest error on Validation Set = 0.5412468502521515\n"
          ],
          "name": "stdout"
        },
        {
          "output_type": "display_data",
          "data": {
            "image/png": "[encoded data removed]",
            "text/plain": [
              "<Figure size 432x432 with 1 Axes>"
            ]
          },
          "metadata": {
            "tags": [],
            "needs_background": "light"
          }
        }
      ]
    },
    {
      "cell_type": "code",
      "metadata": {
        "id": "o6r2SKSQCAAz",
        "colab_type": "code",
        "colab": {}
      },
      "source": [
        "# From the preceding plot, we can see that the training the model for 100 epochs results in a gap that\n",
        "# grows between the training error and validation error, which is indicative of overfitting beginning to happen."
      ],
      "execution_count": 0,
      "outputs": []
    },
    {
      "cell_type": "code",
      "metadata": {
        "id": "pYYBlEKaEBRK",
        "colab_type": "code",
        "outputId": "fed72298-30fb-407f-f30a-e7f91022eefe",
        "colab": {
          "base_uri": "https://localhost:8080/",
          "height": 444
        }
      },
      "source": [
        "# Redefining the model exactly the same way and adding a callback to the training process\n",
        "\n",
        "from keras.callbacks import EarlyStopping\n",
        "# Recreate the base model\n",
        "model_2 = Sequential()\n",
        "model_2.add(Dense(18, input_dim=X_train.shape[1], activation='relu'))\n",
        "model_2.add(Dense(9, activation='relu'))\n",
        "model_2.add(Dense(1, activation='sigmoid'))\n",
        "\n",
        "# compile model 3\n",
        "model_2.compile(optimizer='sgd', loss='binary_crossentropy',metrics=['accuracy'])\n",
        "\n",
        "# define early stopping callback\n",
        "# since the metric is error/loss, we would like to minimize it\n",
        "es_callback = EarlyStopping(monitor='val_loss', mode='min')\n",
        "\n",
        "# train the model\n",
        "history=model_2.fit(X_train, y_train, batch_size=20, epochs=100, validation_data=(X_test, y_test), callbacks=[es_callback], verbose=0, shuffle=False)\n",
        "\n",
        "# plot training error and test error\n",
        "matplotlib.rcParams['figure.figsize'] = (6.0, 6.0)\n",
        "plt.plot(history.history['loss'])\n",
        "plt.plot(history.history['val_loss'])\n",
        "plt.ylim(0,1)\n",
        "plt.ylabel('loss')\n",
        "plt.xlabel('epoch')\n",
        "plt.legend(['train loss', 'validation loss'], loc='upper right')\n",
        "\n",
        "print(\"Best Accuracy on Validation Set =\", max(history.history['val_accuracy']))\n",
        "print(\"Lowest error on Training Set =\", min(history.history['loss']))\n",
        "print(\"Lowest error on Validation Set =\", min(history.history['val_loss']))"
      ],
      "execution_count": 491,
      "outputs": [
        {
          "output_type": "stream",
          "text": [
            "Best Accuracy on Validation Set = 0.7148000001907349\n",
            "Lowest error on Training Set = 0.5297336949507395\n",
            "Lowest error on Validation Set = 0.5417783272266388\n"
          ],
          "name": "stdout"
        },
        {
          "output_type": "display_data",
          "data": {
            "image/png": "[encoded data removed]",
            "text/plain": [
              "<Figure size 432x432 with 1 Axes>"
            ]
          },
          "metadata": {
            "tags": [],
            "needs_background": "light"
          }
        }
      ]
    },
    {
      "cell_type": "code",
      "metadata": {
        "id": "7xqO3o8SG9m0",
        "colab_type": "code",
        "colab": {}
      },
      "source": [
        "# By adding the early stopping callback with patience=0 to the model, the training process automatically stops \n",
        "# after about 65 epochs.\n",
        "# If there are a lot of fluctuations or noise in the error rates, it is probably NOT a good idea to stop\n",
        "# the training immediately when the loss begins to increase. For this reason, we can set the patience argument\n",
        "# to a number  of epochs to give the early stopping method some time to monitor the desired metric for longer\n",
        "# before stopping the training process."
      ],
      "execution_count": 0,
      "outputs": []
    },
    {
      "cell_type": "code",
      "metadata": {
        "id": "_IhHzQIdHcIy",
        "colab_type": "code",
        "outputId": "74c23cef-35f7-4006-ed1c-64b8feaad792",
        "colab": {
          "base_uri": "https://localhost:8080/",
          "height": 444
        }
      },
      "source": [
        "# Redefining the model and adding a callback with patience=10 to the training process\n",
        "\n",
        "from keras.callbacks import EarlyStopping\n",
        "# Recreate the base model\n",
        "model_2 = Sequential()\n",
        "model_2.add(Dense(18, input_dim=X_train.shape[1], activation='relu'))\n",
        "model_2.add(Dense(9, activation='relu'))\n",
        "model_2.add(Dense(1, activation='sigmoid'))\n",
        "\n",
        "# compile model 3\n",
        "model_2.compile(optimizer='sgd', loss='binary_crossentropy',metrics=['accuracy'])\n",
        "\n",
        "# define early stopping callback\n",
        "# since the metric is error/loss, we would like to minimize it\n",
        "es_callback = EarlyStopping(monitor='val_loss', mode='min', patience=10)\n",
        "\n",
        "# train the model\n",
        "history=model_2.fit(X_train, y_train, batch_size=20, epochs=100, validation_data=(X_test, y_test), callbacks=[es_callback], verbose=0, shuffle=False)\n",
        "\n",
        "# plot training error and test error\n",
        "matplotlib.rcParams['figure.figsize'] = (6.0, 6.0)\n",
        "plt.plot(history.history['loss'])\n",
        "plt.plot(history.history['val_loss'])\n",
        "plt.ylim(0,1)\n",
        "plt.ylabel('loss')\n",
        "plt.xlabel('epoch')\n",
        "plt.legend(['train loss', 'validation loss'], loc='upper right')\n",
        "\n",
        "print(\"Best Accuracy on Validation Set =\", max(history.history['val_accuracy']))\n",
        "print(\"Lowest error on Training Set =\", min(history.history['loss']))\n",
        "print(\"Lowest error on Validation Set =\", min(history.history['val_loss']))"
      ],
      "execution_count": 495,
      "outputs": [
        {
          "output_type": "stream",
          "text": [
            "Best Accuracy on Validation Set = 0.7160000205039978\n",
            "Lowest error on Training Set = 0.5264881302515666\n",
            "Lowest error on Validation Set = 0.5446123509407044\n"
          ],
          "name": "stdout"
        },
        {
          "output_type": "display_data",
          "data": {
            "image/png": "[encoded data removed]",
            "text/plain": [
              "<Figure size 432x432 with 1 Axes>"
            ]
          },
          "metadata": {
            "tags": [],
            "needs_background": "light"
          }
        }
      ]
    },
    {
      "cell_type": "code",
      "metadata": {
        "id": "7BrlCi_FIy9g",
        "colab_type": "code",
        "colab": {}
      },
      "source": [
        "# By adding the early stopping callback with patience=10 to the model, the training process automatically stops\n",
        "# after about 85 epochs."
      ],
      "execution_count": 0,
      "outputs": []
    },
    {
      "cell_type": "markdown",
      "metadata": {
        "id": "Iki2HWmrOVY3",
        "colab_type": "text"
      },
      "source": [
        "##**Hyperparameter Tuning with scikit-learn**<br/>\n",
        "The process of training and evaluating models with different hyperparameters and deciding about the final hyperparameters based on model performance is called hyperparameter tuning or hyperparameter optimization."
      ]
    },
    {
      "cell_type": "code",
      "metadata": {
        "id": "03oC65ZrPGsY",
        "colab_type": "code",
        "colab": {}
      },
      "source": [
        "# Recreate the function that returns the keras model with regularization\n",
        "def build_model_2(lambda_parameter=lambda_parameter): \n",
        "  model_2 = Sequential()\n",
        "  model_2.add(Dense(18, input_dim=X_train.shape[1], activation='relu', kernel_regularizer=l2(lambda_parameter)))\n",
        "  model_2.add(Dense(9, activation='relu', kernel_regularizer=l2(lambda_parameter)))\n",
        "  model_2.add(Dense(1, activation='sigmoid'))\n",
        "  # compile model 3\n",
        "  model_2.compile(optimizer='sgd', loss='binary_crossentropy', metrics=['accuracy'])\n",
        "  \n",
        "  return model"
      ],
      "execution_count": 0,
      "outputs": []
    },
    {
      "cell_type": "code",
      "metadata": {
        "id": "M4Ov6YoNR06N",
        "colab_type": "code",
        "colab": {}
      },
      "source": [
        "# Set a seed, use a scikit-learn wrapper to wrap the model that we created in the previous step, and define\n",
        "# the hyperparameters to scan. Finally, perform GridSearchCV() on the model using the hyperparameter's grid\n",
        "# and fit the model\n",
        "\n",
        "from keras.wrappers.scikit_learn import KerasClassifier\n",
        "from sklearn.model_selection import GridSearchCV\n",
        "from keras.regularizers import l2\n",
        "# define a seed for random number generator so the result will be reproducible\n",
        "seed = 99\n",
        "np.random.seed(seed)\n",
        "random.set_seed(seed)\n",
        "\n",
        "# define all the possible values for each hyperparameter\n",
        "lambda_parameter = [0.01, 0.5, 1]\n",
        "epochs = [50, 100]\n",
        "batch_size = [20]\n",
        "\n",
        "# create the Keras wrapper with scikit learn\n",
        "model = KerasClassifier(build_fn=build_model_2, verbose=0, shuffle=False)\n",
        "\n",
        "print(model.loss)\n",
        "\n",
        "# create the dictionary containing all possible values of hyperparameters\n",
        "param_grid = dict(lambda_parameter=lambda_parameter, epochs=epochs, batch_size=batch_size)\n",
        "\n",
        "# perform 5-fold cross-validation for the model and store the results\n",
        "grid_search = GridSearchCV(estimator=model, param_grid=param_grid, n_jobs=-1, cv=5)\n",
        "\n",
        "results_1 = grid_search.fit(X_train, y_train)\n",
        "\n",
        "# Print the results for the best cross-valiation score that's stored within\n",
        "# the variable that was created in the fit process. Iterate through all the parameters\n",
        "# and print the mean of the accuracy across all the folds, the standard deviation\n",
        "# of the accuracy and the parameters themselves.\n",
        "\n",
        "print(\"Best cross-validation score =\", results_1.best_score_)\n",
        "print(\"Parameters for Best cross-validation score =\", results_1.best_params_)\n",
        "\n",
        "# print the results for all evaluated hyperparameter combinations\n",
        "accuracy_means = results_1.cv_results_['mean_test_score']\n",
        "accuracy_stds = results_1.cv_results_['std_test_score']\n",
        "parameters = results_1.cv_results_['params']\n",
        "\n",
        "for p in range(len(parameters)):\n",
        "  print(\"Accuracy %f (std %f) for params %r\" % (accuracy_means[p], accuracy_stds[p], parameters[p]))\n",
        "\n"
      ],
      "execution_count": 0,
      "outputs": []
    },
    {
      "cell_type": "code",
      "metadata": {
        "id": "lUwUz5C0lNvF",
        "colab_type": "code",
        "colab": {}
      },
      "source": [
        ""
      ],
      "execution_count": 0,
      "outputs": []
    }
  ]
}